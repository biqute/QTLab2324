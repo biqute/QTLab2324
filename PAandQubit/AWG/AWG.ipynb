{
 "cells": [
  {
   "cell_type": "code",
   "execution_count": 1,
   "metadata": {},
   "outputs": [
    {
     "name": "stdout",
     "output_type": "stream",
     "text": [
      "Unable to establish a connection:\n",
      "VI_ERROR_LIBRARY_NFOUND (-1073807202): A code library required by VISA could not be located or loaded.\n"
     ]
    },
    {
     "data": {
      "text/plain": [
       "<AWG_Class.Ks_33500B at 0x1c443c39a60>"
      ]
     },
     "execution_count": 1,
     "metadata": {},
     "output_type": "execute_result"
    }
   ],
   "source": [
    "# MANUAL: https://www.keysight.com/it/en/assets/9018-03714/service-manuals/9018-03714.pdf?success=true\n",
    "# pag 212\n",
    "# https://www.ni.com/en/support/downloads/drivers/download.ni-visa.html#494653\n",
    "# pip install gpib-ctypes\n",
    "\n",
    "import pyvisa\n",
    "import matplotlib.pyplot as plt\n",
    "import numpy as np\n",
    "import AWG_Class\n",
    "\n",
    "AWG_Class.Ks_33500B()"
   ]
  },
  {
   "cell_type": "code",
   "execution_count": 4,
   "metadata": {},
   "outputs": [],
   "source": []
  }
 ],
 "metadata": {
  "kernelspec": {
   "display_name": "QTLab-venv",
   "language": "python",
   "name": "python3"
  },
  "language_info": {
   "codemirror_mode": {
    "name": "ipython",
    "version": 3
   },
   "file_extension": ".py",
   "mimetype": "text/x-python",
   "name": "python",
   "nbconvert_exporter": "python",
   "pygments_lexer": "ipython3",
   "version": "3.12.0"
  }
 },
 "nbformat": 4,
 "nbformat_minor": 2
}
