{
 "cells": [
  {
   "cell_type": "code",
   "execution_count": 1,
   "metadata": {},
   "outputs": [
    {
     "name": "stdout",
     "output_type": "stream",
     "text": [
      "Unable to establish a connection:\n",
      "VI_ERROR_LIBRARY_NFOUND (-1073807202): A code library required by VISA could not be located or loaded.\n"
     ]
    }
   ],
   "source": [
    "# MANUAL: https://www.keysight.com/it/en/assets/9018-03714/service-manuals/9018-03714.pdf?success=true\n",
    "# pag 212\n",
    "# https://www.ni.com/en/support/downloads/drivers/download.ni-visa.html#494653\n",
    "# pip install gpib-ctypes\n",
    "\n",
    "import pyvisa\n",
    "import matplotlib.pyplot as plt\n",
    "import numpy as np\n",
    "import AWG_Class\n",
    "\n",
    "augh = AWG_Class.Ks_33500B()"
   ]
  },
  {
   "cell_type": "code",
   "execution_count": null,
   "metadata": {},
   "outputs": [],
   "source": [
    "augh.get_name()\n",
    "augh.reset()\n",
    "augh.clear()"
   ]
  },
  {
   "cell_type": "code",
   "execution_count": 3,
   "metadata": {},
   "outputs": [
    {
     "name": "stdout",
     "output_type": "stream",
     "text": [
      "Error: No active connection.\n",
      "Error: No active connection.\n",
      "Error: No active connection.\n",
      "Error: No active connection.\n",
      "Error: No active connection.\n"
     ]
    }
   ],
   "source": [
    "augh.set_frequency(5e3)\n",
    "augh.set_amplitude(2)\n",
    "augh.set_phase(90)\n",
    "augh.set_offset(0.1)\n",
    "augh.set_function('SQU')"
   ]
  },
  {
   "cell_type": "code",
   "execution_count": 4,
   "metadata": {},
   "outputs": [
    {
     "name": "stdout",
     "output_type": "stream",
     "text": [
      "Error: No active connection.\n",
      "Error: No active connection.\n"
     ]
    }
   ],
   "source": [
    "augh.channel_state(1, 1)\n",
    "augh.set_waveform(6e3, 3, 0.5, 'SIN')"
   ]
  }
 ],
 "metadata": {
  "kernelspec": {
   "display_name": "QTLab-venv",
   "language": "python",
   "name": "python3"
  },
  "language_info": {
   "codemirror_mode": {
    "name": "ipython",
    "version": 3
   },
   "file_extension": ".py",
   "mimetype": "text/x-python",
   "name": "python",
   "nbconvert_exporter": "python",
   "pygments_lexer": "ipython3",
   "version": "3.12.0"
  }
 },
 "nbformat": 4,
 "nbformat_minor": 2
}
