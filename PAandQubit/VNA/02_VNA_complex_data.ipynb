{
 "cells": [
  {
   "cell_type": "code",
   "execution_count": 1,
   "metadata": {},
   "outputs": [],
   "source": [
    "import pyvisa\n",
    "import matplotlib.pyplot as plt\n",
    "import numpy as np"
   ]
  },
  {
   "cell_type": "code",
   "execution_count": null,
   "metadata": {},
   "outputs": [],
   "source": [
    "rm = pyvisa.ResourceManager()\n",
    "vna = rm.open_resource(\"tcpip0::192.168.40.10::inst0::INSTR\")"
   ]
  },
  {
   "cell_type": "code",
   "execution_count": null,
   "metadata": {},
   "outputs": [],
   "source": [
    "if vna.query('INST:SEL?') != '\"SA\"\\n':\n",
    "    vna.query('INST:SEL \"NA\";*OPC?')"
   ]
  },
  {
   "cell_type": "code",
   "execution_count": null,
   "metadata": {},
   "outputs": [],
   "source": [
    "vna.query('CALC:PAR1:DEF S21;*OPC?')"
   ]
  },
  {
   "cell_type": "code",
   "execution_count": null,
   "metadata": {},
   "outputs": [],
   "source": [
    "data = vna.query('TRACE:DATA? SDATA')\n",
    "# lista contentente parte reale (indici pari) e parte immaginaria (indici dispari)\n",
    "d_list = list(map(float, data.strip('\\n').split(','))) \n",
    "len(list) "
   ]
  },
  {
   "cell_type": "code",
   "execution_count": null,
   "metadata": {},
   "outputs": [],
   "source": [
    "a = d_list[::2] # parte immaginaria (FORSE)\n",
    "b = d_list[1::2] # parte reale (FORSE)\n",
    "\n",
    "mag = np.sqrt(np.array(a)**2+np.array(b)**2)\n",
    "\n",
    "# conversione in db \n",
    "mag_dB = 20*np.log10(mag)\n",
    "plt.plot(mag_dB)\n",
    "min(mag_dB)"
   ]
  }
 ],
 "metadata": {
  "kernelspec": {
   "display_name": "QTLab-venv",
   "language": "python",
   "name": "qtlab-venv"
  },
  "language_info": {
   "codemirror_mode": {
    "name": "ipython",
    "version": 3
   },
   "file_extension": ".py",
   "mimetype": "text/x-python",
   "name": "python",
   "nbconvert_exporter": "python",
   "pygments_lexer": "ipython3",
   "version": "3.12.0"
  }
 },
 "nbformat": 4,
 "nbformat_minor": 2
}
