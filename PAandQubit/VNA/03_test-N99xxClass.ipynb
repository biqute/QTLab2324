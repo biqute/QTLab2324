{
 "cells": [
  {
   "cell_type": "code",
   "execution_count": 1,
   "metadata": {},
   "outputs": [],
   "source": [
    "import N99xxClass"
   ]
  },
  {
   "cell_type": "code",
   "execution_count": 2,
   "metadata": {},
   "outputs": [],
   "source": [
    "ip = '192.168.40.10'\n",
    "vna = N99xxClass.N99xx(ip)"
   ]
  },
  {
   "cell_type": "code",
   "execution_count": 3,
   "metadata": {},
   "outputs": [
    {
     "name": "stdout",
     "output_type": "stream",
     "text": [
      "Hai scritto:  ops\n"
     ]
    }
   ],
   "source": [
    "vna.reset()       \n",
    "vna.get_name()    \n",
    "vna.set_mode('NA')    \n",
    "vna.set_NA_par('S21')"
   ]
  }
 ],
 "metadata": {
  "kernelspec": {
   "display_name": "QTLab-venv",
   "language": "python",
   "name": "qtlab-venv"
  },
  "language_info": {
   "codemirror_mode": {
    "name": "ipython",
    "version": 3
   },
   "file_extension": ".py",
   "mimetype": "text/x-python",
   "name": "python",
   "nbconvert_exporter": "python",
   "pygments_lexer": "ipython3",
   "version": "3.12.0"
  }
 },
 "nbformat": 4,
 "nbformat_minor": 2
}
