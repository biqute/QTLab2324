{
 "cells": [
  {
   "cell_type": "code",
   "execution_count": 1,
   "metadata": {},
   "outputs": [],
   "source": [
    "import N99xxClass"
   ]
  },
  {
   "cell_type": "code",
   "execution_count": 2,
   "metadata": {},
   "outputs": [],
   "source": [
    "ip = '192.168.40.10'\n",
    "vna = N99xxClass.N99xx(ip)"
   ]
  },
  {
   "cell_type": "code",
   "execution_count": 3,
   "metadata": {},
   "outputs": [
    {
     "name": "stdout",
     "output_type": "stream",
     "text": [
      "Keysight Technologies,N9916A,MY53104702,A.08.01\n",
      "\n"
     ]
    }
   ],
   "source": [
    "vna.reset()       \n",
    "vna.get_name()    \n",
    "vna.set_mode('NA')    \n",
    "vna.set_NA_par('S21')\n"
   ]
  },
  {
   "cell_type": "code",
   "execution_count": 4,
   "metadata": {},
   "outputs": [
    {
     "ename": "NameError",
     "evalue": "name 'np' is not defined",
     "output_type": "error",
     "traceback": [
      "\u001b[1;31m---------------------------------------------------------------------------\u001b[0m",
      "\u001b[1;31mNameError\u001b[0m                                 Traceback (most recent call last)",
      "Cell \u001b[1;32mIn[4], line 1\u001b[0m\n\u001b[1;32m----> 1\u001b[0m \u001b[43mvna\u001b[49m\u001b[38;5;241;43m.\u001b[39;49m\u001b[43mget_data\u001b[49m\u001b[43m(\u001b[49m\u001b[38;5;241;43m5e9\u001b[39;49m\u001b[43m,\u001b[49m\u001b[43m \u001b[49m\u001b[38;5;241;43m11e9\u001b[39;49m\u001b[43m)\u001b[49m\n",
      "File \u001b[1;32mc:\\Users\\oper\\SynologyDrive\\Lab2023\\Qubit\\QTLab2324\\PAandQubit\\VNA\\N99xxClass.py:38\u001b[0m, in \u001b[0;36mN99xx.get_data\u001b[1;34m(self, fmin, fmax)\u001b[0m\n\u001b[0;32m     35\u001b[0m valori \u001b[39m=\u001b[39m \u001b[39mself\u001b[39m\u001b[39m.\u001b[39mvna\u001b[39m.\u001b[39mquery(\u001b[39m'\u001b[39m\u001b[39mTRACE:DATA? SDATA\u001b[39m\u001b[39m'\u001b[39m)  \u001b[39m#pag 767  lista di parte reale e parte immaginaria alternati\u001b[39;00m\n\u001b[0;32m     36\u001b[0m valori \u001b[39m=\u001b[39m \u001b[39mlist\u001b[39m(\u001b[39mmap\u001b[39m(\u001b[39mfloat\u001b[39m, valori\u001b[39m.\u001b[39mstrip(\u001b[39m'\u001b[39m\u001b[39m\\n\u001b[39;00m\u001b[39m'\u001b[39m)\u001b[39m.\u001b[39msplit(\u001b[39m'\u001b[39m\u001b[39m,\u001b[39m\u001b[39m'\u001b[39m)))\n\u001b[1;32m---> 38\u001b[0m I \u001b[39m=\u001b[39m np\u001b[39m.\u001b[39marray(valori[::\u001b[39m2\u001b[39m])   \u001b[39m# parte imm\u001b[39;00m\n\u001b[0;32m     39\u001b[0m Q \u001b[39m=\u001b[39m np\u001b[39m.\u001b[39marray(valori[\u001b[39m1\u001b[39m::\u001b[39m2\u001b[39m])  \u001b[39m# parte reale\u001b[39;00m\n\u001b[0;32m     41\u001b[0m f \u001b[39m=\u001b[39m vna\u001b[39m.\u001b[39mquery(\u001b[39m'\u001b[39m\u001b[39mFREQ:DATA?\u001b[39m\u001b[39m'\u001b[39m)\n",
      "\u001b[1;31mNameError\u001b[0m: name 'np' is not defined"
     ]
    }
   ],
   "source": [
    "vna.get_data(5e9, 11e9)"
   ]
  }
 ],
 "metadata": {
  "kernelspec": {
   "display_name": "Python 3.8.8 ('qubit2324': venv)",
   "language": "python",
   "name": "python3"
  },
  "language_info": {
   "codemirror_mode": {
    "name": "ipython",
    "version": 3
   },
   "file_extension": ".py",
   "mimetype": "text/x-python",
   "name": "python",
   "nbconvert_exporter": "python",
   "pygments_lexer": "ipython3",
   "version": "3.8.8"
  },
  "vscode": {
   "interpreter": {
    "hash": "577259b7f5a119e8af3aadcda0ea5d59c3a4b6ea5978608d4fd23299b3f53377"
   }
  }
 },
 "nbformat": 4,
 "nbformat_minor": 2
}
