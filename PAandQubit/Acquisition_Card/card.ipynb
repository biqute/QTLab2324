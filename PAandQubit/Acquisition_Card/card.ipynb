{
 "cells": [
  {
   "cell_type": "code",
   "execution_count": 3,
   "metadata": {},
   "outputs": [
    {
     "name": "stdout",
     "output_type": "stream",
     "text": [
      "Connection successful!\n"
     ]
    }
   ],
   "source": [
    "import niscope\n",
    "import matplotlib.pyplot as plt\n",
    "import numpy as np\n",
    "import Card_Class\n",
    "\n",
    "master = Card_Class.NIPXIe()"
   ]
  },
  {
   "cell_type": "code",
   "execution_count": 4,
   "metadata": {},
   "outputs": [
    {
     "ename": "IndexError",
     "evalue": "tuple index out of range",
     "output_type": "error",
     "traceback": [
      "\u001b[1;31m---------------------------------------------------------------------------\u001b[0m",
      "\u001b[1;31mIndexError\u001b[0m                                Traceback (most recent call last)",
      "Cell \u001b[1;32mIn[4], line 1\u001b[0m\n\u001b[1;32m----> 1\u001b[0m \u001b[43mniscope\u001b[49m\u001b[38;5;241;43m.\u001b[39;49m\u001b[43mSession\u001b[49m\u001b[38;5;241;43m.\u001b[39;49m\u001b[43mreset\u001b[49m\u001b[43m(\u001b[49m\u001b[43m)\u001b[49m\n",
      "File \u001b[1;32mc:\\Users\\oper\\SynologyDrive\\Lab2023\\Qubit\\qubit2324\\lib\\site-packages\\niscope\\session.py:41\u001b[0m, in \u001b[0;36mivi_synchronized.<locals>.aux\u001b[1;34m(*xs, **kws)\u001b[0m\n\u001b[0;32m     39\u001b[0m \u001b[39m@wraps\u001b[39m(f)\n\u001b[0;32m     40\u001b[0m \u001b[39mdef\u001b[39;00m \u001b[39maux\u001b[39m(\u001b[39m*\u001b[39mxs, \u001b[39m*\u001b[39m\u001b[39m*\u001b[39mkws):\n\u001b[1;32m---> 41\u001b[0m     session \u001b[39m=\u001b[39m xs[\u001b[39m0\u001b[39;49m]  \u001b[39m# parameter 0 is 'self' which is the session object\u001b[39;00m\n\u001b[0;32m     42\u001b[0m     \u001b[39mwith\u001b[39;00m session\u001b[39m.\u001b[39mlock():\n\u001b[0;32m     43\u001b[0m         \u001b[39mreturn\u001b[39;00m f(\u001b[39m*\u001b[39mxs, \u001b[39m*\u001b[39m\u001b[39m*\u001b[39mkws)\n",
      "\u001b[1;31mIndexError\u001b[0m: tuple index out of range"
     ]
    }
   ],
   "source": [
    "niscope.Session.reset()"
   ]
  },
  {
   "cell_type": "code",
   "execution_count": null,
   "metadata": {},
   "outputs": [],
   "source": []
  }
 ],
 "metadata": {
  "kernelspec": {
   "display_name": "qubit2324",
   "language": "python",
   "name": "qubit2324"
  },
  "language_info": {
   "codemirror_mode": {
    "name": "ipython",
    "version": 3
   },
   "file_extension": ".py",
   "mimetype": "text/x-python",
   "name": "python",
   "nbconvert_exporter": "python",
   "pygments_lexer": "ipython3",
   "version": "3.8.8"
  },
  "orig_nbformat": 4,
  "vscode": {
   "interpreter": {
    "hash": "189b550c5a54b5087499bdd5ba77e857e00a6effe232207122d63c93e93ce421"
   }
  }
 },
 "nbformat": 4,
 "nbformat_minor": 2
}
