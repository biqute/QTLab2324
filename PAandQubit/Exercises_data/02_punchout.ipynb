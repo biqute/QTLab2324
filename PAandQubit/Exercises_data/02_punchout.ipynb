{
 "cells": [
  {
   "cell_type": "code",
   "execution_count": 1,
   "metadata": {},
   "outputs": [
    {
     "name": "stderr",
     "output_type": "stream",
     "text": [
      "C:\\Users\\fsfinardi\\AppData\\Local\\Temp\\ipykernel_25372\\2831617652.py:4: DeprecationWarning: \n",
      "Pyarrow will become a required dependency of pandas in the next major release of pandas (pandas 3.0),\n",
      "(to allow more performant data types, such as the Arrow string type, and better interoperability with other libraries)\n",
      "but was not found to be installed on your system.\n",
      "If this would cause problems for you,\n",
      "please provide us feedback at https://github.com/pandas-dev/pandas/issues/54466\n",
      "        \n",
      "  import pandas as pd\n"
     ]
    }
   ],
   "source": [
    "%matplotlib widget\n",
    "\n",
    "import numpy as np\n",
    "import pandas as pd\n",
    "import os\n",
    "import matplotlib.pyplot as plt\n",
    "from scipy.optimize import curve_fit\n",
    "from FunFit import *"
   ]
  },
  {
   "cell_type": "code",
   "execution_count": 3,
   "metadata": {},
   "outputs": [
    {
     "name": "stdout",
     "output_type": "stream",
     "text": [
      "Directory 0: punchout_202308\n",
      "\n",
      " ['0']\n"
     ]
    }
   ],
   "source": [
    "# \"C:\\\\Users\\\\oper\\\\SynologyDrive\\\\Lab2023\\\\Qubit\\\\data\\\\punchout\\\\punchout_202308\\\\data\\\\resonator punchout_0\\\\data.npz\"\n",
    "\n",
    "dir_path = \"C:\\\\Users\\\\fsfinardi\\\\Documents\\\\01_Personali\\\\Università-2324\\\\LabCrio\\\\data\\\\punchout\"\n",
    "# dir_path = \"C:\\\\Users\\\\oper\\\\SynologyDrive\\\\Lab2023\\\\Qubit\\\\data\\\\punchout\"\n",
    "\n",
    "files = os.listdir(dir_path)\n",
    "for name in files:\n",
    "    print(f'Directory {files.index(name)}: {name}')\n",
    "\n",
    "\n",
    "n_dir = 0\n",
    "\n",
    "file = np.load(f\"{dir_path}\\\\{files[n_dir]}\\\\data\\\\resonator punchout_0\\\\data.npz\")\n",
    "print('\\n', file.files)"
   ]
  },
  {
   "cell_type": "code",
   "execution_count": 22,
   "metadata": {},
   "outputs": [
    {
     "name": "stdout",
     "output_type": "stream",
     "text": [
      "0\n",
      "[('freq', '<f8'), ('amp', '<f8'), ('msr', '<f8'), ('phase', '<f8')]\n"
     ]
    }
   ],
   "source": [
    "Nx = file.files[0]\n",
    "print(Nx)\n",
    "print(file[Nx].dtype)\n",
    "name_data = Nx\n",
    "\n",
    "freq    = file[name_data]['freq']\n",
    "amp     = file[name_data]['amp']\n",
    "msr     = file[name_data]['msr']\n",
    "phase   = file[name_data]['phase']"
   ]
  }
 ],
 "metadata": {
  "kernelspec": {
   "display_name": "QTLab-venv",
   "language": "python",
   "name": "python3"
  },
  "language_info": {
   "codemirror_mode": {
    "name": "ipython",
    "version": 3
   },
   "file_extension": ".py",
   "mimetype": "text/x-python",
   "name": "python",
   "nbconvert_exporter": "python",
   "pygments_lexer": "ipython3",
   "version": "3.12.0"
  }
 },
 "nbformat": 4,
 "nbformat_minor": 2
}
