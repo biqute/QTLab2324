{
 "cells": [
  {
   "cell_type": "markdown",
   "metadata": {},
   "source": [
    "**Frequency dressed with -40 dB:** 7.579121159 GHz"
   ]
  },
  {
   "cell_type": "code",
   "execution_count": 1,
   "metadata": {},
   "outputs": [
    {
     "name": "stdout",
     "output_type": "stream",
     "text": [
      "N9916A:\tConnection successful!\n",
      "SMA100B:\tConnection successful!\n"
     ]
    }
   ],
   "source": [
    "%matplotlib widget\n",
    "import pyvisa\n",
    "import matplotlib.pyplot as plt\n",
    "import numpy as np\n",
    "import time\n",
    "from scipy.optimize import curve_fit\n",
    "\n",
    "\n",
    "import sys \n",
    "sys.path.insert(0, r'C:\\Users\\oper\\SynologyDrive\\Lab2023\\KIDs\\QTLab2324\\PAandQubit\\Actual_Work')\n",
    "sys.path.insert(1, r'C:\\Users\\oper\\SynologyDrive\\Lab2023\\KIDs\\QTLab2324\\PAandQubit\\Instruments\\network\\RS_Signal_Generator')\n",
    "sys.path.insert(2, r'C:\\Users\\oper\\SynologyDrive\\Lab2023\\KIDs\\QTLab2324\\PAandQubit\\Instruments\\network\\VNA')\n",
    "\n",
    "import FunFit as FF\n",
    "import Tuls as Ts\n",
    "import RS_SMA100B\n",
    "import NA_N9916A\n",
    "\n",
    "ip_sg           = '192.168.40.15' \n",
    "ip_vna          = '192.168.40.10' \n",
    "vna             = NA_N9916A.N9916A(ip = ip_vna)\n",
    "sGen            = RS_SMA100B.SMA100B(ip = ip_sg)"
   ]
  },
  {
   "cell_type": "code",
   "execution_count": null,
   "metadata": {},
   "outputs": [],
   "source": [
    "f0 = vna.get_freqs()\n",
    "f0 = np.mean(np.array([int(i) for i in f0.split(',')]))\n",
    "\n",
    "mode        = 'NA'              \n",
    "s_par       = 'S21'       \n",
    "f_span      = 1\n",
    "f_center    = f0\n",
    "bw          = 10e3            # IF BANDWIDTH\n",
    "n_avgs      = 1\n",
    "n_pts       = 600 \n",
    "power_lvl   = -40  \n",
    "                            \n",
    "###############################\n",
    "\n",
    "vna.set_num_pts(n_pts)\n",
    "vna.set_freq_bandwidth(bw)\n",
    "vna.set_freq_span(f_span)\n",
    "vna.set_freq_center(f_center)\n",
    "vna.num_avgs(n_avgs)\n",
    "vna.power = power_lvl\n",
    "vna.set_scaling(auto = True)"
   ]
  },
  {
   "cell_type": "code",
   "execution_count": 10,
   "metadata": {},
   "outputs": [
    {
     "name": "stdout",
     "output_type": "stream",
     "text": [
      "len freqs:\t 200\n",
      "len lvl:\t 32\n"
     ]
    }
   ],
   "source": [
    "f_sg_min    = 5.4e9\n",
    "f_sg_max    = 5.8e9\n",
    "f_step      = 2e6\n",
    "\n",
    "lvl_sg_min  = -30\n",
    "lvl_sg_max  = 2\n",
    "lvl_step    = 1\n",
    "\n",
    "freqs_sg    = np.arange(f_sg_min, f_sg_max, f_step)\n",
    "lvl_sg      = np.arange(lvl_sg_min, lvl_sg_max, lvl_step)\n",
    "\n",
    "print('len freqs:\\t', len(freqs_sg))\n",
    "print('len lvl:\\t', len(lvl_sg))"
   ]
  },
  {
   "cell_type": "code",
   "execution_count": null,
   "metadata": {},
   "outputs": [],
   "source": [
    "\n",
    "\n",
    "\n",
    "amplitude = []\n",
    "counter = 0\n",
    "\n",
    "for p in lvl_sg:\n",
    "\tsGen.RF_lvl_ampl(p)\n",
    "\tsGen.RF_state(1)\n",
    "\n",
    "\tfor f in freqs_sg:\n",
    "\t\tprint(f'\\r{int(counter*100/len(freqs_sg))}%', end='', flush = True)\n",
    "\t\tcounter += 1\n",
    "\t\tsGen.RF_freq(f)\n",
    "\t\ttime.sleep(1)\n",
    "\t\tdata = vna.get_data()\n",
    "\t\tamp = np.mean(5*np.log10(data['Q']**2 + data['I']**2))\n",
    "\t\tamplitude.append(amp)\n",
    "\n",
    "sGen.RF_state(0)\n",
    "amplitude = np.array(amplitude)\n",
    "\n",
    "fig = plt.figure(figsize = (10,6))\n",
    "plt.plot(freqs_sg, amplitude)\n",
    "plt.show()"
   ]
  }
 ],
 "metadata": {
  "kernelspec": {
   "display_name": "qubit2324",
   "language": "python",
   "name": "qubit2324"
  },
  "language_info": {
   "codemirror_mode": {
    "name": "ipython",
    "version": 3
   },
   "file_extension": ".py",
   "mimetype": "text/x-python",
   "name": "python",
   "nbconvert_exporter": "python",
   "pygments_lexer": "ipython3",
   "version": "3.8.8"
  },
  "orig_nbformat": 4,
  "vscode": {
   "interpreter": {
    "hash": "189b550c5a54b5087499bdd5ba77e857e00a6effe232207122d63c93e93ce421"
   }
  }
 },
 "nbformat": 4,
 "nbformat_minor": 2
}
