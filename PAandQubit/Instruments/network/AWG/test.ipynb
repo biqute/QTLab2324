{
 "cells": [
  {
   "cell_type": "code",
   "execution_count": 13,
   "metadata": {},
   "outputs": [
    {
     "name": "stdout",
     "output_type": "stream",
     "text": [
      "Connection successful!\n"
     ]
    }
   ],
   "source": [
    "# MANUAL: https://www.keysight.com/it/en/assets/9018-03714/service-manuals/9018-03714.pdf?success=true\n",
    "# pag 212\n",
    "# https://www.ni.com/en/support/downloads/drivers/download.ni-visa.html#494653\n",
    "# pip install gpib-ctypes\n",
    "\n",
    "import pyvisa\n",
    "import matplotlib.pyplot as plt\n",
    "import numpy as np\n",
    "import AWG_Class\n",
    "\n",
    "augh = AWG_Class.Ks_33500B()"
   ]
  },
  {
   "cell_type": "code",
   "execution_count": 34,
   "metadata": {},
   "outputs": [
    {
     "name": "stdout",
     "output_type": "stream",
     "text": [
      "Agilent Technologies,33522B,MY52810422,3.03-1.19-2.00-52-00\n",
      "\n"
     ]
    }
   ],
   "source": [
    "augh.get_name()\n",
    "augh.reset()\n",
    "augh.clear()"
   ]
  },
  {
   "cell_type": "code",
   "execution_count": 33,
   "metadata": {},
   "outputs": [],
   "source": [
    "augh.set_frequency(5e3)\n",
    "augh.set_amplitude(2)\n",
    "augh.set_phase(90)\n",
    "augh.set_offset(0.1)\n",
    "augh.set_function('SQU')\n",
    "augh.channel_state(1, 1)"
   ]
  },
  {
   "cell_type": "code",
   "execution_count": 31,
   "metadata": {},
   "outputs": [],
   "source": [
    "augh.channel_state(1, 1)\n",
    "augh.set_waveform(6e3, 3, 0, 'SIN')\n",
    "augh.set_phase(45)"
   ]
  },
  {
   "cell_type": "code",
   "execution_count": null,
   "metadata": {},
   "outputs": [],
   "source": []
  }
 ],
 "metadata": {
  "kernelspec": {
   "display_name": "qubit2324",
   "language": "python",
   "name": "qubit2324"
  },
  "language_info": {
   "codemirror_mode": {
    "name": "ipython",
    "version": 3
   },
   "file_extension": ".py",
   "mimetype": "text/x-python",
   "name": "python",
   "nbconvert_exporter": "python",
   "pygments_lexer": "ipython3",
   "version": "3.8.8"
  },
  "vscode": {
   "interpreter": {
    "hash": "189b550c5a54b5087499bdd5ba77e857e00a6effe232207122d63c93e93ce421"
   }
  }
 },
 "nbformat": 4,
 "nbformat_minor": 2
}
