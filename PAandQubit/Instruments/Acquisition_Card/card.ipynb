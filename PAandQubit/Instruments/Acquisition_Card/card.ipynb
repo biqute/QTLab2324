{
 "cells": [
  {
   "cell_type": "code",
   "execution_count": 1,
   "metadata": {},
   "outputs": [
    {
     "name": "stdout",
     "output_type": "stream",
     "text": [
      "Connection successful!\n"
     ]
    }
   ],
   "source": [
    "import niscope\n",
    "import matplotlib.pyplot as plt\n",
    "import numpy as np\n",
    "import Card_Class\n",
    "\n",
    "master = Card_Class.NIPXIe()"
   ]
  }
 ],
 "metadata": {
  "kernelspec": {
   "display_name": "qubit2324",
   "language": "python",
   "name": "qubit2324"
  },
  "language_info": {
   "codemirror_mode": {
    "name": "ipython",
    "version": 3
   },
   "file_extension": ".py",
   "mimetype": "text/x-python",
   "name": "python",
   "nbconvert_exporter": "python",
   "pygments_lexer": "ipython3",
   "version": "3.8.8"
  },
  "orig_nbformat": 4,
  "vscode": {
   "interpreter": {
    "hash": "189b550c5a54b5087499bdd5ba77e857e00a6effe232207122d63c93e93ce421"
   }
  }
 },
 "nbformat": 4,
 "nbformat_minor": 2
}
