{
 "cells": [
  {
   "cell_type": "code",
   "execution_count": 1,
   "metadata": {},
   "outputs": [],
   "source": [
    "%matplotlib widget\n",
    "import niscope as ni\n",
    "import matplotlib.pyplot as plt\n",
    "import numpy as np\n",
    "# 275 MHz MAX"
   ]
  },
  {
   "cell_type": "code",
   "execution_count": null,
   "metadata": {},
   "outputs": [],
   "source": [
    "with ni.Session(\"PXI1Slot3\") as session: # Name of the device\n",
    "    session.channels[0].configure_vertical(range=2.0, coupling=ni.VerticalCoupling.AC)\n",
    "    session.configure_horizontal_timing(min_sample_rate=250e6, min_num_pts=int(1000), ref_position=0, num_records=1, enforce_realtime=True)\n",
    "    session.configure_trigger_digital(trigger_source = 'VAL_PFI_0' , slope = ni.TriggerSlope.POSITIVE, holdoff=0, delay=0)\n",
    "    with session.initiate():\n",
    "        waveforms = session.channels[0].fetch()\n",
    "    for wfm in waveforms:\n",
    "        print('Channel {0}, record {1} samples acquired: {2:,}\\n'.format(wfm.channel, wfm.record, len(wfm.samples)))\n",
    "a = waveforms[0].samples.tolist()\n",
    "plt.figure()\n",
    "plt.plot(np.arange(len(a))/250e6, a)"
   ]
  },
  {
   "cell_type": "code",
   "execution_count": null,
   "metadata": {},
   "outputs": [],
   "source": [
    "voltage_range = 2 # MAX 5V\n",
    "n_pts = 1000\n",
    "n_recs = 3\n",
    "\n",
    "with ni.Session(\"PXI1Slot4\") as session: # Name of the device\n",
    "    session.channels[0].configure_vertical(range = voltage_range, coupling=ni.VerticalCoupling.AC)\n",
    "    session.configure_horizontal_timing(min_sample_rate = 250e6, min_num_pts = n_pts, ref_position = 50.0, num_records = n_recs, enforce_realtime = True)\n",
    "    with session.initiate(): # After calling this method, the digitizer leaves the Idle state and waits for a trigger\n",
    "        waveforms = session.channels[0].fetch()\n",
    "    for wfm in waveforms:\n",
    "         print('Channel {0}, record {1} samples acquired: {2:,}\\n'.format(wfm.channel, wfm.record, len(wfm.samples)))\n",
    "a = waveforms[0].samples.tolist()\n",
    "\n",
    "plt.plot(a)\n"
   ]
  },
  {
   "cell_type": "code",
   "execution_count": 3,
   "metadata": {},
   "outputs": [
    {
     "name": "stdout",
     "output_type": "stream",
     "text": [
      "<niscope.session._RepeatedCapabilities object at 0x000000000C10FD30>\n"
     ]
    }
   ],
   "source": [
    "import niscope as ni\n",
    "with ni.Session(\"PXI1Slot3\") as session: # Name of the device\n",
    "    print(session.channels)"
   ]
  },
  {
   "cell_type": "code",
   "execution_count": null,
   "metadata": {},
   "outputs": [],
   "source": [
    "with ni.Session(\"PXI1Slot3\") as session: # Name of the device\n",
    "    session.channels[0].configure_vertical(range=2.0, coupling=ni.VerticalCoupling.AC)\n",
    "    session.channels[1].configure_vertical(range=2.0, coupling=ni.VerticalCoupling.AC)\n",
    "    session.configure_horizontal_timing(\n",
    "        min_sample_rate     = 250e6, \n",
    "        min_num_pts         = int(1000), \n",
    "        ref_position        = 0, \n",
    "        num_records         = 1, \n",
    "        enforce_realtime    = True\n",
    "        )\n",
    "\n",
    "    session.configure_trigger_digital(\n",
    "        trigger_source      = 'VAL_PFI_0', \n",
    "        slope               = ni.TriggerSlope.POSITIVE, \n",
    "        holdoff             = 0, \n",
    "        delay               = 0\n",
    "        )\n",
    "\n",
    "    with session.initiate():\n",
    "        waveforms = session.channels[0, 1].fetch()\n",
    "    for wfm in waveforms:\n",
    "        print('Channel {0}, record {1} samples acquired: {2:,}\\n'.format(wfm.channel, wfm.record, len(wfm.samples)))\n",
    "a = waveforms[0].samples.tolist()\n",
    "plt.figure()\n",
    "plt.plot(np.arange(len(a))/250e6, a)"
   ]
  }
 ],
 "metadata": {
  "kernelspec": {
   "display_name": "qubit2324",
   "language": "python",
   "name": "qubit2324"
  },
  "language_info": {
   "codemirror_mode": {
    "name": "ipython",
    "version": 3
   },
   "file_extension": ".py",
   "mimetype": "text/x-python",
   "name": "python",
   "nbconvert_exporter": "python",
   "pygments_lexer": "ipython3",
   "version": "3.8.8"
  },
  "orig_nbformat": 4,
  "vscode": {
   "interpreter": {
    "hash": "189b550c5a54b5087499bdd5ba77e857e00a6effe232207122d63c93e93ce421"
   }
  }
 },
 "nbformat": 4,
 "nbformat_minor": 2
}
