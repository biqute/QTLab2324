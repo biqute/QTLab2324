{
 "cells": [
  {
   "cell_type": "code",
   "execution_count": 8,
   "metadata": {},
   "outputs": [
    {
     "ename": "DriverError",
     "evalue": "-1073807343: VISA:  (Hex 0xBFFF0011) Insufficient location information or the device or resource is not present in the system.\n\nInvalid Identifier: PX1Slot1",
     "output_type": "error",
     "traceback": [
      "\u001b[1;31m---------------------------------------------------------------------------\u001b[0m",
      "\u001b[1;31mDriverError\u001b[0m                               Traceback (most recent call last)",
      "Cell \u001b[1;32mIn[8], line 6\u001b[0m\n\u001b[0;32m      3\u001b[0m \u001b[38;5;28;01mimport\u001b[39;00m \u001b[38;5;21;01mnumpy\u001b[39;00m \u001b[38;5;28;01mas\u001b[39;00m \u001b[38;5;21;01mnp\u001b[39;00m\n\u001b[0;32m      4\u001b[0m \u001b[38;5;28;01mimport\u001b[39;00m \u001b[38;5;21;01mCard_Class\u001b[39;00m\n\u001b[1;32m----> 6\u001b[0m \u001b[38;5;28;01mwith\u001b[39;00m \u001b[43mniscope\u001b[49m\u001b[38;5;241;43m.\u001b[39;49m\u001b[43mSession\u001b[49m\u001b[43m(\u001b[49m\u001b[38;5;124;43m\"\u001b[39;49m\u001b[38;5;124;43mPX1Slot1\u001b[39;49m\u001b[38;5;124;43m\"\u001b[39;49m\u001b[43m)\u001b[49m \u001b[38;5;28;01mas\u001b[39;00m session:\n\u001b[0;32m      7\u001b[0m     session\u001b[38;5;241m.\u001b[39mchannels[\u001b[38;5;241m0\u001b[39m]\u001b[38;5;241m.\u001b[39mconfigure_vertical(\u001b[38;5;28mrange\u001b[39m\u001b[38;5;241m=\u001b[39m\u001b[38;5;241m1.0\u001b[39m, coupling\u001b[38;5;241m=\u001b[39mniscope\u001b[38;5;241m.\u001b[39mVerticalCoupling\u001b[38;5;241m.\u001b[39mAC)\n\u001b[0;32m      8\u001b[0m     session\u001b[38;5;241m.\u001b[39mchannels[\u001b[38;5;241m1\u001b[39m]\u001b[38;5;241m.\u001b[39mconfigure_vertical(\u001b[38;5;28mrange\u001b[39m\u001b[38;5;241m=\u001b[39m\u001b[38;5;241m10.0\u001b[39m, coupling\u001b[38;5;241m=\u001b[39mniscope\u001b[38;5;241m.\u001b[39mVerticalCoupling\u001b[38;5;241m.\u001b[39mDC)\n",
      "File \u001b[1;32mc:\\Users\\oper\\SynologyDrive\\Lab2023\\Qubit\\qubit2324\\lib\\site-packages\\niscope\\session.py:4038\u001b[0m, in \u001b[0;36mSession.__init__\u001b[1;34m(self, resource_name, id_query, reset_device, options, grpc_options)\u001b[0m\n\u001b[0;32m   4031\u001b[0m options \u001b[39m=\u001b[39m _converters\u001b[39m.\u001b[39mconvert_init_with_options_dictionary(options)\n\u001b[0;32m   4033\u001b[0m \u001b[39m# Call specified init function\u001b[39;00m\n\u001b[0;32m   4034\u001b[0m \u001b[39m# Note that _interpreter default-initializes the session handle in its constructor, so that\u001b[39;00m\n\u001b[0;32m   4035\u001b[0m \u001b[39m# if _init_with_options fails, the error handler can reference it.\u001b[39;00m\n\u001b[0;32m   4036\u001b[0m \u001b[39m# And then here, once _init_with_options succeeds, we call set_session_handle\u001b[39;00m\n\u001b[0;32m   4037\u001b[0m \u001b[39m# with the actual session handle.\u001b[39;00m\n\u001b[1;32m-> 4038\u001b[0m \u001b[39mself\u001b[39m\u001b[39m.\u001b[39m_interpreter\u001b[39m.\u001b[39mset_session_handle(\u001b[39mself\u001b[39;49m\u001b[39m.\u001b[39;49m_init_with_options(resource_name, id_query, reset_device, options))\n\u001b[0;32m   4040\u001b[0m \u001b[39m# NI-TClk does not work over NI gRPC Device Server\u001b[39;00m\n\u001b[0;32m   4041\u001b[0m \u001b[39mif\u001b[39;00m \u001b[39mnot\u001b[39;00m grpc_options:\n",
      "File \u001b[1;32mc:\\Users\\oper\\SynologyDrive\\Lab2023\\Qubit\\qubit2324\\lib\\site-packages\\niscope\\session.py:5067\u001b[0m, in \u001b[0;36mSession._init_with_options\u001b[1;34m(self, resource_name, id_query, reset_device, option_string)\u001b[0m\n\u001b[0;32m   4941\u001b[0m \u001b[39m\u001b[39m\u001b[39mr\u001b[39m\u001b[39m'''_init_with_options\u001b[39;00m\n\u001b[0;32m   4942\u001b[0m \n\u001b[0;32m   4943\u001b[0m \u001b[39mPerforms the following initialization actions:\u001b[39;00m\n\u001b[1;32m   (...)\u001b[0m\n\u001b[0;32m   5064\u001b[0m \n\u001b[0;32m   5065\u001b[0m \u001b[39m'''\u001b[39;00m\n\u001b[0;32m   5066\u001b[0m option_string \u001b[39m=\u001b[39m _converters\u001b[39m.\u001b[39mconvert_init_with_options_dictionary(option_string)\n\u001b[1;32m-> 5067\u001b[0m vi \u001b[39m=\u001b[39m \u001b[39mself\u001b[39;49m\u001b[39m.\u001b[39;49m_interpreter\u001b[39m.\u001b[39;49minit_with_options(resource_name, id_query, reset_device, option_string)\n\u001b[0;32m   5068\u001b[0m \u001b[39mreturn\u001b[39;00m vi\n",
      "File \u001b[1;32mc:\\Users\\oper\\SynologyDrive\\Lab2023\\Qubit\\qubit2324\\lib\\site-packages\\niscope\\_library_interpreter.py:567\u001b[0m, in \u001b[0;36mLibraryInterpreter.init_with_options\u001b[1;34m(self, resource_name, id_query, reset_device, option_string)\u001b[0m\n\u001b[0;32m    565\u001b[0m vi_ctype \u001b[39m=\u001b[39m _visatype\u001b[39m.\u001b[39mViSession()  \u001b[39m# case S220\u001b[39;00m\n\u001b[0;32m    566\u001b[0m error_code \u001b[39m=\u001b[39m \u001b[39mself\u001b[39m\u001b[39m.\u001b[39m_library\u001b[39m.\u001b[39mniScope_InitWithOptions(resource_name_ctype, id_query_ctype, reset_device_ctype, option_string_ctype, \u001b[39mNone\u001b[39;00m \u001b[39mif\u001b[39;00m vi_ctype \u001b[39mis\u001b[39;00m \u001b[39mNone\u001b[39;00m \u001b[39melse\u001b[39;00m (ctypes\u001b[39m.\u001b[39mpointer(vi_ctype)))\n\u001b[1;32m--> 567\u001b[0m errors\u001b[39m.\u001b[39;49mhandle_error(\u001b[39mself\u001b[39;49m, error_code, ignore_warnings\u001b[39m=\u001b[39;49m\u001b[39mFalse\u001b[39;49;00m, is_error_handling\u001b[39m=\u001b[39;49m\u001b[39mFalse\u001b[39;49;00m)\n\u001b[0;32m    568\u001b[0m \u001b[39mself\u001b[39m\u001b[39m.\u001b[39m_close_on_exit \u001b[39m=\u001b[39m \u001b[39mTrue\u001b[39;00m\n\u001b[0;32m    569\u001b[0m \u001b[39mreturn\u001b[39;00m \u001b[39mint\u001b[39m(vi_ctype\u001b[39m.\u001b[39mvalue)\n",
      "File \u001b[1;32mc:\\Users\\oper\\SynologyDrive\\Lab2023\\Qubit\\qubit2324\\lib\\site-packages\\niscope\\errors.py:123\u001b[0m, in \u001b[0;36mhandle_error\u001b[1;34m(library_interpreter, code, ignore_warnings, is_error_handling)\u001b[0m\n\u001b[0;32m    120\u001b[0m     description \u001b[39m=\u001b[39m library_interpreter\u001b[39m.\u001b[39mget_error_description(code)\n\u001b[0;32m    122\u001b[0m \u001b[39mif\u001b[39;00m _is_error(code):\n\u001b[1;32m--> 123\u001b[0m     \u001b[39mraise\u001b[39;00m DriverError(code, description)\n\u001b[0;32m    125\u001b[0m \u001b[39massert\u001b[39;00m _is_warning(code)\n\u001b[0;32m    126\u001b[0m warnings\u001b[39m.\u001b[39mwarn(DriverWarning(code, description))\n",
      "\u001b[1;31mDriverError\u001b[0m: -1073807343: VISA:  (Hex 0xBFFF0011) Insufficient location information or the device or resource is not present in the system.\n\nInvalid Identifier: PX1Slot1"
     ]
    }
   ],
   "source": [
    "import niscope\n",
    "import matplotlib.pyplot as plt\n",
    "import numpy as np\n",
    "import Card_Class\n",
    "\n",
    "with niscope.Session(\"PX1Slot1\") as session:\n",
    "    session.channels[0].configure_vertical(range=1.0, coupling=niscope.VerticalCoupling.AC)\n",
    "    session.channels[1].configure_vertical(range=10.0, coupling=niscope.VerticalCoupling.DC)\n",
    "    session.configure_horizontal_timing(min_sample_rate=50000000, min_num_pts=1000, ref_position=50.0, num_records=5, enforce_realtime=True)\n",
    "    with session.initiate():\n",
    "        waveforms = session.channels[0,1].fetch(num_records=5)\n",
    "    for wfm in waveforms:\n",
    "        print('Channel {0}, record {1} samples acquired: {2:,}\\n'.format(wfm.channel, wfm.record, len(wfm.samples)))\n",
    "\n",
    "    # Find all channel 1 records (Note channel name is always a string even if integers used in channel[])\n",
    "    chan1 = [wfm for wfm in waveforms if wfm.channel == '0']\n",
    "\n",
    "    # Find all record number 3\n",
    "    rec3 = [wfm for wfm in waveforms if wfm.record == 3]\n",
    "\n",
    "# NON LO SO!!!"
   ]
  },
  {
   "cell_type": "code",
   "execution_count": null,
   "metadata": {},
   "outputs": [],
   "source": []
  }
 ],
 "metadata": {
  "kernelspec": {
   "display_name": "qubit2324",
   "language": "python",
   "name": "qubit2324"
  },
  "language_info": {
   "codemirror_mode": {
    "name": "ipython",
    "version": 3
   },
   "file_extension": ".py",
   "mimetype": "text/x-python",
   "name": "python",
   "nbconvert_exporter": "python",
   "pygments_lexer": "ipython3",
   "version": "3.8.8"
  },
  "orig_nbformat": 4,
  "vscode": {
   "interpreter": {
    "hash": "189b550c5a54b5087499bdd5ba77e857e00a6effe232207122d63c93e93ce421"
   }
  }
 },
 "nbformat": 4,
 "nbformat_minor": 2
}
