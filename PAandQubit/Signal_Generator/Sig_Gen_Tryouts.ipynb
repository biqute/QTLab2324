{
 "cells": [
  {
   "cell_type": "code",
   "execution_count": 2,
   "metadata": {},
   "outputs": [
    {
     "name": "stdout",
     "output_type": "stream",
     "text": [
      "Connection successful!\n"
     ]
    }
   ],
   "source": [
    "#ip sig_gen = 192.168.40.10\n",
    "\n",
    "\n",
    "import pyvisa\n",
    "import matplotlib.pyplot as plt\n",
    "import numpy as np\n",
    "import Sig_genClass\n",
    "import time\n",
    "\n",
    "\n",
    "sig_gen = Sig_genClass.SMA100B('192.168.40.15')"
   ]
  },
  {
   "cell_type": "code",
   "execution_count": 3,
   "metadata": {},
   "outputs": [
    {
     "ename": "AttributeError",
     "evalue": "'SMA100B' object has no attribute 'lvl_ampl'",
     "output_type": "error",
     "traceback": [
      "\u001b[1;31m---------------------------------------------------------------------------\u001b[0m",
      "\u001b[1;31mAttributeError\u001b[0m                            Traceback (most recent call last)",
      "Cell \u001b[1;32mIn[3], line 3\u001b[0m\n\u001b[0;32m      1\u001b[0m sig_gen\u001b[38;5;241m.\u001b[39mreset()\n\u001b[0;32m      2\u001b[0m sig_gen\u001b[38;5;241m.\u001b[39mRF_freq(\u001b[38;5;241m80\u001b[39m)\n\u001b[1;32m----> 3\u001b[0m \u001b[43msig_gen\u001b[49m\u001b[38;5;241;43m.\u001b[39;49m\u001b[43mlvl_ampl\u001b[49m(\u001b[38;5;241m-\u001b[39m\u001b[38;5;241m35\u001b[39m)              \u001b[38;5;66;03m#in dBm\u001b[39;00m\n\u001b[0;32m      4\u001b[0m sig_gen\u001b[38;5;241m.\u001b[39mRF_onoff(\u001b[38;5;241m1\u001b[39m)\n",
      "\u001b[1;31mAttributeError\u001b[0m: 'SMA100B' object has no attribute 'lvl_ampl'"
     ]
    }
   ],
   "source": [
    "sig_gen.reset()\n",
    "sig_gen.RF_freq(80)\n",
    "sig_gen.lvl_ampl(-35)              #in dBm\n",
    "sig_gen.RF_onoff(1)"
   ]
  },
  {
   "cell_type": "code",
   "execution_count": null,
   "metadata": {},
   "outputs": [],
   "source": [
    "sig_gen.pul_gen_mode('SING')\n",
    "sig_gen.pul_gen_params(400, 40, 250)\n",
    "sig_gen.pul_state(1)"
   ]
  },
  {
   "cell_type": "code",
   "execution_count": null,
   "metadata": {},
   "outputs": [],
   "source": []
  },
  {
   "cell_type": "code",
   "execution_count": null,
   "metadata": {},
   "outputs": [],
   "source": [
    "sig_gen.transition_type('FAST')\n",
    "# Smoothed Flattens the slew rate, resulting in longer rise / fall times. Use this mode if you are working with devices that are sensitive to steep slopes. (Dal manuale sul sito)"
   ]
  },
  {
   "cell_type": "code",
   "execution_count": null,
   "metadata": {},
   "outputs": [
    {
     "data": {
      "text/plain": [
       "36"
      ]
     },
     "execution_count": 14,
     "metadata": {},
     "output_type": "execute_result"
    }
   ],
   "source": [
    "sig_gen._resource.write(\"MMEM:CDIR '/var/user/'\") # Entro nella directory desiderata\n",
    "# sig_gen._resource.query(\"SOUR1:PULM:TRA:CAT?\")\n",
    "# time.sleep(2)\n",
    "# Create and/or select the pulse train data file\n",
    "sig_gen._resource.write('SOUR1:PULM:TRA:SEL \"/var/user/pt\"')\n",
    "\n",
    "# Enter the pulse train data\n",
    "sig_gen._resource.write('SOURCe:PULM:TRAin:ONTime 0.0001,0.00025,0.0001')       #entrate in s, a schermo sono in us da quel che mostra in edit_pulse_data\n",
    "sig_gen._resource.write('SOURCe:PULM:TRAin:OFFTime 500us,500us,300us')          #entrate in us\n",
    "sig_gen._resource.write('SOURCe:PULM:TRAin:REPetition 2,0,3')                   #numero di portanti per ogni treno (sarà utile per le operazioni di drive-readout del qubit)\n",
    "\n",
    "\n",
    "############################\n",
    "#In Pulse Generator ---> Pulse Mode ---> Double, fa modificare il pulse period solo se la Trigger Mode ---> NON E' in Single\n",
    "############################\n",
    "############################"
   ]
  },
  {
   "cell_type": "code",
   "execution_count": 5,
   "metadata": {},
   "outputs": [
    {
     "data": {
      "text/plain": [
       "34"
      ]
     },
     "execution_count": 5,
     "metadata": {},
     "output_type": "execute_result"
    }
   ],
   "source": [
    "sig_gen._resource.write(\"MMEM:CDIR '/var/user/'\") # Entro nella directory desiderata\n",
    "# sig_gen._resource.query(\"SOUR1:PULM:TRA:CAT?\")\n",
    "# time.sleep(2)\n",
    "# Create and/or select the pulse train data file\n",
    "sig_gen._resource.write('SOUR1:PULM:TRA:SEL \"/var/user/train_tryout8\"')\n",
    "\n",
    "sig_gen._resource.write('SOURCe:PULM:TRAin:ONTime 0.005, 0.002')       #width di ogni vagone (0 - 5000 us or 0 - 0,005 s)\n",
    "sig_gen._resource.write('SOURCe:PULM:TRAin:OFFTime 4000us,2000us')          #collegamento vagoni (0.005 - 5000 us)\n",
    "sig_gen._resource.write('SOURCe:PULM:TRAin:REPetition 1,2')                   #numero vagoni di ogni treno"
   ]
  },
  {
   "cell_type": "code",
   "execution_count": null,
   "metadata": {},
   "outputs": [],
   "source": [
    "sig_gen.RF_freq(200)     "
   ]
  },
  {
   "cell_type": "code",
   "execution_count": null,
   "metadata": {},
   "outputs": [],
   "source": [
    "#Capire come cambiare ampiezza segnale di ogni vagone e renderli diversi. Stessa cosa per la fase e la frequenza di ogni vagone."
   ]
  },
  {
   "cell_type": "code",
   "execution_count": 6,
   "metadata": {},
   "outputs": [],
   "source": [
    "sig_gen.reset()\n",
    "sig_gen.RF_freq(30)\n",
    "sig_gen.RF_lvl_ampl(-35) \n",
    "sig_gen.transition_type('FAST')\n",
    "sig_gen.RF_state(1)\n",
    "sig_gen.pul_gen_mode('PTR')\n",
    "sig_gen.pul_trig_mode('SING')"
   ]
  },
  {
   "cell_type": "code",
   "execution_count": 7,
   "metadata": {},
   "outputs": [],
   "source": [
    "sig_gen.RF_freq(90)"
   ]
  },
  {
   "cell_type": "code",
   "execution_count": 8,
   "metadata": {},
   "outputs": [],
   "source": [
    "sig_gen.RF_state(0)"
   ]
  },
  {
   "cell_type": "code",
   "execution_count": 16,
   "metadata": {},
   "outputs": [
    {
     "data": {
      "text/plain": [
       "426"
      ]
     },
     "execution_count": 16,
     "metadata": {},
     "output_type": "execute_result"
    }
   ],
   "source": [
    "bond = ''\n",
    "step = ''\n",
    "width = ''\n",
    "rep = 99\n",
    "for i in range (rep):\n",
    "    if i == (rep-1):\n",
    "        bond += '0.005us'\n",
    "        step += '100'\n",
    "        width += '0.000005'\n",
    "    else:\n",
    "        bond += '0.005us,'\n",
    "        step += '100,'\n",
    "        width += '0.000005,'\n",
    "\n",
    "\n",
    "sig_gen._resource.write(\"MMEM:CDIR '/var/user/'\") # Entro nella directory desiderata\n",
    "# sig_gen._resource.query(\"SOUR1:PULM:TRA:CAT?\")\n",
    "# time.sleep(2)\n",
    "# Create and/or select the pulse train data file\n",
    "sig_gen._resource.write('SOUR1:PULM:TRA:SEL \"/var/user/train_tryoutsss\"')\n",
    "\n",
    "sig_gen._resource.write(f'SOURCe:PULM:TRAin:ONTime {width}')       #width di ogni vagone (0 - 5000 us or 0 - 0,005 s)\n",
    "sig_gen._resource.write(f'SOURCe:PULM:TRAin:OFFTime {bond}')          #collegamento vagoni (0.005 - 5000 us)\n",
    "sig_gen._resource.write(f'SOURCe:PULM:TRAin:REPetition {step}')                   #numero vagoni di ogni treno\n",
    "\n",
    "\n",
    "# Qui avevo provato a fare una roba stran: fare tantissimi treni di cui l'altezza fosse modulata da una gaussiana\n",
    "# 2 problemi: la list mode che permette di operare su ampiezza e frequenza del segnale ha step minimo del ms\n",
    "#             tra un treno e l'altro potrebbero presentarsi n transienti che sporcano le sinusoidi.\n",
    "\n",
    "#La svolta sarà utilizzare l'up conversion con augh (Faverzani ricorda di modularlo poichè emette segnali a potenza fissa, non regolabile)"
   ]
  },
  {
   "cell_type": "code",
   "execution_count": null,
   "metadata": {},
   "outputs": [],
   "source": []
  }
 ],
 "metadata": {
  "kernelspec": {
   "display_name": "qubit2324",
   "language": "python",
   "name": "qubit2324"
  },
  "language_info": {
   "codemirror_mode": {
    "name": "ipython",
    "version": 3
   },
   "file_extension": ".py",
   "mimetype": "text/x-python",
   "name": "python",
   "nbconvert_exporter": "python",
   "pygments_lexer": "ipython3",
   "version": "3.8.8"
  },
  "orig_nbformat": 4,
  "vscode": {
   "interpreter": {
    "hash": "577259b7f5a119e8af3aadcda0ea5d59c3a4b6ea5978608d4fd23299b3f53377"
   }
  }
 },
 "nbformat": 4,
 "nbformat_minor": 2
}
