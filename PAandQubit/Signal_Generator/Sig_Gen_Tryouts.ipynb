{
 "cells": [
  {
   "cell_type": "code",
   "execution_count": 1,
   "metadata": {},
   "outputs": [
    {
     "name": "stdout",
     "output_type": "stream",
     "text": [
      "Connessione riuscita!\n"
     ]
    }
   ],
   "source": [
    "#ip sig_gen = 192.168.40.10\n",
    "\n",
    "\n",
    "import pyvisa\n",
    "import matplotlib.pyplot as plt\n",
    "import numpy as np\n",
    "import Sig_genClass\n",
    "import time\n",
    "\n",
    "\n",
    "sig_gen = Sig_genClass.SMA100B('192.168.40.15')"
   ]
  },
  {
   "cell_type": "code",
   "execution_count": 22,
   "metadata": {},
   "outputs": [],
   "source": [
    "sig_gen.reset()\n",
    "sig_gen.RF_freq(80)\n",
    "sig_gen.lvl_ampl(-35)              #in dBm\n",
    "sig_gen.RF_onoff(1)"
   ]
  },
  {
   "cell_type": "code",
   "execution_count": 12,
   "metadata": {},
   "outputs": [],
   "source": [
    "sig_gen.pul_gen_mode('SING')\n",
    "sig_gen.pul_gen_params(400, 40, 250)\n",
    "sig_gen.pul_state(1)"
   ]
  },
  {
   "cell_type": "code",
   "execution_count": 6,
   "metadata": {},
   "outputs": [],
   "source": []
  },
  {
   "cell_type": "code",
   "execution_count": 13,
   "metadata": {},
   "outputs": [],
   "source": [
    "sig_gen.transition_type('FAST')\n",
    "# Smoothed Flattens the slew rate, resulting in longer rise / fall times. Use this mode if you are working with devices that are sensitive to steep slopes. (Dal manuale sul sito)"
   ]
  },
  {
   "cell_type": "code",
   "execution_count": 14,
   "metadata": {},
   "outputs": [
    {
     "data": {
      "text/plain": [
       "36"
      ]
     },
     "execution_count": 14,
     "metadata": {},
     "output_type": "execute_result"
    }
   ],
   "source": [
    "sig_gen._resource.write(\"MMEM:CDIR '/var/user/'\") # Entro nella directory desiderata\n",
    "# sig_gen._resource.query(\"SOUR1:PULM:TRA:CAT?\")\n",
    "# time.sleep(2)\n",
    "# Create and/or select the pulse train data file\n",
    "sig_gen._resource.write('SOUR1:PULM:TRA:SEL \"/var/user/pt\"')\n",
    "\n",
    "# Enter the pulse train data\n",
    "sig_gen._resource.write('SOURCe:PULM:TRAin:ONTime 0.0001,0.00025,0.0001')       #entrate in s, a schermo sono in us da quel che mostra in edit_pulse_data\n",
    "sig_gen._resource.write('SOURCe:PULM:TRAin:OFFTime 500us,500us,300us')          #entrate in us\n",
    "sig_gen._resource.write('SOURCe:PULM:TRAin:REPetition 2,0,3')                   #numero di portanti per ogni treno (sarà utile per le operazioni di drive-readout del qubit)\n",
    "\n",
    "\n",
    "############################\n",
    "#In Pulse Generator ---> Pulse Mode ---> Double, fa modificare il pulse period solo se la Trigger Mode ---> NON E' in Single\n",
    "############################\n",
    "############################"
   ]
  },
  {
   "cell_type": "code",
   "execution_count": 36,
   "metadata": {},
   "outputs": [
    {
     "data": {
      "text/plain": [
       "34"
      ]
     },
     "execution_count": 36,
     "metadata": {},
     "output_type": "execute_result"
    }
   ],
   "source": [
    "sig_gen._resource.write(\"MMEM:CDIR '/var/user/'\") # Entro nella directory desiderata\n",
    "# sig_gen._resource.query(\"SOUR1:PULM:TRA:CAT?\")\n",
    "# time.sleep(2)\n",
    "# Create and/or select the pulse train data file\n",
    "sig_gen._resource.write('SOUR1:PULM:TRA:SEL \"/var/user/train_tryout7\"')\n",
    "\n",
    "sig_gen._resource.write('SOURCe:PULM:TRAin:ONTime 0.005, 0.002')       #width di ogni vagone (0 - 5000 us or 0 - 0,005 s)\n",
    "sig_gen._resource.write('SOURCe:PULM:TRAin:OFFTime 4000us,2000us')          #collegamento vagoni (0.005 - 5000 us)\n",
    "sig_gen._resource.write('SOURCe:PULM:TRAin:REPetition 1,2')                   #numero vagoni di ogni treno"
   ]
  },
  {
   "cell_type": "code",
   "execution_count": 52,
   "metadata": {},
   "outputs": [],
   "source": [
    "sig_gen.RF_freq(200)     #pare che limite oscilloscopio non sia solo 100 MHz, ma dipende da trigger."
   ]
  },
  {
   "cell_type": "code",
   "execution_count": null,
   "metadata": {},
   "outputs": [],
   "source": [
    "#Capire come cambiare ampiezza segnale di ogni vagone e renderli diversi. Stessa cosa per la fase e la frequenza di ogni vagone."
   ]
  }
 ],
 "metadata": {
  "kernelspec": {
   "display_name": "Python 3.8.8 ('qubit2324': venv)",
   "language": "python",
   "name": "python3"
  },
  "language_info": {
   "codemirror_mode": {
    "name": "ipython",
    "version": 3
   },
   "file_extension": ".py",
   "mimetype": "text/x-python",
   "name": "python",
   "nbconvert_exporter": "python",
   "pygments_lexer": "ipython3",
   "version": "3.8.8"
  },
  "orig_nbformat": 4,
  "vscode": {
   "interpreter": {
    "hash": "577259b7f5a119e8af3aadcda0ea5d59c3a4b6ea5978608d4fd23299b3f53377"
   }
  }
 },
 "nbformat": 4,
 "nbformat_minor": 2
}
