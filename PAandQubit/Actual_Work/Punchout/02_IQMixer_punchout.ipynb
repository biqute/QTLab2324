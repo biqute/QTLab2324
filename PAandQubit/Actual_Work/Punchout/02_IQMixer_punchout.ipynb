{
 "cells": [
  {
   "cell_type": "markdown",
   "metadata": {},
   "source": [
    "# IQ Mixing notes\n",
    "\n",
    "https://markimicrowave.com/technical-resources/application-notes/how-to-think-about-iq-mixers/"
   ]
  },
  {
   "cell_type": "code",
   "execution_count": 2,
   "metadata": {},
   "outputs": [],
   "source": [
    "%matplotlib widget\n",
    "import matplotlib.pyplot as plt\n",
    "import numpy as np\n",
    "import os\n",
    "import sys\n",
    "\n",
    "sys.path.insert(1, '..\\\\..\\\\Instruments\\\\network\\\\RS_Signal_Generator')\n",
    "sys.path.insert(2, '..\\\\..\\\\Instruments\\\\Acquisition_Card')\n",
    "sys.path.insert(3, '..\\\\..\\\\Instruments\\\\QuickSyn')\n",
    "sys.path.insert(4, '..\\\\')\n",
    "\n",
    "import Tuls as Ts\n",
    "import RS_SMA100B\n",
    "import FSL_0010\n",
    "from Card_Class import PXIe5170R\n",
    "import Config as par"
   ]
  },
  {
   "cell_type": "code",
   "execution_count": 13,
   "metadata": {},
   "outputs": [
    {
     "name": "stdout",
     "output_type": "stream",
     "text": [
      "FSL_0010:\tConnection successful!\n",
      "SMA100B:\tConnection successful!\n",
      "PXIe_5170R:    Unable to establish a connection: -1074118610: The digitizer is being used by another application or process, or there is a calibration session open to the device.\n"
     ]
    }
   ],
   "source": [
    "QSyn_port       = 'COM35'\n",
    "SG_ip           = '192.168.40.15'\n",
    "Card_Name       = 'PXI1Slot3'\n",
    "\n",
    "fsl             = FSL_0010.FSL10_synthesizer(device_address = QSyn_port)\n",
    "sGen            = RS_SMA100B.SMA100B(ip = SG_ip)\n",
    "pxie            = PXIe5170R(resource_name = Card_Name)"
   ]
  },
  {
   "cell_type": "code",
   "execution_count": 80,
   "metadata": {},
   "outputs": [
    {
     "data": {
      "text/plain": [
       "'Frequency set to 1 GHz.'"
      ]
     },
     "execution_count": 80,
     "metadata": {},
     "output_type": "execute_result"
    }
   ],
   "source": [
    "pulse_f_min     = 1.010e9\n",
    "# pulse_f_max\t\t= \n",
    "\n",
    "amp_min\t\t    = -18                                               # Set the amplitude of the signal in dBm\n",
    "# amp_max\t\t\t= \n",
    "\n",
    "\n",
    "sample_rate     = 250e6                                             # Maximum Value: 250.0e6\n",
    "k = 4                                                               # coefficiente per prendere k*1000 punti \n",
    "\t\t\t\t\t\t\t\t\t\t\t\t\t\t\t\t\t# con la scheda, dunque devo aumentare la pulse width e period\n",
    "pulse_period    = k * 1e-6                                          # 4e-6 con 250e6 dà 1000 punti\n",
    "num_pts         = int(sample_rate * pulse_period)                   # min 5ns                             \n",
    "pulse_delay     = 0\n",
    "\n",
    "percent         = 5\n",
    "pulse_width     = pulse_period * (1 - percent/100)                  # min 20ns\n",
    "\n",
    "\n",
    "# Quick Syn\n",
    "LO =  5e9\n",
    "fsl_freq = round(LO, 1)\n",
    " \n",
    "\n",
    "# MR GEN\n",
    "dwc_f = 10e6                                                        # Down conversion frequency\n",
    "step = 10e6\n",
    "n = 20                                                              # number of steps\n",
    "\n",
    "pulse_f_min     = LO + dwc_f\n",
    "pulse_f_max\t\t= pulse_f_min + n * step\n",
    "\n",
    "amp_i\t\t\t= -30                                               # dBm\n",
    "amp_f           = -10\n",
    " \n",
    "pulse_period    = 1e-6                                              # 4e-6 con 250e6 dà 1000 punti\n",
    "pulse_delay     = 0\n",
    "percent         = 5\n",
    "pulse_width     = pulse_period * (1 - percent/100)                  # min 20ns\n",
    "\n",
    "\n",
    "# PXIE\n",
    "sample_rate     = 250e6                                             # Maximum Value: 250.0e6\n",
    "num_pts         = int(sample_rate * pulse_period)                   # min 5ns                             \n",
    "channels = {'0': 'I', \n",
    "\t\t\t'1': 'Q',\n",
    "\t\t\t'2': None,\n",
    "\t\t\t'3': 'trigger'}\n",
    "\n",
    "\n",
    "sGen.pul_gen_mode('SING')\n",
    "sGen.pul_trig_mode('SING')\n",
    "sGen.pul_gen_params(delay = pulse_delay, \n",
    "                    width = pulse_width, \n",
    "                    period = pulse_period) \n",
    "\n",
    "\n",
    "# Parameters for the Acquisition Card\n",
    "pxie.coupling           = 'AC'\n",
    "pxie.num_pts            = num_pts\n",
    "pxie.num_records        = 1\n",
    "pxie.sample_rate        = sample_rate                               # Maximum Value: 250.0e6\n",
    "\n",
    "\n",
    "# FSL-0010\n",
    "print(fsl.set_frequency(LO))"
   ]
  },
  {
   "cell_type": "code",
   "execution_count": 89,
   "metadata": {},
   "outputs": [
    {
     "name": "stdout",
     "output_type": "stream",
     "text": [
      "(p09, f09)\t: 100 %"
     ]
    },
    {
     "data": {
      "text/plain": [
       "'RF set to OFF'"
      ]
     },
     "execution_count": 89,
     "metadata": {},
     "output_type": "execute_result"
    }
   ],
   "source": [
    "channels = {'0': 'I', \n",
    "\t\t\t'1': 'Q',\n",
    "\t\t\t'2': None,\n",
    "\t\t\t'3': 'trigger'}\n",
    "\n",
    "print(fsl.set_frequency(LO))\n",
    "print(fsl.set_output('ON'))\n",
    "pxie.open(trigger_channel = 3)\n",
    "\n",
    "pota        = np.arange(amp_min, amp_min + 10 , 1)\n",
    "pula        = np.arange(pulse_f_min, pulse_f_min + 0.010e9, 0.001e9)\n",
    "\n",
    "data_dict   = {}\n",
    "counter     = 1\n",
    "\n",
    "\n",
    "digits_p = \"{:0\"+str(len(str(len(pota))))+\"d}\"\n",
    "digits_f = \"{:0\"+str(len(str(len(pula))))+\"d}\"\n",
    "for p, pot in enumerate(pota):\n",
    "\tdata_dict[f'p{digits_p.format(p)}'] = {'power_(dBm)': pot, 'freqs': {}}\n",
    "\tsGen.RF_lvl_ampl(pot)\n",
    "\n",
    "\tfor i, pul in enumerate(pula):\n",
    "\t\t\n",
    "\t\tsGen.RF_freq(pul) # guarda come è definito, abbiamo messo la potenza e6   \n",
    "\t\tsGen.pul_state(1)\n",
    "\t\tsGen.RF_state(1)\n",
    "\t\t# time.sleep(0.1)\n",
    "\t\twaveforms = pxie.acquisition(sGen.pul_exe_sing_trig)\n",
    "\t\tI = np.array(waveforms[I_CH].samples.tolist())\n",
    "\t\tQ = np.array(waveforms[Q_CH].samples.tolist())\n",
    "\t\t\n",
    "\t\t\n",
    "\t\tsGen.pul_state(0)\n",
    "\t\tsGen.RF_state(0)\n",
    "\n",
    "\t\tprint(f'\\r(p{digits_p.format(p)}, f{digits_f.format(i)})\t: {int(counter*100/(len(pota)*len(pula)))} %', end='')\n",
    "\t\tsys.stdout.flush()\n",
    "\t\tcounter += 1\n",
    "\t\tdata_dict[f'p{digits_p.format(p)}']['freqs'][f'f{digits_f.format(i)}'] = {'freq_(Hz)': pul, 'I': I, 'Q': Q}\n",
    "fsl.set_output('OFF')\n",
    "\n",
    "\n"
   ]
  },
  {
   "cell_type": "code",
   "execution_count": 90,
   "metadata": {},
   "outputs": [],
   "source": [
    "# SAVE DATA ON HDF5 FILE\n",
    "filename = 'Tappo_su_I_cambiocavo_e_canale.h5'\n",
    "if os.path.exists(filename):\n",
    "  os.remove(filename)\n",
    "hdf5_write(data_dict, filename)"
   ]
  },
  {
   "cell_type": "markdown",
   "metadata": {},
   "source": [
    "## NOTE\n",
    "- [ ] Dai test sembra che non servano attenuazioni quando il segnale passa per il mixer, ma è necessaerio capire quanta potenza effettivamente arriva alla scheda per non friggerla.\n",
    "- [ ] DOVREMO fare la CARATTERIZZAZIONE DELL'IQ-MIXER\n",
    "- [ ] Studiare range di ampiezze in cui opera e magari anhe range di frequenze.\n",
    "- [ ] Studiare Attenuazione che dà?\n",
    "- [ ] Nel piano I-q non compare una circonferenza precisa, ma è più un'ellisse. Studiare e magari richiedere.\n",
    "- [ ] Preparare i programmi, anche per l'analisi dati in loco per risparmiare tempo.\n",
    "- [ ] Scrivere una manuale per la pixie, in particolare per l'uso del trigger esterno."
   ]
  }
 ],
 "metadata": {
  "kernelspec": {
   "display_name": "qubit2324",
   "language": "python",
   "name": "qubit2324"
  },
  "language_info": {
   "codemirror_mode": {
    "name": "ipython",
    "version": 3
   },
   "file_extension": ".py",
   "mimetype": "text/x-python",
   "name": "python",
   "nbconvert_exporter": "python",
   "pygments_lexer": "ipython3",
   "version": "3.8.8"
  },
  "orig_nbformat": 4,
  "vscode": {
   "interpreter": {
    "hash": "577259b7f5a119e8af3aadcda0ea5d59c3a4b6ea5978608d4fd23299b3f53377"
   }
  }
 },
 "nbformat": 4,
 "nbformat_minor": 2
}
