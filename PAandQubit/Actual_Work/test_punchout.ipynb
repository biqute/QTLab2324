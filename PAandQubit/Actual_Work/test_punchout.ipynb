{
 "cells": [
  {
   "cell_type": "code",
   "execution_count": null,
   "metadata": {},
   "outputs": [],
   "source": [
    "%matplotlib widget\n",
    "import niscope as ni\n",
    "\n",
    "# Uscita trigger dal signal generator: Pulse Sync\n",
    "\n",
    "import matplotlib.pyplot as plt\n",
    "from scipy.signal import find_peaks\n",
    "\n",
    "import h5py\n",
    "import time\n",
    "import numpy as np\n",
    "\n",
    "import os\n",
    "import sys\n",
    "sys.path.insert(1, '..\\\\Instruments\\\\network\\\\Signal_Generator')\n",
    "sys.path.insert(2, '..\\\\Instruments\\\\Acquisition_Card')\n",
    "sys.path.insert(3, '..\\\\Instruments\\\\QuickSyn')\n",
    "sys.path.insert(4, '..\\\\HDF5')\n",
    "\n",
    "import RS_SMA100B\n",
    "from Card_Class import *\n",
    "from HDF5 import save_dict_to_hdf5 as hdf5_write"
   ]
  },
  {
   "cell_type": "code",
   "execution_count": null,
   "metadata": {},
   "outputs": [],
   "source": [
    "ip              = '192.168.40.15'                                   # Set IP address of the device\n",
    "Card_Name       = 'PXI1Slot3'\n",
    "sGen            = RS_SMA100B.SMA100B(ip)\n",
    "pxie            = PXIe5170R(Card_Name)\n",
    "\n",
    "k = 2                                                               # coefficiente per prendere k*1000 punti \n",
    "                                                                    # con la scheda, dunque devo aumentare la pulse width e period\n",
    "\n",
    "pulse_freq      = 1.010e9\n",
    "amplitude       = -24                                               # Set the amplitude of the signal in dBm\n",
    "sample_rate     = 250e6                                             # Maximum Value: 250.0e6\n",
    "pulse_width     = k * 3e-6                                          # min 5ns                             \n",
    "pulse_delay     = 0\n",
    "pulse_period    = k * 5e-6                                          # min 20ns\n",
    "\n",
    "\n",
    "sGen.reset()\n",
    "sGen.clear()\n",
    "sGen.pul_gen_params(delay = pulse_delay, width = pulse_width, period = pulse_period)   # da capire quale pulse width\n",
    "sGen.pul_gen_mode('SING')\n",
    "sGen.pul_trig_mode('AUTO')\n",
    "sGen.RF_freq(pulse_freq)\n",
    "sGen.RF_lvl_ampl(amplitude)\n",
    "\n",
    "\n",
    "# parameters for the Acquisition Card\n",
    "pxie.voltage_range      = 2.0\n",
    "pxie.coupling           = 'AC' # or DC????\n",
    "pxie.num_pts            = 1000\n",
    "pxie.num_records        = 1\n",
    "pxie.ref_position       = 0\n",
    "pxie.sample_rate        = sample_rate                               # Maximum Value: 250.0e6"
   ]
  },
  {
   "cell_type": "code",
   "execution_count": null,
   "metadata": {},
   "outputs": [],
   "source": [
    "pxie.open()\n",
    "\n",
    "\n",
    "pota        = np.arange(amplitude, amplitude + 25 , 1)\n",
    "pula        = np.arange(pulse_freq, pulse_freq + 0.025e9, 0.001e9)\n",
    "amplidick   = {}\n",
    "counter     = 1\n",
    "print(str(len(str(len(pota)))))\n",
    "digits_p = \"{:0\"+str(len(str(len(pota))))+\"d}\"\n",
    "digits_f = \"{:0\"+str(len(str(len(pula))))+\"d}\"\n",
    "for p, pot in enumerate(pota):\n",
    "    \n",
    "    amplidick[f'p{digits_p.format(p)}'] = {'power_(dBm)': pot, 'freqs': {}}\n",
    "    sGen.RF_lvl_ampl(pot)\n",
    "\n",
    "    for i, pul in enumerate(pula):\n",
    "        \n",
    "        sGen.RF_freq(pul) # guarda come è definito, abbiamo messo la potenza e6   \n",
    "        sGen.pul_state(1)\n",
    "        sGen.RF_state(1)\n",
    "        time.sleep(0.1)\n",
    "        wfm = pxie.acquisition(sGen.pul_exe_sing_trig)[0]\n",
    "        sGen.pul_state(0)\n",
    "        sGen.RF_state(0)\n",
    "\n",
    "        print(counter*100/(len(pota)*len(pula)),'%')\n",
    "        counter += 1\n",
    "        amplidick[f'p{digits_p.format(p)}']['freqs'][f'f{digits_f.format(i)}'] = {'freq_(Hz)': pul, 'sweep': wfm[0].samples.tolist()}\n",
    "\n",
    "# SAVE DATA ON HDF5 FILE\n",
    "filename = 'amplitrix.h5'\n",
    "if os.path.exists(filename):\n",
    "  os.remove(filename)\n",
    "hdf5_write(amplidick, filename)"
   ]
  }
 ],
 "metadata": {
  "kernelspec": {
   "display_name": "Python 3.8.8 ('qubit2324': venv)",
   "language": "python",
   "name": "python3"
  },
  "language_info": {
   "name": "python",
   "version": "3.8.8"
  },
  "orig_nbformat": 4,
  "vscode": {
   "interpreter": {
    "hash": "577259b7f5a119e8af3aadcda0ea5d59c3a4b6ea5978608d4fd23299b3f53377"
   }
  }
 },
 "nbformat": 4,
 "nbformat_minor": 2
}
