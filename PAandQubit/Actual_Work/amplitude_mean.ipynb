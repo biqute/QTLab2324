{
 "cells": [
  {
   "cell_type": "code",
   "execution_count": null,
   "metadata": {},
   "outputs": [],
   "source": [
    "import h5py"
   ]
  },
  {
   "cell_type": "code",
   "execution_count": null,
   "metadata": {},
   "outputs": [],
   "source": [
    "def data_plot(y: np.array):\n",
    "    sample_rate = 250e6\n",
    "    x = np.arange(len(y))/\n",
    "    indices = find_peaks(y)\n",
    "    # plt.clf()\n",
    "    plt.grid()\n",
    "    plt.plot(x, y)\n",
    "    idx = indices[0]\n",
    "    plt.scatter(x[idx],y[idx], color = 'orange')\n",
    "    plt.show()"
   ]
  },
  {
   "cell_type": "code",
   "execution_count": null,
   "metadata": {},
   "outputs": [],
   "source": [
    "offset = 2.5e-6\n",
    "end = 5e-6\n",
    "\n",
    "with h5py.File('nonloso.hdf5', 'r'):"
   ]
  },
  {
   "cell_type": "code",
   "execution_count": null,
   "metadata": {},
   "outputs": [],
   "source": [
    "with h5py.File('nonloso.hdf5', 'r') as f:\n",
    "    for j in range(len(f)):\n",
    "        print(j)\n",
    "    # idx = 7\n",
    "        gp = f[str(j)]\n",
    "        dic = {}\n",
    "        for i, k in gp.items():\n",
    "            dic[i] = k[()]\n",
    "        freq = dic['freq']\n",
    "        data = dic['data']\n",
    "\n",
    "        data_plot(data)"
   ]
  }
 ],
 "metadata": {
  "kernelspec": {
   "display_name": "Python 3.8.8 ('qubit2324': venv)",
   "language": "python",
   "name": "python3"
  },
  "language_info": {
   "name": "python",
   "version": "3.8.8"
  },
  "orig_nbformat": 4,
  "vscode": {
   "interpreter": {
    "hash": "577259b7f5a119e8af3aadcda0ea5d59c3a4b6ea5978608d4fd23299b3f53377"
   }
  }
 },
 "nbformat": 4,
 "nbformat_minor": 2
}
