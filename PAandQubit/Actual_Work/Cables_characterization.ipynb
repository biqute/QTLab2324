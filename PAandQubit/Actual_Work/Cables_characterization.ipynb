{
 "cells": [
  {
   "cell_type": "markdown",
   "metadata": {},
   "source": [
    "# Cables Characterization"
   ]
  },
  {
   "cell_type": "code",
   "execution_count": 1,
   "metadata": {},
   "outputs": [],
   "source": [
    "%matplotlib widget\n",
    "import matplotlib.pyplot as plt\n",
    "import numpy as np\n",
    "import os\n",
    "import sys\n",
    "\n",
    "sys.path.insert(1, '..\\\\Instruments\\\\network\\\\RS_Signal_Generator')\n",
    "sys.path.insert(2, '..\\\\Instruments\\\\Acquisition_Card')\n",
    "sys.path.insert(4, '..\\\\HDF5')\n",
    "\n",
    "import RS_SMA100B\n",
    "from Card_Class import PXIe5170R\n",
    "from HDF5 import *"
   ]
  },
  {
   "cell_type": "code",
   "execution_count": 3,
   "metadata": {},
   "outputs": [
    {
     "name": "stdout",
     "output_type": "stream",
     "text": [
      "SMA100B:\tConnection successful!\n",
      "PXIe_5170R:    Connection successful!\n"
     ]
    }
   ],
   "source": [
    "SG_ip           = '192.168.40.15'                                   # Set IP address of the device\n",
    "Card_Name       = 'PXI1Slot3'\n",
    "\n",
    "sGen            = RS_SMA100B.SMA100B(ip = SG_ip)\n",
    "pxie            = PXIe5170R(resource_name = Card_Name)\n",
    "\n",
    "sGen.reset()\n",
    "sGen.clear()"
   ]
  },
  {
   "cell_type": "code",
   "execution_count": 5,
   "metadata": {},
   "outputs": [],
   "source": [
    "sample_rate     = 250e6                                             # Maximum Value: 250.0e6\n",
    "k = 4                                                               # coefficiente per prendere k*1000 punti \n",
    "\t\t\t\t\t\t\t\t\t\t\t\t\t\t\t\t\t# con la scheda, dunque devo aumentare la pulse width e period\n",
    "pulse_period    = k * 1e-6                                          # 4e-6 con 250e6 dà 1000 punti\n",
    "num_pts         = int(sample_rate * pulse_period)                   # min 5ns                             \n",
    "pulse_delay     = 0\n",
    "percent         = 5\n",
    "pulse_width     = pulse_period * (1 - percent/100)                  # min 20ns\n",
    "\n",
    "\n",
    "# parameters for the Signal Generator\n",
    "sGen.pul_gen_params(delay = pulse_delay, \n",
    "                    width = pulse_width, \n",
    "                    period = pulse_period)   # da capire quale pulse width\n",
    "sGen.pul_gen_mode('SING')\n",
    "sGen.pul_trig_mode('SING')\n",
    "\n",
    "\n",
    "# parameters for the Acquisition Card\n",
    "pxie.voltage_range      = 0.5\n",
    "pxie.coupling           = 'AC' # or DC????\n",
    "pxie.num_pts            = num_pts\n",
    "pxie.num_records        = 1\n",
    "pxie.ref_position       = 0\n",
    "pxie.sample_rate        = sample_rate                               # Maximum Value: 250.0e6"
   ]
  },
  {
   "cell_type": "code",
   "execution_count": 10,
   "metadata": {},
   "outputs": [
    {
     "name": "stdout",
     "output_type": "stream",
     "text": [
      "f39\t: 100 %"
     ]
    }
   ],
   "source": [
    "# -------------------------- #\n",
    "\n",
    "cable_name      = 'C_A'\n",
    "pulse_freq      = 1.010e9\n",
    "amp_min\t\t    = -20                                               # Set the amplitude of the signal in dBm\n",
    "amp_max         = 20\n",
    "amps            = np.arange(amp_min, amp_max, 1)\n",
    "\n",
    "# -------------------------- #\n",
    "\n",
    "trig_CH     = 0\n",
    "cable_CH    = 1\n",
    "\n",
    "sGen.RF_freq(pulse_freq) \n",
    "pxie.open(trigger_channel = str(trig_CH))\n",
    "\n",
    "data_dict   = {cable_name: {'freq_(Hz)': pulse_freq, 'powers': {}}}\n",
    "counter     = 1\n",
    "\n",
    "digits_f = \"{:0\"+str(len(str(len(amps))))+\"d}\"\n",
    "\n",
    "\n",
    "for i, amp in enumerate(amps):\n",
    "\t\n",
    "\tsGen.RF_lvl_ampl(amp)\n",
    "\tsGen.pul_state(1)\n",
    "\tsGen.RF_state(1)\n",
    "\twaveforms = pxie.acquisition(sGen.pul_exe_sing_trig)\n",
    "\tsweep = np.array(waveforms[cable_CH].samples.tolist())\n",
    "\t\n",
    "\tsGen.pul_state(0)\n",
    "\tsGen.RF_state(0)\n",
    "\n",
    "\tprint(f'\\rf{digits_f.format(i)}\t: {int(counter*100/len(amps))} %', end='')\n",
    "\tsys.stdout.flush()\n",
    "\tcounter += 1\n",
    "\tdata_dict['powers'][f'f{digits_f.format(i)}'] = {'power_(dBm)': amp, 'sweep': sweep}\n"
   ]
  },
  {
   "cell_type": "code",
   "execution_count": 11,
   "metadata": {},
   "outputs": [],
   "source": [
    "# SAVE DATA ON HDF5 FILE\n",
    "\n",
    "\n",
    "filename = 'cables.h5'\n",
    "# if os.path.exists(filename):\n",
    "#   os.remove(filename)\n",
    "save_dict_to_hdf5(data_dict, filename)"
   ]
  }
 ],
 "metadata": {
  "kernelspec": {
   "display_name": "Python 3.8.8 ('qubit2324': venv)",
   "language": "python",
   "name": "python3"
  },
  "language_info": {
   "codemirror_mode": {
    "name": "ipython",
    "version": 3
   },
   "file_extension": ".py",
   "mimetype": "text/x-python",
   "name": "python",
   "nbconvert_exporter": "python",
   "pygments_lexer": "ipython3",
   "version": "3.8.8"
  },
  "orig_nbformat": 4,
  "vscode": {
   "interpreter": {
    "hash": "577259b7f5a119e8af3aadcda0ea5d59c3a4b6ea5978608d4fd23299b3f53377"
   }
  }
 },
 "nbformat": 4,
 "nbformat_minor": 2
}
