{
 "cells": [
  {
   "cell_type": "code",
   "execution_count": 9,
   "metadata": {},
   "outputs": [
    {
     "name": "stdout",
     "output_type": "stream",
     "text": [
      "Connection successful!\n"
     ]
    },
    {
     "ename": "DriverError",
     "evalue": "-1074126845: Maximum time exceeded before the operation completed.\n\nDevice: PXI1Slot4\n",
     "output_type": "error",
     "traceback": [
      "\u001b[1;31m---------------------------------------------------------------------------\u001b[0m",
      "\u001b[1;31mDriverError\u001b[0m                               Traceback (most recent call last)",
      "Cell \u001b[1;32mIn[9], line 39\u001b[0m\n\u001b[0;32m     37\u001b[0m sGen\u001b[38;5;241m.\u001b[39mpul_exe_sing_trig() \u001b[38;5;66;03m# DA TESTARE\u001b[39;00m\n\u001b[0;32m     38\u001b[0m \u001b[38;5;66;03m# configure the acquisition\u001b[39;00m\n\u001b[1;32m---> 39\u001b[0m \u001b[38;5;28mprint\u001b[39m(\u001b[43mpxie\u001b[49m\u001b[38;5;241;43m.\u001b[39;49m\u001b[43macquisition\u001b[49m\u001b[43m(\u001b[49m\u001b[43m)\u001b[49m)\n",
      "File \u001b[1;32m~\\SynologyDrive\\Lab2023\\Qubit\\QTLab2324\\PAandQubit\\Instruments\\Acquisition_Card\\Card_Class.py:110\u001b[0m, in \u001b[0;36mPXIe5170R.acquisition\u001b[1;34m(self)\u001b[0m\n\u001b[0;32m    108\u001b[0m a\u001b[39m.\u001b[39mconfigure(session)\n\u001b[0;32m    109\u001b[0m \u001b[39mwith\u001b[39;00m session\u001b[39m.\u001b[39minitiate():\n\u001b[1;32m--> 110\u001b[0m     \u001b[39mreturn\u001b[39;00m session\u001b[39m.\u001b[39;49mchannels[\u001b[39m0\u001b[39;49m]\u001b[39m.\u001b[39;49mfetch()\n",
      "File \u001b[1;32mc:\\Users\\oper\\SynologyDrive\\Lab2023\\Qubit\\qubit2324\\lib\\site-packages\\niscope\\session.py:43\u001b[0m, in \u001b[0;36mivi_synchronized.<locals>.aux\u001b[1;34m(*xs, **kws)\u001b[0m\n\u001b[0;32m     41\u001b[0m session \u001b[39m=\u001b[39m xs[\u001b[39m0\u001b[39m]  \u001b[39m# parameter 0 is 'self' which is the session object\u001b[39;00m\n\u001b[0;32m     42\u001b[0m \u001b[39mwith\u001b[39;00m session\u001b[39m.\u001b[39mlock():\n\u001b[1;32m---> 43\u001b[0m     \u001b[39mreturn\u001b[39;00m f(\u001b[39m*\u001b[39;49mxs, \u001b[39m*\u001b[39;49m\u001b[39m*\u001b[39;49mkws)\n",
      "File \u001b[1;32mc:\\Users\\oper\\SynologyDrive\\Lab2023\\Qubit\\qubit2324\\lib\\site-packages\\niscope\\session.py:2126\u001b[0m, in \u001b[0;36m_SessionBase.fetch\u001b[1;34m(self, num_samples, relative_to, offset, record_number, num_records, timeout)\u001b[0m\n\u001b[0;32m   2123\u001b[0m     \u001b[39mif\u001b[39;00m num_samples \u001b[39mis\u001b[39;00m \u001b[39mNone\u001b[39;00m:\n\u001b[0;32m   2124\u001b[0m         num_samples \u001b[39m=\u001b[39m \u001b[39mself\u001b[39m\u001b[39m.\u001b[39mhorz_record_length\n\u001b[1;32m-> 2126\u001b[0m wfm, wfm_info \u001b[39m=\u001b[39m \u001b[39mself\u001b[39;49m\u001b[39m.\u001b[39;49m_fetch(num_samples, timeout)\n\u001b[0;32m   2128\u001b[0m \u001b[39mif\u001b[39;00m \u001b[39misinstance\u001b[39m(wfm, array\u001b[39m.\u001b[39mArrayType):\n\u001b[0;32m   2129\u001b[0m     mv \u001b[39m=\u001b[39m \u001b[39mmemoryview\u001b[39m(wfm)\n",
      "File \u001b[1;32mc:\\Users\\oper\\SynologyDrive\\Lab2023\\Qubit\\qubit2324\\lib\\site-packages\\niscope\\session.py:43\u001b[0m, in \u001b[0;36mivi_synchronized.<locals>.aux\u001b[1;34m(*xs, **kws)\u001b[0m\n\u001b[0;32m     41\u001b[0m session \u001b[39m=\u001b[39m xs[\u001b[39m0\u001b[39m]  \u001b[39m# parameter 0 is 'self' which is the session object\u001b[39;00m\n\u001b[0;32m     42\u001b[0m \u001b[39mwith\u001b[39;00m session\u001b[39m.\u001b[39mlock():\n\u001b[1;32m---> 43\u001b[0m     \u001b[39mreturn\u001b[39;00m f(\u001b[39m*\u001b[39;49mxs, \u001b[39m*\u001b[39;49m\u001b[39m*\u001b[39;49mkws)\n",
      "File \u001b[1;32mc:\\Users\\oper\\SynologyDrive\\Lab2023\\Qubit\\qubit2324\\lib\\site-packages\\niscope\\session.py:2561\u001b[0m, in \u001b[0;36m_SessionBase._fetch\u001b[1;34m(self, num_samples, timeout)\u001b[0m\n\u001b[0;32m   2470\u001b[0m \u001b[39m\u001b[39m\u001b[39mr\u001b[39m\u001b[39m'''_fetch\u001b[39;00m\n\u001b[0;32m   2471\u001b[0m \n\u001b[0;32m   2472\u001b[0m \u001b[39mReturns the waveform from a previously initiated acquisition that the\u001b[39;00m\n\u001b[1;32m   (...)\u001b[0m\n\u001b[0;32m   2558\u001b[0m \n\u001b[0;32m   2559\u001b[0m \u001b[39m'''\u001b[39;00m\n\u001b[0;32m   2560\u001b[0m timeout \u001b[39m=\u001b[39m _converters\u001b[39m.\u001b[39mconvert_timedelta_to_seconds_real64(timeout)\n\u001b[1;32m-> 2561\u001b[0m waveform, wfm_info \u001b[39m=\u001b[39m \u001b[39mself\u001b[39;49m\u001b[39m.\u001b[39;49m_interpreter\u001b[39m.\u001b[39;49mfetch(\u001b[39mself\u001b[39;49m\u001b[39m.\u001b[39;49m_repeated_capability, timeout, num_samples)\n\u001b[0;32m   2562\u001b[0m \u001b[39mreturn\u001b[39;00m waveform, wfm_info\n",
      "File \u001b[1;32mc:\\Users\\oper\\SynologyDrive\\Lab2023\\Qubit\\qubit2324\\lib\\site-packages\\niscope\\_library_interpreter.py:373\u001b[0m, in \u001b[0;36mLibraryInterpreter.fetch\u001b[1;34m(self, channel_list, timeout, num_samples)\u001b[0m\n\u001b[0;32m    371\u001b[0m wfm_info_ctype \u001b[39m=\u001b[39m _get_ctypes_pointer_for_buffer(library_type\u001b[39m=\u001b[39mwaveform_info\u001b[39m.\u001b[39mstruct_niScope_wfmInfo, size\u001b[39m=\u001b[39mwfm_info_size)  \u001b[39m# case B560\u001b[39;00m\n\u001b[0;32m    372\u001b[0m error_code \u001b[39m=\u001b[39m \u001b[39mself\u001b[39m\u001b[39m.\u001b[39m_library\u001b[39m.\u001b[39mniScope_Fetch(vi_ctype, channel_list_ctype, timeout_ctype, num_samples_ctype, waveform_ctype, wfm_info_ctype)\n\u001b[1;32m--> 373\u001b[0m errors\u001b[39m.\u001b[39;49mhandle_error(\u001b[39mself\u001b[39;49m, error_code, ignore_warnings\u001b[39m=\u001b[39;49m\u001b[39mFalse\u001b[39;49;00m, is_error_handling\u001b[39m=\u001b[39;49m\u001b[39mFalse\u001b[39;49;00m)\n\u001b[0;32m    374\u001b[0m \u001b[39mreturn\u001b[39;00m waveform_array, [waveform_info\u001b[39m.\u001b[39mWaveformInfo(wfm_info_ctype[i]) \u001b[39mfor\u001b[39;00m i \u001b[39min\u001b[39;00m \u001b[39mrange\u001b[39m(\u001b[39mself\u001b[39m\u001b[39m.\u001b[39mactual_num_wfms(channel_list))]\n",
      "File \u001b[1;32mc:\\Users\\oper\\SynologyDrive\\Lab2023\\Qubit\\qubit2324\\lib\\site-packages\\niscope\\errors.py:123\u001b[0m, in \u001b[0;36mhandle_error\u001b[1;34m(library_interpreter, code, ignore_warnings, is_error_handling)\u001b[0m\n\u001b[0;32m    120\u001b[0m     description \u001b[39m=\u001b[39m library_interpreter\u001b[39m.\u001b[39mget_error_description(code)\n\u001b[0;32m    122\u001b[0m \u001b[39mif\u001b[39;00m _is_error(code):\n\u001b[1;32m--> 123\u001b[0m     \u001b[39mraise\u001b[39;00m DriverError(code, description)\n\u001b[0;32m    125\u001b[0m \u001b[39massert\u001b[39;00m _is_warning(code)\n\u001b[0;32m    126\u001b[0m warnings\u001b[39m.\u001b[39mwarn(DriverWarning(code, description))\n",
      "\u001b[1;31mDriverError\u001b[0m: -1074126845: Maximum time exceeded before the operation completed.\n\nDevice: PXI1Slot4\n"
     ]
    }
   ],
   "source": [
    "import sys\n",
    "sys.path.insert(1, 'C:\\\\Users\\\\oper\\\\SynologyDrive\\\\Lab2023\\\\Qubit\\\\QTLab2324\\\\PAandQubit\\\\Instruments\\\\network\\\\Signal_Generator')\n",
    "sys.path.insert(2, 'C:\\\\Users\\\\oper\\\\SynologyDrive\\\\Lab2023\\\\Qubit\\\\QTLab2324\\\\PAandQubit\\\\Instruments\\\\Acquisition_Card')\n",
    "\n",
    "import RS_SMA100B\n",
    "from Card_Class import *\n",
    "\n",
    "\n",
    "ip = '192.168.40.15' # Set IP address of the device\n",
    "pulse_freq = 100e6 # Set frequency of the signal to send to the resonator\n",
    "amplitude = -25 # Set the amplitude of the signal in dBm\n",
    "pulse_time = 2 # 2 microsec\n",
    "sGen = RS_SMA100B.SMA100B(ip)\n",
    "\n",
    "pxie = PXIe5170R('PXI1Slot4')\n",
    "\n",
    "sGen.reset()\n",
    "sGen.clear()\n",
    "sGen.RF_freq(pulse_freq) # in Hz\n",
    "sGen.RF_lvl_ampl(amplitude)\n",
    "sGen.pul_gen_params(period = pulse_time*2, delay = 3e6, width = pulse_time)\n",
    "sGen.pul_gen_mode('SING')\n",
    "sGen.pul_trig_mode('SING')\n",
    "\n",
    "\n",
    "# configure parameters\n",
    "pxie.voltage_range = 2.0\n",
    "pxie.sample_rate = 2 * pulse_freq # f_sample > 2*f_max\n",
    "pxie.coupling = 'AC' # or DC????\n",
    "pxie.num_pts = 1000\n",
    "pxie.num_records = 1\n",
    "pxie.ref_position = 0\n",
    "\n",
    "sGen.pul_state(1)\n",
    "sGen.RF_state(1)\n",
    "\n",
    "\n",
    "# configure the acquisition\n",
    "pxie.acquisition()\n",
    "sGen.pul_exe_sing_trig() # DA TESTARE"
   ]
  },
  {
   "cell_type": "code",
   "execution_count": 14,
   "metadata": {},
   "outputs": [
    {
     "data": {
      "text/plain": [
       "3"
      ]
     },
     "execution_count": 14,
     "metadata": {},
     "output_type": "execute_result"
    }
   ],
   "source": [
    "\n",
    "\n",
    "\n",
    "\n",
    "# pxie.available\n",
    "\n",
    "# configure parameters\n",
    "pxie.voltage_range = 3\n",
    "pxie.voltage_range\n",
    "# pxie.sample_rate = 2 * pulse_freq # f_sample > 2*f_max\n",
    "# pxie.coupling = 'AC' # or DC????\n",
    "# pxie.num_pts = # ??\n",
    "# pxie.num_records = 1\n",
    "# pxie.ref_position = 50.0\n",
    "\n",
    "# configure the acquisition\n",
    "print(pxie.acquisition())"
   ]
  },
  {
   "cell_type": "code",
   "execution_count": null,
   "metadata": {},
   "outputs": [],
   "source": []
  }
 ],
 "metadata": {
  "kernelspec": {
   "display_name": "Python 3.8.8 ('qubit2324': venv)",
   "language": "python",
   "name": "python3"
  },
  "language_info": {
   "codemirror_mode": {
    "name": "ipython",
    "version": 3
   },
   "file_extension": ".py",
   "mimetype": "text/x-python",
   "name": "python",
   "nbconvert_exporter": "python",
   "pygments_lexer": "ipython3",
   "version": "3.8.8"
  },
  "vscode": {
   "interpreter": {
    "hash": "577259b7f5a119e8af3aadcda0ea5d59c3a4b6ea5978608d4fd23299b3f53377"
   }
  }
 },
 "nbformat": 4,
 "nbformat_minor": 2
}
