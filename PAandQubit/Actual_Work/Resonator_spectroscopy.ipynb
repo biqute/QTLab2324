{
 "cells": [
  {
   "cell_type": "code",
   "execution_count": null,
   "metadata": {},
   "outputs": [],
   "source": [
    "import RS_SMA100B\n",
    "\n",
    "ip = '' # Set IP address of the device\n",
    "pulse_freq = 0 # Set frequency of the signal to send to the resonator\n",
    "amplitude = -25 # Set the amplitude of the signal in dBm\n",
    "pulse_time = 2e-6 # 2 microsec\n",
    "sGen = RS_SMA100B.SMA100B(ip)\n",
    "\n",
    "sGen.reset()\n",
    "sGen.clear()\n",
    "sGen.RF_freq(pulse_freq) # in Hz\n",
    "sGen.RF_lvl_ampl(amplitude)\n",
    "sGen.pul_gen_params(period = pulse_time, delay = 0, width = pulse_time)\n",
    "sGen.pul_gen_mode('SING')\n",
    "sGen.pul_exe_sing_trig() # DA TESTARE\n",
    "\n",
    "sGen.pul_state(1)\n",
    "sGen.RF_state(1)"
   ]
  },
  {
   "cell_type": "code",
   "execution_count": null,
   "metadata": {},
   "outputs": [],
   "source": [
    "from Card_Class import *\n",
    "\n",
    "PXIe5170R('DeviceName')\n",
    "pxie.available\n",
    "\n",
    "# configure parameters\n",
    "pxie.voltage_range = # ??\n",
    "pxie.sample_rate = 2 * pulse_freq # f_sample > 2*f_max\n",
    "pxie.coupling = 'AC' # or DC????\n",
    "pxie.num_pts = # ??\n",
    "pxie.num_records = 1\n",
    "pxie.ref_position = 50.0\n",
    "\n",
    "# configure the acquisition\n",
    "print(pxie.acquisition())"
   ]
  }
 ],
 "metadata": {
  "language_info": {
   "name": "python"
  }
 },
 "nbformat": 4,
 "nbformat_minor": 2
}
