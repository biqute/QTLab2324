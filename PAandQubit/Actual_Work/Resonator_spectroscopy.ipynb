{
 "cells": [
  {
   "cell_type": "code",
   "execution_count": 8,
   "metadata": {},
   "outputs": [
    {
     "name": "stdout",
     "output_type": "stream",
     "text": [
      "Connection successful!\n"
     ]
    }
   ],
   "source": [
    "import sys\n",
    "sys.path.insert(1, 'C:\\\\Users\\\\oper\\\\SynologyDrive\\\\Lab2023\\\\Qubit\\\\QTLab2324\\\\PAandQubit\\\\Instruments\\\\network\\\\Signal_Generator')\n",
    "sys.path.insert(2, 'C:\\\\Users\\\\oper\\\\SynologyDrive\\\\Lab2023\\\\Qubit\\\\QTLab2324\\\\PAandQubit\\\\Instruments\\\\Acquisition_Card')\n",
    "\n",
    "import RS_SMA100B\n",
    "\n",
    "\n",
    "ip = '192.168.40.15' # Set IP address of the device\n",
    "pulse_freq = 2e9 # Set frequency of the signal to send to the resonator\n",
    "amplitude = -25 # Set the amplitude of the signal in dBm\n",
    "pulse_time = 2 # 2 microsec\n",
    "sGen = RS_SMA100B.SMA100B(ip)\n",
    "\n",
    "sGen.reset()\n",
    "sGen.clear()\n",
    "sGen.RF_freq(pulse_freq) # in Hz\n",
    "sGen.RF_lvl_ampl(amplitude)\n",
    "sGen.pul_gen_params(period = pulse_time*2, delay = 0, width = pulse_time)\n",
    "sGen.pul_gen_mode('SING')\n",
    "# sGen.pul_exe_sing_trig() # DA TESTARE\n",
    "\n",
    "# sGen.pul_state(1)\n",
    "# sGen.RF_state(1)"
   ]
  },
  {
   "cell_type": "code",
   "execution_count": 14,
   "metadata": {},
   "outputs": [
    {
     "data": {
      "text/plain": [
       "3"
      ]
     },
     "execution_count": 14,
     "metadata": {},
     "output_type": "execute_result"
    }
   ],
   "source": [
    "from Card_Class import *\n",
    "\n",
    "pxie = PXIe5170R('Pippo')\n",
    "\n",
    "# pxie.available\n",
    "\n",
    "# configure parameters\n",
    "pxie.voltage_range = 3\n",
    "pxie.voltage_range\n",
    "# pxie.sample_rate = 2 * pulse_freq # f_sample > 2*f_max\n",
    "# pxie.coupling = 'AC' # or DC????\n",
    "# pxie.num_pts = # ??\n",
    "# pxie.num_records = 1\n",
    "# pxie.ref_position = 50.0\n",
    "\n",
    "# configure the acquisition\n",
    "#print(pxie.acquisition())"
   ]
  },
  {
   "cell_type": "code",
   "execution_count": null,
   "metadata": {},
   "outputs": [],
   "source": []
  }
 ],
 "metadata": {
  "kernelspec": {
   "display_name": "Python 3.8.8 ('qubit2324': venv)",
   "language": "python",
   "name": "python3"
  },
  "language_info": {
   "codemirror_mode": {
    "name": "ipython",
    "version": 3
   },
   "file_extension": ".py",
   "mimetype": "text/x-python",
   "name": "python",
   "nbconvert_exporter": "python",
   "pygments_lexer": "ipython3",
   "version": "3.8.8"
  },
  "vscode": {
   "interpreter": {
    "hash": "577259b7f5a119e8af3aadcda0ea5d59c3a4b6ea5978608d4fd23299b3f53377"
   }
  }
 },
 "nbformat": 4,
 "nbformat_minor": 2
}
