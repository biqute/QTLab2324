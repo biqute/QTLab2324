{
 "cells": [
  {
   "cell_type": "markdown",
   "metadata": {},
   "source": [
    "# N.B.\n",
    "- [ ] Create a class to save data into a file\n",
    "- [ ] Check pauses into the codes and remove redundant ones (or add them if necessary).\n",
    "- [ ] With sGen.pul_trig_mode(**'AUTO'**) there aren't errors, instead with sGen.pul_trig_mode(**'SING'**) (theorically more correct) the code stops working.  \n",
    "    *-1074118634: The trigger has not occurred for the requested buffer, so data cannot be fetched relative to the trigger.*\n",
    "- [ ] controllare se ad alte frequenze se le oscillazioni si vedono anche sull'oscilloscopio\n",
    "- [ ] CHIEDERE RIGUARDO AI BATTIMENTI (ES SWEEP 39)\n",
    "\n"
   ]
  },
  {
   "cell_type": "code",
   "execution_count": 4,
   "metadata": {},
   "outputs": [],
   "source": [
    "# Uscita trigger dal signal generator: Pulse Sync\n",
    "\n",
    "%matplotlib widget\n",
    "import matplotlib.pyplot as plt\n",
    "import numpy as np\n",
    "import os\n",
    "import sys\n",
    "\n",
    "sys.path.insert(1, '..\\\\..\\\\Instruments\\\\network\\\\RS_Signal_Generator')\n",
    "sys.path.insert(2, '..\\\\..\\\\Instruments\\\\Acquisition_Card')\n",
    "sys.path.insert(3, '..\\\\..\\\\Instruments\\\\QuickSyn')\n",
    "sys.path.insert(4, '..\\\\..\\\\HDF5')\n",
    "\n",
    "import RS_SMA100B\n",
    "import FSL_0010\n",
    "from Card_Class import PXIe5170R\n",
    "from HDF5 import *"
   ]
  },
  {
   "cell_type": "code",
   "execution_count": 5,
   "metadata": {},
   "outputs": [
    {
     "name": "stdout",
     "output_type": "stream",
     "text": [
      "FSL_0010:\tConnection successful!\n",
      "SMA100B:\tConnection successful!\n",
      "PXIe_5170R:    Connection successful!\n"
     ]
    }
   ],
   "source": [
    "QSyn_port       = 'COM35'\n",
    "SG_ip           = '192.168.40.15'                                   # Set IP address of the device\n",
    "Card_Name       = 'PXI1Slot3'\n",
    "\n",
    "fsl             = FSL_0010.FSL10_synthesizer(device_address = QSyn_port)\n",
    "sGen            = RS_SMA100B.SMA100B(ip = SG_ip)\n",
    "pxie            = PXIe5170R(resource_name = Card_Name)"
   ]
  },
  {
   "cell_type": "code",
   "execution_count": 31,
   "metadata": {},
   "outputs": [
    {
     "data": {
      "text/plain": [
       "'FSL_0010: Frequency set to 2 GHz.'"
      ]
     },
     "execution_count": 31,
     "metadata": {},
     "output_type": "execute_result"
    }
   ],
   "source": [
    "pulse_f_min     = 2.010e9\n",
    "# pulse_f_max\t\t= \n",
    "\n",
    "amplitude\t\t    = -6                                               # Set the amplitude of the signal in dBm\n",
    "# amp_max\t\t\t= \n",
    "\n",
    "\n",
    "sample_rate     = 250e6                                             # Maximum Value: 250.0e6\n",
    "k = 4                                                               # coefficiente per prendere k*1000 punti \n",
    "\t\t\t\t\t\t\t\t\t\t\t\t\t\t\t\t\t# con la scheda, dunque devo aumentare la pulse width e period\n",
    "pulse_period    = k * 1e-6                                          # 4e-6 con 250e6 dà 1000 punti\n",
    "num_pts         = int(sample_rate * pulse_period)                   # min 5ns                             \n",
    "pulse_delay     = 0\n",
    "\n",
    "percent         = 5\n",
    "pulse_width     = pulse_period * (1 - percent/100)                  # min 20ns\n",
    "\n",
    "\n",
    "sGen.reset()\n",
    "sGen.clear()\n",
    "sGen.pul_gen_params(delay = pulse_delay, width = pulse_width, period = pulse_period)   # da capire quale pulse width\n",
    "sGen.pul_gen_mode('SING')\n",
    "sGen.pul_trig_mode('SING')\n",
    "\n",
    "\n",
    "# parameters for the Acquisition Card\n",
    "pxie.voltage_range      = 0.5\n",
    "pxie.coupling           = 'AC' # or DC????\n",
    "pxie.num_pts            = num_pts\n",
    "pxie.num_records        = 1\n",
    "pxie.ref_position       = 0\n",
    "pxie.sample_rate        = sample_rate                               # Maximum Value: 250.0e6\n",
    "\n",
    "\n",
    "# FSL-0010\n",
    "fsl_freq = 2\n",
    "fsl.set_frequency(fsl_freq) # GHz"
   ]
  },
  {
   "cell_type": "code",
   "execution_count": 32,
   "metadata": {},
   "outputs": [
    {
     "name": "stdout",
     "output_type": "stream",
     "text": [
      "f09\t: 100 %"
     ]
    },
    {
     "data": {
      "text/plain": [
       "'RF set to OFF'"
      ]
     },
     "execution_count": 32,
     "metadata": {},
     "output_type": "execute_result"
    }
   ],
   "source": [
    "trig_CH = 3\n",
    "I_CH\t= 2\n",
    "Q_CH\t= 0\n",
    "\n",
    "\n",
    "fsl.set_output('ON')\n",
    "pxie.open(trigger_channel = str(trig_CH))\n",
    "\n",
    "pula        = np.arange(pulse_f_min, pulse_f_min + 0.010e9, 0.001e9)\n",
    "\n",
    "data_dict   = {'power_(dBm)': amplitude, 'freqs': {}}\n",
    "counter     = 1\n",
    "\n",
    "digits_f = \"{:0\"+str(len(str(len(pula))))+\"d}\"\n",
    "sGen.RF_lvl_ampl(amplitude)\n",
    "\n",
    "for i, pul in enumerate(pula):\n",
    "\t\n",
    "\tsGen.RF_freq(pul) \n",
    "\tsGen.pul_state(1)\n",
    "\tsGen.RF_state(1)\n",
    "\twaveforms = pxie.acquisition(sGen.pul_exe_sing_trig)\n",
    "\tI = np.array(waveforms[I_CH].samples.tolist())\n",
    "\tQ = np.array(waveforms[Q_CH].samples.tolist())\n",
    "\t# if p == 0 and i == 0:\n",
    "\n",
    "\t# \tcln_pts = 30                # clean points for I-Q plane\n",
    "\t# \tplt.clf()\n",
    "\t# \tplt.scatter(Q[cln_pts:-cln_pts],I[cln_pts:-cln_pts])\n",
    "\t# \tplt.show()\n",
    "\t\n",
    "\t\n",
    "\tsGen.pul_state(0)\n",
    "\tsGen.RF_state(0)\n",
    "\n",
    "\tprint(f'\\rf{digits_f.format(i)}\t: {int(counter*100/len(pula))} %', end='')\n",
    "\tsys.stdout.flush()\n",
    "\tcounter += 1\n",
    "\tdata_dict['freqs'][f'f{digits_f.format(i)}'] = {'freq_(Hz)': pul, 'I': I, 'Q': Q}\n",
    "fsl.set_output('OFF')"
   ]
  },
  {
   "cell_type": "code",
   "execution_count": 33,
   "metadata": {},
   "outputs": [],
   "source": [
    "# SAVE DATA ON HDF5 FILE\n",
    "filename = f'Mixer_1135_{fsl_freq}GHz.h5'\n",
    "if os.path.exists(filename):\n",
    "  os.remove(filename)\n",
    "save_dict_to_hdf5(data_dict, filename)"
   ]
  },
  {
   "cell_type": "markdown",
   "metadata": {},
   "source": [
    "## mLa scelta del tappo influiva leggermente sull'ampiezza letta."
   ]
  },
  {
   "cell_type": "code",
   "execution_count": 2,
   "metadata": {},
   "outputs": [
    {
     "data": {
      "text/plain": [
       "-20.0"
      ]
     },
     "execution_count": 2,
     "metadata": {},
     "output_type": "execute_result"
    }
   ],
   "source": [
    "import Tools as T\n",
    "\n",
    "T.mV_to_dBm(31.622776601683793)"
   ]
  }
 ],
 "metadata": {
  "kernelspec": {
   "display_name": "Python 3.8.8 ('qubit2324': venv)",
   "language": "python",
   "name": "python3"
  },
  "language_info": {
   "codemirror_mode": {
    "name": "ipython",
    "version": 3
   },
   "file_extension": ".py",
   "mimetype": "text/x-python",
   "name": "python",
   "nbconvert_exporter": "python",
   "pygments_lexer": "ipython3",
   "version": "3.8.8"
  },
  "vscode": {
   "interpreter": {
    "hash": "577259b7f5a119e8af3aadcda0ea5d59c3a4b6ea5978608d4fd23299b3f53377"
   }
  }
 },
 "nbformat": 4,
 "nbformat_minor": 2
}
