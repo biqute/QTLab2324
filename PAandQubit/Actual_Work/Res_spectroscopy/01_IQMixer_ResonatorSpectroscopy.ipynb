{
 "cells": [
  {
   "cell_type": "markdown",
   "metadata": {},
   "source": [
    "# N.B.\n",
    "- [ ] Create a class to save data into a file\n",
    "- [ ] Check pauses into the codes and remove redundant ones (or add them if necessary).\n",
    "- [ ] With sGen.pul_trig_mode(**'AUTO'**) there aren't errors, instead with sGen.pul_trig_mode(**'SING'**) (theorically more correct) the code stops working.  \n",
    "    *-1074118634: The trigger has not occurred for the requested buffer, so data cannot be fetched relative to the trigger.*\n",
    "- [ ] controllare se ad alte frequenze se le oscillazioni si vedono anche sull'oscilloscopio\n",
    "- [ ] CHIEDERE RIGUARDO AI BATTIMENTI (ES SWEEP 39)\n",
    "\n"
   ]
  },
  {
   "cell_type": "code",
   "execution_count": 4,
   "metadata": {},
   "outputs": [],
   "source": [
    "# Uscita trigger dal signal generator: Pulse Sync\n",
    "\n",
    "%matplotlib widget\n",
    "import matplotlib.pyplot as plt\n",
    "import numpy as np\n",
    "import os\n",
    "import sys\n",
    "\n",
    "sys.path.insert(1, '..\\\\..\\\\Instruments\\\\network\\\\RS_Signal_Generator')\n",
    "sys.path.insert(2, '..\\\\..\\\\Instruments\\\\Acquisition_Card')\n",
    "sys.path.insert(3, '..\\\\..\\\\Instruments\\\\QuickSyn')\n",
    "sys.path.insert(4, '..\\\\..\\\\HDF5')\n",
    "\n",
    "import RS_SMA100B\n",
    "import FSL_0010\n",
    "from Card_Class import PXIe5170R\n",
    "from HDF5 import *"
   ]
  },
  {
   "cell_type": "code",
   "execution_count": 7,
   "metadata": {},
   "outputs": [
    {
     "name": "stdout",
     "output_type": "stream",
     "text": [
      "FSL_0010:\tConnection successful!\n",
      "SMA100B:\tConnection successful!\n",
      "PXIe_5170R:    Connection successful!\n"
     ]
    }
   ],
   "source": [
    "QSyn_port       = 'COM35'\n",
    "SG_ip           = '192.168.40.15'                                   # Set IP address of the device\n",
    "Card_Name       = 'PXI1Slot3'\n",
    "\n",
    "fsl             = FSL_0010.FSL10_synthesizer(device_address = QSyn_port)\n",
    "sGen            = RS_SMA100B.SMA100B(ip = SG_ip)\n",
    "pxie            = PXIe5170R(resource_name = Card_Name)"
   ]
  },
  {
   "cell_type": "code",
   "execution_count": 8,
   "metadata": {},
   "outputs": [
    {
     "data": {
      "text/plain": [
       "'FSL_0010: Frequency set to 1 GHz.'"
      ]
     },
     "execution_count": 8,
     "metadata": {},
     "output_type": "execute_result"
    }
   ],
   "source": [
    "pulse_f_min     = 1.010e9\n",
    "# pulse_f_max\t\t= \n",
    "\n",
    "amplitude\t\t    = -30                                               # Set the amplitude of the signal in dBm\n",
    "# amp_max\t\t\t= \n",
    "\n",
    "\n",
    "sample_rate     = 250e6                                             # Maximum Value: 250.0e6\n",
    "k = 4                                                               # coefficiente per prendere k*1000 punti \n",
    "\t\t\t\t\t\t\t\t\t\t\t\t\t\t\t\t\t# con la scheda, dunque devo aumentare la pulse width e period\n",
    "pulse_period    = k * 1e-6                                          # 4e-6 con 250e6 dà 1000 punti\n",
    "num_pts         = int(sample_rate * pulse_period)                   # min 5ns                             \n",
    "pulse_delay     = 0\n",
    "\n",
    "percent         = 5\n",
    "pulse_width     = pulse_period * (1 - percent/100)                  # min 20ns\n",
    "\n",
    "\n",
    "sGen.reset()\n",
    "sGen.clear()\n",
    "sGen.pul_gen_params(delay = pulse_delay, width = pulse_width, period = pulse_period)   # da capire quale pulse width\n",
    "sGen.pul_gen_mode('SING')\n",
    "sGen.pul_trig_mode('SING')\n",
    "\n",
    "\n",
    "# parameters for the Acquisition Card\n",
    "pxie.voltage_range      = 0.5\n",
    "pxie.coupling           = 'AC' # or DC????\n",
    "pxie.num_pts            = num_pts\n",
    "pxie.num_records        = 1\n",
    "pxie.ref_position       = 0\n",
    "pxie.sample_rate        = sample_rate                               # Maximum Value: 250.0e6\n",
    "\n",
    "\n",
    "# FSL-0010\n",
    "fsl.set_frequency(1) # GHz"
   ]
  },
  {
   "cell_type": "code",
   "execution_count": 9,
   "metadata": {},
   "outputs": [
    {
     "ename": "AttributeError",
     "evalue": "'int' object has no attribute 'encode'",
     "output_type": "error",
     "traceback": [
      "\u001b[1;31m---------------------------------------------------------------------------\u001b[0m",
      "\u001b[1;31mAttributeError\u001b[0m                            Traceback (most recent call last)",
      "Cell \u001b[1;32mIn[9], line 7\u001b[0m\n\u001b[0;32m      3\u001b[0m Q_CH\t\u001b[38;5;241m=\u001b[39m \u001b[38;5;241m0\u001b[39m\n\u001b[0;32m      6\u001b[0m fsl\u001b[38;5;241m.\u001b[39mset_output(\u001b[38;5;124m'\u001b[39m\u001b[38;5;124mON\u001b[39m\u001b[38;5;124m'\u001b[39m)\n\u001b[1;32m----> 7\u001b[0m \u001b[43mpxie\u001b[49m\u001b[38;5;241;43m.\u001b[39;49m\u001b[43mopen\u001b[49m\u001b[43m(\u001b[49m\u001b[43mtrigger_channel\u001b[49m\u001b[43m \u001b[49m\u001b[38;5;241;43m=\u001b[39;49m\u001b[43m \u001b[49m\u001b[43mtrig_CH\u001b[49m\u001b[43m)\u001b[49m\n\u001b[0;32m      9\u001b[0m pula        \u001b[38;5;241m=\u001b[39m np\u001b[38;5;241m.\u001b[39marange(pulse_f_min, pulse_f_min \u001b[38;5;241m+\u001b[39m \u001b[38;5;241m0.010e9\u001b[39m, \u001b[38;5;241m0.001e9\u001b[39m)\n\u001b[0;32m     11\u001b[0m data_dict   \u001b[38;5;241m=\u001b[39m {\u001b[38;5;124m'\u001b[39m\u001b[38;5;124mpower_(dBm)\u001b[39m\u001b[38;5;124m'\u001b[39m: amplitude, \u001b[38;5;124m'\u001b[39m\u001b[38;5;124mfreqs\u001b[39m\u001b[38;5;124m'\u001b[39m: {}}\n",
      "File \u001b[1;32mc:\\Users\\oper\\SynologyDrive\\Lab2023\\Qubit\\QTLab2324\\PAandQubit\\Instruments\\Acquisition_Card\\Card_Class.py:147\u001b[0m, in \u001b[0;36mPXIe5170R.open\u001b[1;34m(self, trigger_channel)\u001b[0m\n\u001b[0;32m    138\u001b[0m \u001b[39mself\u001b[39m\u001b[39m.\u001b[39m_session\u001b[39m.\u001b[39mconfigure_horizontal_timing(\n\u001b[0;32m    139\u001b[0m     min_sample_rate     \u001b[39m=\u001b[39m \u001b[39mself\u001b[39m\u001b[39m.\u001b[39msample_rate, \n\u001b[0;32m    140\u001b[0m     min_num_pts         \u001b[39m=\u001b[39m \u001b[39mself\u001b[39m\u001b[39m.\u001b[39m_num_pts, \n\u001b[1;32m   (...)\u001b[0m\n\u001b[0;32m    143\u001b[0m     enforce_realtime    \u001b[39m=\u001b[39m \u001b[39mTrue\u001b[39;00m\n\u001b[0;32m    144\u001b[0m     )\n\u001b[0;32m    146\u001b[0m a \u001b[39m=\u001b[39m edge_trigger(trigger_channel)\n\u001b[1;32m--> 147\u001b[0m a\u001b[39m.\u001b[39;49mconfigure(\u001b[39mself\u001b[39;49m\u001b[39m.\u001b[39;49m_session)\n",
      "File \u001b[1;32mc:\\Users\\oper\\SynologyDrive\\Lab2023\\Qubit\\QTLab2324\\PAandQubit\\Instruments\\Acquisition_Card\\Card_Class.py:36\u001b[0m, in \u001b[0;36medge_trigger.configure\u001b[1;34m(self, session)\u001b[0m\n\u001b[0;32m     35\u001b[0m \u001b[39mdef\u001b[39;00m \u001b[39mconfigure\u001b[39m(\u001b[39mself\u001b[39m, session: ni\u001b[39m.\u001b[39mSession):\n\u001b[1;32m---> 36\u001b[0m     session\u001b[39m.\u001b[39;49mconfigure_trigger_edge(\n\u001b[0;32m     37\u001b[0m         trigger_source      \u001b[39m=\u001b[39;49m \u001b[39mself\u001b[39;49m\u001b[39m.\u001b[39;49m_trig_src,\n\u001b[0;32m     38\u001b[0m         trigger_coupling    \u001b[39m=\u001b[39;49m \u001b[39mself\u001b[39;49m\u001b[39m.\u001b[39;49m_coupling,\n\u001b[0;32m     39\u001b[0m         level               \u001b[39m=\u001b[39;49m \u001b[39mself\u001b[39;49m\u001b[39m.\u001b[39;49m_level,\n\u001b[0;32m     40\u001b[0m         slope               \u001b[39m=\u001b[39;49m \u001b[39mself\u001b[39;49m\u001b[39m.\u001b[39;49m_slope,\n\u001b[0;32m     41\u001b[0m         holdoff             \u001b[39m=\u001b[39;49m \u001b[39mself\u001b[39;49m\u001b[39m.\u001b[39;49m_holdoff,\n\u001b[0;32m     42\u001b[0m         delay               \u001b[39m=\u001b[39;49m \u001b[39mself\u001b[39;49m\u001b[39m.\u001b[39;49m_delay \n\u001b[0;32m     43\u001b[0m     )\n",
      "File \u001b[1;32mc:\\Users\\oper\\SynologyDrive\\Lab2023\\Qubit\\qubit2324\\lib\\site-packages\\niscope\\session.py:43\u001b[0m, in \u001b[0;36mivi_synchronized.<locals>.aux\u001b[1;34m(*xs, **kws)\u001b[0m\n\u001b[0;32m     41\u001b[0m session \u001b[39m=\u001b[39m xs[\u001b[39m0\u001b[39m]  \u001b[39m# parameter 0 is 'self' which is the session object\u001b[39;00m\n\u001b[0;32m     42\u001b[0m \u001b[39mwith\u001b[39;00m session\u001b[39m.\u001b[39mlock():\n\u001b[1;32m---> 43\u001b[0m     \u001b[39mreturn\u001b[39;00m f(\u001b[39m*\u001b[39;49mxs, \u001b[39m*\u001b[39;49m\u001b[39m*\u001b[39;49mkws)\n",
      "File \u001b[1;32mc:\\Users\\oper\\SynologyDrive\\Lab2023\\Qubit\\qubit2324\\lib\\site-packages\\niscope\\session.py:4470\u001b[0m, in \u001b[0;36mSession.configure_trigger_edge\u001b[1;34m(self, trigger_source, level, trigger_coupling, slope, holdoff, delay)\u001b[0m\n\u001b[0;32m   4468\u001b[0m holdoff \u001b[39m=\u001b[39m _converters\u001b[39m.\u001b[39mconvert_timedelta_to_seconds_real64(holdoff)\n\u001b[0;32m   4469\u001b[0m delay \u001b[39m=\u001b[39m _converters\u001b[39m.\u001b[39mconvert_timedelta_to_seconds_real64(delay)\n\u001b[1;32m-> 4470\u001b[0m \u001b[39mself\u001b[39;49m\u001b[39m.\u001b[39;49m_interpreter\u001b[39m.\u001b[39;49mconfigure_trigger_edge(trigger_source, level, slope, trigger_coupling, holdoff, delay)\n",
      "File \u001b[1;32mc:\\Users\\oper\\SynologyDrive\\Lab2023\\Qubit\\qubit2324\\lib\\site-packages\\niscope\\_library_interpreter.py:258\u001b[0m, in \u001b[0;36mLibraryInterpreter.configure_trigger_edge\u001b[1;34m(self, trigger_source, level, slope, trigger_coupling, holdoff, delay)\u001b[0m\n\u001b[0;32m    256\u001b[0m \u001b[39mdef\u001b[39;00m \u001b[39mconfigure_trigger_edge\u001b[39m(\u001b[39mself\u001b[39m, trigger_source, level, slope, trigger_coupling, holdoff, delay):  \u001b[39m# noqa: N802\u001b[39;00m\n\u001b[0;32m    257\u001b[0m     vi_ctype \u001b[39m=\u001b[39m _visatype\u001b[39m.\u001b[39mViSession(\u001b[39mself\u001b[39m\u001b[39m.\u001b[39m_vi)  \u001b[39m# case S110\u001b[39;00m\n\u001b[1;32m--> 258\u001b[0m     trigger_source_ctype \u001b[39m=\u001b[39m ctypes\u001b[39m.\u001b[39mcreate_string_buffer(trigger_source\u001b[39m.\u001b[39;49mencode(\u001b[39mself\u001b[39m\u001b[39m.\u001b[39m_encoding))  \u001b[39m# case C020\u001b[39;00m\n\u001b[0;32m    259\u001b[0m     level_ctype \u001b[39m=\u001b[39m _visatype\u001b[39m.\u001b[39mViReal64(level)  \u001b[39m# case S150\u001b[39;00m\n\u001b[0;32m    260\u001b[0m     slope_ctype \u001b[39m=\u001b[39m _visatype\u001b[39m.\u001b[39mViInt32(slope\u001b[39m.\u001b[39mvalue)  \u001b[39m# case S130\u001b[39;00m\n",
      "\u001b[1;31mAttributeError\u001b[0m: 'int' object has no attribute 'encode'"
     ]
    }
   ],
   "source": [
    "trig_CH = 3\n",
    "I_CH\t= 3\n",
    "Q_CH\t= 0\n",
    "\n",
    "\n",
    "fsl.set_output('ON')\n",
    "pxie.open(trigger_channel = str(trig_CH))\n",
    "\n",
    "pula        = np.arange(pulse_f_min, pulse_f_min + 0.010e9, 0.001e9)\n",
    "\n",
    "data_dict   = {'power_(dBm)': amplitude, 'freqs': {}}\n",
    "counter     = 1\n",
    "\n",
    "digits_f = \"{:0\"+str(len(str(len(pula))))+\"d}\"\n",
    "sGen.RF_lvl_ampl(pot)\n",
    "\n",
    "for i, pul in enumerate(pula):\n",
    "\t\n",
    "\tsGen.RF_freq(pul) \n",
    "\tsGen.pul_state(1)\n",
    "\tsGen.RF_state(1)\n",
    "\twaveforms = pxie.acquisition(sGen.pul_exe_sing_trig)\n",
    "\tI = np.array(waveforms[I_CH].samples.tolist())\n",
    "\tQ = np.array(waveforms[Q_CH].samples.tolist())\n",
    "\t# if p == 0 and i == 0:\n",
    "\n",
    "\t# \tcln_pts = 30                # clean points for I-Q plane\n",
    "\t# \tplt.clf()\n",
    "\t# \tplt.scatter(Q[cln_pts:-cln_pts],I[cln_pts:-cln_pts])\n",
    "\t# \tplt.show()\n",
    "\t\n",
    "\t\n",
    "\tsGen.pul_state(0)\n",
    "\tsGen.RF_state(0)\n",
    "\n",
    "\tprint(f'\\rf{digits_f.format(i)}\t: {int(counter*100/len(pula))} %', end='')\n",
    "\tsys.stdout.flush()\n",
    "\tcounter += 1\n",
    "\tdata_dict['freqs'][f'f{digits_f.format(i)}'] = {'freq_(Hz)': pul, 'I': I, 'Q': Q}\n",
    "fsl.set_output('OFF')"
   ]
  },
  {
   "cell_type": "code",
   "execution_count": null,
   "metadata": {},
   "outputs": [],
   "source": [
    "# SAVE DATA ON HDF5 FILE\n",
    "filename = 'B_tappoI.h5'\n",
    "if os.path.exists(filename):\n",
    "  os.remove(filename)\n",
    "save_dict_to_hdf5(data_dict, filename)"
   ]
  }
 ],
 "metadata": {
  "kernelspec": {
   "display_name": "Python 3.8.8 ('qubit2324': venv)",
   "language": "python",
   "name": "python3"
  },
  "language_info": {
   "codemirror_mode": {
    "name": "ipython",
    "version": 3
   },
   "file_extension": ".py",
   "mimetype": "text/x-python",
   "name": "python",
   "nbconvert_exporter": "python",
   "pygments_lexer": "ipython3",
   "version": "3.8.8"
  },
  "vscode": {
   "interpreter": {
    "hash": "577259b7f5a119e8af3aadcda0ea5d59c3a4b6ea5978608d4fd23299b3f53377"
   }
  }
 },
 "nbformat": 4,
 "nbformat_minor": 2
}
