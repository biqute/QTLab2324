{
 "cells": [
  {
   "cell_type": "markdown",
   "metadata": {},
   "source": [
    "## TUTTI I NODI VENGONO AL BURST\n",
    "Il burst non ci permetteva di shiftare a piacemento i vagoni di impulsi.\n",
    "\n",
    "Abbiamo impostato il trigger dell'awg sul canale sync (non più sul canale 2)\n",
    "successivamente premendo su trigger abbiamo sincronizzato il trigger rispetto al canale 1 (Sync src ---> CH1,  sync ---> ON)\n"
   ]
  },
  {
   "cell_type": "code",
   "execution_count": 1,
   "metadata": {},
   "outputs": [],
   "source": [
    "%reload_ext autoreload\n",
    "%autoreload 2"
   ]
  },
  {
   "cell_type": "code",
   "execution_count": 2,
   "metadata": {},
   "outputs": [
    {
     "name": "stdout",
     "output_type": "stream",
     "text": [
      "FSL_0010:\tConnection successful!\n",
      "SMA100B:\tConnection successful!\n",
      "AWG_KS33500B:\tConnection successful!\n",
      "PXIe_5170R:\tConnection successful!\n"
     ]
    }
   ],
   "source": [
    "%matplotlib widget\n",
    "import pyvisa\n",
    "import matplotlib.pyplot as plt\n",
    "import numpy as np\n",
    "import time\n",
    "from scipy.optimize import curve_fit\n",
    "\n",
    "\n",
    "import sys \n",
    "sys.path.insert(0, r'C:\\Users\\oper\\SynologyDrive\\Lab2023\\Qubit\\QTLab2324\\PAandQubit\\Actual_Work')\n",
    "sys.path.insert(1, r'C:\\Users\\oper\\SynologyDrive\\Lab2023\\Qubit\\QTLab2324\\PAandQubit\\Instruments\\network\\RS_Signal_Generator')\n",
    "\n",
    "sys.path.insert(2, r'C:\\Users\\oper\\SynologyDrive\\Lab2023\\Qubit\\QTLab2324\\PAandQubit\\Instruments\\QuickSyn')\n",
    "sys.path.insert(3, r'C:\\Users\\oper\\SynologyDrive\\Lab2023\\Qubit\\QTLab2324\\PAandQubit\\Instruments\\Acquisition_Card')\n",
    "sys.path.insert(4, r'C:\\Users\\oper\\SynologyDrive\\Lab2023\\Qubit\\QTLab2324\\PAandQubit\\Instruments\\network\\AWG')\n",
    "\n",
    "import FunFit as FF\n",
    "import Tuls as Ts\n",
    "\n",
    "\n",
    "import RS_SMA100B\n",
    "from AWG_KS_33500B import KS_33500B\n",
    "import FSL_0010\n",
    "from Card_Class import PXIe5170R\n",
    "\n",
    "QSyn_port       = 'COM37'\n",
    "SG_ip           = '192.168.40.15'                                  \n",
    "Card_Name       = 'PXI1Slot3'\n",
    "\n",
    "fsl             = FSL_0010.FSL10_synthesizer(device_address = QSyn_port)\n",
    "sGen            = RS_SMA100B.SMA100B(ip = SG_ip)\n",
    "augh            = KS_33500B()\n",
    "pxie            = PXIe5170R(resource_name = Card_Name)\n"
   ]
  },
  {
   "cell_type": "markdown",
   "metadata": {},
   "source": [
    "# ATTIVARE LA BURST MODE!!!\n",
    "\n",
    "comando da remoto a pagina 141 di: https://www.keysight.com/it/en/assets/9018-03714/service-manuals/9018-03714.pdf?success=true#page=297&zoom=100,86,62\n",
    "\n",
    "1 ciclo ?\n",
    "\n",
    "trigger dal'awg e segnale (cioè i due canali) devono avere stesso periodo."
   ]
  },
  {
   "cell_type": "markdown",
   "metadata": {},
   "source": [
    "### BURST MODE\n",
    "Resettavamo la fase (il delay) tra i due canali ma si settavano in maniera differente ad ogni refresh, seppur attuato senza cambiare alcun parametro dell'awg. Per ovviare a ciò, assicurarsi di attivare la burst mode."
   ]
  },
  {
   "cell_type": "code",
   "execution_count": 3,
   "metadata": {},
   "outputs": [],
   "source": [
    "# Signal Generator\n",
    "sg_freq         = 5.729e9   # Hz\n",
    "sg_level        = 6         # dBm\n",
    "sg_period       = 100e-6    # s\n",
    "sg_width        = 20e-6    # s\n",
    "sg_delay        = 0e-6         # s\n",
    "sg_pulse_mode   = 'SING'\n",
    "sg_trig_mode    = 'ESIN'\n",
    "sg_ref_freq     = 'EXT' # DA AGGIUNGERE ALLA LIBRERIA\n",
    "\n",
    "# AWG - Signal\n",
    "a1_freq         = 1e3       # Hz\n",
    "a1_ampl         = 6         # dBm\n",
    "a1_offset       = 400e-3    # V\n",
    "a1_phase        = -20e-6   # s\n",
    "a1_width        = 10e-6      # s\n",
    "a1_fun          = 'PULS'\n",
    "\n",
    "# AWG - Trigger\n",
    "a2_freq         = a1_freq   # Hz\n",
    "a2_ampl         = 1         # Vpp\n",
    "a2_offset       = 0         # V\n",
    "a2_phase        = 0         # s\n",
    "a2_width        = 25e-6     # s\n",
    "a2_fun          = 'PULS'"
   ]
  },
  {
   "cell_type": "code",
   "execution_count": 4,
   "metadata": {},
   "outputs": [],
   "source": [
    "# QuickSyn\n",
    "qs_freq         = sg_freq\n",
    "fsl.set_frequency(qs_freq)\n",
    "fsl.set_ref_source('INT')\n",
    "fsl.set_output('ON')\n",
    "fsl.set_ref_out('ON')\n",
    "\n",
    "augh.ref_10MHz_src('EXT')"
   ]
  },
  {
   "cell_type": "code",
   "execution_count": 6,
   "metadata": {},
   "outputs": [],
   "source": [
    "sGen.RF_freq(sg_freq)\n",
    "sGen.RF_lvl_ampl(sg_level)\n",
    "sGen.pul_gen_mode(sg_pulse_mode)\n",
    "sGen.pul_trig_mode(sg_trig_mode)\n",
    "sGen.pul_gen_params(period = sg_period, delay = sg_delay, width = sg_width)\n",
    "sGen.pul_state(1)\n",
    "sGen.RF_state(1)\n",
    "# sGen.ref\n",
    "\n",
    "\n",
    "augh.set_amplitude(a1_ampl, 'DBM', 1)\n",
    "augh.set_phase(a1_phase, unit = 'SEC', ch = 1)\n",
    "augh.set_waveform(freq = a1_freq, ampl = a1_ampl, offs = a1_offset, fun = a1_fun, ch = 1, width = a1_width)\n",
    "# augh.set_phase(a2_phase, ch = 2,  unit = 'SEC')\n",
    "# augh.set_waveform(freq = a2_freq, ampl = a2_ampl, offs = a2_offset, fun = a2_fun, ch = 2, width = a2_width)"
   ]
  },
  {
   "cell_type": "code",
   "execution_count": null,
   "metadata": {},
   "outputs": [],
   "source": [
    "pxie.num_pts            = 2000\n",
    "pxie.sample_rate        = 250e6 \n",
    "pxie.num_records        = 102\n",
    "\n",
    "pxie.open(trigger_channel = '3')\n",
    "waveforms = pxie.acquisition()\n",
    "\n",
    "sGen.pul_state(0)\n",
    "sGen.RF_state(0)\n",
    "\n",
    "print(waveforms)\n",
    "# ch1 = np.array([np.array(wfm.samples.tolist()) for wfm in waveforms if wfm.channel == '1'])\n",
    "# Q = np.mean(waveforms['CH1'], axis=0)\n",
    "I = np.mean(waveforms['CH2'], axis=0)\n",
    "# mod = 5*np.log10(Q**2 + I**2)\n",
    "\n",
    "\n",
    "\n",
    "plt.figure(figsize=(10,6))\n",
    "plt.grid()\n",
    "plt.plot(I)\n",
    "plt.show()"
   ]
  },
  {
   "cell_type": "code",
   "execution_count": null,
   "metadata": {},
   "outputs": [],
   "source": [
    "# frequency = 5e9\n",
    "# pulse_width = 4e-6\n",
    "# awg_freq = 1e3\n",
    "# SG_level = -15\n",
    "# sGen.RF_freq(frequency)\n",
    "# sGen.RF_lvl_ampl(SG_level)\n",
    "# fsl.set_frequency(frequency)\n",
    "\n",
    "# fsl.set_output('ON')\n",
    "# sGen.pul_gen_mode('SING')\n",
    "# sGen.pul_trig_mode('ESIN')\n",
    "# sGen.pul_gen_params(pulse_width, delay = 0, width = pulse_width)\n",
    "# sGen.pul_state(1)\n",
    "# sGen.RF_state(1)\n",
    "\n",
    "\n",
    "\n",
    "\n",
    "\n",
    "# aug_pow = Ts.dBm_to_mVpp(-40 - 10)*1e-3\n",
    "\n",
    "# phase = -5e-6                        # in gradiants\n",
    "# augh.set_phase(phase, ch = 1,  unit = 'SEC')\n",
    "# augh.set_waveform( freq = 1e3, ampl = aug_pow, offs = 0.417, fun = 'PULS', ch = 1, width = 5e-6)"
   ]
  },
  {
   "cell_type": "markdown",
   "metadata": {},
   "source": [
    "## Cosa abbiamo fatto:\n",
    "Lo scopo di oggi 26/06/2024 è stato quello di trovare il delay relativo per l'impulso di drive e di read out e anche l'offset di dell' awg."
   ]
  },
  {
   "cell_type": "markdown",
   "metadata": {},
   "source": [
    "## Parametri strumenti\n",
    "Da canale 1 di Awg mandiamo 800 mVpp, offset di 400 mV, fase 33° e larghezza di 4 micros. Suo segnale e trigger sono a 2 kHz. Il Trigger (Nel canale 2) è a 1 Vpp e la sua larghezza è di 200 microsecondi.\n",
    "\n",
    "Sfasamento tra awg e Sig_Gen = -1.8°\n",
    "\n",
    "impostazione trigger del sig gen: trigger Mode = Ext Single\n",
    "\n",
    "Che cazzo è precisamente sto offset?"
   ]
  },
  {
   "cell_type": "markdown",
   "metadata": {},
   "source": []
  },
  {
   "cell_type": "code",
   "execution_count": 26,
   "metadata": {},
   "outputs": [
    {
     "data": {
      "text/plain": [
       "'Ref out: ON\\n'"
      ]
     },
     "execution_count": 26,
     "metadata": {},
     "output_type": "execute_result"
    }
   ],
   "source": [
    "fsl.set_output('ON')\n",
    "fsl.set_frequency(5e9)\n",
    "fsl.set_ref_source('INT')\n",
    "fsl.set_ref_out('ON')\n",
    "fsl.get_ref_out()"
   ]
  },
  {
   "cell_type": "code",
   "execution_count": null,
   "metadata": {},
   "outputs": [],
   "source": []
  }
 ],
 "metadata": {
  "kernelspec": {
   "display_name": "Python 3.8.8 ('qubit2324': venv)",
   "language": "python",
   "name": "python3"
  },
  "language_info": {
   "codemirror_mode": {
    "name": "ipython",
    "version": 3
   },
   "file_extension": ".py",
   "mimetype": "text/x-python",
   "name": "python",
   "nbconvert_exporter": "python",
   "pygments_lexer": "ipython3",
   "version": "3.8.8"
  },
  "orig_nbformat": 4,
  "vscode": {
   "interpreter": {
    "hash": "577259b7f5a119e8af3aadcda0ea5d59c3a4b6ea5978608d4fd23299b3f53377"
   }
  }
 },
 "nbformat": 4,
 "nbformat_minor": 2
}
