{
 "cells": [
  {
   "cell_type": "code",
   "execution_count": 2,
   "metadata": {},
   "outputs": [
    {
     "name": "stdout",
     "output_type": "stream",
     "text": [
      "Connection successful!\n"
     ]
    }
   ],
   "source": [
    "import sys\n",
    "sys.path.insert(1, 'C:\\\\Users\\\\oper\\\\SynologyDrive\\\\Lab2023\\\\Qubit\\\\QTLab2324\\\\PAandQubit\\\\Instruments\\\\network\\\\Signal_Generator')\n",
    "sys.path.insert(2, 'C:\\\\Users\\\\oper\\\\SynologyDrive\\\\Lab2023\\\\Qubit\\\\QTLab2324\\\\PAandQubit\\\\Instruments\\\\Acquisition_Card')\n",
    "\n",
    "import RS_SMA100B\n",
    "from Card_Class import *\n",
    "\n",
    "ip              = '192.168.40.15'            # Set IP address of the device\n",
    "sGen            = RS_SMA100B.SMA100B(ip)"
   ]
  },
  {
   "cell_type": "code",
   "execution_count": null,
   "metadata": {},
   "outputs": [],
   "source": [
    "sGen.pul_exe_sing_trig()"
   ]
  }
 ],
 "metadata": {
  "kernelspec": {
   "display_name": "Python 3.8.8 ('qubit2324': venv)",
   "language": "python",
   "name": "python3"
  },
  "language_info": {
   "codemirror_mode": {
    "name": "ipython",
    "version": 3
   },
   "file_extension": ".py",
   "mimetype": "text/x-python",
   "name": "python",
   "nbconvert_exporter": "python",
   "pygments_lexer": "ipython3",
   "version": "3.8.8"
  },
  "orig_nbformat": 4,
  "vscode": {
   "interpreter": {
    "hash": "577259b7f5a119e8af3aadcda0ea5d59c3a4b6ea5978608d4fd23299b3f53377"
   }
  }
 },
 "nbformat": 4,
 "nbformat_minor": 2
}
