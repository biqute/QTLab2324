{
 "cells": [
  {
   "cell_type": "code",
   "execution_count": 2,
   "metadata": {},
   "outputs": [
    {
     "ename": "ModuleNotFoundError",
     "evalue": "No module named 'ipympl'",
     "output_type": "error",
     "traceback": [
      "\u001b[1;31m---------------------------------------------------------------------------\u001b[0m",
      "\u001b[1;31mModuleNotFoundError\u001b[0m                       Traceback (most recent call last)",
      "Cell \u001b[1;32mIn[2], line 1\u001b[0m\n\u001b[1;32m----> 1\u001b[0m \u001b[43mget_ipython\u001b[49m\u001b[43m(\u001b[49m\u001b[43m)\u001b[49m\u001b[38;5;241;43m.\u001b[39;49m\u001b[43mrun_line_magic\u001b[49m\u001b[43m(\u001b[49m\u001b[38;5;124;43m'\u001b[39;49m\u001b[38;5;124;43mmatplotlib\u001b[39;49m\u001b[38;5;124;43m'\u001b[39;49m\u001b[43m,\u001b[49m\u001b[43m \u001b[49m\u001b[38;5;124;43m'\u001b[39;49m\u001b[38;5;124;43mwidget\u001b[39;49m\u001b[38;5;124;43m'\u001b[39;49m\u001b[43m)\u001b[49m\n\u001b[0;32m      2\u001b[0m \u001b[38;5;28;01mimport\u001b[39;00m \u001b[38;5;21;01mniscope\u001b[39;00m \u001b[38;5;28;01mas\u001b[39;00m \u001b[38;5;21;01mni\u001b[39;00m\n\u001b[0;32m      4\u001b[0m \u001b[38;5;66;03m# Uscita trigger dal signal generator: Pulse Sync\u001b[39;00m\n",
      "File \u001b[1;32mc:\\Users\\kid\\AppData\\Local\\Programs\\Python\\Python38\\lib\\site-packages\\IPython\\core\\interactiveshell.py:2417\u001b[0m, in \u001b[0;36mInteractiveShell.run_line_magic\u001b[1;34m(self, magic_name, line, _stack_depth)\u001b[0m\n\u001b[0;32m   2415\u001b[0m     kwargs[\u001b[39m'\u001b[39m\u001b[39mlocal_ns\u001b[39m\u001b[39m'\u001b[39m] \u001b[39m=\u001b[39m \u001b[39mself\u001b[39m\u001b[39m.\u001b[39mget_local_scope(stack_depth)\n\u001b[0;32m   2416\u001b[0m \u001b[39mwith\u001b[39;00m \u001b[39mself\u001b[39m\u001b[39m.\u001b[39mbuiltin_trap:\n\u001b[1;32m-> 2417\u001b[0m     result \u001b[39m=\u001b[39m fn(\u001b[39m*\u001b[39;49margs, \u001b[39m*\u001b[39;49m\u001b[39m*\u001b[39;49mkwargs)\n\u001b[0;32m   2419\u001b[0m \u001b[39m# The code below prevents the output from being displayed\u001b[39;00m\n\u001b[0;32m   2420\u001b[0m \u001b[39m# when using magics with decodator @output_can_be_silenced\u001b[39;00m\n\u001b[0;32m   2421\u001b[0m \u001b[39m# when the last Python token in the expression is a ';'.\u001b[39;00m\n\u001b[0;32m   2422\u001b[0m \u001b[39mif\u001b[39;00m \u001b[39mgetattr\u001b[39m(fn, magic\u001b[39m.\u001b[39mMAGIC_OUTPUT_CAN_BE_SILENCED, \u001b[39mFalse\u001b[39;00m):\n",
      "File \u001b[1;32mc:\\Users\\kid\\AppData\\Local\\Programs\\Python\\Python38\\lib\\site-packages\\IPython\\core\\magics\\pylab.py:99\u001b[0m, in \u001b[0;36mPylabMagics.matplotlib\u001b[1;34m(self, line)\u001b[0m\n\u001b[0;32m     97\u001b[0m     \u001b[39mprint\u001b[39m(\u001b[39m\"\u001b[39m\u001b[39mAvailable matplotlib backends: \u001b[39m\u001b[39m%s\u001b[39;00m\u001b[39m\"\u001b[39m \u001b[39m%\u001b[39m backends_list)\n\u001b[0;32m     98\u001b[0m \u001b[39melse\u001b[39;00m:\n\u001b[1;32m---> 99\u001b[0m     gui, backend \u001b[39m=\u001b[39m \u001b[39mself\u001b[39;49m\u001b[39m.\u001b[39;49mshell\u001b[39m.\u001b[39;49menable_matplotlib(args\u001b[39m.\u001b[39;49mgui\u001b[39m.\u001b[39;49mlower() \u001b[39mif\u001b[39;49;00m \u001b[39misinstance\u001b[39;49m(args\u001b[39m.\u001b[39;49mgui, \u001b[39mstr\u001b[39;49m) \u001b[39melse\u001b[39;49;00m args\u001b[39m.\u001b[39;49mgui)\n\u001b[0;32m    100\u001b[0m     \u001b[39mself\u001b[39m\u001b[39m.\u001b[39m_show_matplotlib_backend(args\u001b[39m.\u001b[39mgui, backend)\n",
      "File \u001b[1;32mc:\\Users\\kid\\AppData\\Local\\Programs\\Python\\Python38\\lib\\site-packages\\IPython\\core\\interactiveshell.py:3603\u001b[0m, in \u001b[0;36mInteractiveShell.enable_matplotlib\u001b[1;34m(self, gui)\u001b[0m\n\u001b[0;32m   3599\u001b[0m         \u001b[39mprint\u001b[39m(\u001b[39m'\u001b[39m\u001b[39mWarning: Cannot change to a different GUI toolkit: \u001b[39m\u001b[39m%s\u001b[39;00m\u001b[39m.\u001b[39m\u001b[39m'\u001b[39m\n\u001b[0;32m   3600\u001b[0m                 \u001b[39m'\u001b[39m\u001b[39m Using \u001b[39m\u001b[39m%s\u001b[39;00m\u001b[39m instead.\u001b[39m\u001b[39m'\u001b[39m \u001b[39m%\u001b[39m (gui, \u001b[39mself\u001b[39m\u001b[39m.\u001b[39mpylab_gui_select))\n\u001b[0;32m   3601\u001b[0m         gui, backend \u001b[39m=\u001b[39m pt\u001b[39m.\u001b[39mfind_gui_and_backend(\u001b[39mself\u001b[39m\u001b[39m.\u001b[39mpylab_gui_select)\n\u001b[1;32m-> 3603\u001b[0m pt\u001b[39m.\u001b[39;49mactivate_matplotlib(backend)\n\u001b[0;32m   3604\u001b[0m configure_inline_support(\u001b[39mself\u001b[39m, backend)\n\u001b[0;32m   3606\u001b[0m \u001b[39m# Now we must activate the gui pylab wants to use, and fix %run to take\u001b[39;00m\n\u001b[0;32m   3607\u001b[0m \u001b[39m# plot updates into account\u001b[39;00m\n",
      "File \u001b[1;32mc:\\Users\\kid\\AppData\\Local\\Programs\\Python\\Python38\\lib\\site-packages\\IPython\\core\\pylabtools.py:360\u001b[0m, in \u001b[0;36mactivate_matplotlib\u001b[1;34m(backend)\u001b[0m\n\u001b[0;32m    355\u001b[0m \u001b[39m# Due to circular imports, pyplot may be only partially initialised\u001b[39;00m\n\u001b[0;32m    356\u001b[0m \u001b[39m# when this function runs.\u001b[39;00m\n\u001b[0;32m    357\u001b[0m \u001b[39m# So avoid needing matplotlib attribute-lookup to access pyplot.\u001b[39;00m\n\u001b[0;32m    358\u001b[0m \u001b[39mfrom\u001b[39;00m \u001b[39mmatplotlib\u001b[39;00m \u001b[39mimport\u001b[39;00m pyplot \u001b[39mas\u001b[39;00m plt\n\u001b[1;32m--> 360\u001b[0m plt\u001b[39m.\u001b[39;49mswitch_backend(backend)\n\u001b[0;32m    362\u001b[0m plt\u001b[39m.\u001b[39mshow\u001b[39m.\u001b[39m_needmain \u001b[39m=\u001b[39m \u001b[39mFalse\u001b[39;00m\n\u001b[0;32m    363\u001b[0m \u001b[39m# We need to detect at runtime whether show() is called by the user.\u001b[39;00m\n\u001b[0;32m    364\u001b[0m \u001b[39m# For this, we wrap it into a decorator which adds a 'called' flag.\u001b[39;00m\n",
      "File \u001b[1;32mc:\\Users\\kid\\AppData\\Local\\Programs\\Python\\Python38\\lib\\site-packages\\matplotlib\\pyplot.py:267\u001b[0m, in \u001b[0;36mswitch_backend\u001b[1;34m(newbackend)\u001b[0m\n\u001b[0;32m    260\u001b[0m \u001b[39m# Backends are implemented as modules, but \"inherit\" default method\u001b[39;00m\n\u001b[0;32m    261\u001b[0m \u001b[39m# implementations from backend_bases._Backend.  This is achieved by\u001b[39;00m\n\u001b[0;32m    262\u001b[0m \u001b[39m# creating a \"class\" that inherits from backend_bases._Backend and whose\u001b[39;00m\n\u001b[0;32m    263\u001b[0m \u001b[39m# body is filled with the module's globals.\u001b[39;00m\n\u001b[0;32m    265\u001b[0m backend_name \u001b[39m=\u001b[39m cbook\u001b[39m.\u001b[39m_backend_module_name(newbackend)\n\u001b[1;32m--> 267\u001b[0m \u001b[39mclass\u001b[39;00m \u001b[39mbackend_mod\u001b[39;00m(matplotlib\u001b[39m.\u001b[39mbackend_bases\u001b[39m.\u001b[39m_Backend):\n\u001b[0;32m    268\u001b[0m     \u001b[39mlocals\u001b[39m()\u001b[39m.\u001b[39mupdate(\u001b[39mvars\u001b[39m(importlib\u001b[39m.\u001b[39mimport_module(backend_name)))\n\u001b[0;32m    270\u001b[0m required_framework \u001b[39m=\u001b[39m _get_required_interactive_framework(backend_mod)\n",
      "File \u001b[1;32mc:\\Users\\kid\\AppData\\Local\\Programs\\Python\\Python38\\lib\\site-packages\\matplotlib\\pyplot.py:268\u001b[0m, in \u001b[0;36mswitch_backend.<locals>.backend_mod\u001b[1;34m()\u001b[0m\n\u001b[0;32m    267\u001b[0m \u001b[39mclass\u001b[39;00m \u001b[39mbackend_mod\u001b[39;00m(matplotlib\u001b[39m.\u001b[39mbackend_bases\u001b[39m.\u001b[39m_Backend):\n\u001b[1;32m--> 268\u001b[0m     \u001b[39mlocals\u001b[39m()\u001b[39m.\u001b[39mupdate(\u001b[39mvars\u001b[39m(importlib\u001b[39m.\u001b[39;49mimport_module(backend_name)))\n",
      "File \u001b[1;32mc:\\Users\\kid\\AppData\\Local\\Programs\\Python\\Python38\\lib\\importlib\\__init__.py:127\u001b[0m, in \u001b[0;36mimport_module\u001b[1;34m(name, package)\u001b[0m\n\u001b[0;32m    125\u001b[0m             \u001b[39mbreak\u001b[39;00m\n\u001b[0;32m    126\u001b[0m         level \u001b[39m+\u001b[39m\u001b[39m=\u001b[39m \u001b[39m1\u001b[39m\n\u001b[1;32m--> 127\u001b[0m \u001b[39mreturn\u001b[39;00m _bootstrap\u001b[39m.\u001b[39;49m_gcd_import(name[level:], package, level)\n",
      "File \u001b[1;32m<frozen importlib._bootstrap>:1014\u001b[0m, in \u001b[0;36m_gcd_import\u001b[1;34m(name, package, level)\u001b[0m\n",
      "File \u001b[1;32m<frozen importlib._bootstrap>:991\u001b[0m, in \u001b[0;36m_find_and_load\u001b[1;34m(name, import_)\u001b[0m\n",
      "File \u001b[1;32m<frozen importlib._bootstrap>:961\u001b[0m, in \u001b[0;36m_find_and_load_unlocked\u001b[1;34m(name, import_)\u001b[0m\n",
      "File \u001b[1;32m<frozen importlib._bootstrap>:219\u001b[0m, in \u001b[0;36m_call_with_frames_removed\u001b[1;34m(f, *args, **kwds)\u001b[0m\n",
      "File \u001b[1;32m<frozen importlib._bootstrap>:1014\u001b[0m, in \u001b[0;36m_gcd_import\u001b[1;34m(name, package, level)\u001b[0m\n",
      "File \u001b[1;32m<frozen importlib._bootstrap>:991\u001b[0m, in \u001b[0;36m_find_and_load\u001b[1;34m(name, import_)\u001b[0m\n",
      "File \u001b[1;32m<frozen importlib._bootstrap>:973\u001b[0m, in \u001b[0;36m_find_and_load_unlocked\u001b[1;34m(name, import_)\u001b[0m\n",
      "\u001b[1;31mModuleNotFoundError\u001b[0m: No module named 'ipympl'"
     ]
    }
   ],
   "source": [
    "%matplotlib widget\n",
    "import niscope as ni\n",
    "\n",
    "# Uscita trigger dal signal generator: Pulse Sync\n",
    "\n",
    "import matplotlib.pyplot as plt\n",
    "from scipy.signal import find_peaks\n",
    "\n",
    "import h5py\n",
    "import time\n",
    "import numpy as np\n",
    "\n",
    "import sys\n",
    "sys.path.insert(1, '..\\\\Instruments\\\\network\\\\Signal_Generator')\n",
    "sys.path.insert(2, '..\\\\Instruments\\\\Acquisition_Card')\n",
    "sys.path.insert(3, '..\\\\Instruments\\\\QuickSyn')\n",
    "\n",
    "import RS_SMA100B\n",
    "from Card_Class import *\n",
    "\n",
    "\n",
    "import FSL_0010\n",
    "\n",
    "fsl = FSL_0010.FSL10_synthesizer(device_address='COM31')"
   ]
  },
  {
   "cell_type": "code",
   "execution_count": 3,
   "metadata": {},
   "outputs": [
    {
     "ename": "NameError",
     "evalue": "name 'RS_SMA100B' is not defined",
     "output_type": "error",
     "traceback": [
      "\u001b[1;31m---------------------------------------------------------------------------\u001b[0m",
      "\u001b[1;31mNameError\u001b[0m                                 Traceback (most recent call last)",
      "Cell \u001b[1;32mIn[3], line 3\u001b[0m\n\u001b[0;32m      1\u001b[0m ip              \u001b[38;5;241m=\u001b[39m \u001b[38;5;124m'\u001b[39m\u001b[38;5;124m192.168.40.15\u001b[39m\u001b[38;5;124m'\u001b[39m            \u001b[38;5;66;03m# Set IP address of the device\u001b[39;00m\n\u001b[0;32m      2\u001b[0m Card_Name       \u001b[38;5;241m=\u001b[39m \u001b[38;5;124m'\u001b[39m\u001b[38;5;124mPXI1Slot3\u001b[39m\u001b[38;5;124m'\u001b[39m\n\u001b[1;32m----> 3\u001b[0m sGen            \u001b[38;5;241m=\u001b[39m \u001b[43mRS_SMA100B\u001b[49m\u001b[38;5;241m.\u001b[39mSMA100B(ip)\n\u001b[0;32m      4\u001b[0m pxie            \u001b[38;5;241m=\u001b[39m PXIe5170R(Card_Name)\n\u001b[0;32m      6\u001b[0m k \u001b[38;5;241m=\u001b[39m \u001b[38;5;241m3\u001b[39m           \u001b[38;5;66;03m# coefficiente per prendere k*1000 punti con la scheda, dunque devo aumentare la pulse width e period\u001b[39;00m\n",
      "\u001b[1;31mNameError\u001b[0m: name 'RS_SMA100B' is not defined"
     ]
    }
   ],
   "source": [
    "ip              = '192.168.40.15'            # Set IP address of the device\n",
    "Card_Name       = 'PXI1Slot3'\n",
    "sGen            = RS_SMA100B.SMA100B(ip)\n",
    "pxie            = PXIe5170R(Card_Name)\n",
    "\n",
    "k = 3           # coefficiente per prendere k*1000 punti con la scheda, dunque devo aumentare la pulse width e period\n",
    "\n",
    "pulse_freq      = 1.005e9\n",
    "amplitude       = -11                          # Set the amplitude of the signal in dBm\n",
    "sample_rate     = 250e6 # Maximum Value: 250.0e6\n",
    "pulse_width     = k*3e-6   # min 5ns                             \n",
    "pulse_delay     = 0\n",
    "pulse_period    = k*5e-6   # min 20ns\n",
    "\n",
    "\n",
    "sGen.reset()\n",
    "sGen.clear()\n",
    "sGen.pul_gen_params(delay = pulse_delay, width = pulse_width, period = pulse_period)   # da capire quale pulse width\n",
    "sGen.pul_gen_mode('SING')\n",
    "sGen.pul_trig_mode('AUTO')\n",
    "sGen.RF_freq(pulse_freq)\n",
    "sGen.RF_lvl_ampl(amplitude)\n",
    "\n",
    "\n",
    "# parameters for the Acquisition Card\n",
    "pxie.voltage_range      = 2.0\n",
    "pxie.coupling           = 'AC' # or DC????\n",
    "pxie.num_pts            = 1000\n",
    "pxie.num_records        = 1\n",
    "pxie.ref_position       = 0\n",
    "pxie.sample_rate        = sample_rate # Maximum Value: 250.0e6\n",
    "\n",
    "\n",
    "\n",
    "# Turn ON the modulation of the Signal Generator\n",
    "sGen.pul_state(1)\n",
    "sGen.RF_state(1)\n",
    "\n",
    "\n",
    "# FSL-0010\n",
    "fsl.set_frequency(1) # GHz\n",
    "fsl.set_output('ON')\n",
    "\n",
    "\n",
    "\n",
    "\n",
    "with ni.Session(\"PXI1Slot3\") as session: # Name of the device\n",
    "    session.reset_with_defaults()\n",
    "    session.channels[0].configure_vertical(range=2.0, coupling=ni.VerticalCoupling.AC) # I\n",
    "    session.channels[2].configure_vertical(range=2.0, coupling=ni.VerticalCoupling.AC) # Q\n",
    "    session.configure_horizontal_timing(\n",
    "        min_sample_rate     = 250e6, \n",
    "        min_num_pts         = int(1000*k), \n",
    "        ref_position        = 0, \n",
    "        num_records         = 1, \n",
    "        enforce_realtime    = True\n",
    "        )\n",
    "\n",
    "    session.configure_trigger_digital(\n",
    "        trigger_source      = 'VAL_PFI_0', \n",
    "        slope               = ni.TriggerSlope.POSITIVE, \n",
    "        holdoff             = 0, \n",
    "        delay               = 0\n",
    "        )\n",
    "\n",
    "    with session.initiate():\n",
    "        waveforms = session.channels[0, 2].fetch()\n",
    "        #waveforms = session.channels[0].fetch()\n",
    "    for wfm in waveforms:\n",
    "        print('Channel {0}, record {1} samples acquired: {2:,}\\n'.format(wfm.channel, wfm.record, len(wfm.samples)))\n",
    "        print('Channel {0}, record {1} samples acquired: {2:,}\\n'.format(wfm.channel, wfm.record, len(wfm.samples)))\n",
    "\n",
    "fsl.set_output('OFF')\n",
    "sGen.pul_state(0)\n",
    "sGen.RF_state(0)\n",
    "\n",
    "a = np.array(waveforms[0].samples.tolist())\n",
    "b = np.array(waveforms[1].samples.tolist())\n",
    "\n",
    "\n",
    "plt.figure()\n",
    "#plt.plot(np.arange(len(a))/250e6, 20*np.log10(np.array(a)**2 + np.array(b)**2))\n",
    "plt.plot(np.arange(len(a))/250e6, np.sqrt(np.array(a)**2 + np.array(b)**2))\n",
    "#plt.plot(np.arange(len(a))/250e6, np.arctan(np.array(b)/np.array(a)))\n",
    "#plt.plot(np.arange(len(a))/250e6, np.array(a))\n",
    "plt.show()"
   ]
  },
  {
   "cell_type": "code",
   "execution_count": 40,
   "metadata": {},
   "outputs": [
    {
     "data": {
      "application/vnd.jupyter.widget-view+json": {
       "model_id": "e63ea9c4c1594a12813aaba33313e7e4",
       "version_major": 2,
       "version_minor": 0
      },
      "image/png": "[encoded data removed]",
      "text/html": [
       "\n",
       "            <div style=\"display: inline-block;\">\n",
       "                <div class=\"jupyter-widgets widget-label\" style=\"text-align: center;\">\n",
       "                    Figure 16\n",
       "                </div>\n",
       "                <img src='data:image/png;base64,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' width=640.0/>\n",
       "            </div>\n",
       "        "
      ],
      "text/plain": [
       "Canvas(toolbar=Toolbar(toolitems=[('Home', 'Reset original view', 'home', 'home'), ('Back', 'Back to previous …"
      ]
     },
     "metadata": {},
     "output_type": "display_data"
    }
   ],
   "source": [
    "def weight_factor (ft, range_mask):\n",
    "    # tot_int = np.trapz(ft)\n",
    "    tot_int = np.sum(ft)\n",
    "    ft[~range_mask] = 0\n",
    "    # portion = np.trapz(ft)\n",
    "    portion = np.sum(ft)\n",
    "\n",
    "    return tot_int/portion\n",
    "\n",
    "def data_fft(y: np.array, freq, sample_rate, toggle_plot = True):\n",
    "    N = len(y)\n",
    "    T = 1/sample_rate\n",
    "    FT = np.fft.fft(y)\n",
    "    PHI = np.unwrap(np.angle(FT))\n",
    "\n",
    "    x = np.arange(len(y))/sample_rate\n",
    "    freqs = np.fft.fftfreq(N,T) \n",
    "    offset = 5e6\n",
    "\n",
    "    if toggle_plot:\n",
    "        plt.clf()\n",
    "        \n",
    "       \n",
    "        plt.plot(freqs,np.abs(FT))\n",
    "        plt.show()\n",
    "    \n",
    "data_fft(a, 80e6, sample_rate, True)"
   ]
  },
  {
   "cell_type": "markdown",
   "metadata": {},
   "source": [
    "- [x] Nel grafico sopra, la frequenza del sig gen è 1,020 GHz. Si notano i due picchetti di 40 = 2 * 20 MHz, ma paiono estremamente piccoli. (Foto sul telefono per il futuro)"
   ]
  },
  {
   "cell_type": "markdown",
   "metadata": {},
   "source": [
    "Dai test sembra che non servano attenuazioni quando il segnale passa per il mixer, ma è necessaerio capire quanta potenza effettivamente arriva alla scheda per non friggerla."
   ]
  },
  {
   "cell_type": "markdown",
   "metadata": {},
   "source": [
    "## DOVREMO fare la CARATTERIZZAZIONE DELL'IQ-MIXER\n",
    "\n",
    "Studiare range di ampiezze in cui opera e magari anhe range di frequenze.\n",
    "Studiare Attenuazione che dà?\n",
    "\n",
    "Nel piano I-q non compare una circonferenza precisa, ma è più un'ellisse. Studiare e magari richiedere."
   ]
  },
  {
   "cell_type": "markdown",
   "metadata": {},
   "source": [
    "## LA PRESA DATI PROBABILMENTE SARA' A GIUGNO (2 SETTIMANE CENTRALI)\n",
    "\n",
    "Preparare i programmi, anche per l'analisi dati in loco per risparmiare tempo.\n",
    "Relazione su Latex\n",
    "Giachero dice di premere per fare presa dati a maggio piuttosto che a giugno, ma francamente la vedo dura.\n",
    "# Sistemare i cicli for nei programmi!! e ritestare il single trigger nei for."
   ]
  },
  {
   "cell_type": "code",
   "execution_count": 51,
   "metadata": {},
   "outputs": [],
   "source": [
    "fetched_data = []\n",
    "fetched_data += [{'I': a, 'Q': b,'ampl' : amplitude, 'f' : pulse_freq }]\n",
    "\n",
    "#print(fetched_data)\n",
    "\n",
    "with h5py.File('FIRST_IQ_filters.hdf5', 'a') as f:                      # creo file hdf5 di nome tra virgolette e lo apro in modalità a = appen\n",
    "    for j in range(0, len(fetched_data)):\n",
    "        gp_data = f.create_group(str(j))\n",
    "        I, Q, ampl, f = fetched_data[j].items()\n",
    "        gp_data.create_dataset(I[0], data = I[1])\n",
    "        gp_data.create_dataset(Q[0], data = Q[1])\n",
    "        gp_data.create_dataset(ampl[0], data = ampl[1] )\n",
    "        gp_data.create_dataset(f[0], data = f[1])"
   ]
  },
  {
   "cell_type": "code",
   "execution_count": 24,
   "metadata": {},
   "outputs": [],
   "source": [
    "fetched_data = []\n",
    "with h5py.File('FIRST_IQ.hdf5', 'r') as f:\n",
    "    \n",
    "    for j in range(len(f)):\n",
    "        dic = {}\n",
    "        gp = f[str(j)]\n",
    "        for i, k in gp.items():                         # i = titolo, k = contenuto di ogni entrata del dizionario\n",
    "            dic[i] = k[()]\n",
    "        fetched_data += [dic]\n"
   ]
  },
  {
   "cell_type": "markdown",
   "metadata": {},
   "source": [
    "#ARCANO  dbm  VS mV\n",
    "\n",
    "https://www.pianetaradio.it/blog/dbm/ "
   ]
  },
  {
   "cell_type": "code",
   "execution_count": 21,
   "metadata": {},
   "outputs": [
    {
     "data": {
      "text/plain": [
       "'1000000000000\\n'"
      ]
     },
     "execution_count": 21,
     "metadata": {},
     "output_type": "execute_result"
    }
   ],
   "source": [
    "fsl.get_frequency()"
   ]
  },
  {
   "cell_type": "code",
   "execution_count": 13,
   "metadata": {},
   "outputs": [
    {
     "data": {
      "text/plain": [
       "'1000000000000\\n'"
      ]
     },
     "execution_count": 13,
     "metadata": {},
     "output_type": "execute_result"
    }
   ],
   "source": [
    "fsl.set_output('ON')\n",
    "fsl.device.write(b'FREQ?\\r')\n"
   ]
  },
  {
   "cell_type": "code",
   "execution_count": null,
   "metadata": {},
   "outputs": [],
   "source": []
  }
 ],
 "metadata": {
  "kernelspec": {
   "display_name": "Python 3.8.6 64-bit",
   "language": "python",
   "name": "python3"
  },
  "language_info": {
   "codemirror_mode": {
    "name": "ipython",
    "version": 3
   },
   "file_extension": ".py",
   "mimetype": "text/x-python",
   "name": "python",
   "nbconvert_exporter": "python",
   "pygments_lexer": "ipython3",
   "version": "3.8.6"
  },
  "orig_nbformat": 4,
  "vscode": {
   "interpreter": {
    "hash": "ca7fb12e8dddb717a45af6dd1993c67b83aa05886451cd3b5212fabc2a7dc798"
   }
  }
 },
 "nbformat": 4,
 "nbformat_minor": 2
}
