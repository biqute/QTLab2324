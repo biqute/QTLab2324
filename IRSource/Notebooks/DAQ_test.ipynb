{
 "cells": [
  {
   "cell_type": "code",
   "execution_count": 1,
   "metadata": {},
   "outputs": [],
   "source": [
    "import DAQ \n",
    "import niscope as ni\n",
    "import hightime\n",
    "import sys\n",
    "import logging\n",
    "import numpy as np\n",
    "import h5py\n",
    "import sys\n",
    "sys.path.insert(1, r'C:\\\\Users\\\\oper\\\\SynologyDrive\\\\Lab2023\\\\KIDs\\\\QTLab2324\\\\IRSource\\\\PXIe5170R\\\\logs\\\\sessions\\\\')\n"
   ]
  },
  {
   "cell_type": "code",
   "execution_count": 2,
   "metadata": {},
   "outputs": [
    {
     "name": "stdout",
     "output_type": "stream",
     "text": [
      "Connected to PXI1Slot3\n"
     ]
    }
   ],
   "source": [
    "device = 'PXI1Slot3'\n",
    "scheda = DAQ.DAQ(device)"
   ]
  },
  {
   "cell_type": "code",
   "execution_count": 3,
   "metadata": {},
   "outputs": [],
   "source": [
    "scheda.logger.info(\"Ciao!\")"
   ]
  },
  {
   "cell_type": "code",
   "execution_count": 5,
   "metadata": {},
   "outputs": [
    {
     "name": "stdout",
     "output_type": "stream",
     "text": [
      "{'range': 1, 'coupling': <VerticalCoupling.DC: 1>, 'offset': 0.0, 'probe_attenuation': 0.0, 'enabled': True}\n"
     ]
    }
   ],
   "source": [
    "print(scheda.vertical_dic)"
   ]
  },
  {
   "cell_type": "code",
   "execution_count": 6,
   "metadata": {},
   "outputs": [
    {
     "name": "stdout",
     "output_type": "stream",
     "text": [
      "Resetting session\n"
     ]
    }
   ],
   "source": [
    "scheda.session_reset()"
   ]
  },
  {
   "cell_type": "code",
   "execution_count": 7,
   "metadata": {},
   "outputs": [
    {
     "name": "stdout",
     "output_type": "stream",
     "text": [
      "Resetting device\n"
     ]
    }
   ],
   "source": [
    "scheda.device_reset()"
   ]
  },
  {
   "cell_type": "code",
   "execution_count": 8,
   "metadata": {},
   "outputs": [
    {
     "name": "stdout",
     "output_type": "stream",
     "text": [
      "Resetting with defaults\n"
     ]
    }
   ],
   "source": [
    "scheda.reset_with_def()"
   ]
  },
  {
   "cell_type": "code",
   "execution_count": 13,
   "metadata": {},
   "outputs": [
    {
     "name": "stdout",
     "output_type": "stream",
     "text": [
      "Vertical config property added\n"
     ]
    },
    {
     "data": {
      "text/plain": [
       "<DAQ.DAQ at 0x863c9d0>"
      ]
     },
     "execution_count": 13,
     "metadata": {},
     "output_type": "execute_result"
    }
   ],
   "source": [
    "vertical = {\n",
    "        'range': 1,\n",
    "        'coupling': ni.VerticalCoupling.DC,\n",
    "        'offset': 0.0,\n",
    "        'probe_attenuation': 0.0,\n",
    "        'enabled': True\n",
    "    }\n",
    "scheda.vertical_conf(vertical)"
   ]
  },
  {
   "cell_type": "code",
   "execution_count": 14,
   "metadata": {},
   "outputs": [
    {
     "name": "stderr",
     "output_type": "stream",
     "text": [
      "Acquisition status: AcquisitionStatus.COMPLETE\n"
     ]
    },
    {
     "name": "stdout",
     "output_type": "stream",
     "text": [
      "AcquisitionStatus.COMPLETE\n"
     ]
    }
   ],
   "source": [
    "scheda.get_status()"
   ]
  },
  {
   "cell_type": "code",
   "execution_count": 15,
   "metadata": {},
   "outputs": [
    {
     "name": "stderr",
     "output_type": "stream",
     "text": [
      "Acquisition status: AcquisitionStatus.COMPLETE\n"
     ]
    },
    {
     "name": "stdout",
     "output_type": "stream",
     "text": [
      "AcquisitionStatus.COMPLETE\n",
      "Ready to listen!\n"
     ]
    }
   ],
   "source": [
    "scheda.available"
   ]
  },
  {
   "cell_type": "code",
   "execution_count": 16,
   "metadata": {},
   "outputs": [
    {
     "name": "stdout",
     "output_type": "stream",
     "text": [
      "Committing\n"
     ]
    }
   ],
   "source": [
    "scheda.commit()"
   ]
  },
  {
   "cell_type": "code",
   "execution_count": 17,
   "metadata": {},
   "outputs": [
    {
     "name": "stdout",
     "output_type": "stream",
     "text": [
      "Vertical config property added\n"
     ]
    },
    {
     "data": {
      "text/plain": [
       "<DAQ.DAQ at 0x863c9d0>"
      ]
     },
     "execution_count": 17,
     "metadata": {},
     "output_type": "execute_result"
    }
   ],
   "source": [
    "chan_char = {\n",
    "        'input_impedance': float(50), #(50 Ohms?)\n",
    "        'max_input_frequency': float()\n",
    "    }\n",
    "scheda.chan_conf(chan_char)"
   ]
  },
  {
   "cell_type": "code",
   "execution_count": 18,
   "metadata": {},
   "outputs": [],
   "source": [
    "horizontal = {\n",
    "        'min_sample_rate': 5e7,\n",
    "        'min_num_pts': 1000,\n",
    "        'ref_position': float(),\n",
    "        'num_records': 10000,\n",
    "        'enforce_realtime': True\n",
    "    }"
   ]
  },
  {
   "cell_type": "code",
   "execution_count": 19,
   "metadata": {},
   "outputs": [
    {
     "name": "stdout",
     "output_type": "stream",
     "text": [
      "Horizontal config property added\n"
     ]
    },
    {
     "data": {
      "text/plain": [
       "<DAQ.DAQ at 0x863c9d0>"
      ]
     },
     "execution_count": 19,
     "metadata": {},
     "output_type": "execute_result"
    }
   ],
   "source": [
    "scheda.horizontal_conf(horizontal)"
   ]
  },
  {
   "cell_type": "code",
   "execution_count": 20,
   "metadata": {},
   "outputs": [
    {
     "name": "stdout",
     "output_type": "stream",
     "text": [
      "Configuring vertical done\n"
     ]
    }
   ],
   "source": [
    "scheda.config_vertical()"
   ]
  },
  {
   "cell_type": "code",
   "execution_count": 21,
   "metadata": {},
   "outputs": [
    {
     "name": "stdout",
     "output_type": "stream",
     "text": [
      "Horizontal timing configuration done\n"
     ]
    }
   ],
   "source": [
    "scheda.config_hor_timing()"
   ]
  },
  {
   "cell_type": "code",
   "execution_count": 22,
   "metadata": {},
   "outputs": [
    {
     "name": "stdout",
     "output_type": "stream",
     "text": [
      "Channels characteristics configuration done\n"
     ]
    }
   ],
   "source": [
    "scheda.config_chan_char()"
   ]
  },
  {
   "cell_type": "code",
   "execution_count": 23,
   "metadata": {},
   "outputs": [],
   "source": [
    "trigger = {\n",
    "        'trigger_type'    : 'DIG',\n",
    "        'trigger_source'  : '1',\n",
    "        'level'           : '-0.031',\n",
    "        'trigger_coupling': None,\n",
    "        'slope'           : ni.TriggerSlope.POSITIVE,\n",
    "        'holdoff'         : 0.0,\n",
    "        'delay'           : 0.0       \n",
    "    }\n",
    "\n",
    "trigger_edge = {\n",
    "        'trigger_type'    : 'EDGE',\n",
    "        'trigger_source': '',\n",
    "        'level': 2,\n",
    "        'trigger_coupling': ni.enums.TriggerCoupling.AC,\n",
    "        'slope': ni.TriggerSlope.POSITIVE,\n",
    "        'holdoff' : 0.0,\n",
    "        'delay' : 0.0\n",
    "    }"
   ]
  },
  {
   "cell_type": "code",
   "execution_count": 24,
   "metadata": {},
   "outputs": [
    {
     "name": "stdout",
     "output_type": "stream",
     "text": [
      "Trigger dictionary added\n"
     ]
    },
    {
     "data": {
      "text/plain": [
       "<DAQ.DAQ at 0x863c9d0>"
      ]
     },
     "execution_count": 24,
     "metadata": {},
     "output_type": "execute_result"
    }
   ],
   "source": [
    "scheda.set_trigger_dic(trigger_edge)"
   ]
  },
  {
   "cell_type": "code",
   "execution_count": 25,
   "metadata": {},
   "outputs": [
    {
     "name": "stdout",
     "output_type": "stream",
     "text": [
      "Edge trigger configuration done correctly\n"
     ]
    }
   ],
   "source": [
    "scheda.config_edge_trigger()"
   ]
  },
  {
   "cell_type": "code",
   "execution_count": 26,
   "metadata": {},
   "outputs": [
    {
     "name": "stdout",
     "output_type": "stream",
     "text": [
      "Trigger dictionary added\n"
     ]
    },
    {
     "data": {
      "text/plain": [
       "<DAQ.DAQ at 0x863c9d0>"
      ]
     },
     "execution_count": 26,
     "metadata": {},
     "output_type": "execute_result"
    }
   ],
   "source": [
    "scheda.set_trigger_dic(trigger)"
   ]
  },
  {
   "cell_type": "code",
   "execution_count": 27,
   "metadata": {},
   "outputs": [
    {
     "name": "stdout",
     "output_type": "stream",
     "text": [
      "Digital trigger configuration done correctly\n"
     ]
    }
   ],
   "source": [
    "scheda.config_dig_trigger()"
   ]
  },
  {
   "cell_type": "code",
   "execution_count": 28,
   "metadata": {},
   "outputs": [
    {
     "name": "stdout",
     "output_type": "stream",
     "text": [
      "DIG\n",
      "Software trigger configuration done correctly\n"
     ]
    }
   ],
   "source": [
    "scheda.get_trigger_type\n",
    "scheda.config_software_trigger()"
   ]
  },
  {
   "cell_type": "code",
   "execution_count": 29,
   "metadata": {},
   "outputs": [
    {
     "name": "stderr",
     "output_type": "stream",
     "text": [
      "Acquisition status: AcquisitionStatus.COMPLETE\n"
     ]
    },
    {
     "name": "stdout",
     "output_type": "stream",
     "text": [
      "AcquisitionStatus.COMPLETE\n",
      "Ready to listen!\n"
     ]
    }
   ],
   "source": [
    "scheda.available"
   ]
  },
  {
   "cell_type": "code",
   "execution_count": null,
   "metadata": {},
   "outputs": [],
   "source": []
  }
 ],
 "metadata": {
  "kernelspec": {
   "display_name": "Python 3.8.8 64-bit",
   "language": "python",
   "name": "python3"
  },
  "language_info": {
   "codemirror_mode": {
    "name": "ipython",
    "version": 3
   },
   "file_extension": ".py",
   "mimetype": "text/x-python",
   "name": "python",
   "nbconvert_exporter": "python",
   "pygments_lexer": "ipython3",
   "version": "3.8.8"
  },
  "orig_nbformat": 4,
  "vscode": {
   "interpreter": {
    "hash": "189b550c5a54b5087499bdd5ba77e857e00a6effe232207122d63c93e93ce421"
   }
  }
 },
 "nbformat": 4,
 "nbformat_minor": 2
}
