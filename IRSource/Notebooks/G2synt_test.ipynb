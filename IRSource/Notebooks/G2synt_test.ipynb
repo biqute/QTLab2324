{
 "cells": [
  {
   "cell_type": "code",
   "execution_count": 1,
   "metadata": {},
   "outputs": [],
   "source": [
    "import sys\n",
    "sys.path.insert(1, r'C:\\\\Users\\\\oper\\\\SynologyDrive\\\\Lab2023\\\\KIDs\\\\QTLab2324\\\\IRSource\\\\G2synt\\\\')\n",
    "sys.path.insert(2, r'C:\\\\Users\\\\oper\\\\SynologyDrive\\\\Lab2023\\\\KIDs\\\\QTLab2324\\\\IRSource\\\\DAQ\\\\')"
   ]
  },
  {
   "cell_type": "code",
   "execution_count": 2,
   "metadata": {},
   "outputs": [],
   "source": [
    "import DAQ\n",
    "import niscope as ni"
   ]
  },
  {
   "cell_type": "code",
   "execution_count": 3,
   "metadata": {},
   "outputs": [
    {
     "name": "stdout",
     "output_type": "stream",
     "text": [
      "Connected to PXI1Slot3\n"
     ]
    }
   ],
   "source": [
    "daq = DAQ.DAQ('PXI1Slot3')"
   ]
  },
  {
   "cell_type": "code",
   "execution_count": 4,
   "metadata": {},
   "outputs": [
    {
     "name": "stdout",
     "output_type": "stream",
     "text": [
      "Vertical config property added\n"
     ]
    },
    {
     "data": {
      "text/plain": [
       "<DAQ.DAQ at 0x85fd3d0>"
      ]
     },
     "execution_count": 4,
     "metadata": {},
     "output_type": "execute_result"
    }
   ],
   "source": [
    "vertical = {\n",
    "        'range': 2.0,\n",
    "        'coupling': ni.VerticalCoupling.AC,\n",
    "        'offset': 0.0,\n",
    "        'probe_attenuation': 0.0,\n",
    "        'enabled': True\n",
    "    }\n",
    "daq.vertical_conf(vertical)\n"
   ]
  },
  {
   "cell_type": "code",
   "execution_count": 5,
   "metadata": {},
   "outputs": [
    {
     "name": "stdout",
     "output_type": "stream",
     "text": [
      "Horizontal config property added\n"
     ]
    },
    {
     "data": {
      "text/plain": [
       "<DAQ.DAQ at 0x85fd3d0>"
      ]
     },
     "execution_count": 5,
     "metadata": {},
     "output_type": "execute_result"
    }
   ],
   "source": [
    "horizontal = {\n",
    "        'min_sample_rate': 250e6,\n",
    "        'min_num_pts': 1000,\n",
    "        'ref_position': 0,\n",
    "        'num_records': 1,\n",
    "        'enforce_realtime': True\n",
    "    }\n",
    "daq.horizontal_conf(horizontal)"
   ]
  },
  {
   "cell_type": "code",
   "execution_count": 6,
   "metadata": {},
   "outputs": [
    {
     "name": "stderr",
     "output_type": "stream",
     "text": [
      "Acquisition status: AcquisitionStatus.COMPLETE\n"
     ]
    },
    {
     "name": "stdout",
     "output_type": "stream",
     "text": [
      "AcquisitionStatus.COMPLETE\n",
      "Ready to listen!\n"
     ]
    }
   ],
   "source": [
    "daq.available"
   ]
  },
  {
   "cell_type": "code",
   "execution_count": 7,
   "metadata": {},
   "outputs": [
    {
     "name": "stdout",
     "output_type": "stream",
     "text": [
      "Resetting with defaults\n",
      "Configuring vertical done\n",
      "Horizontal timing configuration done\n"
     ]
    }
   ],
   "source": [
    "daq.reset_with_def()\n",
    "daq.config_vertical()\n",
    "daq.config_hor_timing()"
   ]
  },
  {
   "cell_type": "code",
   "execution_count": 8,
   "metadata": {},
   "outputs": [],
   "source": [
    "triggerconf = {\n",
    "        'trigger_type'  : 'DIG',\n",
    "        'trigger_source': 'VAL_PFI_0', \n",
    "        'slope'         : ni.TriggerSlope.POSITIVE, \n",
    "        'holdoff'       : 0, \n",
    "        'delay'         : 0\n",
    "}"
   ]
  },
  {
   "cell_type": "code",
   "execution_count": 9,
   "metadata": {},
   "outputs": [
    {
     "name": "stdout",
     "output_type": "stream",
     "text": [
      "Trigger dictionary added\n"
     ]
    },
    {
     "data": {
      "text/plain": [
       "<DAQ.DAQ at 0x85fd3d0>"
      ]
     },
     "execution_count": 9,
     "metadata": {},
     "output_type": "execute_result"
    }
   ],
   "source": [
    "daq.set_trigger_dic(triggerconf)"
   ]
  },
  {
   "cell_type": "code",
   "execution_count": 10,
   "metadata": {},
   "outputs": [
    {
     "name": "stdout",
     "output_type": "stream",
     "text": [
      "DIG\n"
     ]
    }
   ],
   "source": [
    "daq.get_trigger_type"
   ]
  },
  {
   "cell_type": "code",
   "execution_count": 11,
   "metadata": {},
   "outputs": [
    {
     "name": "stdout",
     "output_type": "stream",
     "text": [
      "Digital trigger configuration done correctly\n"
     ]
    }
   ],
   "source": [
    "daq.config_dig_trigger()"
   ]
  }
 ],
 "metadata": {
  "kernelspec": {
   "display_name": "Python 3.8.8 64-bit",
   "language": "python",
   "name": "python3"
  },
  "language_info": {
   "codemirror_mode": {
    "name": "ipython",
    "version": 3
   },
   "file_extension": ".py",
   "mimetype": "text/x-python",
   "name": "python",
   "nbconvert_exporter": "python",
   "pygments_lexer": "ipython3",
   "version": "3.8.8"
  },
  "orig_nbformat": 4,
  "vscode": {
   "interpreter": {
    "hash": "189b550c5a54b5087499bdd5ba77e857e00a6effe232207122d63c93e93ce421"
   }
  }
 },
 "nbformat": 4,
 "nbformat_minor": 2
}
