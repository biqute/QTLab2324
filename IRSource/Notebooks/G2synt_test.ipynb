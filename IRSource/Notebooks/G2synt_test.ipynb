{
 "cells": [
  {
   "cell_type": "code",
   "execution_count": 1,
   "metadata": {},
   "outputs": [],
   "source": [
    "import sys\n",
    "sys.path.insert(1, r'C:\\\\Users\\\\oper\\\\SynologyDrive\\\\Lab2023\\\\KIDs\\\\QTLab2324\\\\IRSource\\\\G2synt\\\\')\n",
    "sys.path.insert(2, r'C:\\\\Users\\\\oper\\\\SynologyDrive\\\\Lab2023\\\\KIDs\\\\QTLab2324\\\\IRSource\\\\DAQ\\\\')"
   ]
  },
  {
   "cell_type": "code",
   "execution_count": 2,
   "metadata": {},
   "outputs": [],
   "source": [
    "import  G2synt\n",
    "import DAQ"
   ]
  },
  {
   "cell_type": "code",
   "execution_count": 3,
   "metadata": {},
   "outputs": [],
   "source": [
    "synt = G2synt.synt(\"COM36\")"
   ]
  },
  {
   "cell_type": "code",
   "execution_count": 4,
   "metadata": {},
   "outputs": [
    {
     "data": {
      "text/plain": [
       "'Frequency set to 1.0 GHz.'"
      ]
     },
     "execution_count": 4,
     "metadata": {},
     "output_type": "execute_result"
    }
   ],
   "source": [
    "synt.set_frequency(1.)"
   ]
  },
  {
   "cell_type": "code",
   "execution_count": 7,
   "metadata": {},
   "outputs": [
    {
     "ename": "ConnectionRefusedError",
     "evalue": "Could not create object instance",
     "output_type": "error",
     "traceback": [
      "\u001b[1;31m---------------------------------------------------------------------------\u001b[0m",
      "\u001b[1;31mDriverError\u001b[0m                               Traceback (most recent call last)",
      "File \u001b[1;32mC:\\\\Users\\\\oper\\\\SynologyDrive\\\\Lab2023\\\\KIDs\\\\QTLab2324\\\\IRSource\\\\DAQ\\DAQ.py:66\u001b[0m, in \u001b[0;36mDAQ.__new__\u001b[1;34m(self, devicename)\u001b[0m\n\u001b[0;32m     65\u001b[0m \u001b[39mtry\u001b[39;00m:\n\u001b[1;32m---> 66\u001b[0m     \u001b[39mself\u001b[39m\u001b[39m.\u001b[39m_session \u001b[39m=\u001b[39m ni\u001b[39m.\u001b[39;49mSession(devicename) \n\u001b[0;32m     67\u001b[0m     \u001b[39mself\u001b[39m\u001b[39m.\u001b[39m_instance \u001b[39m=\u001b[39m \u001b[39msuper\u001b[39m(DAQ, \u001b[39mself\u001b[39m)\u001b[39m.\u001b[39m\u001b[39m__new__\u001b[39m(\u001b[39mself\u001b[39m)\n",
      "File \u001b[1;32mc:\\Users\\oper\\AppData\\Local\\Programs\\Python\\Python38\\lib\\site-packages\\niscope\\session.py:4038\u001b[0m, in \u001b[0;36mSession.__init__\u001b[1;34m(self, resource_name, id_query, reset_device, options, grpc_options)\u001b[0m\n\u001b[0;32m   4033\u001b[0m \u001b[39m# Call specified init function\u001b[39;00m\n\u001b[0;32m   4034\u001b[0m \u001b[39m# Note that _interpreter default-initializes the session handle in its constructor, so that\u001b[39;00m\n\u001b[0;32m   4035\u001b[0m \u001b[39m# if _init_with_options fails, the error handler can reference it.\u001b[39;00m\n\u001b[0;32m   4036\u001b[0m \u001b[39m# And then here, once _init_with_options succeeds, we call set_session_handle\u001b[39;00m\n\u001b[0;32m   4037\u001b[0m \u001b[39m# with the actual session handle.\u001b[39;00m\n\u001b[1;32m-> 4038\u001b[0m \u001b[39mself\u001b[39m\u001b[39m.\u001b[39m_interpreter\u001b[39m.\u001b[39mset_session_handle(\u001b[39mself\u001b[39;49m\u001b[39m.\u001b[39;49m_init_with_options(resource_name, id_query, reset_device, options))\n\u001b[0;32m   4040\u001b[0m \u001b[39m# NI-TClk does not work over NI gRPC Device Server\u001b[39;00m\n",
      "File \u001b[1;32mc:\\Users\\oper\\AppData\\Local\\Programs\\Python\\Python38\\lib\\site-packages\\niscope\\session.py:5067\u001b[0m, in \u001b[0;36mSession._init_with_options\u001b[1;34m(self, resource_name, id_query, reset_device, option_string)\u001b[0m\n\u001b[0;32m   5066\u001b[0m option_string \u001b[39m=\u001b[39m _converters\u001b[39m.\u001b[39mconvert_init_with_options_dictionary(option_string)\n\u001b[1;32m-> 5067\u001b[0m vi \u001b[39m=\u001b[39m \u001b[39mself\u001b[39;49m\u001b[39m.\u001b[39;49m_interpreter\u001b[39m.\u001b[39;49minit_with_options(resource_name, id_query, reset_device, option_string)\n\u001b[0;32m   5068\u001b[0m \u001b[39mreturn\u001b[39;00m vi\n",
      "File \u001b[1;32mc:\\Users\\oper\\AppData\\Local\\Programs\\Python\\Python38\\lib\\site-packages\\niscope\\_library_interpreter.py:567\u001b[0m, in \u001b[0;36mLibraryInterpreter.init_with_options\u001b[1;34m(self, resource_name, id_query, reset_device, option_string)\u001b[0m\n\u001b[0;32m    566\u001b[0m error_code \u001b[39m=\u001b[39m \u001b[39mself\u001b[39m\u001b[39m.\u001b[39m_library\u001b[39m.\u001b[39mniScope_InitWithOptions(resource_name_ctype, id_query_ctype, reset_device_ctype, option_string_ctype, \u001b[39mNone\u001b[39;00m \u001b[39mif\u001b[39;00m vi_ctype \u001b[39mis\u001b[39;00m \u001b[39mNone\u001b[39;00m \u001b[39melse\u001b[39;00m (ctypes\u001b[39m.\u001b[39mpointer(vi_ctype)))\n\u001b[1;32m--> 567\u001b[0m errors\u001b[39m.\u001b[39;49mhandle_error(\u001b[39mself\u001b[39;49m, error_code, ignore_warnings\u001b[39m=\u001b[39;49m\u001b[39mFalse\u001b[39;49;00m, is_error_handling\u001b[39m=\u001b[39;49m\u001b[39mFalse\u001b[39;49;00m)\n\u001b[0;32m    568\u001b[0m \u001b[39mself\u001b[39m\u001b[39m.\u001b[39m_close_on_exit \u001b[39m=\u001b[39m \u001b[39mTrue\u001b[39;00m\n",
      "File \u001b[1;32mc:\\Users\\oper\\AppData\\Local\\Programs\\Python\\Python38\\lib\\site-packages\\niscope\\errors.py:123\u001b[0m, in \u001b[0;36mhandle_error\u001b[1;34m(library_interpreter, code, ignore_warnings, is_error_handling)\u001b[0m\n\u001b[0;32m    122\u001b[0m \u001b[39mif\u001b[39;00m _is_error(code):\n\u001b[1;32m--> 123\u001b[0m     \u001b[39mraise\u001b[39;00m DriverError(code, description)\n\u001b[0;32m    125\u001b[0m \u001b[39massert\u001b[39;00m _is_warning(code)\n",
      "\u001b[1;31mDriverError\u001b[0m: -1073807343: VISA:  (Hex 0xBFFF0011) Insufficient location information or the device or resource is not present in the system.\n\nInvalid Identifier: PXISlot3",
      "\nDuring handling of the above exception, another exception occurred:\n",
      "\u001b[1;31mConnectionRefusedError\u001b[0m                    Traceback (most recent call last)",
      "Cell \u001b[1;32mIn[7], line 1\u001b[0m\n\u001b[1;32m----> 1\u001b[0m daq \u001b[38;5;241m=\u001b[39m \u001b[43mDAQ\u001b[49m\u001b[38;5;241;43m.\u001b[39;49m\u001b[43mDAQ\u001b[49m\u001b[43m(\u001b[49m\u001b[38;5;124;43m\"\u001b[39;49m\u001b[38;5;124;43mPXISlot3\u001b[39;49m\u001b[38;5;124;43m\"\u001b[39;49m\u001b[43m)\u001b[49m\n",
      "File \u001b[1;32mC:\\\\Users\\\\oper\\\\SynologyDrive\\\\Lab2023\\\\KIDs\\\\QTLab2324\\\\IRSource\\\\DAQ\\DAQ.py:69\u001b[0m, in \u001b[0;36mDAQ.__new__\u001b[1;34m(self, devicename)\u001b[0m\n\u001b[0;32m     67\u001b[0m     \u001b[39mself\u001b[39m\u001b[39m.\u001b[39m_instance \u001b[39m=\u001b[39m \u001b[39msuper\u001b[39m(DAQ, \u001b[39mself\u001b[39m)\u001b[39m.\u001b[39m\u001b[39m__new__\u001b[39m(\u001b[39mself\u001b[39m)\n\u001b[0;32m     68\u001b[0m \u001b[39mexcept\u001b[39;00m \u001b[39mException\u001b[39;00m \u001b[39mas\u001b[39;00m e:\n\u001b[1;32m---> 69\u001b[0m     \u001b[39mraise\u001b[39;00m \u001b[39mConnectionRefusedError\u001b[39;00m(\u001b[39m\"\u001b[39m\u001b[39mCould not create object instance\u001b[39m\u001b[39m\"\u001b[39m)\n\u001b[0;32m     70\u001b[0m \u001b[39mtry\u001b[39;00m: \n\u001b[0;32m     72\u001b[0m     \u001b[39mprint\u001b[39m(\u001b[39m'\u001b[39m\u001b[39mConnected to\u001b[39m\u001b[39m'\u001b[39m, devicename)\n",
      "\u001b[1;31mConnectionRefusedError\u001b[0m: Could not create object instance"
     ]
    }
   ],
   "source": [
    "daq = DAQ.DAQ(\"PXISlot3\")"
   ]
  },
  {
   "cell_type": "code",
   "execution_count": null,
   "metadata": {},
   "outputs": [
    {
     "name": "stderr",
     "output_type": "stream",
     "text": [
      "Resetting device didn't work\n"
     ]
    },
    {
     "name": "stdout",
     "output_type": "stream",
     "text": [
      "Resetting device\n"
     ]
    },
    {
     "ename": "ValueError",
     "evalue": "Resetting device didn't work",
     "output_type": "error",
     "traceback": [
      "\u001b[1;31m---------------------------------------------------------------------------\u001b[0m",
      "\u001b[1;31mAttributeError\u001b[0m                            Traceback (most recent call last)",
      "File \u001b[1;32mC:\\\\Users\\\\oper\\\\SynologyDrive\\\\Lab2023\\\\KIDs\\\\QTLab2324\\\\IRSource\\\\DAQ\\DAQ.py:180\u001b[0m, in \u001b[0;36mDAQ.device_reset\u001b[1;34m(cls)\u001b[0m\n\u001b[0;32m    179\u001b[0m \u001b[39mprint\u001b[39m(\u001b[39m\"\u001b[39m\u001b[39mResetting device\u001b[39m\u001b[39m\"\u001b[39m)\n\u001b[1;32m--> 180\u001b[0m \u001b[39mcls\u001b[39;49m\u001b[39m.\u001b[39;49m_instance\u001b[39m.\u001b[39;49m_session\u001b[39m.\u001b[39;49mreset_device()     \n\u001b[0;32m    181\u001b[0m \u001b[39mcls\u001b[39m\u001b[39m.\u001b[39m_instance\u001b[39m.\u001b[39mlogger\u001b[39m.\u001b[39mdebug(\u001b[39m\"\u001b[39m\u001b[39mResetting device\u001b[39m\u001b[39m\"\u001b[39m)\n",
      "\u001b[1;31mAttributeError\u001b[0m: 'NoneType' object has no attribute 'reset_device'",
      "\nDuring handling of the above exception, another exception occurred:\n",
      "\u001b[1;31mValueError\u001b[0m                                Traceback (most recent call last)",
      "Cell \u001b[1;32mIn[7], line 1\u001b[0m\n\u001b[1;32m----> 1\u001b[0m \u001b[43mdaq\u001b[49m\u001b[38;5;241;43m.\u001b[39;49m\u001b[43mdevice_reset\u001b[49m\u001b[43m(\u001b[49m\u001b[43m)\u001b[49m\n",
      "File \u001b[1;32mC:\\\\Users\\\\oper\\\\SynologyDrive\\\\Lab2023\\\\KIDs\\\\QTLab2324\\\\IRSource\\\\DAQ\\DAQ.py:184\u001b[0m, in \u001b[0;36mDAQ.device_reset\u001b[1;34m(cls)\u001b[0m\n\u001b[0;32m    182\u001b[0m \u001b[39mexcept\u001b[39;00m \u001b[39mException\u001b[39;00m \u001b[39mas\u001b[39;00m e:\n\u001b[0;32m    183\u001b[0m     \u001b[39mcls\u001b[39m\u001b[39m.\u001b[39m_instance\u001b[39m.\u001b[39mlogger\u001b[39m.\u001b[39mwarning(\u001b[39m\"\u001b[39m\u001b[39mResetting device didn\u001b[39m\u001b[39m'\u001b[39m\u001b[39mt work\u001b[39m\u001b[39m\"\u001b[39m)\n\u001b[1;32m--> 184\u001b[0m     \u001b[39mraise\u001b[39;00m \u001b[39mValueError\u001b[39;00m(\u001b[39m\"\u001b[39m\u001b[39mResetting device didn\u001b[39m\u001b[39m'\u001b[39m\u001b[39mt work\u001b[39m\u001b[39m\"\u001b[39m)\n",
      "\u001b[1;31mValueError\u001b[0m: Resetting device didn't work"
     ]
    }
   ],
   "source": [
    "daq.device_reset()"
   ]
  },
  {
   "cell_type": "code",
   "execution_count": null,
   "metadata": {},
   "outputs": [
    {
     "name": "stdout",
     "output_type": "stream",
     "text": [
      "Vertical config property added\n"
     ]
    },
    {
     "data": {
      "text/plain": [
       "<DAQ.DAQ at 0x86ad640>"
      ]
     },
     "execution_count": 11,
     "metadata": {},
     "output_type": "execute_result"
    }
   ],
   "source": [
    "vertical = {\n",
    "        'range': 1,\n",
    "        'coupling': ni.VerticalCoupling.DC,\n",
    "        'offset': 0.0,\n",
    "        'probe_attenuation': 0.0,\n",
    "        'enabled': True\n",
    "    }\n",
    "daq.vertical_conf(vertical)\n"
   ]
  },
  {
   "cell_type": "code",
   "execution_count": null,
   "metadata": {},
   "outputs": [
    {
     "name": "stdout",
     "output_type": "stream",
     "text": [
      "Horizontal config property added\n"
     ]
    },
    {
     "data": {
      "text/plain": [
       "<DAQ.DAQ at 0x86ad640>"
      ]
     },
     "execution_count": 12,
     "metadata": {},
     "output_type": "execute_result"
    }
   ],
   "source": [
    "horizontal = {\n",
    "        'min_sample_rate': 5e7,\n",
    "        'min_num_pts': 1000,\n",
    "        'ref_position': float(),\n",
    "        'num_records': 10000,\n",
    "        'enforce_realtime': True\n",
    "    }\n",
    "daq.horizontal_conf(horizontal)"
   ]
  },
  {
   "cell_type": "code",
   "execution_count": null,
   "metadata": {},
   "outputs": [
    {
     "name": "stderr",
     "output_type": "stream",
     "text": [
      "Vertical config went wrong\n"
     ]
    },
    {
     "name": "stdout",
     "output_type": "stream",
     "text": [
      "Configuring vertical done\n",
      "Vertical config went wrong\n"
     ]
    },
    {
     "ename": "ValueError",
     "evalue": "Vertical config went wrong",
     "output_type": "error",
     "traceback": [
      "\u001b[1;31m---------------------------------------------------------------------------\u001b[0m",
      "\u001b[1;31mAttributeError\u001b[0m                            Traceback (most recent call last)",
      "File \u001b[1;32mC:\\\\Users\\\\oper\\\\SynologyDrive\\\\Lab2023\\\\KIDs\\\\QTLab2324\\\\IRSource\\\\DAQ\\DAQ.py:266\u001b[0m, in \u001b[0;36mDAQ.config_vertical\u001b[1;34m(cls)\u001b[0m\n\u001b[0;32m    265\u001b[0m     \u001b[39mprint\u001b[39m(\u001b[39m\"\u001b[39m\u001b[39mConfiguring vertical done\u001b[39m\u001b[39m\"\u001b[39m)\n\u001b[1;32m--> 266\u001b[0m     \u001b[39mcls\u001b[39;49m\u001b[39m.\u001b[39;49m_instance\u001b[39m.\u001b[39;49m_session\u001b[39m.\u001b[39;49mconfigure_vertical(\u001b[39mcls\u001b[39m\u001b[39m.\u001b[39m_instance\u001b[39m.\u001b[39mvertical_dic[\u001b[39m'\u001b[39m\u001b[39mrange\u001b[39m\u001b[39m'\u001b[39m], \u001b[39mcls\u001b[39m\u001b[39m.\u001b[39m_instance\u001b[39m.\u001b[39mvertical_dic[\u001b[39m'\u001b[39m\u001b[39mcoupling\u001b[39m\u001b[39m'\u001b[39m], \u001b[39mcls\u001b[39m\u001b[39m.\u001b[39m_instance\u001b[39m.\u001b[39mvertical_dic[\u001b[39m'\u001b[39m\u001b[39moffset\u001b[39m\u001b[39m'\u001b[39m], \u001b[39mcls\u001b[39m\u001b[39m.\u001b[39m_instance\u001b[39m.\u001b[39mvertical_dic[\u001b[39m'\u001b[39m\u001b[39mprobe_attenuation\u001b[39m\u001b[39m'\u001b[39m], \u001b[39mcls\u001b[39m\u001b[39m.\u001b[39m_instance\u001b[39m.\u001b[39mvertical_dic[\u001b[39m'\u001b[39m\u001b[39menabled\u001b[39m\u001b[39m'\u001b[39m])\n\u001b[0;32m    267\u001b[0m \u001b[39mexcept\u001b[39;00m \u001b[39mException\u001b[39;00m \u001b[39mas\u001b[39;00m e:\n",
      "\u001b[1;31mAttributeError\u001b[0m: 'NoneType' object has no attribute 'configure_vertical'",
      "\nDuring handling of the above exception, another exception occurred:\n",
      "\u001b[1;31mValueError\u001b[0m                                Traceback (most recent call last)",
      "Cell \u001b[1;32mIn[14], line 1\u001b[0m\n\u001b[1;32m----> 1\u001b[0m \u001b[43mdaq\u001b[49m\u001b[38;5;241;43m.\u001b[39;49m\u001b[43mconfig_vertical\u001b[49m\u001b[43m(\u001b[49m\u001b[43m)\u001b[49m\n",
      "File \u001b[1;32mC:\\\\Users\\\\oper\\\\SynologyDrive\\\\Lab2023\\\\KIDs\\\\QTLab2324\\\\IRSource\\\\DAQ\\DAQ.py:270\u001b[0m, in \u001b[0;36mDAQ.config_vertical\u001b[1;34m(cls)\u001b[0m\n\u001b[0;32m    268\u001b[0m \u001b[39mprint\u001b[39m(\u001b[39m\"\u001b[39m\u001b[39mVertical config went wrong\u001b[39m\u001b[39m\"\u001b[39m)\n\u001b[0;32m    269\u001b[0m \u001b[39mcls\u001b[39m\u001b[39m.\u001b[39m_instance\u001b[39m.\u001b[39mlogger\u001b[39m.\u001b[39merror(\u001b[39m\"\u001b[39m\u001b[39mVertical config went wrong\u001b[39m\u001b[39m\"\u001b[39m)\n\u001b[1;32m--> 270\u001b[0m \u001b[39mraise\u001b[39;00m \u001b[39mValueError\u001b[39;00m(\u001b[39m\"\u001b[39m\u001b[39mVertical config went wrong\u001b[39m\u001b[39m\"\u001b[39m)\n",
      "\u001b[1;31mValueError\u001b[0m: Vertical config went wrong"
     ]
    }
   ],
   "source": [
    "daq.config_vertical()"
   ]
  },
  {
   "cell_type": "code",
   "execution_count": null,
   "metadata": {},
   "outputs": [],
   "source": []
  }
 ],
 "metadata": {
  "kernelspec": {
   "display_name": "Python 3.8.8 64-bit",
   "language": "python",
   "name": "python3"
  },
  "language_info": {
   "codemirror_mode": {
    "name": "ipython",
    "version": 3
   },
   "file_extension": ".py",
   "mimetype": "text/x-python",
   "name": "python",
   "nbconvert_exporter": "python",
   "pygments_lexer": "ipython3",
   "version": "3.8.8"
  },
  "orig_nbformat": 4,
  "vscode": {
   "interpreter": {
    "hash": "189b550c5a54b5087499bdd5ba77e857e00a6effe232207122d63c93e93ce421"
   }
  }
 },
 "nbformat": 4,
 "nbformat_minor": 2
}
