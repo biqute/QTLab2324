{
 "cells": [
  {
   "cell_type": "code",
   "execution_count": 47,
   "metadata": {},
   "outputs": [],
   "source": [
    "import functools\n",
    "def logger_decorator(func):\n",
    "    @functools.wraps(func)\n",
    "    def wrapper(func,*args,**kwargs):\n",
    "        print(f'Calling {func.__name__}')\n",
    "        try:\n",
    "            callable(func)==True\n",
    "            func(*args, **kwargs)\n",
    "        except: \n",
    "            print(f'{func.__name__} is not callable')\n",
    "    return wrapper"
   ]
  },
  {
   "cell_type": "code",
   "execution_count": 71,
   "metadata": {},
   "outputs": [],
   "source": [
    "class even:\n",
    "    def __init__(self, number): #nell'inizializzazione del sintetizzatore occorre specificare se si sta costruendo la classe per il sintetizzatore uno o due\n",
    "        try: \n",
    "            number%2==0\n",
    "            self.num = number\n",
    "        except Exception:\n",
    "            raise (\"Number is not even\")\n",
    "        \n",
    "    #def __new__(cls, *args, **kwargs):\n",
    "    #    try:\n",
    "    #        instance = super().__new__(cls)\n",
    "    #        return instance\n",
    "    #    except Exception as e:\n",
    "    #        print('Could not create new synth class instance')\n",
    "            \n",
    "    def __name__(self):\n",
    "        return f\"{type(self).__name__}(number='{self.num}')\"\n",
    "    \n",
    "    "
   ]
  },
  {
   "cell_type": "code",
   "execution_count": 74,
   "metadata": {},
   "outputs": [],
   "source": [
    "n1 = even(2)\n",
    "n2 = even(3)"
   ]
  },
  {
   "cell_type": "code",
   "execution_count": 75,
   "metadata": {},
   "outputs": [
    {
     "data": {
      "text/plain": [
       "False"
      ]
     },
     "execution_count": 75,
     "metadata": {},
     "output_type": "execute_result"
    }
   ],
   "source": [
    "n2 is n1"
   ]
  },
  {
   "cell_type": "code",
   "execution_count": null,
   "metadata": {},
   "outputs": [],
   "source": []
  }
 ],
 "metadata": {
  "kernelspec": {
   "display_name": "Python 3",
   "language": "python",
   "name": "python3"
  },
  "language_info": {
   "codemirror_mode": {
    "name": "ipython",
    "version": 3
   },
   "file_extension": ".py",
   "mimetype": "text/x-python",
   "name": "python",
   "nbconvert_exporter": "python",
   "pygments_lexer": "ipython3",
   "version": "3.12.4"
  }
 },
 "nbformat": 4,
 "nbformat_minor": 2
}
