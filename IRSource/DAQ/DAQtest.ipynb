{
 "cells": [
  {
   "cell_type": "code",
   "execution_count": 1,
   "metadata": {},
   "outputs": [],
   "source": [
    "import DAQ\n",
    "import niscope as ni"
   ]
  },
  {
   "cell_type": "code",
   "execution_count": 2,
   "metadata": {},
   "outputs": [
    {
     "name": "stdout",
     "output_type": "stream",
     "text": [
      "Connected to PXI1Slot3\n"
     ]
    }
   ],
   "source": [
    "daq = DAQ.DAQ('PXI1Slot3')"
   ]
  },
  {
   "cell_type": "code",
   "execution_count": 3,
   "metadata": {},
   "outputs": [
    {
     "name": "stdout",
     "output_type": "stream",
     "text": [
      "Vertical config property added\n"
     ]
    },
    {
     "data": {
      "text/plain": [
       "<DAQ.DAQ at 0x8442310>"
      ]
     },
     "execution_count": 3,
     "metadata": {},
     "output_type": "execute_result"
    }
   ],
   "source": [
    "vertical = {\n",
    "        'range': 2.0,\n",
    "        'coupling': ni.VerticalCoupling.AC,\n",
    "        'offset': 0.0,\n",
    "        'probe_attenuation': 0.0,\n",
    "        'enabled': True\n",
    "    }\n",
    "daq.vertical_conf(vertical)\n"
   ]
  },
  {
   "cell_type": "code",
   "execution_count": 4,
   "metadata": {},
   "outputs": [
    {
     "name": "stdout",
     "output_type": "stream",
     "text": [
      "Horizontal config property added\n"
     ]
    },
    {
     "data": {
      "text/plain": [
       "<DAQ.DAQ at 0x8442310>"
      ]
     },
     "execution_count": 4,
     "metadata": {},
     "output_type": "execute_result"
    }
   ],
   "source": [
    "horizontal = {\n",
    "        'min_sample_rate': 250e6,\n",
    "        'min_num_pts': 1000,\n",
    "        'ref_position': 0,\n",
    "        'num_records': 1,\n",
    "        'enforce_realtime': True\n",
    "    }\n",
    "daq.horizontal_conf(horizontal)"
   ]
  },
  {
   "cell_type": "code",
   "execution_count": 5,
   "metadata": {},
   "outputs": [
    {
     "name": "stderr",
     "output_type": "stream",
     "text": [
      "Acquisition status: AcquisitionStatus.COMPLETE\n"
     ]
    },
    {
     "name": "stdout",
     "output_type": "stream",
     "text": [
      "AcquisitionStatus.COMPLETE\n",
      "Ready to listen!\n"
     ]
    }
   ],
   "source": [
    "daq.available()"
   ]
  },
  {
   "cell_type": "code",
   "execution_count": 6,
   "metadata": {},
   "outputs": [
    {
     "name": "stdout",
     "output_type": "stream",
     "text": [
      "Get current session\n"
     ]
    },
    {
     "data": {
      "text/plain": [
       "niscope.Session(resource_name='PXI1Slot3', id_query=False, reset_device=False, options='')"
      ]
     },
     "execution_count": 6,
     "metadata": {},
     "output_type": "execute_result"
    }
   ],
   "source": [
    "daq.get_session()"
   ]
  },
  {
   "cell_type": "code",
   "execution_count": 7,
   "metadata": {},
   "outputs": [
    {
     "name": "stdout",
     "output_type": "stream",
     "text": [
      "Resetting with defaults\n"
     ]
    }
   ],
   "source": [
    "daq.reset_with_def()"
   ]
  },
  {
   "cell_type": "code",
   "execution_count": 8,
   "metadata": {},
   "outputs": [
    {
     "name": "stdout",
     "output_type": "stream",
     "text": [
      "Enabling channels\n"
     ]
    }
   ],
   "source": [
    "daq.enable_channels()"
   ]
  },
  {
   "cell_type": "code",
   "execution_count": 9,
   "metadata": {},
   "outputs": [
    {
     "name": "stdout",
     "output_type": "stream",
     "text": [
      "Configuring vertical done\n"
     ]
    }
   ],
   "source": [
    "daq.config_vertical()"
   ]
  },
  {
   "cell_type": "code",
   "execution_count": 10,
   "metadata": {},
   "outputs": [
    {
     "name": "stdout",
     "output_type": "stream",
     "text": [
      "Horizontal timing configuration done\n"
     ]
    }
   ],
   "source": [
    "daq.config_hor_timing()"
   ]
  },
  {
   "cell_type": "code",
   "execution_count": 11,
   "metadata": {},
   "outputs": [],
   "source": [
    "triggerconf = {\n",
    "        'trigger_type'  : 'DIG',\n",
    "        'trigger_source': 'VAL_PFI_0', \n",
    "        'slope'         : ni.TriggerSlope.POSITIVE, \n",
    "        'holdoff'       : 0, \n",
    "        'delay'         : 0\n",
    "}\n",
    "\n",
    "trigger = {\n",
    "        'trigger_type'    : 'DIG',\n",
    "        'trigger_source'  : '1',\n",
    "        'level'           : '-0.031',\n",
    "        'trigger_coupling': None,\n",
    "        'slope'           : ni.TriggerSlope.POSITIVE,\n",
    "        'holdoff'         : 0.0,\n",
    "        'delay'           : 0.0       \n",
    "    }\n",
    "\n",
    "trigger_edge = {\n",
    "        'trigger_type'    : 'EDGE',\n",
    "        'trigger_source': '',\n",
    "        'level': 2,\n",
    "        'trigger_coupling': ni.enums.TriggerCoupling.AC,\n",
    "        'slope': ni.TriggerSlope.POSITIVE,\n",
    "        'holdoff' : 0.0,\n",
    "        'delay' : 0.0\n",
    "    }"
   ]
  },
  {
   "cell_type": "code",
   "execution_count": 12,
   "metadata": {},
   "outputs": [
    {
     "name": "stdout",
     "output_type": "stream",
     "text": [
      "Trigger dictionary added\n"
     ]
    },
    {
     "data": {
      "text/plain": [
       "<DAQ.DAQ at 0x8442310>"
      ]
     },
     "execution_count": 12,
     "metadata": {},
     "output_type": "execute_result"
    }
   ],
   "source": [
    "daq.set_trigger_dic(triggerconf)"
   ]
  },
  {
   "cell_type": "code",
   "execution_count": 13,
   "metadata": {},
   "outputs": [
    {
     "name": "stdout",
     "output_type": "stream",
     "text": [
      "DIG\n"
     ]
    }
   ],
   "source": [
    "daq.get_trigger_type"
   ]
  },
  {
   "cell_type": "code",
   "execution_count": 14,
   "metadata": {},
   "outputs": [
    {
     "name": "stdout",
     "output_type": "stream",
     "text": [
      "Digital trigger configuration done correctly\n"
     ]
    }
   ],
   "source": [
    "daq.config_dig_trigger()"
   ]
  },
  {
   "cell_type": "code",
   "execution_count": 21,
   "metadata": {},
   "outputs": [
    {
     "name": "stdout",
     "output_type": "stream",
     "text": [
      "Channels char config property added\n"
     ]
    },
    {
     "data": {
      "text/plain": [
       "<DAQ.DAQ at 0x8442310>"
      ]
     },
     "execution_count": 21,
     "metadata": {},
     "output_type": "execute_result"
    }
   ],
   "source": [
    "chan_conf = {\n",
    "    'input_impedance': float(5),\n",
    "    'max_frequency': 0\n",
    "}\n",
    "daq.chan_conf(chan_conf)"
   ]
  },
  {
   "cell_type": "code",
   "execution_count": 26,
   "metadata": {},
   "outputs": [
    {
     "ename": "DriverError",
     "evalue": "-1074126847: Specified channel is not enabled.\n\nCannot fetch waveform from disabled channel.",
     "output_type": "error",
     "traceback": [
      "\u001b[1;31m---------------------------------------------------------------------------\u001b[0m",
      "\u001b[1;31mDriverError\u001b[0m                               Traceback (most recent call last)",
      "Cell \u001b[1;32mIn[26], line 3\u001b[0m\n\u001b[0;32m      1\u001b[0m session \u001b[38;5;241m=\u001b[39m ni\u001b[38;5;241m.\u001b[39mSession(\u001b[38;5;124m'\u001b[39m\u001b[38;5;124mPXI1Slot3\u001b[39m\u001b[38;5;124m'\u001b[39m)\n\u001b[0;32m      2\u001b[0m \u001b[38;5;28;01mwith\u001b[39;00m session\u001b[38;5;241m.\u001b[39minitiate():\n\u001b[1;32m----> 3\u001b[0m     waveforms \u001b[38;5;241m=\u001b[39m \u001b[43msession\u001b[49m\u001b[38;5;241;43m.\u001b[39;49m\u001b[43mchannels\u001b[49m\u001b[43m[\u001b[49m\u001b[38;5;241;43m0\u001b[39;49m\u001b[43m,\u001b[49m\u001b[43m \u001b[49m\u001b[38;5;241;43m2\u001b[39;49m\u001b[43m]\u001b[49m\u001b[38;5;241;43m.\u001b[39;49m\u001b[43mfetch\u001b[49m\u001b[43m(\u001b[49m\u001b[43m)\u001b[49m\n",
      "File \u001b[1;32mc:\\Users\\oper\\AppData\\Local\\Programs\\Python\\Python38\\lib\\site-packages\\niscope\\session.py:43\u001b[0m, in \u001b[0;36mivi_synchronized.<locals>.aux\u001b[1;34m(*xs, **kws)\u001b[0m\n\u001b[0;32m     41\u001b[0m session \u001b[39m=\u001b[39m xs[\u001b[39m0\u001b[39m]  \u001b[39m# parameter 0 is 'self' which is the session object\u001b[39;00m\n\u001b[0;32m     42\u001b[0m \u001b[39mwith\u001b[39;00m session\u001b[39m.\u001b[39mlock():\n\u001b[1;32m---> 43\u001b[0m     \u001b[39mreturn\u001b[39;00m f(\u001b[39m*\u001b[39;49mxs, \u001b[39m*\u001b[39;49m\u001b[39m*\u001b[39;49mkws)\n",
      "File \u001b[1;32mc:\\Users\\oper\\AppData\\Local\\Programs\\Python\\Python38\\lib\\site-packages\\niscope\\session.py:2126\u001b[0m, in \u001b[0;36m_SessionBase.fetch\u001b[1;34m(self, num_samples, relative_to, offset, record_number, num_records, timeout)\u001b[0m\n\u001b[0;32m   2123\u001b[0m     \u001b[39mif\u001b[39;00m num_samples \u001b[39mis\u001b[39;00m \u001b[39mNone\u001b[39;00m:\n\u001b[0;32m   2124\u001b[0m         num_samples \u001b[39m=\u001b[39m \u001b[39mself\u001b[39m\u001b[39m.\u001b[39mhorz_record_length\n\u001b[1;32m-> 2126\u001b[0m wfm, wfm_info \u001b[39m=\u001b[39m \u001b[39mself\u001b[39;49m\u001b[39m.\u001b[39;49m_fetch(num_samples, timeout)\n\u001b[0;32m   2128\u001b[0m \u001b[39mif\u001b[39;00m \u001b[39misinstance\u001b[39m(wfm, array\u001b[39m.\u001b[39mArrayType):\n\u001b[0;32m   2129\u001b[0m     mv \u001b[39m=\u001b[39m \u001b[39mmemoryview\u001b[39m(wfm)\n",
      "File \u001b[1;32mc:\\Users\\oper\\AppData\\Local\\Programs\\Python\\Python38\\lib\\site-packages\\niscope\\session.py:43\u001b[0m, in \u001b[0;36mivi_synchronized.<locals>.aux\u001b[1;34m(*xs, **kws)\u001b[0m\n\u001b[0;32m     41\u001b[0m session \u001b[39m=\u001b[39m xs[\u001b[39m0\u001b[39m]  \u001b[39m# parameter 0 is 'self' which is the session object\u001b[39;00m\n\u001b[0;32m     42\u001b[0m \u001b[39mwith\u001b[39;00m session\u001b[39m.\u001b[39mlock():\n\u001b[1;32m---> 43\u001b[0m     \u001b[39mreturn\u001b[39;00m f(\u001b[39m*\u001b[39;49mxs, \u001b[39m*\u001b[39;49m\u001b[39m*\u001b[39;49mkws)\n",
      "File \u001b[1;32mc:\\Users\\oper\\AppData\\Local\\Programs\\Python\\Python38\\lib\\site-packages\\niscope\\session.py:2561\u001b[0m, in \u001b[0;36m_SessionBase._fetch\u001b[1;34m(self, num_samples, timeout)\u001b[0m\n\u001b[0;32m   2470\u001b[0m \u001b[39mr\u001b[39m\u001b[39m'''_fetch\u001b[39;00m\n\u001b[0;32m   2471\u001b[0m \n\u001b[0;32m   2472\u001b[0m \u001b[39mReturns the waveform from a previously initiated acquisition that the\u001b[39;00m\n\u001b[1;32m   (...)\u001b[0m\n\u001b[0;32m   2558\u001b[0m \n\u001b[0;32m   2559\u001b[0m \u001b[39m'''\u001b[39;00m\n\u001b[0;32m   2560\u001b[0m timeout \u001b[39m=\u001b[39m _converters\u001b[39m.\u001b[39mconvert_timedelta_to_seconds_real64(timeout)\n\u001b[1;32m-> 2561\u001b[0m waveform, wfm_info \u001b[39m=\u001b[39m \u001b[39mself\u001b[39;49m\u001b[39m.\u001b[39;49m_interpreter\u001b[39m.\u001b[39;49mfetch(\u001b[39mself\u001b[39;49m\u001b[39m.\u001b[39;49m_repeated_capability, timeout, num_samples)\n\u001b[0;32m   2562\u001b[0m \u001b[39mreturn\u001b[39;00m waveform, wfm_info\n",
      "File \u001b[1;32mc:\\Users\\oper\\AppData\\Local\\Programs\\Python\\Python38\\lib\\site-packages\\niscope\\_library_interpreter.py:373\u001b[0m, in \u001b[0;36mLibraryInterpreter.fetch\u001b[1;34m(self, channel_list, timeout, num_samples)\u001b[0m\n\u001b[0;32m    371\u001b[0m wfm_info_ctype \u001b[39m=\u001b[39m _get_ctypes_pointer_for_buffer(library_type\u001b[39m=\u001b[39mwaveform_info\u001b[39m.\u001b[39mstruct_niScope_wfmInfo, size\u001b[39m=\u001b[39mwfm_info_size)  \u001b[39m# case B560\u001b[39;00m\n\u001b[0;32m    372\u001b[0m error_code \u001b[39m=\u001b[39m \u001b[39mself\u001b[39m\u001b[39m.\u001b[39m_library\u001b[39m.\u001b[39mniScope_Fetch(vi_ctype, channel_list_ctype, timeout_ctype, num_samples_ctype, waveform_ctype, wfm_info_ctype)\n\u001b[1;32m--> 373\u001b[0m errors\u001b[39m.\u001b[39;49mhandle_error(\u001b[39mself\u001b[39;49m, error_code, ignore_warnings\u001b[39m=\u001b[39;49m\u001b[39mFalse\u001b[39;49;00m, is_error_handling\u001b[39m=\u001b[39;49m\u001b[39mFalse\u001b[39;49;00m)\n\u001b[0;32m    374\u001b[0m \u001b[39mreturn\u001b[39;00m waveform_array, [waveform_info\u001b[39m.\u001b[39mWaveformInfo(wfm_info_ctype[i]) \u001b[39mfor\u001b[39;00m i \u001b[39min\u001b[39;00m \u001b[39mrange\u001b[39m(\u001b[39mself\u001b[39m\u001b[39m.\u001b[39mactual_num_wfms(channel_list))]\n",
      "File \u001b[1;32mc:\\Users\\oper\\AppData\\Local\\Programs\\Python\\Python38\\lib\\site-packages\\niscope\\errors.py:123\u001b[0m, in \u001b[0;36mhandle_error\u001b[1;34m(library_interpreter, code, ignore_warnings, is_error_handling)\u001b[0m\n\u001b[0;32m    120\u001b[0m     description \u001b[39m=\u001b[39m library_interpreter\u001b[39m.\u001b[39mget_error_description(code)\n\u001b[0;32m    122\u001b[0m \u001b[39mif\u001b[39;00m _is_error(code):\n\u001b[1;32m--> 123\u001b[0m     \u001b[39mraise\u001b[39;00m DriverError(code, description)\n\u001b[0;32m    125\u001b[0m \u001b[39massert\u001b[39;00m _is_warning(code)\n\u001b[0;32m    126\u001b[0m warnings\u001b[39m.\u001b[39mwarn(DriverWarning(code, description))\n",
      "\u001b[1;31mDriverError\u001b[0m: -1074126847: Specified channel is not enabled.\n\nCannot fetch waveform from disabled channel."
     ]
    }
   ],
   "source": [
    "session = ni.Session('PXI1Slot3')\n",
    "with session.initiate():\n",
    "    waveforms = session.channels[0, 2].fetch()"
   ]
  },
  {
   "cell_type": "code",
   "execution_count": null,
   "metadata": {},
   "outputs": [],
   "source": []
  }
 ],
 "metadata": {
  "kernelspec": {
   "display_name": "Python 3.8.8 64-bit",
   "language": "python",
   "name": "python3"
  },
  "language_info": {
   "codemirror_mode": {
    "name": "ipython",
    "version": 3
   },
   "file_extension": ".py",
   "mimetype": "text/x-python",
   "name": "python",
   "nbconvert_exporter": "python",
   "pygments_lexer": "ipython3",
   "version": "3.8.8"
  },
  "orig_nbformat": 4,
  "vscode": {
   "interpreter": {
    "hash": "189b550c5a54b5087499bdd5ba77e857e00a6effe232207122d63c93e93ce421"
   }
  }
 },
 "nbformat": 4,
 "nbformat_minor": 2
}
