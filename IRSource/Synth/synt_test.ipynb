{
 "cells": [
  {
   "cell_type": "code",
   "execution_count": 1,
   "metadata": {},
   "outputs": [
    {
     "name": "stdout",
     "output_type": "stream",
     "text": [
      "Synth_uno!\n",
      "Synth_due!\n",
      "Si è connessi al synth_uno!\n",
      "Si è connessi al synth_due!\n"
     ]
    }
   ],
   "source": [
    "import Synthesizer\n",
    "synth_uno = Synthesizer.Synthesizer(1)\n",
    "synth_due = Synthesizer.Synthesizer(2)\n",
    "synth_uno.connettore()\n",
    "synth_due.connettore()"
   ]
  },
  {
   "cell_type": "code",
   "execution_count": 2,
   "metadata": {},
   "outputs": [],
   "source": [
    "frequenza_uno = '1GHz'\n",
    "synth_uno.set_frequency(frequenza_uno)\n",
    "synth_uno.outp_frequency_on()"
   ]
  },
  {
   "cell_type": "code",
   "execution_count": 10,
   "metadata": {},
   "outputs": [],
   "source": [
    "frequenza_due = '1.005GHz'\n",
    "synth_due.set_frequency(frequenza_due)\n",
    "synth_due.outp_frequency_on()"
   ]
  },
  {
   "cell_type": "code",
   "execution_count": 4,
   "metadata": {},
   "outputs": [
    {
     "data": {
      "text/plain": [
       "('1000000000000\\n', '1005000000000\\n')"
      ]
     },
     "execution_count": 4,
     "metadata": {},
     "output_type": "execute_result"
    }
   ],
   "source": [
    "synth_uno.get_frequency(), synth_due.get_frequency()"
   ]
  }
 ],
 "metadata": {
  "kernelspec": {
   "display_name": "Python 3.8.6 64-bit",
   "language": "python",
   "name": "python3"
  },
  "language_info": {
   "codemirror_mode": {
    "name": "ipython",
    "version": 3
   },
   "file_extension": ".py",
   "mimetype": "text/x-python",
   "name": "python",
   "nbconvert_exporter": "python",
   "pygments_lexer": "ipython3",
   "version": "3.8.6"
  },
  "orig_nbformat": 4,
  "vscode": {
   "interpreter": {
    "hash": "ca7fb12e8dddb717a45af6dd1993c67b83aa05886451cd3b5212fabc2a7dc798"
   }
  }
 },
 "nbformat": 4,
 "nbformat_minor": 2
}
