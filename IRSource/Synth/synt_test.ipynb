{
 "cells": [
  {
   "cell_type": "code",
   "execution_count": 1,
   "metadata": {},
   "outputs": [
    {
     "name": "stdout",
     "output_type": "stream",
     "text": [
      "Synth_uno!\n",
      "Synth_due!\n"
     ]
    }
   ],
   "source": [
    "import Synthesizer\n",
    "synth_uno = Synthesizer.Synthesizer(1)\n",
    "synth_due = Synthesizer.Synthesizer(2)"
   ]
  },
  {
   "cell_type": "code",
   "execution_count": 2,
   "metadata": {},
   "outputs": [
    {
     "name": "stdout",
     "output_type": "stream",
     "text": [
      "Si è connessi al synth_uno!\n",
      "Si è connessi al synth_due!\n"
     ]
    }
   ],
   "source": [
    "synth_uno.connettore()\n",
    "synth_due.connettore()"
   ]
  },
  {
   "cell_type": "code",
   "execution_count": 3,
   "metadata": {},
   "outputs": [
    {
     "data": {
      "text/plain": [
       "(<'SerialInstrument'('ASRL5::INSTR')>, <'SerialInstrument'('ASRL26::INSTR')>)"
      ]
     },
     "execution_count": 3,
     "metadata": {},
     "output_type": "execute_result"
    }
   ],
   "source": [
    "synth_uno.indirizzo, synth_due.indirizzo"
   ]
  },
  {
   "cell_type": "code",
   "execution_count": 4,
   "metadata": {},
   "outputs": [
    {
     "data": {
      "text/plain": [
       "('Phase Matrix,FSW-0010,00000009,1320110392,0100\\n',\n",
       " 'Phase Matrix,FSW-0010,00000009,1320110722,0100\\n')"
      ]
     },
     "execution_count": 4,
     "metadata": {},
     "output_type": "execute_result"
    }
   ],
   "source": [
    "synth_uno.ask_name(), synth_due.ask_name()"
   ]
  },
  {
   "cell_type": "code",
   "execution_count": 5,
   "metadata": {},
   "outputs": [
    {
     "data": {
      "text/plain": [
       "('Phase Matrix,FSW-0010,00000009,1320110722,0100\\n',\n",
       " 'Phase Matrix,FSW-0010,00000009,1320110392,0100\\n')"
      ]
     },
     "execution_count": 5,
     "metadata": {},
     "output_type": "execute_result"
    }
   ],
   "source": [
    "synth_due.ask_name(), synth_uno.ask_name()"
   ]
  },
  {
   "cell_type": "code",
   "execution_count": 6,
   "metadata": {},
   "outputs": [
    {
     "data": {
      "text/plain": [
       "('Phase Matrix,FSW-0010,00000009,1320110722,0100\\n',\n",
       " 'Phase Matrix,FSW-0010,00000009,1320110722,0100\\n')"
      ]
     },
     "execution_count": 6,
     "metadata": {},
     "output_type": "execute_result"
    }
   ],
   "source": [
    "synth_due.ask_name(), synth_due.ask_name()"
   ]
  },
  {
   "cell_type": "code",
   "execution_count": null,
   "metadata": {},
   "outputs": [],
   "source": []
  }
 ],
 "metadata": {
  "kernelspec": {
   "display_name": "Python 3.8.6 64-bit",
   "language": "python",
   "name": "python3"
  },
  "language_info": {
   "codemirror_mode": {
    "name": "ipython",
    "version": 3
   },
   "file_extension": ".py",
   "mimetype": "text/x-python",
   "name": "python",
   "nbconvert_exporter": "python",
   "pygments_lexer": "ipython3",
   "version": "3.8.6"
  },
  "orig_nbformat": 4,
  "vscode": {
   "interpreter": {
    "hash": "ca7fb12e8dddb717a45af6dd1993c67b83aa05886451cd3b5212fabc2a7dc798"
   }
  }
 },
 "nbformat": 4,
 "nbformat_minor": 2
}
