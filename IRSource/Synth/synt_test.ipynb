{
 "cells": [
  {
   "cell_type": "code",
   "execution_count": 1,
   "metadata": {},
   "outputs": [],
   "source": [
    "import Synthesizer"
   ]
  },
  {
   "cell_type": "code",
   "execution_count": 2,
   "metadata": {},
   "outputs": [],
   "source": [
    "synt1 = Synthesizer.Synthesizer(1)\n",
    "synt2 = Synthesizer.Synthesizer(2)"
   ]
  },
  {
   "cell_type": "code",
   "execution_count": 3,
   "metadata": {},
   "outputs": [
    {
     "ename": "AttributeError",
     "evalue": "'SerialInstrument' object has no attribute 'ask_name'",
     "output_type": "error",
     "traceback": [
      "\u001b[1;31m---------------------------------------------------------------------------\u001b[0m",
      "\u001b[1;31mAttributeError\u001b[0m                            Traceback (most recent call last)",
      "Cell \u001b[1;32mIn[3], line 1\u001b[0m\n\u001b[1;32m----> 1\u001b[0m \u001b[43msynt1\u001b[49m\u001b[38;5;241;43m.\u001b[39;49m\u001b[43mask_name\u001b[49m()\n\u001b[0;32m      2\u001b[0m synt2\u001b[38;5;241m.\u001b[39mask_name()\n",
      "\u001b[1;31mAttributeError\u001b[0m: 'SerialInstrument' object has no attribute 'ask_name'"
     ]
    }
   ],
   "source": [
    "synt1.ask_name()\n",
    "synt2.ask_name()"
   ]
  },
  {
   "cell_type": "code",
   "execution_count": 4,
   "metadata": {},
   "outputs": [
    {
     "ename": "AttributeError",
     "evalue": "'SerialInstrument' object has no attribute '_synth'",
     "output_type": "error",
     "traceback": [
      "\u001b[1;31m---------------------------------------------------------------------------\u001b[0m",
      "\u001b[1;31mAttributeError\u001b[0m                            Traceback (most recent call last)",
      "Cell \u001b[1;32mIn[4], line 1\u001b[0m\n\u001b[1;32m----> 1\u001b[0m \u001b[43msynt1\u001b[49m\u001b[38;5;241;43m.\u001b[39;49m\u001b[43m_synth\u001b[49m()\n",
      "\u001b[1;31mAttributeError\u001b[0m: 'SerialInstrument' object has no attribute '_synth'"
     ]
    }
   ],
   "source": [
    "synt1._synth()"
   ]
  },
  {
   "cell_type": "code",
   "execution_count": null,
   "metadata": {},
   "outputs": [],
   "source": []
  }
 ],
 "metadata": {
  "kernelspec": {
   "display_name": "Python 3.8.6 64-bit",
   "language": "python",
   "name": "python3"
  },
  "language_info": {
   "codemirror_mode": {
    "name": "ipython",
    "version": 3
   },
   "file_extension": ".py",
   "mimetype": "text/x-python",
   "name": "python",
   "nbconvert_exporter": "python",
   "pygments_lexer": "ipython3",
   "version": "3.8.6"
  },
  "orig_nbformat": 4,
  "vscode": {
   "interpreter": {
    "hash": "ca7fb12e8dddb717a45af6dd1993c67b83aa05886451cd3b5212fabc2a7dc798"
   }
  }
 },
 "nbformat": 4,
 "nbformat_minor": 2
}
