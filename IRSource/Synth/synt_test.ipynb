{
 "cells": [
  {
   "cell_type": "code",
   "execution_count": 28,
   "metadata": {},
   "outputs": [
    {
     "name": "stdout",
     "output_type": "stream",
     "text": [
      "Synth_uno!\n",
      "Synth_due!\n",
      "Si è connessi al synth_uno!\n",
      "Si è connessi al synth_due!\n"
     ]
    }
   ],
   "source": [
    "import Synthesizer\n",
    "synth_uno = Synthesizer.Synthesizer(1)\n",
    "synth_due = Synthesizer.Synthesizer(2)\n",
    "synth_uno.connettore()\n",
    "synth_due.connettore()"
   ]
  },
  {
   "cell_type": "code",
   "execution_count": 29,
   "metadata": {},
   "outputs": [],
   "source": [
    "import numpy as np\n",
    "def to_W(P):\n",
    "    return np.power(10,P/10)*1e-3\n",
    "\n",
    "def voltage(P_mW,R):\n",
    "    return np.sqrt(P_mW*R)"
   ]
  },
  {
   "cell_type": "code",
   "execution_count": 225,
   "metadata": {},
   "outputs": [],
   "source": [
    "frequenza_uno = '1GHz'\n",
    "synth_uno.set_frequency(frequenza_uno)\n",
    "synth_uno.outp_frequency_on()"
   ]
  },
  {
   "cell_type": "code",
   "execution_count": 61,
   "metadata": {},
   "outputs": [
    {
     "name": "stdout",
     "output_type": "stream",
     "text": [
      "P_W =  0.0031622776601683794\n",
      "V =  0.3976353643835253\n"
     ]
    }
   ],
   "source": [
    "P_dBm = 5\n",
    "P_W = to_W(P_dBm)\n",
    "print('P_W = ', P_W)\n",
    "print('V = ', voltage(P_W,50))"
   ]
  },
  {
   "cell_type": "code",
   "execution_count": 237,
   "metadata": {},
   "outputs": [],
   "source": [
    "frequenza_due = '1.5GHz'\n",
    "synth_due.set_frequency(frequenza_due)\n",
    "synth_due.outp_frequency_on()"
   ]
  },
  {
   "cell_type": "code",
   "execution_count": 33,
   "metadata": {},
   "outputs": [
    {
     "data": {
      "text/plain": [
       "('500000000000\\n', '500000000000\\n')"
      ]
     },
     "execution_count": 33,
     "metadata": {},
     "output_type": "execute_result"
    }
   ],
   "source": [
    "synth_uno.get_frequency(), synth_due.get_frequency()"
   ]
  },
  {
   "cell_type": "code",
   "execution_count": 40,
   "metadata": {},
   "outputs": [],
   "source": [
    "synth_uno.set_power(50)"
   ]
  },
  {
   "cell_type": "code",
   "execution_count": 102,
   "metadata": {},
   "outputs": [
    {
     "name": "stdout",
     "output_type": "stream",
     "text": [
      "F (sorted in ascending order):\n",
      "[0.2, 0.25, 0.3, 0.35, 0.4, 0.5, 0.6, 0.7, 0.8, 1, 1.5, 2]\n",
      "A (sorted using the indexes from the sorted F):\n",
      "[1640, 840, 630, 524, 136, 186, 106, 64, 40, 7, 1.52, 1.56]\n"
     ]
    }
   ],
   "source": [
    "# Given lists\n",
    "F = [1, 1.5, 2, 0.7, 0.8, 0.6, 0.5, 0.4, 0.2, 0.3, 0.25, 0.35]\n",
    "A = [7, 1.52, 1.56, 64, 40, 106, 186, 136, 1640, 630, 840, 524]\n",
    "\n",
    "# Sorting F in ascending order and getting the sorted indexes\n",
    "sorted_indexes = sorted(range(len(F)), key=lambda k: F[k])\n",
    "\n",
    "# Using the sorted indexes to sort A\n",
    "F_sorted = [F[i] for i in sorted_indexes]\n",
    "A_sorted = [A[i] for i in sorted_indexes]\n",
    "dB = [10*np.log10(A_sorted[i]**2*1/50*1e-3) for i in sorted_indexes]\n",
    "\n",
    "# Printing the sorted lists\n",
    "print(\"F (sorted in ascending order):\")\n",
    "print(F_sorted)\n",
    "\n",
    "print(\"A (sorted using the indexes from the sorted F):\")\n",
    "print(A_sorted)"
   ]
  },
  {
   "cell_type": "code",
   "execution_count": 250,
   "metadata": {},
   "outputs": [
    {
     "data": {
      "text/plain": [
       "Text(0.5, 1.0, 'SMA 596004 output')"
      ]
     },
     "execution_count": 250,
     "metadata": {},
     "output_type": "execute_result"
    },
    {
     "data": {
      "image/png": "[encoded data removed]",
      "text/plain": [
       "<Figure size 432x288 with 1 Axes>"
      ]
     },
     "metadata": {
      "needs_background": "light"
     },
     "output_type": "display_data"
    }
   ],
   "source": [
    "import matplotlib.pyplot as plt\n",
    "\n",
    "fig, axs = plt.subplots()\n",
    "axs.scatter(F_sorted,A_sorted, color='black', marker='x')\n",
    "axs.set_facecolor('lightblue')\n",
    "axs.set_xlabel(r\"$\\nu$ [GHz]\")\n",
    "axs.set_ylabel('mV')\n",
    "axs.grid()\n",
    "axs.set_title('SMA 596004 output')"
   ]
  },
  {
   "cell_type": "code",
   "execution_count": 249,
   "metadata": {},
   "outputs": [
    {
     "data": {
      "text/plain": [
       "Text(0.5, 1.0, 'Mixers outpt using SMA cable 596004')"
      ]
     },
     "execution_count": 249,
     "metadata": {},
     "output_type": "execute_result"
    },
    {
     "data": {
      "image/png": "[encoded data removed]",
      "text/plain": [
       "<Figure size 1080x360 with 1 Axes>"
      ]
     },
     "metadata": {
      "needs_background": "light"
     },
     "output_type": "display_data"
    }
   ],
   "source": [
    "I = [70,386,380,372,346,338,340,360,358,320,340,78,70]\n",
    "Q = [84,82,76,64,78,94,88,80,88,102,94,46,100]\n",
    "I2 = [340,354,346,340,280,299,310,325,290,291,305,66,71]\n",
    "Q2 = [124,121,108,84,99,129,127,101,100,131,108,50,119]\n",
    "D = [0.001,0.005,0.01,0.02,0.03,0.04,0.05,0.06,0.07,0.08,0.1,0.5,1]\n",
    "\n",
    "sorted_indexes2 = sorted(range(len(D)), key=lambda k: D[k])\n",
    "\n",
    "D_sorted = [D[i] for i in sorted_indexes2]\n",
    "Q_sorted = [Q[i] for i in sorted_indexes2]\n",
    "I_sorted = [I[i] for i in sorted_indexes2]\n",
    "Q_sorted2 = [Q2[i] for i in sorted_indexes2]\n",
    "I_sorted2 = [I2[i] for i in sorted_indexes2]\n",
    "\n",
    "fig, axs = plt.subplots(figsize=(15,5))\n",
    "axs.scatter(D_sorted,I_sorted, color='orange', marker='x', label='I - 1237')\n",
    "axs.scatter(D_sorted,Q_sorted, color='red', marker='.', label='Q - 1237')\n",
    "axs.scatter(D_sorted,I_sorted2, color='blue', marker='x', label='I - 1135')\n",
    "axs.scatter(D_sorted,Q_sorted2, color='violet', marker='.', label='Q - 1135')\n",
    "axs.set_facecolor('lightblue')\n",
    "axs.set_xlabel(r\"$\\Delta \\nu$ [GHz]\")\n",
    "axs.set_ylabel('mV')\n",
    "axs.set_xlim([0,0.1])\n",
    "axs.grid()\n",
    "axs.legend()\n",
    "axs.set_title('Mixers outpt using SMA cable 596004')"
   ]
  },
  {
   "cell_type": "code",
   "execution_count": null,
   "metadata": {},
   "outputs": [],
   "source": []
  }
 ],
 "metadata": {
  "kernelspec": {
   "display_name": "Python 3.8.6 64-bit",
   "language": "python",
   "name": "python3"
  },
  "language_info": {
   "codemirror_mode": {
    "name": "ipython",
    "version": 3
   },
   "file_extension": ".py",
   "mimetype": "text/x-python",
   "name": "python",
   "nbconvert_exporter": "python",
   "pygments_lexer": "ipython3",
   "version": "3.8.6"
  },
  "orig_nbformat": 4,
  "vscode": {
   "interpreter": {
    "hash": "ca7fb12e8dddb717a45af6dd1993c67b83aa05886451cd3b5212fabc2a7dc798"
   }
  }
 },
 "nbformat": 4,
 "nbformat_minor": 2
}
