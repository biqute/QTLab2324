{
 "cells": [
  {
   "cell_type": "code",
   "execution_count": 7,
   "metadata": {},
   "outputs": [],
   "source": [
    "import h5py as h5"
   ]
  },
  {
   "cell_type": "code",
   "execution_count": 8,
   "metadata": {},
   "outputs": [],
   "source": [
    "# Example dictionary\n",
    "data = {\n",
    "    'numbers': list(range(1, 101)),\n",
    "    'squares': [i ** 2 for i in range(1, 101)],\n",
    "    'cubes': [i ** 3 for i in range(1, 101)]\n",
    "}"
   ]
  },
  {
   "cell_type": "code",
   "execution_count": 9,
   "metadata": {},
   "outputs": [
    {
     "name": "stdout",
     "output_type": "stream",
     "text": [
      "Data has been written to data.h5\n"
     ]
    }
   ],
   "source": [
    "# Create an HDF5 file\n",
    "with h5.File('data.h5', 'w') as h5file:\n",
    "    for key, value in data.items():\n",
    "        h5file.create_dataset(key, data=value)\n",
    "\n",
    "print(\"Data has been written to data.h5\")"
   ]
  }
 ],
 "metadata": {
  "kernelspec": {
   "display_name": "Python 3",
   "language": "python",
   "name": "python3"
  },
  "language_info": {
   "codemirror_mode": {
    "name": "ipython",
    "version": 3
   },
   "file_extension": ".py",
   "mimetype": "text/x-python",
   "name": "python",
   "nbconvert_exporter": "python",
   "pygments_lexer": "ipython3",
   "version": "3.12.4"
  }
 },
 "nbformat": 4,
 "nbformat_minor": 2
}
