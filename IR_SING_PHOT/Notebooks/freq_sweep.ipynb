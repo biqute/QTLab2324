{
 "cells": [
  {
   "cell_type": "code",
   "execution_count": 1,
   "metadata": {},
   "outputs": [],
   "source": [
    "from Continuous_Acquisition import ACQUISITION_CONFIG\n",
    "import sys\n",
    "import time\n",
    "sys.path.append(r'C:\\Users\\kid\\SynologyDrive\\Lab2023\\KIDs\\QTLab2324\\IR_SING_PHOT\\Synth')\n",
    "sys.path.append(r'C:\\Users\\kid\\SynologyDrive\\Lab2023\\KIDs\\QTLab2324\\IR_SING_PHOT\\Exceptions')\n",
    "sys.path.append(r'C:\\Users\\kid\\SynologyDrive\\Lab2023\\KIDs\\QTLab2324\\IR_SING_PHOT\\DAQ')\n",
    "import Synthesizer\n",
    "from logs.logging_config import LOGGING_CONFIG\n",
    "from logging.config import dictConfig\n",
    "import logging\n",
    "import json\n",
    "from Exceptions import replace_non_serializable\n",
    "import DAQ\n",
    "import niscope as ni\n",
    "import numpy as np\n",
    "import matplotlib.pyplot as plt"
   ]
  },
  {
   "cell_type": "code",
   "execution_count": 2,
   "metadata": {},
   "outputs": [],
   "source": [
    "filepath = r'C:\\Users\\kid\\SynologyDrive\\Lab2023\\KIDs\\QTLab2324\\IR_SING_PHOT\\API'"
   ]
  },
  {
   "cell_type": "code",
   "execution_count": 3,
   "metadata": {},
   "outputs": [
    {
     "name": "stdout",
     "output_type": "stream",
     "text": [
      "19:33:46.960 - __main__ - <module> - INFO - START EXECUTION\n"
     ]
    }
   ],
   "source": [
    "dictConfig(LOGGING_CONFIG)\n",
    "logger = logging.getLogger(__name__)\n",
    "logger.info('START EXECUTION')"
   ]
  },
  {
   "cell_type": "code",
   "execution_count": 4,
   "metadata": {},
   "outputs": [
    {
     "name": "stdout",
     "output_type": "stream",
     "text": [
      "19:33:47.246 - __main__ - <module> - INFO - Dumping acquisition configuration\n"
     ]
    }
   ],
   "source": [
    "try:\n",
    "    cfg1 = json.dumps(replace_non_serializable(ACQUISITION_CONFIG))\n",
    "    logger.info('Dumping acquisition configuration')\n",
    "    with open(ACQUISITION_CONFIG['acq_conf']['path'] + 'config.json','w') as f:\n",
    "        f.write(cfg1)\n",
    "except Exception:\n",
    "    logger.critical('Dumping acquisition configuration')\n",
    "    raise SystemError(\"Could not dump acquisition configuration!\")"
   ]
  },
  {
   "cell_type": "code",
   "execution_count": 5,
   "metadata": {},
   "outputs": [
    {
     "name": "stdout",
     "output_type": "stream",
     "text": [
      "19:33:47.913 - __main__ - <module> - INFO - DAQ class object correctly created\n"
     ]
    }
   ],
   "source": [
    "try:\n",
    "    daq = DAQ.DAQ()\n",
    "    logger.info('DAQ class object correctly created')\n",
    "except Exception:\n",
    "    logger.critical('Could not crate DAQ class object')\n",
    "    raise SyntaxError('Could not create DAQ class object')"
   ]
  },
  {
   "cell_type": "code",
   "execution_count": 6,
   "metadata": {},
   "outputs": [],
   "source": [
    "channels = {'I'\t\t\t: 0, \n",
    "            'Q'\t\t\t: 3,\n",
    "            'trigger'\t: 3}"
   ]
  },
  {
   "cell_type": "code",
   "execution_count": 7,
   "metadata": {},
   "outputs": [],
   "source": [
    "devicename =  'PXI1Slot4'"
   ]
  },
  {
   "cell_type": "code",
   "execution_count": 8,
   "metadata": {},
   "outputs": [
    {
     "name": "stdout",
     "output_type": "stream",
     "text": [
      "19:33:49.296 - __main__ - <module> - ERROR - Could not reset DAQ with defaults\n"
     ]
    }
   ],
   "source": [
    "try:\n",
    "    daq.reset_with_def()\n",
    "    daq.get_status\n",
    "    logger.info('Resetting DAQ with defaults')\n",
    "except Exception:\n",
    "    logger.error('Could not reset DAQ with defaults')\n",
    "    pass"
   ]
  },
  {
   "cell_type": "code",
   "execution_count": 9,
   "metadata": {},
   "outputs": [
    {
     "name": "stdout",
     "output_type": "stream",
     "text": [
      "19:33:49.788 - __main__ - <module> - INFO - Inserting acquisition configuration from ACQUISITION_CONFIG dictionary\n"
     ]
    }
   ],
   "source": [
    "try:\n",
    "    daq.acq_conf = ACQUISITION_CONFIG['acq_conf']\n",
    "    logger.info('Inserting acquisition configuration from ACQUISITION_CONFIG dictionary')\n",
    "except Exception:\n",
    "    logger.warning('Coulkd not insert acquisition configuration')\n",
    "    raise SystemError('Coulkd not insert acquisition configuration')"
   ]
  },
  {
   "cell_type": "code",
   "execution_count": 10,
   "metadata": {},
   "outputs": [
    {
     "name": "stdout",
     "output_type": "stream",
     "text": [
      "19:33:50.067 - __main__ - <module> - INFO - Inserting hconf dic\n"
     ]
    }
   ],
   "source": [
    "try:\n",
    "    daq.horizontal_conf = ACQUISITION_CONFIG['horizontal']\n",
    "    logger.info('Inserting hconf dic')\n",
    "except Exception:\n",
    "    logger.warning('Could not insert hconf dic')\n",
    "    raise SystemError('Could not insert hconf dic')"
   ]
  },
  {
   "cell_type": "code",
   "execution_count": 11,
   "metadata": {},
   "outputs": [
    {
     "name": "stdout",
     "output_type": "stream",
     "text": [
      "19:33:50.358 - __main__ - <module> - INFO - Inserting vconf dic\n"
     ]
    }
   ],
   "source": [
    "try:\n",
    "    daq.vertical_conf = ACQUISITION_CONFIG['vertical']\n",
    "    logger.info('Inserting vconf dic')\n",
    "except Exception:\n",
    "    logger.warning('Could not insert vconf dic')\n",
    "    raise SystemError('Could not insert vconf dic')"
   ]
  },
  {
   "cell_type": "code",
   "execution_count": 12,
   "metadata": {},
   "outputs": [
    {
     "name": "stdout",
     "output_type": "stream",
     "text": [
      "19:33:50.745 - __main__ - <module> - INFO - Inserting chan char dic\n"
     ]
    }
   ],
   "source": [
    "try:\n",
    "    daq.chan_conf = ACQUISITION_CONFIG['chan_conf']\n",
    "    logger.info('Inserting chan char dic')\n",
    "except Exception:\n",
    "    logger.warning('Could not insert chan char dic')\n",
    "    raise SystemError('Could not insert chan char dic')"
   ]
  },
  {
   "cell_type": "code",
   "execution_count": 13,
   "metadata": {},
   "outputs": [
    {
     "name": "stdout",
     "output_type": "stream",
     "text": [
      "19:33:51.044 - __main__ - <module> - INFO - Inserting trigger dic\n"
     ]
    }
   ],
   "source": [
    "try:\n",
    "    daq.trigger_dic = ACQUISITION_CONFIG['trigger']\n",
    "    logger.info('Inserting trigger dic')\n",
    "except Exception:\n",
    "    logger.warning('Could not insert trigger dic')\n",
    "    raise SystemError('Could not insert trigger dic')"
   ]
  },
  {
   "cell_type": "code",
   "execution_count": 14,
   "metadata": {},
   "outputs": [
    {
     "name": "stdout",
     "output_type": "stream",
     "text": [
      "Synth_uno!\n",
      "Si è connessi al synth_uno!\n"
     ]
    }
   ],
   "source": [
    "s1 = Synthesizer.Synthesizer(1)\n",
    "s1.connettore()"
   ]
  },
  {
   "cell_type": "code",
   "execution_count": 15,
   "metadata": {},
   "outputs": [],
   "source": [
    "f0 = 5.345215443088618\n",
    "span = 1e-2\n",
    "fs = np.linspace(f0-span,f0+span,1000)"
   ]
  },
  {
   "cell_type": "code",
   "execution_count": 16,
   "metadata": {},
   "outputs": [],
   "source": [
    "s1.outp_frequency_on()"
   ]
  },
  {
   "cell_type": "code",
   "execution_count": 17,
   "metadata": {},
   "outputs": [],
   "source": [
    "s1.set_frequency(f0)"
   ]
  },
  {
   "cell_type": "code",
   "execution_count": 18,
   "metadata": {},
   "outputs": [],
   "source": [
    "data = {'CH0': [],\n",
    "        'CH3': []   \n",
    "                }"
   ]
  },
  {
   "cell_type": "code",
   "execution_count": 30,
   "metadata": {},
   "outputs": [
    {
     "name": "stdout",
     "output_type": "stream",
     "text": [
      "0\t5335215443089\n",
      "\n",
      "10\t5335415643289\n",
      "\n",
      "20\t5335615843489\n",
      "\n",
      "30\t5335816043689\n",
      "\n",
      "40\t5336016243889\n",
      "\n",
      "50\t5336216444090\n",
      "\n",
      "60\t5336416644290\n",
      "\n",
      "70\t5336616844490\n",
      "\n",
      "80\t5336817044690\n",
      "\n",
      "90\t5337017244890\n",
      "\n",
      "100\t5337217445091\n",
      "\n",
      "110\t5337417645291\n",
      "\n",
      "120\t5337617845491\n",
      "\n",
      "130\t5337818045691\n",
      "\n",
      "140\t5338018245891\n",
      "\n",
      "150\t5338218446092\n",
      "\n",
      "160\t5338418646292\n",
      "\n",
      "170\t5338618846492\n",
      "\n",
      "180\t5338819046692\n",
      "\n",
      "190\t5339019246892\n",
      "\n",
      "200\t5339219447093\n",
      "\n",
      "210\t5339419647293\n",
      "\n",
      "220\t5339619847493\n",
      "\n",
      "230\t5339820047693\n",
      "\n",
      "240\t5340020247893\n",
      "\n",
      "250\t5340220448094\n",
      "\n",
      "260\t5340420648294\n",
      "\n",
      "270\t5340620848494\n",
      "\n",
      "280\t5340821048694\n",
      "\n",
      "290\t5341021248894\n",
      "\n",
      "300\t5341221449095\n",
      "\n",
      "310\t5341421649295\n",
      "\n",
      "320\t5341621849495\n",
      "\n",
      "330\t5341822049695\n",
      "\n",
      "340\t5342022249895\n",
      "\n",
      "350\t5342222450096\n",
      "\n",
      "360\t5342422650296\n",
      "\n",
      "370\t5342622850496\n",
      "\n",
      "380\t5342823050696\n",
      "\n",
      "390\t5343023250896\n",
      "\n",
      "400\t5343223451097\n",
      "\n",
      "410\t5343423651297\n",
      "\n",
      "420\t5343623851497\n",
      "\n",
      "430\t5343824051697\n",
      "\n",
      "440\t5344024251897\n",
      "\n",
      "450\t5344224452098\n",
      "\n",
      "460\t5344424652298\n",
      "\n",
      "470\t5344624852498\n",
      "\n",
      "480\t5344825052698\n",
      "\n",
      "490\t5345025252898\n",
      "\n",
      "500\t5345225453099\n",
      "\n",
      "510\t5345425653299\n",
      "\n",
      "520\t5345625853499\n",
      "\n",
      "530\t5345826053699\n",
      "\n",
      "540\t5346026253899\n",
      "\n",
      "550\t5346226454100\n",
      "\n",
      "560\t5346426654300\n",
      "\n",
      "570\t5346626854500\n",
      "\n",
      "580\t5346827054700\n",
      "\n",
      "590\t5347027254900\n",
      "\n",
      "600\t5347227455101\n",
      "\n",
      "610\t5347427655301\n",
      "\n",
      "620\t5347627855501\n",
      "\n",
      "630\t5347828055701\n",
      "\n",
      "640\t5348028255901\n",
      "\n",
      "650\t5348228456102\n",
      "\n",
      "660\t5348428656302\n",
      "\n",
      "670\t5348628856502\n",
      "\n",
      "680\t5348829056702\n",
      "\n",
      "690\t5349029256902\n",
      "\n",
      "700\t5349229457103\n",
      "\n",
      "710\t5349429657303\n",
      "\n",
      "720\t5349629857503\n",
      "\n",
      "730\t5349830057703\n",
      "\n",
      "740\t5350030257903\n",
      "\n",
      "750\t5350230458104\n",
      "\n",
      "760\t5350430658304\n",
      "\n",
      "770\t5350630858504\n",
      "\n",
      "780\t5350831058704\n",
      "\n",
      "790\t5351031258904\n",
      "\n",
      "800\t5351231459105\n",
      "\n",
      "810\t5351431659305\n",
      "\n",
      "820\t5351631859505\n",
      "\n",
      "830\t5351832059705\n",
      "\n",
      "840\t5352032259905\n",
      "\n",
      "850\t5352232460106\n",
      "\n",
      "860\t5352432660306\n",
      "\n",
      "870\t5352632860506\n",
      "\n",
      "880\t5352833060706\n",
      "\n",
      "890\t5353033260906\n",
      "\n",
      "900\t5353233461107\n",
      "\n",
      "910\t5353433661307\n",
      "\n",
      "920\t5353633861507\n",
      "\n",
      "930\t5353834061707\n",
      "\n",
      "940\t5354034261907\n",
      "\n",
      "950\t5354234462108\n",
      "\n",
      "960\t5354434662308\n",
      "\n",
      "970\t5354634862508\n",
      "\n",
      "980\t5354835062708\n",
      "\n",
      "990\t5355035262908\n",
      "\n"
     ]
    }
   ],
   "source": [
    "daq._session = ni.Session(devicename)\n",
    "daq.config_trigger()\n",
    "with daq._session as session:\n",
    "    daq.configure_channels()\n",
    "    for i,f in enumerate(fs):\n",
    "        s1.set_frequency(f) # set frequency\n",
    "        time.sleep(0.1)\n",
    "        if i%10==0: print(str(i)+'\\t'+str(s1.get_frequency()))\n",
    "        daq._session.initiate()\n",
    "        waveforms = session.channels[0, 3].fetch()\n",
    "        data['CH0'].append(np.array(waveforms[0].samples.tolist()).mean())\n",
    "        data['CH3'].append(np.array(waveforms[1].samples.tolist()).mean()) "
   ]
  },
  {
   "cell_type": "code",
   "execution_count": 31,
   "metadata": {},
   "outputs": [],
   "source": [
    "I = np.array(data['CH0'][:-1])\n",
    "Q = np.array(data['CH3'])\n",
    "T = [i for i in range(len(np.array(data['CH3'])))]"
   ]
  },
  {
   "cell_type": "code",
   "execution_count": 32,
   "metadata": {},
   "outputs": [
    {
     "data": {
      "text/plain": [
       "Text(0, 0.5, 'Q [V]')"
      ]
     },
     "execution_count": 32,
     "metadata": {},
     "output_type": "execute_result"
    },
    {
     "data": {
      "image/png": "[encoded data removed]",
      "text/plain": [
       "<Figure size 1800x360 with 2 Axes>"
      ]
     },
     "metadata": {
      "needs_background": "light"
     },
     "output_type": "display_data"
    }
   ],
   "source": [
    "fig, axs = plt.subplots(1, 2, figsize=(25,5))\n",
    "axs[0].scatter(T, I, marker='.',s=5,color='black')\n",
    "axs[0].set_xlabel(r'$\\nu$ [GHz]')\n",
    "axs[0].set_ylabel(r'I [V]')\n",
    "axs[1].scatter(T, Q, marker='.',s=5,color='black')\n",
    "axs[1].set_xlabel(r'$\\nu$ [GHz]')\n",
    "axs[1].set_ylabel(r'Q [V]')"
   ]
  },
  {
   "cell_type": "code",
   "execution_count": null,
   "metadata": {},
   "outputs": [],
   "source": []
  },
  {
   "cell_type": "code",
   "execution_count": null,
   "metadata": {},
   "outputs": [],
   "source": []
  }
 ],
 "metadata": {
  "kernelspec": {
   "display_name": "Python 3.8.6 64-bit",
   "language": "python",
   "name": "python3"
  },
  "language_info": {
   "codemirror_mode": {
    "name": "ipython",
    "version": 3
   },
   "file_extension": ".py",
   "mimetype": "text/x-python",
   "name": "python",
   "nbconvert_exporter": "python",
   "pygments_lexer": "ipython3",
   "version": "3.8.6"
  },
  "orig_nbformat": 4,
  "vscode": {
   "interpreter": {
    "hash": "ca7fb12e8dddb717a45af6dd1993c67b83aa05886451cd3b5212fabc2a7dc798"
   }
  }
 },
 "nbformat": 4,
 "nbformat_minor": 2
}
