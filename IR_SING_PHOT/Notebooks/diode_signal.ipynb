{
 "cells": [
  {
   "cell_type": "code",
   "execution_count": 73,
   "metadata": {},
   "outputs": [],
   "source": [
    "#===============================================================================================\n",
    "import sys\n",
    "sys.path.append(r\"C:\\Users\\kid\\SynologyDrive\\Lab2023\\KIDs\\QTLab2324\\IR_SING_PHOT\\Synth\")\n",
    "sys.path.append(r\"C:\\Users\\kid\\SynologyDrive\\Lab2023\\KIDs\\QTLab2324\\IR_SING_PHOT\\DAQ\")\n",
    "sys.path.append(r\"C:\\Users\\kid\\SynologyDrive\\Lab2023\\KIDs\\QTLab2324\\IR_SING_PHOT\\API\\logs\")\n",
    "sys.path.append(r'C:\\Users\\kid\\SynologyDrive\\Lab2023\\KIDs\\QTLab2324\\IR_SING_PHOT\\Exceptions')\n",
    "sys.path.append(r\"C:\\Users\\kid\\SynologyDrive\\Lab2023\\KIDs\\QTLab2324\\IR_SING_PHOT\\HDF5\")\n",
    "sys.path.append(r\"C:\\Users\\kid\\SynologyDrive\\Lab2023\\KIDs\\QTLab2324\\IR_SING_PHOT\\diodo\")\n",
    "#===============================================================================================\n",
    "\n",
    "import Synthesizer\n",
    "from diodo import AFG310\n",
    "from DAQ import DAQ\n",
    "import json\n",
    "from Continuous_Acquisition import ACQUISITION_CONFIG\n",
    "import logging\n",
    "from logging.config import dictConfig\n",
    "from logs.logging_config import LOGGING_CONFIG\n",
    "from Exceptions import replace_non_serializable\n",
    "import numpy as np\n",
    "import niscope as ni\n",
    "import time\n",
    "import matplotlib.pyplot as plt"
   ]
  },
  {
   "cell_type": "code",
   "execution_count": 74,
   "metadata": {},
   "outputs": [
    {
     "name": "stdout",
     "output_type": "stream",
     "text": [
      "17:02:38.654 - __main__ - <module> - INFO - START EXECUTION\n",
      "17:02:38.655 - __main__ - <module> - INFO - Dumping acquisition configuration\n",
      "17:02:38.657 - __main__ - <module> - INFO - DAQ class object correctly created\n",
      "17:02:38.658 - __main__ - <module> - INFO - DAQ status: <bound method DAQ.get_status of <DAQ.DAQ object at 0x000000002730AB80>>\n",
      "17:02:38.659 - __main__ - <module> - ERROR - Could not reset DAQ with defaults\n",
      "17:02:38.660 - __main__ - <module> - INFO - Inserting acquisition configuration from ACQUISITION_CONFIG dictionary\n",
      "17:02:38.661 - __main__ - <module> - INFO - Inserting hconf dic\n",
      "17:02:38.662 - __main__ - <module> - INFO - Inserting vconf dic\n",
      "17:02:38.663 - __main__ - <module> - INFO - Inserting chan char dic\n",
      "17:02:38.664 - __main__ - <module> - INFO - Inserting trigger dic\n"
     ]
    }
   ],
   "source": [
    "#===============================================================================================\n",
    "#Save acquisition configuration parameters for DAQ configuration\n",
    "#===============================================================================================\n",
    "\n",
    "filepath = r\"C:\\Users\\kid\\SynologyDrive\\Lab2023\\KIDs\\QTLab2324\\IR_SING_PHOT\\Runs\"\n",
    "\n",
    "#===============================================================================================\n",
    "#Import logger configuration\n",
    "#===============================================================================================\n",
    "dictConfig(LOGGING_CONFIG)\n",
    "logger = logging.getLogger(__name__)\n",
    "logger.info('START EXECUTION')\n",
    "\n",
    "devicename = 'PXI1Slot4'\n",
    "sGen_board = ''\n",
    "\n",
    "\n",
    "try:\n",
    "    cfg1 = json.dumps(replace_non_serializable(ACQUISITION_CONFIG))\n",
    "    logger.info('Dumping acquisition configuration')\n",
    "    with open(ACQUISITION_CONFIG['acq_conf']['path'] + 'config.json','w') as f:\n",
    "        f.write(cfg1)\n",
    "except Exception:\n",
    "    logger.critical('Dumping acquisition configuration')\n",
    "    raise SystemError(\"Could not dump acquisition configuration!\")\n",
    "\n",
    "#===============================================================================================\n",
    "#Acquire DAQ configuration dictionaries\n",
    "#===============================================================================================\n",
    "\n",
    "res = 5.345215443088618\n",
    "sgen_board = ''\n",
    "amplitude = 0\n",
    "f = 0\n",
    "\n",
    "try:\n",
    "    daq = DAQ()\n",
    "    logger.info('DAQ class object correctly created')\n",
    "except Exception:\n",
    "    logger.critical('Could not crate DAQ class object')\n",
    "    raise SyntaxError('Could not create DAQ class object')\n",
    "'''\n",
    "try:\n",
    "    s1 = Synthesizer.Synthesizer(1)\n",
    "    s1.connettore()\n",
    "    logger.info('Synth class object correctly created and connected!')\n",
    "except Exception:\n",
    "    logger.critical('Could not crate synth class object')\n",
    "    raise SyntaxError('Could not create synth class object')\n",
    "'''\n",
    "\n",
    "channels = {'I'\t\t\t: 0, \n",
    "            'Q'\t\t\t: 3,\n",
    "            'trigger'\t: 0}\n",
    "\n",
    "\n",
    "try:\n",
    "    stat = daq.get_status\n",
    "    logger.info('DAQ status: '+str(stat))\n",
    "except Exception:\n",
    "    logger.critical('Could not get DAQ status!')\n",
    "    raise SystemError('Could not get DAQ status')\n",
    "\n",
    "try:\n",
    "    daq.reset_with_def()\n",
    "    daq.get_status\n",
    "    logger.info('Resetting DAQ with defaults')\n",
    "except Exception:\n",
    "    logger.error('Could not reset DAQ with defaults')\n",
    "    pass\n",
    "\n",
    "try:\n",
    "    daq.acq_conf = ACQUISITION_CONFIG['acq_conf']\n",
    "    logger.info('Inserting acquisition configuration from ACQUISITION_CONFIG dictionary')\n",
    "except Exception:\n",
    "    logger.warning('Coulkd not insert acquisition configuration')\n",
    "    raise SystemError('Coulkd not insert acquisition configuration')\n",
    "\n",
    "try:\n",
    "    daq.horizontal_conf = ACQUISITION_CONFIG['horizontal']\n",
    "    logger.info('Inserting hconf dic')\n",
    "except Exception:\n",
    "    logger.warning('Could not insert hconf dic')\n",
    "    raise SystemError('Could not insert hconf dic')\n",
    "\n",
    "try:\n",
    "    daq.vertical_conf = ACQUISITION_CONFIG['vertical']\n",
    "    logger.info('Inserting vconf dic')\n",
    "except Exception:\n",
    "    logger.warning('Could not insert vconf dic')\n",
    "    raise SystemError('Could not insert vconf dic')\n",
    "\n",
    "try:\n",
    "    daq.chan_conf = ACQUISITION_CONFIG['chan_conf']\n",
    "    logger.info('Inserting chan char dic')\n",
    "except Exception:\n",
    "    logger.warning('Could not insert chan char dic')\n",
    "    raise SystemError('Could not insert chan char dic')\n",
    "\n",
    "try:\n",
    "    daq.trigger_dic = ACQUISITION_CONFIG['trigger']\n",
    "    logger.info('Inserting trigger dic')\n",
    "except Exception:\n",
    "    logger.warning('Could not insert trigger dic')\n",
    "    raise SystemError('Could not insert trigger dic')"
   ]
  },
  {
   "cell_type": "code",
   "execution_count": 79,
   "metadata": {},
   "outputs": [],
   "source": [
    "fs = np.linspace(res-0.02,res+0.02,1000)"
   ]
  },
  {
   "cell_type": "code",
   "execution_count": 91,
   "metadata": {},
   "outputs": [
    {
     "name": "stdout",
     "output_type": "stream",
     "text": [
      "Synth_uno!\n",
      "Si è connessi al synth_uno!\n"
     ]
    }
   ],
   "source": [
    "s1 = Synthesizer.Synthesizer(1)\n",
    "s1.connettore()"
   ]
  },
  {
   "cell_type": "code",
   "execution_count": 92,
   "metadata": {},
   "outputs": [],
   "source": [
    "s1.set_frequency(str(res)+'GHz')\n",
    "s1.outp_frequency_on()"
   ]
  },
  {
   "cell_type": "code",
   "execution_count": 88,
   "metadata": {},
   "outputs": [
    {
     "ename": "KeyboardInterrupt",
     "evalue": "",
     "output_type": "error",
     "traceback": [
      "\u001b[1;31m---------------------------------------------------------------------------\u001b[0m",
      "\u001b[1;31mKeyboardInterrupt\u001b[0m                         Traceback (most recent call last)",
      "Cell \u001b[1;32mIn[88], line 3\u001b[0m\n\u001b[0;32m      1\u001b[0m \u001b[38;5;28;01mfor\u001b[39;00m f \u001b[38;5;129;01min\u001b[39;00m fs:\n\u001b[0;32m      2\u001b[0m     s1\u001b[38;5;241m.\u001b[39mget_frequency()\n\u001b[1;32m----> 3\u001b[0m     \u001b[43mtime\u001b[49m\u001b[38;5;241;43m.\u001b[39;49m\u001b[43msleep\u001b[49m\u001b[43m(\u001b[49m\u001b[38;5;241;43m1\u001b[39;49m\u001b[43m)\u001b[49m\n\u001b[0;32m      4\u001b[0m     s1\u001b[38;5;241m.\u001b[39mset_frequency(\u001b[38;5;28mstr\u001b[39m(fs)\u001b[38;5;241m+\u001b[39m\u001b[38;5;124m'\u001b[39m\u001b[38;5;124mGHz\u001b[39m\u001b[38;5;124m'\u001b[39m)\n",
      "\u001b[1;31mKeyboardInterrupt\u001b[0m: "
     ]
    }
   ],
   "source": [
    "for f in fs:\n",
    "    s1.get_frequency()\n",
    "    time.sleep(1)\n",
    "    s1.set_frequency(str(fs)+'GHz')"
   ]
  },
  {
   "cell_type": "code",
   "execution_count": 61,
   "metadata": {},
   "outputs": [],
   "source": [
    "pulser = AFG310()"
   ]
  },
  {
   "cell_type": "code",
   "execution_count": 62,
   "metadata": {},
   "outputs": [],
   "source": [
    "#pulser.set_amplitude(1)\n",
    "pulser.outp_on()\n",
    "pulser.set_func('SQU')\n",
    "pulser.set_freq(1e5)\n",
    "pulser.set_amplitude(1)\n",
    "pulser.set_offset(0.5)"
   ]
  },
  {
   "cell_type": "code",
   "execution_count": 69,
   "metadata": {},
   "outputs": [
    {
     "data": {
      "text/plain": [
       "'25\\n'"
      ]
     },
     "execution_count": 69,
     "metadata": {},
     "output_type": "execute_result"
    }
   ],
   "source": [
    "#mod = 'CONT'\n",
    "#pulser.trigger_mode(mod)\n",
    "pulser._diodo.write(f':PULS:DCYC 25')\n",
    "pulser._diodo.query(f':PULS:DCYC?')"
   ]
  },
  {
   "cell_type": "code",
   "execution_count": 49,
   "metadata": {},
   "outputs": [],
   "source": [
    "pulser.execute_trigger()"
   ]
  },
  {
   "cell_type": "code",
   "execution_count": 27,
   "metadata": {},
   "outputs": [
    {
     "name": "stdout",
     "output_type": "stream",
     "text": [
      "15:31:03.385 - __main__ - <module> - INFO - Creating new session!!!\n",
      "15:31:03.386 - __main__ - <module> - INFO - Configuring channels\n",
      "0\n",
      "1\n",
      "2\n",
      "3\n",
      "4\n",
      "5\n",
      "6\n",
      "7\n",
      "8\n",
      "9\n"
     ]
    }
   ],
   "source": [
    "#===============================================================================================\n",
    "#                                        !GET DATA!\n",
    "#===============================================================================================\n",
    "\n",
    "daq._session = ni.Session(devicename)\n",
    "logger.info('Creating new session!!!')\n",
    "\n",
    "with daq._session as session:\n",
    "    logger.info('Configuring channels')\n",
    "    daq.configure_channels()\n",
    "    daq.config_trigger()\n",
    "    I, Q = [], []\n",
    "    \n",
    "    for _ in range(10):\n",
    "        time.sleep(1)\n",
    "        print(_)\n",
    "        daq._session.initiate()\n",
    "        pulser.execute_trigger()\n",
    "        I.append(session.channels[0].fetch())\n",
    "        Q.append(session.channels[3].fetch())"
   ]
  },
  {
   "cell_type": "code",
   "execution_count": 43,
   "metadata": {},
   "outputs": [
    {
     "name": "stdout",
     "output_type": "stream",
     "text": [
      "Channel             : 0\n",
      "Record              : 0\n",
      "Absolute X0         : 336,118\n",
      "Relative X0         : 9.6e-07\n",
      "dt                  : 1e-06\n",
      "Offset              : 0\n",
      "Gain                : 1\n",
      "Waveform Length     : 100,000\n",
      "\n"
     ]
    }
   ],
   "source": [
    "print(getsizeof(I+))"
   ]
  },
  {
   "cell_type": "code",
   "execution_count": 17,
   "metadata": {},
   "outputs": [],
   "source": [
    "data = {\n",
    "    'I': [],\n",
    "    'Q': []\n",
    "}\n",
    "for i in range(len(I)):\n",
    "    data['I'].extend(I[i].samples.tolist())\n",
    "    data['Q'].extend(Q[i].samples.tolist())"
   ]
  },
  {
   "cell_type": "code",
   "execution_count": 18,
   "metadata": {},
   "outputs": [],
   "source": [
    "data['T'] = np.arange(0,len(data['I']),1)"
   ]
  },
  {
   "cell_type": "code",
   "execution_count": 19,
   "metadata": {},
   "outputs": [
    {
     "data": {
      "text/plain": [
       "Text(0, 0.5, 'Q signal')"
      ]
     },
     "execution_count": 19,
     "metadata": {},
     "output_type": "execute_result"
    },
    {
     "data": {
      "image/png": "[encoded data removed]",
      "text/plain": [
       "<Figure size 1080x360 with 2 Axes>"
      ]
     },
     "metadata": {
      "needs_background": "light"
     },
     "output_type": "display_data"
    }
   ],
   "source": [
    "fig, axs = plt.subplots(1,2,figsize=(15,5))\n",
    "axs[0].plot(data['T'],data['I'], label='I signal')\n",
    "axs[1].plot(data['T'],data['Q'], label='Q signal')\n",
    "axs[0].set_xlabel('timestamp')\n",
    "axs[0].set_ylabel('I signal')\n",
    "axs[1].set_xlabel('timestamp')\n",
    "axs[1].set_ylabel('Q signal')"
   ]
  },
  {
   "cell_type": "code",
   "execution_count": 20,
   "metadata": {},
   "outputs": [
    {
     "data": {
      "text/plain": [
       "[<matplotlib.lines.Line2D at 0x1b4e7ee0>]"
      ]
     },
     "execution_count": 20,
     "metadata": {},
     "output_type": "execute_result"
    },
    {
     "data": {
      "image/png": "[encoded data removed]",
      "text/plain": [
       "<Figure size 1800x720 with 1 Axes>"
      ]
     },
     "metadata": {
      "needs_background": "light"
     },
     "output_type": "display_data"
    }
   ],
   "source": [
    "plt.figure(figsize=(25,10))\n",
    "plt.plot(data['T'],data['Q'])"
   ]
  },
  {
   "cell_type": "code",
   "execution_count": null,
   "metadata": {},
   "outputs": [],
   "source": []
  }
 ],
 "metadata": {
  "kernelspec": {
   "display_name": "Python 3.8.6 64-bit",
   "language": "python",
   "name": "python3"
  },
  "language_info": {
   "codemirror_mode": {
    "name": "ipython",
    "version": 3
   },
   "file_extension": ".py",
   "mimetype": "text/x-python",
   "name": "python",
   "nbconvert_exporter": "python",
   "pygments_lexer": "ipython3",
   "version": "3.8.6"
  },
  "orig_nbformat": 4,
  "vscode": {
   "interpreter": {
    "hash": "ca7fb12e8dddb717a45af6dd1993c67b83aa05886451cd3b5212fabc2a7dc798"
   }
  }
 },
 "nbformat": 4,
 "nbformat_minor": 2
}
