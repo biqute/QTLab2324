{
 "cells": [
  {
   "cell_type": "code",
   "execution_count": 39,
   "metadata": {},
   "outputs": [],
   "source": [
    "import sys\n",
    "import time\n",
    "sys.path.append(r'C:\\Users\\kid\\SynologyDrive\\Lab2023\\KIDs\\QTLab2324\\IR_SING_PHOT')\n",
    "sys.path.append(r'C:\\Users\\kid\\SynologyDrive\\Lab2023\\KIDs\\QTLab2324\\IR_SING_PHOT\\Exceptions')\n",
    "sys.path.append(r'C:\\Users\\kid\\SynologyDrive\\Lab2023\\KIDs\\QTLab2324\\IR_SING_PHOT\\DAQ')\n",
    "sys.path.append(r'C:\\Users\\kid\\SynologyDrive\\Lab2023\\KIDs\\QTLab2324\\IR_SING_PHOT\\API')\n",
    "sys.path.append(r'C:\\Users\\kid\\SynologyDrive\\Lab2023\\KIDs\\QTLab2324\\IR_SING_PHOT\\AGI335')\n",
    "sys.path.append(r'C:\\Users\\kid\\SynologyDrive\\Lab2023\\KIDs\\QTLab2324\\IR_KIDS_CHAR\\Instruments\\Gas_Handler22')\n",
    "from Continuous_Acquisition import ACQUISITION_CONFIG\n",
    "from Synth import Synthesizer\n",
    "from logs.logging_config import LOGGING_CONFIG\n",
    "from logging.config import dictConfig\n",
    "import logging\n",
    "import json\n",
    "from DAQ import DAQ\n",
    "import niscope as ni\n",
    "import numpy as np\n",
    "import matplotlib.pyplot as plt\n",
    "from AGI335 import AGI335\n",
    "from Synth.Synthesizer import Synthesizer\n",
    "import h5py\n",
    "import datetime\n",
    "from scipy.signal import savgol_filter, filtfilt, welch\n",
    "import handler"
   ]
  },
  {
   "cell_type": "code",
   "execution_count": 40,
   "metadata": {},
   "outputs": [],
   "source": [
    "crio = handler.FridgeHandler()"
   ]
  },
  {
   "cell_type": "code",
   "execution_count": 41,
   "metadata": {},
   "outputs": [
    {
     "name": "stdout",
     "output_type": "stream",
     "text": [
      "1K POT :  253.0\n",
      "Mix Ch :  2978.0\n"
     ]
    }
   ],
   "source": [
    "MC   = crio.get_sensor()\n",
    "KPOT = crio.get_sensor(2)\n",
    "print('1K POT : ',KPOT)\n",
    "print('Mix Ch : ',MC)"
   ]
  },
  {
   "cell_type": "code",
   "execution_count": 4,
   "metadata": {},
   "outputs": [],
   "source": [
    "def create_hdf5(runfile, I, Q, pulser):\n",
    "    num_points = ACQUISITION_CONFIG['horizontal']['min_num_pts']\n",
    "    timestamps = np.linspace(0, num_points/1e6, num_points).astype(np.float64)\n",
    "\n",
    "    with h5py.File(runfile, 'w') as f:\n",
    "        group = f.create_group('Signals')\n",
    "        dset_I   = group.create_dataset('I', data=np.array(I), compression='gzip')\n",
    "        dset_Q   = group.create_dataset('Q', data=np.array(Q), compression='gzip')\n",
    "        dset_S21 = group.create_dataset('S21', data=10*np.log10((np.absolute(1j*I+Q)/np.sqrt(2))**2), compression='gzip')\n",
    "        dset_P   = group.create_dataset('P', data=np.array(Q), compression='gzip')\n",
    "        dset_timestamp = group.create_dataset('Timestamp', data=np.array(timestamps), compression='gzip')\n",
    "\n",
    "        # Set attributes for the group\n",
    "        group.attrs['creation_date'] = str(datetime.datetime.now())\n",
    "        group.attrs['description'] = 'I and Q signals with timestamps'\n",
    "        group.attrs['unit'] = 'V'\n",
    "        group.attrs['num_points'] = num_points\n",
    "        group.attrs['duration'] = ACQUISITION_CONFIG['acq_conf']['duration']\n",
    "        group.attrs['sample_rate'] = ACQUISITION_CONFIG['acq_conf']['sample_rate']\n",
    "        group.attrs['pulser_frequency'] = pulser.frequency\n",
    "        group.attrs['pulser_duty_cycle'] = pulser.duty_cycle\n",
    "\n",
    "        # Set attributes for the file\n",
    "        f.attrs['author'] = 'Riccardo Maifredi'\n",
    "        f.attrs['project'] = 'IR_Source'\n",
    "        f.attrs['description'] = 'HDF5 file containing I, Q, and Timestamp signals'\n",
    "\n",
    "    return f"
   ]
  },
  {
   "cell_type": "code",
   "execution_count": 5,
   "metadata": {},
   "outputs": [],
   "source": [
    "filepath = r'C:\\Users\\kid\\SynologyDrive\\Lab2023\\KIDs\\QTLab2324\\IR_SING_PHOT\\API'"
   ]
  },
  {
   "cell_type": "code",
   "execution_count": 6,
   "metadata": {},
   "outputs": [
    {
     "name": "stdout",
     "output_type": "stream",
     "text": [
      "01:24:55.758 - __main__ - <module> - INFO - START EXECUTION\n"
     ]
    }
   ],
   "source": [
    "dictConfig(LOGGING_CONFIG)\n",
    "logger = logging.getLogger(__name__)\n",
    "logger.info('START EXECUTION')"
   ]
  },
  {
   "cell_type": "code",
   "execution_count": 7,
   "metadata": {},
   "outputs": [
    {
     "name": "stdout",
     "output_type": "stream",
     "text": [
      "01:24:56.067 - __main__ - <module> - INFO - DAQ class object correctly created\n"
     ]
    }
   ],
   "source": [
    "try:\n",
    "    daq = DAQ.DAQ()\n",
    "    logger.info('DAQ class object correctly created')\n",
    "except Exception:\n",
    "    logger.critical('Could not crate DAQ class object')\n",
    "    raise SyntaxError('Could not create DAQ class object')"
   ]
  },
  {
   "cell_type": "code",
   "execution_count": 8,
   "metadata": {},
   "outputs": [],
   "source": [
    "channels = {'I'\t\t\t: 0, \n",
    "            'Q'\t\t\t: 1,\n",
    "            'trigger'\t: 1}"
   ]
  },
  {
   "cell_type": "code",
   "execution_count": 9,
   "metadata": {},
   "outputs": [],
   "source": [
    "devicename =  'Card'"
   ]
  },
  {
   "cell_type": "code",
   "execution_count": 10,
   "metadata": {},
   "outputs": [
    {
     "name": "stdout",
     "output_type": "stream",
     "text": [
      "01:24:57.099 - __main__ - <module> - INFO - Inserting acquisition configuration from ACQUISITION_CONFIG dictionary\n"
     ]
    }
   ],
   "source": [
    "try:\n",
    "    daq.acq_conf = ACQUISITION_CONFIG['acq_conf']\n",
    "    logger.info('Inserting acquisition configuration from ACQUISITION_CONFIG dictionary')\n",
    "except Exception:\n",
    "    logger.warning('Coulkd not insert acquisition configuration')\n",
    "    raise SystemError('Coulkd not insert acquisition configuration')"
   ]
  },
  {
   "cell_type": "code",
   "execution_count": 11,
   "metadata": {},
   "outputs": [
    {
     "name": "stdout",
     "output_type": "stream",
     "text": [
      "01:24:57.616 - __main__ - <module> - INFO - Inserting hconf dic\n"
     ]
    }
   ],
   "source": [
    "try:\n",
    "    daq.horizontal_conf = ACQUISITION_CONFIG['horizontal']\n",
    "    logger.info('Inserting hconf dic')\n",
    "except Exception:\n",
    "    logger.warning('Could not insert hconf dic')\n",
    "    raise SystemError('Could not insert hconf dic')"
   ]
  },
  {
   "cell_type": "code",
   "execution_count": 12,
   "metadata": {},
   "outputs": [
    {
     "name": "stdout",
     "output_type": "stream",
     "text": [
      "01:24:57.926 - __main__ - <module> - INFO - Inserting vconf dic\n"
     ]
    }
   ],
   "source": [
    "try:\n",
    "    daq.vertical_conf = ACQUISITION_CONFIG['vertical']\n",
    "    logger.info('Inserting vconf dic')\n",
    "except Exception:\n",
    "    logger.warning('Could not insert vconf dic')\n",
    "    raise SystemError('Could not insert vconf dic')"
   ]
  },
  {
   "cell_type": "code",
   "execution_count": 13,
   "metadata": {},
   "outputs": [
    {
     "name": "stdout",
     "output_type": "stream",
     "text": [
      "01:24:58.225 - __main__ - <module> - INFO - Inserting chan char dic\n"
     ]
    }
   ],
   "source": [
    "try:\n",
    "    daq.chan_conf = ACQUISITION_CONFIG['chan_conf']\n",
    "    logger.info('Inserting chan char dic')\n",
    "except Exception:\n",
    "    logger.warning('Could not insert chan char dic')\n",
    "    raise SystemError('Could not insert chan char dic')"
   ]
  },
  {
   "cell_type": "code",
   "execution_count": 14,
   "metadata": {},
   "outputs": [
    {
     "name": "stdout",
     "output_type": "stream",
     "text": [
      "01:24:58.541 - __main__ - <module> - INFO - Inserting trigger dic\n"
     ]
    }
   ],
   "source": [
    "try:\n",
    "    daq.trigger_dic = ACQUISITION_CONFIG['trigger']\n",
    "    logger.info('Inserting trigger dic') \n",
    "except Exception:\n",
    "    logger.warning('Could not insert trigger dic')\n",
    "    raise SystemError('Could not insert trigger dic')"
   ]
  },
  {
   "cell_type": "code",
   "execution_count": 15,
   "metadata": {},
   "outputs": [
    {
     "name": "stdout",
     "output_type": "stream",
     "text": [
      "OBJECT INSTANCE CREATED\n"
     ]
    }
   ],
   "source": [
    "pulser = AGI335.AGI335()"
   ]
  },
  {
   "cell_type": "code",
   "execution_count": 16,
   "metadata": {},
   "outputs": [],
   "source": [
    "board = 'GPIB0::10::INSTR'\n",
    "pulser.board = board"
   ]
  },
  {
   "cell_type": "code",
   "execution_count": 17,
   "metadata": {},
   "outputs": [
    {
     "data": {
      "text/plain": [
       "True"
      ]
     },
     "execution_count": 17,
     "metadata": {},
     "output_type": "execute_result"
    }
   ],
   "source": [
    "pulser.connect()\n",
    "pulser.is_connected"
   ]
  },
  {
   "cell_type": "code",
   "execution_count": 18,
   "metadata": {},
   "outputs": [],
   "source": [
    "pulser.function = 'SQU'\n",
    "pulser.frequency = 1*1e6\n",
    "pulser.offset = 0.5\n",
    "pulser.voltage = 1\n",
    "pulser.duty_cycle = 16\n",
    "pulser._pulser.write('SOUR:BURS:STAT ON')\n",
    "pulser.set_burst_mode()"
   ]
  },
  {
   "cell_type": "code",
   "execution_count": 19,
   "metadata": {},
   "outputs": [
    {
     "data": {
      "text/plain": [
       "16.0"
      ]
     },
     "execution_count": 19,
     "metadata": {},
     "output_type": "execute_result"
    }
   ],
   "source": [
    "pulser.duty_cycle"
   ]
  },
  {
   "cell_type": "code",
   "execution_count": 20,
   "metadata": {},
   "outputs": [],
   "source": [
    "pulser.trigger_mode = 'BUS'"
   ]
  },
  {
   "cell_type": "code",
   "execution_count": 21,
   "metadata": {},
   "outputs": [],
   "source": [
    "s1 = Synthesizer()\n",
    "s1.connettore('ASRL27::INSTR')"
   ]
  },
  {
   "cell_type": "code",
   "execution_count": 22,
   "metadata": {},
   "outputs": [],
   "source": [
    "f0 = 5.345215443088618\n",
    "s1.set_frequency(f0)\n",
    "s1.outp_frequency_on()"
   ]
  },
  {
   "cell_type": "code",
   "execution_count": 23,
   "metadata": {},
   "outputs": [],
   "source": [
    "pulser.output = 'ON'"
   ]
  },
  {
   "cell_type": "code",
   "execution_count": 24,
   "metadata": {},
   "outputs": [
    {
     "name": "stdout",
     "output_type": "stream",
     "text": [
      "ON\n"
     ]
    }
   ],
   "source": [
    "print(pulser.output)"
   ]
  },
  {
   "cell_type": "code",
   "execution_count": 25,
   "metadata": {},
   "outputs": [],
   "source": [
    "devicename = 'PXI1Slot3'"
   ]
  },
  {
   "cell_type": "code",
   "execution_count": 26,
   "metadata": {},
   "outputs": [],
   "source": [
    "num = 15\n",
    "save_path = r\"C:\\Users\\kid\\SynologyDrive\\Lab2023\\KIDs\\QTLab2324\\IR_SING_PHOT\\RUNS\\15\\\\\""
   ]
  },
  {
   "cell_type": "code",
   "execution_count": 27,
   "metadata": {},
   "outputs": [],
   "source": [
    "daq._session = ni.Session(devicename)\n",
    "daq.configure_channels()\n",
    "daq.config_trigger()\n",
    "maxs = []\n",
    "with daq._session as session:\n",
    "        for i in range(1000):\n",
    "                daq._session.initiate()\n",
    "                pulser.execute_trigger()\n",
    "                waveforms = session.channels[0,1].fetch()\n",
    "                f = create_hdf5(save_path+'RUN_'+str(num)+'_PULSE_'+str(i)+'.hdf5', np.array(waveforms[1].samples.tolist()), np.array(waveforms[0].samples.tolist()), pulser)\n",
    "                maxs.append((min(np.array(waveforms[1].samples.tolist())),np.argmin(np.array(waveforms[1].samples.tolist()))))"
   ]
  },
  {
   "cell_type": "code",
   "execution_count": 28,
   "metadata": {},
   "outputs": [
    {
     "name": "stdout",
     "output_type": "stream",
     "text": [
      "1K POT :  1751.0\n",
      "Mix Ch :  40.0\n"
     ]
    }
   ],
   "source": [
    "MC   = crio.get_sensor()\n",
    "KPOT = crio.get_sensor(2)\n",
    "print('1K POT : ',KPOT)\n",
    "print('Mix Ch : ',MC)"
   ]
  },
  {
   "cell_type": "code",
   "execution_count": 29,
   "metadata": {},
   "outputs": [],
   "source": [
    "num = 16\n",
    "save_path = r\"C:\\Users\\kid\\SynologyDrive\\Lab2023\\KIDs\\QTLab2324\\IR_SING_PHOT\\RUNS\\16\\\\\""
   ]
  },
  {
   "cell_type": "code",
   "execution_count": 30,
   "metadata": {},
   "outputs": [],
   "source": [
    "daq._session = ni.Session(devicename)\n",
    "daq.configure_channels()\n",
    "daq.config_trigger()\n",
    "with daq._session as session:\n",
    "        for i in range(1000):\n",
    "                daq._session.initiate()\n",
    "                pulser.execute_trigger()\n",
    "                waveforms = session.channels[0,1].fetch()\n",
    "                f = create_hdf5(save_path+'RUN_'+str(num)+'_PULSE_'+str(i)+'.hdf5', np.array(waveforms[1].samples.tolist()), np.array(waveforms[0].samples.tolist()), pulser)\n",
    "                maxs.append((min(np.array(waveforms[1].samples.tolist())),np.argmin(np.array(waveforms[1].samples.tolist()))))"
   ]
  },
  {
   "cell_type": "code",
   "execution_count": 31,
   "metadata": {},
   "outputs": [
    {
     "name": "stdout",
     "output_type": "stream",
     "text": [
      "1K POT :  1747.0\n",
      "Mix Ch :  40.0\n"
     ]
    }
   ],
   "source": [
    "MC   = crio.get_sensor()\n",
    "KPOT = crio.get_sensor(2)\n",
    "print('1K POT : ',KPOT)\n",
    "print('Mix Ch : ',MC)"
   ]
  },
  {
   "cell_type": "code",
   "execution_count": 32,
   "metadata": {},
   "outputs": [],
   "source": [
    "num = 17\n",
    "save_path = r\"C:\\Users\\kid\\SynologyDrive\\Lab2023\\KIDs\\QTLab2324\\IR_SING_PHOT\\RUNS\\17\\\\\""
   ]
  },
  {
   "cell_type": "code",
   "execution_count": 33,
   "metadata": {},
   "outputs": [],
   "source": [
    "daq._session = ni.Session(devicename)\n",
    "daq.configure_channels()\n",
    "daq.config_trigger()\n",
    "with daq._session as session:\n",
    "        for i in range(1000):\n",
    "                daq._session.initiate()\n",
    "                pulser.execute_trigger()\n",
    "                waveforms = session.channels[0,1].fetch()\n",
    "                f = create_hdf5(save_path+'RUN_'+str(num)+'_PULSE_'+str(i)+'.hdf5', np.array(waveforms[1].samples.tolist()), np.array(waveforms[0].samples.tolist()), pulser)\n",
    "                maxs.append((min(np.array(waveforms[1].samples.tolist())),np.argmin(np.array(waveforms[1].samples.tolist()))))"
   ]
  },
  {
   "cell_type": "code",
   "execution_count": 34,
   "metadata": {},
   "outputs": [
    {
     "name": "stdout",
     "output_type": "stream",
     "text": [
      "1K POT :  1750.0\n",
      "Mix Ch :  40.0\n"
     ]
    }
   ],
   "source": [
    "MC   = crio.get_sensor()\n",
    "KPOT = crio.get_sensor(2)\n",
    "print('1K POT : ',KPOT)\n",
    "print('Mix Ch : ',MC)"
   ]
  },
  {
   "cell_type": "code",
   "execution_count": 35,
   "metadata": {},
   "outputs": [],
   "source": [
    "num = 18\n",
    "save_path = r\"C:\\Users\\kid\\SynologyDrive\\Lab2023\\KIDs\\QTLab2324\\IR_SING_PHOT\\RUNS\\18\\\\\""
   ]
  },
  {
   "cell_type": "code",
   "execution_count": 36,
   "metadata": {},
   "outputs": [],
   "source": [
    "daq._session = ni.Session(devicename)\n",
    "daq.configure_channels()\n",
    "daq.config_trigger()\n",
    "with daq._session as session:\n",
    "        for i in range(1000):\n",
    "                daq._session.initiate()\n",
    "                pulser.execute_trigger()\n",
    "                waveforms = session.channels[0,1].fetch()\n",
    "                f = create_hdf5(save_path+'RUN_'+str(num)+'_PULSE_'+str(i)+'.hdf5', np.array(waveforms[1].samples.tolist()), np.array(waveforms[0].samples.tolist()), pulser)\n",
    "                maxs.append((min(np.array(waveforms[1].samples.tolist())),np.argmin(np.array(waveforms[1].samples.tolist()))))"
   ]
  },
  {
   "cell_type": "code",
   "execution_count": 37,
   "metadata": {},
   "outputs": [],
   "source": [
    "mins = [maxs[i][0] for i in range(len(maxs))]"
   ]
  },
  {
   "cell_type": "code",
   "execution_count": 38,
   "metadata": {},
   "outputs": [
    {
     "data": {
      "text/plain": [
       "(array([  2.,   1.,   3.,   0.,   8.,  21.,   0.,  42.,  67.,   0.,  84.,\n",
       "        128.,   0., 250., 327.,   0., 382., 455.,   0., 500., 503.,   0.,\n",
       "        389., 317.,   0., 258., 144.,   0.,  76.,  29.,  14.]),\n",
       " array([0.01360415, 0.01365069, 0.01369722, 0.01374376, 0.0137903 ,\n",
       "        0.01383684, 0.01388338, 0.01392991, 0.01397645, 0.01402299,\n",
       "        0.01406953, 0.01411607, 0.0141626 , 0.01420914, 0.01425568,\n",
       "        0.01430222, 0.01434876, 0.0143953 , 0.01444183, 0.01448837,\n",
       "        0.01453491, 0.01458145, 0.01462799, 0.01467452, 0.01472106,\n",
       "        0.0147676 , 0.01481414, 0.01486068, 0.01490721, 0.01495375,\n",
       "        0.01500029, 0.01504683]),\n",
       " <BarContainer object of 31 artists>)"
      ]
     },
     "execution_count": 38,
     "metadata": {},
     "output_type": "execute_result"
    },
    {
     "data": {
      "image/png": "[encoded data removed]",
      "text/plain": [
       "<Figure size 1080x360 with 1 Axes>"
      ]
     },
     "metadata": {
      "needs_background": "light"
     },
     "output_type": "display_data"
    }
   ],
   "source": [
    "plt.figure(figsize=(15,5))\n",
    "plt.hist(mins,bins=int(0.5*np.sqrt(len(mins))))"
   ]
  },
  {
   "cell_type": "code",
   "execution_count": null,
   "metadata": {},
   "outputs": [],
   "source": []
  }
 ],
 "metadata": {
  "kernelspec": {
   "display_name": "Python 3.8.6 64-bit",
   "language": "python",
   "name": "python3"
  },
  "language_info": {
   "codemirror_mode": {
    "name": "ipython",
    "version": 3
   },
   "file_extension": ".py",
   "mimetype": "text/x-python",
   "name": "python",
   "nbconvert_exporter": "python",
   "pygments_lexer": "ipython3",
   "version": "3.8.6"
  },
  "orig_nbformat": 4,
  "vscode": {
   "interpreter": {
    "hash": "ca7fb12e8dddb717a45af6dd1993c67b83aa05886451cd3b5212fabc2a7dc798"
   }
  }
 },
 "nbformat": 4,
 "nbformat_minor": 2
}
