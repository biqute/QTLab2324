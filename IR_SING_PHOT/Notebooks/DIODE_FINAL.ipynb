{
 "cells": [
  {
   "cell_type": "code",
   "execution_count": 39,
   "metadata": {},
   "outputs": [],
   "source": [
    "import sys\n",
    "import time\n",
    "sys.path.append(r'C:\\Users\\kid\\SynologyDrive\\Lab2023\\KIDs\\QTLab2324\\IR_SING_PHOT')\n",
    "sys.path.append(r'C:\\Users\\kid\\SynologyDrive\\Lab2023\\KIDs\\QTLab2324\\IR_SING_PHOT\\Exceptions')\n",
    "sys.path.append(r'C:\\Users\\kid\\SynologyDrive\\Lab2023\\KIDs\\QTLab2324\\IR_SING_PHOT\\DAQ')\n",
    "sys.path.append(r'C:\\Users\\kid\\SynologyDrive\\Lab2023\\KIDs\\QTLab2324\\IR_SING_PHOT\\API')\n",
    "sys.path.append(r'C:\\Users\\kid\\SynologyDrive\\Lab2023\\KIDs\\QTLab2324\\IR_SING_PHOT\\AGI335')\n",
    "from Continuous_Acquisition import ACQUISITION_CONFIG\n",
    "from Synth import Synthesizer\n",
    "from logs.logging_config import LOGGING_CONFIG\n",
    "from logging.config import dictConfig\n",
    "import logging\n",
    "import json\n",
    "from DAQ import DAQ\n",
    "import niscope as ni\n",
    "import numpy as np\n",
    "import matplotlib.pyplot as plt\n",
    "from AGI335 import AGI335\n",
    "from Synth.Synthesizer import Synthesizer\n",
    "import h5py\n",
    "import datetime\n",
    "from scipy.signal import savgol_filter, filtfilt, welch"
   ]
  },
  {
   "cell_type": "code",
   "execution_count": 40,
   "metadata": {},
   "outputs": [],
   "source": [
    "def create_hdf5(runfile, I, Q, pulser):\n",
    "    num_points = ACQUISITION_CONFIG['horizontal']['min_num_pts']\n",
    "    timestamps = np.linspace(0, num_points/1e6, num_points).astype(np.float64)\n",
    "\n",
    "    with h5py.File(runfile, 'w') as f:\n",
    "        group = f.create_group('Signals')\n",
    "        dset_I   = group.create_dataset('I', data=np.array(I), compression='gzip')\n",
    "        dset_Q   = group.create_dataset('Q', data=np.array(Q), compression='gzip')\n",
    "        dset_S21 = group.create_dataset('S21', data=10*np.log10((np.absolute(1j*I+Q)/np.sqrt(2))**2), compression='gzip')\n",
    "        dset_P   = group.create_dataset('P', data=np.array(Q), compression='gzip')\n",
    "        dset_timestamp = group.create_dataset('Timestamp', data=np.array(timestamps), compression='gzip')\n",
    "\n",
    "        # Set attributes for the group\n",
    "        group.attrs['creation_date'] = str(datetime.datetime.now())\n",
    "        group.attrs['description'] = 'I and Q signals with timestamps'\n",
    "        group.attrs['unit'] = 'V'\n",
    "        group.attrs['num_points'] = num_points\n",
    "        group.attrs['duration'] = ACQUISITION_CONFIG['acq_conf']['duration']\n",
    "        group.attrs['sample_rate'] = ACQUISITION_CONFIG['acq_conf']['sample_rate']\n",
    "        group.attrs['pulser_frequency'] = pulser.frequency\n",
    "        group.attrs['pulser_duty_cycle'] = pulser.duty_cycle\n",
    "\n",
    "        # Set attributes for the file\n",
    "        f.attrs['author'] = 'Riccardo Maifredi'\n",
    "        f.attrs['project'] = 'IR_Source'\n",
    "        f.attrs['description'] = 'HDF5 file containing I, Q, and Timestamp signals'\n",
    "\n",
    "    return f"
   ]
  },
  {
   "cell_type": "code",
   "execution_count": 41,
   "metadata": {},
   "outputs": [],
   "source": [
    "filepath = r'C:\\Users\\kid\\SynologyDrive\\Lab2023\\KIDs\\QTLab2324\\IR_SING_PHOT\\API'"
   ]
  },
  {
   "cell_type": "code",
   "execution_count": 42,
   "metadata": {},
   "outputs": [
    {
     "name": "stdout",
     "output_type": "stream",
     "text": [
      "16:18:01.507 - __main__ - <module> - INFO - START EXECUTION\n"
     ]
    }
   ],
   "source": [
    "dictConfig(LOGGING_CONFIG)\n",
    "logger = logging.getLogger(__name__)\n",
    "logger.info('START EXECUTION')"
   ]
  },
  {
   "cell_type": "code",
   "execution_count": 43,
   "metadata": {},
   "outputs": [
    {
     "name": "stdout",
     "output_type": "stream",
     "text": [
      "16:18:02.510 - __main__ - <module> - INFO - DAQ class object correctly created\n"
     ]
    }
   ],
   "source": [
    "try:\n",
    "    daq = DAQ.DAQ()\n",
    "    logger.info('DAQ class object correctly created')\n",
    "except Exception:\n",
    "    logger.critical('Could not crate DAQ class object')\n",
    "    raise SyntaxError('Could not create DAQ class object')"
   ]
  },
  {
   "cell_type": "code",
   "execution_count": 44,
   "metadata": {},
   "outputs": [],
   "source": [
    "channels = {'I'\t\t\t: 0, \n",
    "            'Q'\t\t\t: 1,\n",
    "            'trigger'\t: 1}"
   ]
  },
  {
   "cell_type": "code",
   "execution_count": 45,
   "metadata": {},
   "outputs": [],
   "source": [
    "devicename =  'Card'"
   ]
  },
  {
   "cell_type": "code",
   "execution_count": 46,
   "metadata": {},
   "outputs": [
    {
     "name": "stdout",
     "output_type": "stream",
     "text": [
      "16:18:06.279 - __main__ - <module> - INFO - Inserting acquisition configuration from ACQUISITION_CONFIG dictionary\n"
     ]
    }
   ],
   "source": [
    "try:\n",
    "    daq.acq_conf = ACQUISITION_CONFIG['acq_conf']\n",
    "    logger.info('Inserting acquisition configuration from ACQUISITION_CONFIG dictionary')\n",
    "except Exception:\n",
    "    logger.warning('Coulkd not insert acquisition configuration')\n",
    "    raise SystemError('Coulkd not insert acquisition configuration')"
   ]
  },
  {
   "cell_type": "code",
   "execution_count": 47,
   "metadata": {},
   "outputs": [
    {
     "name": "stdout",
     "output_type": "stream",
     "text": [
      "16:18:07.628 - __main__ - <module> - INFO - Inserting hconf dic\n"
     ]
    }
   ],
   "source": [
    "try:\n",
    "    daq.horizontal_conf = ACQUISITION_CONFIG['horizontal']\n",
    "    logger.info('Inserting hconf dic')\n",
    "except Exception:\n",
    "    logger.warning('Could not insert hconf dic')\n",
    "    raise SystemError('Could not insert hconf dic')"
   ]
  },
  {
   "cell_type": "code",
   "execution_count": 48,
   "metadata": {},
   "outputs": [
    {
     "name": "stdout",
     "output_type": "stream",
     "text": [
      "16:18:09.356 - __main__ - <module> - INFO - Inserting vconf dic\n"
     ]
    }
   ],
   "source": [
    "try:\n",
    "    daq.vertical_conf = ACQUISITION_CONFIG['vertical']\n",
    "    logger.info('Inserting vconf dic')\n",
    "except Exception:\n",
    "    logger.warning('Could not insert vconf dic')\n",
    "    raise SystemError('Could not insert vconf dic')"
   ]
  },
  {
   "cell_type": "code",
   "execution_count": 49,
   "metadata": {},
   "outputs": [
    {
     "name": "stdout",
     "output_type": "stream",
     "text": [
      "16:18:11.144 - __main__ - <module> - INFO - Inserting chan char dic\n"
     ]
    }
   ],
   "source": [
    "try:\n",
    "    daq.chan_conf = ACQUISITION_CONFIG['chan_conf']\n",
    "    logger.info('Inserting chan char dic')\n",
    "except Exception:\n",
    "    logger.warning('Could not insert chan char dic')\n",
    "    raise SystemError('Could not insert chan char dic')"
   ]
  },
  {
   "cell_type": "code",
   "execution_count": 50,
   "metadata": {},
   "outputs": [
    {
     "name": "stdout",
     "output_type": "stream",
     "text": [
      "16:18:12.855 - __main__ - <module> - INFO - Inserting trigger dic\n"
     ]
    }
   ],
   "source": [
    "try:\n",
    "    daq.trigger_dic = ACQUISITION_CONFIG['trigger']\n",
    "    logger.info('Inserting trigger dic') \n",
    "except Exception:\n",
    "    logger.warning('Could not insert trigger dic')\n",
    "    raise SystemError('Could not insert trigger dic')"
   ]
  },
  {
   "cell_type": "code",
   "execution_count": 51,
   "metadata": {},
   "outputs": [
    {
     "name": "stdout",
     "output_type": "stream",
     "text": [
      "OBJECT INSTANCE CREATED\n"
     ]
    }
   ],
   "source": [
    "pulser = AGI335.AGI335()"
   ]
  },
  {
   "cell_type": "code",
   "execution_count": 52,
   "metadata": {},
   "outputs": [],
   "source": [
    "board = 'GPIB0::10::INSTR'\n",
    "pulser.board = board"
   ]
  },
  {
   "cell_type": "code",
   "execution_count": 53,
   "metadata": {},
   "outputs": [
    {
     "data": {
      "text/plain": [
       "True"
      ]
     },
     "execution_count": 53,
     "metadata": {},
     "output_type": "execute_result"
    }
   ],
   "source": [
    "pulser.connect()\n",
    "pulser.is_connected"
   ]
  },
  {
   "cell_type": "code",
   "execution_count": 54,
   "metadata": {},
   "outputs": [],
   "source": [
    "pulser.function = 'SQU'\n",
    "pulser.frequency = 1*1e6\n",
    "pulser.offset = 0.5\n",
    "pulser.voltage = 1\n",
    "pulser.duty_cycle = 16\n",
    "pulser._pulser.write('SOUR:BURS:STAT ON')\n",
    "pulser.set_burst_mode()"
   ]
  },
  {
   "cell_type": "code",
   "execution_count": 55,
   "metadata": {},
   "outputs": [
    {
     "data": {
      "text/plain": [
       "16.0"
      ]
     },
     "execution_count": 55,
     "metadata": {},
     "output_type": "execute_result"
    }
   ],
   "source": [
    "pulser.duty_cycle"
   ]
  },
  {
   "cell_type": "code",
   "execution_count": 56,
   "metadata": {},
   "outputs": [],
   "source": [
    "pulser.trigger_mode = 'BUS'"
   ]
  },
  {
   "cell_type": "code",
   "execution_count": 57,
   "metadata": {},
   "outputs": [],
   "source": [
    "s1 = Synthesizer()\n",
    "s1.connettore('ASRL27::INSTR')"
   ]
  },
  {
   "cell_type": "code",
   "execution_count": 58,
   "metadata": {},
   "outputs": [],
   "source": [
    "f0 = 5.345215443088618\n",
    "s1.set_frequency(f0)\n",
    "s1.outp_frequency_on()"
   ]
  },
  {
   "cell_type": "code",
   "execution_count": 59,
   "metadata": {},
   "outputs": [],
   "source": [
    "pulser.output = 'ON'"
   ]
  },
  {
   "cell_type": "code",
   "execution_count": 60,
   "metadata": {},
   "outputs": [
    {
     "name": "stdout",
     "output_type": "stream",
     "text": [
      "ON\n"
     ]
    }
   ],
   "source": [
    "print(pulser.output)"
   ]
  },
  {
   "cell_type": "code",
   "execution_count": 61,
   "metadata": {},
   "outputs": [],
   "source": [
    "devicename = 'PXI1Slot3'"
   ]
  },
  {
   "cell_type": "code",
   "execution_count": 75,
   "metadata": {},
   "outputs": [],
   "source": [
    "num = 10\n",
    "save_path = r\"C:\\Users\\kid\\SynologyDrive\\Lab2023\\KIDs\\QTLab2324\\IR_SING_PHOT\\RUNS\\10\\\\\""
   ]
  },
  {
   "cell_type": "code",
   "execution_count": 76,
   "metadata": {},
   "outputs": [],
   "source": [
    "daq._session = ni.Session(devicename)\n",
    "daq.configure_channels()\n",
    "daq.config_trigger()\n",
    "maxs = []\n",
    "with daq._session as session:\n",
    "        for i in range(1000):\n",
    "                daq._session.initiate()\n",
    "                pulser.execute_trigger()\n",
    "                waveforms = session.channels[0,1].fetch()\n",
    "                f = create_hdf5(save_path+'RUN_'+str(num)+'_PULSE_'+str(i)+'.hdf5', np.array(waveforms[1].samples.tolist()), np.array(waveforms[0].samples.tolist()), pulser)\n",
    "                maxs.append((min(np.array(waveforms[1].samples.tolist())),np.argmin(np.array(waveforms[1].samples.tolist()))))"
   ]
  },
  {
   "cell_type": "code",
   "execution_count": 66,
   "metadata": {},
   "outputs": [
    {
     "data": {
      "text/plain": [
       "[<matplotlib.lines.Line2D at 0x204434f0>]"
      ]
     },
     "execution_count": 66,
     "metadata": {},
     "output_type": "execute_result"
    },
    {
     "data": {
      "image/png": "[encoded data removed]",
      "text/plain": [
       "<Figure size 1080x720 with 1 Axes>"
      ]
     },
     "metadata": {
      "needs_background": "light"
     },
     "output_type": "display_data"
    }
   ],
   "source": [
    "fig = plt.figure(figsize=(15,10))\n",
    "I = np.array(waveforms[0].samples.tolist())\n",
    "Q = np.array(waveforms[1].samples.tolist())\n",
    "S21 = 10*np.log10((np.absolute(1j*I+Q)/np.sqrt(2))**2)\n",
    "plt.plot(np.linspace(0,len(I),len(I)),I)\n",
    "#plt.xlim(1*1e5,3*1e5)"
   ]
  },
  {
   "cell_type": "code",
   "execution_count": 71,
   "metadata": {},
   "outputs": [],
   "source": [
    "mins = [maxs[i][0] for i in range(len(maxs))]"
   ]
  },
  {
   "cell_type": "code",
   "execution_count": 73,
   "metadata": {},
   "outputs": [
    {
     "data": {
      "text/plain": [
       "(array([  2.,   0.,   1.,   4.,  21.,  22.,  86.,  69., 242., 133., 200.,\n",
       "         88.,  93.,  22.,  17.]),\n",
       " array([0.01442854, 0.0145293 , 0.01463005, 0.01473081, 0.01483157,\n",
       "        0.01493233, 0.01503309, 0.01513385, 0.01523461, 0.01533536,\n",
       "        0.01543612, 0.01553688, 0.01563764, 0.0157384 , 0.01583916,\n",
       "        0.01593992]),\n",
       " <BarContainer object of 15 artists>)"
      ]
     },
     "execution_count": 73,
     "metadata": {},
     "output_type": "execute_result"
    },
    {
     "data": {
      "image/png": "[encoded data removed]",
      "text/plain": [
       "<Figure size 432x288 with 1 Axes>"
      ]
     },
     "metadata": {
      "needs_background": "light"
     },
     "output_type": "display_data"
    }
   ],
   "source": [
    "plt.hist(mins,bins=int(0.5*np.sqrt(len(mins))))"
   ]
  },
  {
   "cell_type": "code",
   "execution_count": null,
   "metadata": {},
   "outputs": [],
   "source": []
  }
 ],
 "metadata": {
  "kernelspec": {
   "display_name": "Python 3.8.6 64-bit",
   "language": "python",
   "name": "python3"
  },
  "language_info": {
   "codemirror_mode": {
    "name": "ipython",
    "version": 3
   },
   "file_extension": ".py",
   "mimetype": "text/x-python",
   "name": "python",
   "nbconvert_exporter": "python",
   "pygments_lexer": "ipython3",
   "version": "3.8.6"
  },
  "orig_nbformat": 4,
  "vscode": {
   "interpreter": {
    "hash": "ca7fb12e8dddb717a45af6dd1993c67b83aa05886451cd3b5212fabc2a7dc798"
   }
  }
 },
 "nbformat": 4,
 "nbformat_minor": 2
}
