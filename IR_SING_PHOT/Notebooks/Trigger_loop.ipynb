{
 "cells": [
  {
   "cell_type": "code",
   "execution_count": 44,
   "metadata": {},
   "outputs": [],
   "source": [
    "import h5py\n",
    "import os\n",
    "import sys\n",
    "sys.path.append(r'C:\\Users\\kid\\SynologyDrive\\Lab2023\\KIDs\\QTLab2324\\IR_SING_PHOT')\n",
    "from HDF5 import HDF5\n",
    "import matplotlib.pyplot as plt\n",
    "import numpy as np\n",
    "from scipy.signal import savgol_filter, find_peaks\n",
    "from scipy.optimize import curve_fit\n",
    "from iminuit import Minuit\n",
    "from iminuit.cost import LeastSquares"
   ]
  },
  {
   "cell_type": "code",
   "execution_count": 45,
   "metadata": {},
   "outputs": [],
   "source": [
    "def read(parent):\n",
    "    data = []\n",
    "    counter = 0\n",
    "    for root, dirs, files in os.walk(parent):\n",
    "        for file in files:\n",
    "            if file.endswith('.hdf5') and counter<10:\n",
    "                file_path = os.path.join(root, file)\n",
    "                f = HDF5.HDF5()\n",
    "                f.name = file_path\n",
    "                data.append(f.load_hdf5()['Signals']['I'])\n",
    "                counter = counter + 1\n",
    "                print(f'reading file : {counter}')\n",
    "    return data\n"
   ]
  },
  {
   "cell_type": "code",
   "execution_count": 47,
   "metadata": {},
   "outputs": [
    {
     "name": "stdout",
     "output_type": "stream",
     "text": [
      "Execution time: 0.172\n",
      "reading file : 1\n",
      "Execution time: 0.164\n",
      "reading file : 2\n",
      "Execution time: 0.168\n",
      "reading file : 3\n",
      "Execution time: 0.158\n",
      "reading file : 4\n",
      "Execution time: 0.167\n",
      "reading file : 5\n",
      "Execution time: 0.163\n",
      "reading file : 6\n",
      "Execution time: 0.172\n",
      "reading file : 7\n",
      "Execution time: 0.159\n",
      "reading file : 8\n",
      "Execution time: 0.161\n",
      "reading file : 9\n",
      "Execution time: 0.16\n",
      "reading file : 10\n"
     ]
    }
   ],
   "source": [
    "data = read(r'C:\\Users\\kid\\SynologyDrive\\Lab2023\\KIDs\\QTLab2324\\IR_SING_PHOT\\RUNS\\10')"
   ]
  },
  {
   "cell_type": "code",
   "execution_count": 48,
   "metadata": {},
   "outputs": [],
   "source": [
    "def model(x, A,B,C,D):\n",
    "    return A*np.exp(-B*(x-C))+D\n",
    "\n",
    "def sigmoid(x, A, B, C, D):\n",
    "    return A / (1.0 + np.exp(-B * (x - C))) + D"
   ]
  },
  {
   "cell_type": "code",
   "execution_count": 43,
   "metadata": {},
   "outputs": [
    {
     "name": "stdout",
     "output_type": "stream",
     "text": [
      "Could not fit...\n"
     ]
    },
    {
     "name": "stderr",
     "output_type": "stream",
     "text": [
      "C:\\Users\\kid\\AppData\\Local\\Temp\\ipykernel_1492\\1250387595.py:5: RuntimeWarning: overflow encountered in exp\n",
      "  return A / (1.0 + np.exp(-B * (x - C))) + D\n"
     ]
    },
    {
     "name": "stdout",
     "output_type": "stream",
     "text": [
      "Could not fit...\n",
      "Could not fit...\n",
      "Could not fit...\n",
      "Could not fit...\n",
      "Could not fit...\n",
      "Could not fit...\n",
      "Could not fit...\n",
      "Could not fit...\n",
      "Could not fit...\n"
     ]
    }
   ],
   "source": [
    "for i in range(len(data)):\n",
    "    xmin, ymin = [np.argmin(data[i]) , min(data[i])]\n",
    "    I = -data[i][xmin-3000:xmin+10000]\n",
    "    T = np.linspace(xmin-3000,xmin+10000,len(I),dtype=int)\n",
    "    # Apply moving average filter\n",
    "    window_size = 50  # Size of the moving average window\n",
    "    cumsum = np.cumsum(I)\n",
    "    cumsum[window_size:] = cumsum[window_size:] - cumsum[:-window_size]\n",
    "    moving_avg = cumsum[window_size - 1:] / window_size\n",
    "    # Pad the moving average to match the length of the original signal\n",
    "    moving_avg = np.pad(moving_avg, (window_size - 1, 0), mode='constant', constant_values=(moving_avg[0], moving_avg[-1]))\n",
    "    window_length = 171  # Must be odd\n",
    "    polyorder = 3\n",
    "    sg_filtered_signal = savgol_filter(moving_avg, window_length, polyorder)\n",
    "\n",
    "    # Post-processing: Optional further smoothing\n",
    "    window_size = 5\n",
    "    smoothed_signal = np.convolve(sg_filtered_signal, np.ones(window_size)/window_size, mode='valid')\n",
    "    window_length = 171  # Must be odd\n",
    "    polyorder = 3\n",
    "    sg_filtered_signal = savgol_filter(moving_avg, window_length, polyorder)\n",
    "\n",
    "    # Post-processing: Optional further smoothing\n",
    "    window_size = 5\n",
    "    smoothed_signal = np.convolve(sg_filtered_signal, np.ones(window_size)/window_size, mode='valid')\n",
    "\n",
    "    len_fit = int(np.floor(len(I)/10))\n",
    "    pol_amp = np.polyfit(T[:len_fit], I[:len_fit], 2)\n",
    "    Mean = np.mean(np.polyval(pol_amp, T[:len_fit])-I[:len_fit])\n",
    "    rms = np.sqrt(np.mean((np.polyval(pol_amp, T[:len_fit])-I[:len_fit])**2))   \n",
    "\n",
    "    p0 = [max(smoothed_signal),0.00046,267200,Mean]\n",
    "    p0_sig = [max(smoothed_signal),0.1,267200,Mean]\n",
    "\n",
    "    sig = LeastSquares(T[2000:3200],smoothed_signal[2000:3200],rms,sigmoid)\n",
    "    exp = LeastSquares(T[3000:len(smoothed_signal)],smoothed_signal[3000:len(smoothed_signal)],rms,model)\n",
    "    msig = Minuit(sig,*p0_sig)\n",
    "    msig.migrad(iterate=1000)\n",
    "    \n",
    "    if msig.accurate:\n",
    "        mexp = Minuit(exp,*p0)\n",
    "        \n",
    "        mexp.migrad(iterate=1000)\n",
    "\n",
    "        # Calculate the 10% and 90% points of the fitted signal\n",
    "        y_10 = msig.values['D'] + 0.1 * msig.values['A']\n",
    "        y_90 = msig.values['D'] + 0.9 * msig.values['A']\n",
    "\n",
    "        # Find the time at which the signal reaches these values\n",
    "        t_10 = T[np.abs(sigmoid(T[2000:3200],*msig.values) - y_10).argmin()]\n",
    "        t_90 = T[np.abs(sigmoid(T[2000:3200],*msig.values) - y_90).argmin()]\n",
    "\n",
    "        # Calculate the rise time\n",
    "        rise_time = (t_90 - t_10)*1e-8\n",
    "        print(f\"Rise Time: {rise_time*1e6:.4f} micro seconds\")\n",
    "\n",
    "        fitted_signal = np.array(list(sigmoid(T[0:3000],*msig.values))+list(model(T[3000:],*mexp.values)))\n",
    "\n",
    "        window = 111 \n",
    "        polyorder = 3 \n",
    "        sd = savgol_filter(fitted_signal,window, polyorder, deriv=2) \n",
    "\n",
    "        th = 4*1e-8\n",
    "        peaks, props = find_peaks(sd, th)\n",
    "        peak = peaks[np.argmax(props['peak_heights'])]\n",
    "\n",
    "        with open('Trigger_RUN_10.txt','a') as file:\n",
    "            file.writelines('\\n'+str(peaks[0])+'\\t'+str(props['peak_heights'][0]))\n",
    "    \n",
    "    else: \n",
    "        print('Could not fit...')\n",
    "        pass"
   ]
  },
  {
   "cell_type": "code",
   "execution_count": null,
   "metadata": {},
   "outputs": [],
   "source": []
  }
 ],
 "metadata": {
  "kernelspec": {
   "display_name": "Python 3.8.6 64-bit",
   "language": "python",
   "name": "python3"
  },
  "language_info": {
   "codemirror_mode": {
    "name": "ipython",
    "version": 3
   },
   "file_extension": ".py",
   "mimetype": "text/x-python",
   "name": "python",
   "nbconvert_exporter": "python",
   "pygments_lexer": "ipython3",
   "version": "3.8.6"
  },
  "orig_nbformat": 4,
  "vscode": {
   "interpreter": {
    "hash": "ca7fb12e8dddb717a45af6dd1993c67b83aa05886451cd3b5212fabc2a7dc798"
   }
  }
 },
 "nbformat": 4,
 "nbformat_minor": 2
}
