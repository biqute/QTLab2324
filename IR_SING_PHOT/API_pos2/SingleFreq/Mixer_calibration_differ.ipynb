{
 "cells": [
  {
   "cell_type": "code",
   "execution_count": 1,
   "metadata": {},
   "outputs": [],
   "source": [
    "import sys\n",
    "\n",
    "sys.path.append(r\"C:\\Users\\oper\\SynologyDrive\\Lab2023\\KIDs\\QTLab2324\\IRSource\\Logger\")\n",
    "sys.path.append(r\"C:\\Users\\oper\\SynologyDrive\\Lab2023\\KIDs\\QTLab2324\\IRSource\\DAQ\")\n",
    "sys.path.append(r'C:\\Users\\oper\\SynologyDrive\\Lab2023\\KIDs\\QTLab2324\\IRSource\\Logger\\logs\\sessions')\n",
    "sys.path.append(r'C:\\Users\\oper\\SynologyDrive\\Lab2023\\KIDs\\QTLab2324\\IRSource\\Exceptions')\n",
    "sys.path.append(r'C:\\Users\\oper\\SynologyDrive\\Lab2023\\KIDs\\QTLab2324\\IRSource\\API')\n",
    "sys.path.append(r'C:\\Users\\oper\\SynologyDrive\\Lab2023\\KIDs\\QTLab2324\\IRSource\\API\\SingleFreq')\n",
    "\n",
    "import json\n",
    "from DAQ import DAQ\n",
    "from Acquisition_config import ACQUISITION_CONFIG\n",
    "import logging\n",
    "from logging.config import dictConfig\n",
    "from SingleFreq.logs.logging_config import LOGGING_CONFIG \n",
    "from Exceptions import replace_non_serializable\n",
    "from PAmodules.QuickSyn import FSL_0010\n",
    "from PAmodules.network.RS_Signal_Generator import RS_SMA100B\n",
    "import numpy as np\n",
    "import niscope as ni\n",
    "from PAmodules import Tools\n",
    "from HDF5 import HDF5 as h5\n",
    "import matplotlib.pyplot as plt\n",
    "from scipy.signal import find_peaks"
   ]
  },
  {
   "cell_type": "code",
   "execution_count": 2,
   "metadata": {},
   "outputs": [
    {
     "name": "stdout",
     "output_type": "stream",
     "text": [
      "13:35:21.188 - __main__ - <module> - INFO - START EXECUTION\n",
      "13:35:21.189 - __main__ - <module> - INFO - Dumping acquisition configuration\n",
      "13:35:21.191 - __main__ - <module> - INFO - DAQ class object correctly created\n",
      "13:35:21.194 - __main__ - <module> - INFO - FSL_0010 class object correctly created\n",
      "SMA100B: Connection successful!\n",
      "13:35:21.288 - __main__ - <module> - INFO - SMA class object correctly created\n"
     ]
    }
   ],
   "source": [
    "\n",
    "ip   = '192.168.40.15'   # Set IP address of SMA\n",
    "devicename = 'PXI1Slot3' \n",
    "filepath = r'C:\\\\Users\\\\oper\\\\SynologyDrive\\\\Lab2023\\\\KIDs\\\\QTLab2324\\\\IRSource\\\\API\\\\SingleFreq\\\\png\\\\'\n",
    "\n",
    "#===============================================================================================\n",
    "#Import logger configuration\n",
    "#===============================================================================================\n",
    "dictConfig(LOGGING_CONFIG)\n",
    "logger = logging.getLogger(__name__)\n",
    "logger.info('START EXECUTION')\n",
    "\n",
    "try:\n",
    "    cfg1 = json.dumps(replace_non_serializable(ACQUISITION_CONFIG))\n",
    "    logger.info('Dumping acquisition configuration')\n",
    "    with open(ACQUISITION_CONFIG['acq_conf']['path'] + 'config.json','w') as f:\n",
    "        f.write(cfg1)\n",
    "except Exception:\n",
    "    logger.critical('Dumping acquisition configuration')\n",
    "    raise SystemError(\"Could not dump acquisition configuration!\")\n",
    "\n",
    "#===============================================================================================\n",
    "#Acquire DAQ configuration dictionaries\n",
    "#===============================================================================================\n",
    "\n",
    "try:\n",
    "    daq = DAQ()\n",
    "    logger.info('DAQ class object correctly created')\n",
    "except Exception:\n",
    "    logger.critical('Could not crate DAQ class object')\n",
    "    raise SyntaxError('Could not create DAQ class object')\n",
    "\n",
    "try:\n",
    "    fsl = FSL_0010.FSL10_synthesizer(device_address='COM36')\n",
    "    logger.info('FSL_0010 class object correctly created')\n",
    "except Exception:\n",
    "    logger.critical('Could not crate FSL class object')\n",
    "    raise SyntaxError('Could not create FSL class object')\n",
    "\n",
    "try:\n",
    "    sGen = RS_SMA100B.SMA100B(ip)\n",
    "    logger.info('SMA class object correctly created')\n",
    "except Exception:\n",
    "    logger.critical('Could not crate SMA class object')\n",
    "    raise SyntaxError('Could not create SMA class object')"
   ]
  },
  {
   "cell_type": "code",
   "execution_count": 3,
   "metadata": {},
   "outputs": [],
   "source": [
    "LO =  9e9 \n",
    "RF     = LO + 2e6\n",
    "amplitude       = 16  \n",
    "sample_rate     = 250e6\n",
    "k               = 4\n",
    "pulse_period    = k * 1e-6\n",
    "num_points      = int(sample_rate * pulse_period)\n",
    "percent         = 5\n",
    "pulse_width     = pulse_period * (1-percent/100)\n",
    "pulse_delay     = 0\n",
    "\n",
    "channels = {'I'\t\t\t: 0, \n",
    "            'Q'\t\t\t: 1,\n",
    "            'trigger'\t: 3}"
   ]
  },
  {
   "cell_type": "code",
   "execution_count": 4,
   "metadata": {},
   "outputs": [
    {
     "name": "stdout",
     "output_type": "stream",
     "text": [
      "13:35:23.547 - __main__ - <module> - INFO - SMA set up correctly\n",
      "13:35:23.549 - __main__ - <module> - INFO - DAQ status: <bound method DAQ.get_status of <DAQ.DAQ object at 0x0000000018C9DA60>>\n"
     ]
    }
   ],
   "source": [
    "try:    \n",
    "    sGen.reset()\n",
    "    sGen.clear()\n",
    "    sGen.RF_lvl_ampl(amplitude)\n",
    "    #sGen.pul_gen_params(delay = pulse_delay, width = pulse_width, period = pulse_period)  \n",
    "    #sGen.pul_gen_mode('SING')\n",
    "    #sGen.pul_trig_mode('SING')\n",
    "    logger.info('SMA set up correctly')\n",
    "except Exception:\n",
    "    logger.critical('Could not set up SMA')\n",
    "    raise SystemError('Could not create SMA class object')\n",
    "\n",
    "\n",
    "try:\n",
    "    stat = daq.get_status\n",
    "    logger.info('DAQ status: '+str(stat))\n",
    "except Exception:\n",
    "    logger.critical('Could not get DAQ status!')\n",
    "    raise SystemError('Could not get DAQ status')"
   ]
  },
  {
   "cell_type": "code",
   "execution_count": 5,
   "metadata": {},
   "outputs": [
    {
     "name": "stdout",
     "output_type": "stream",
     "text": [
      "13:35:23.683 - __main__ - <module> - ERROR - Could not reset DAQ with defaults\n",
      "13:35:23.684 - __main__ - <module> - INFO - Inserting acquisition configuration from ACQUISITION_CONFIG dictionary\n",
      "13:35:23.685 - __main__ - <module> - INFO - Inserting hconf dic\n",
      "13:35:23.685 - __main__ - <module> - INFO - Inserting vconf dic\n",
      "13:35:23.686 - __main__ - <module> - INFO - Inserting chan char dic\n",
      "13:35:23.687 - __main__ - <module> - INFO - Inserting trigger dic\n"
     ]
    }
   ],
   "source": [
    "try:\n",
    "    daq.reset_with_def()\n",
    "    daq.get_status\n",
    "    logger.info('Resetting DAQ with defaults')\n",
    "except Exception:\n",
    "    logger.error('Could not reset DAQ with defaults')\n",
    "    pass\n",
    "    #raise SystemError('Could not restet DAQ with defaults')\n",
    "\n",
    "try:\n",
    "    daq.acq_conf = ACQUISITION_CONFIG['acq_conf']\n",
    "    logger.info('Inserting acquisition configuration from ACQUISITION_CONFIG dictionary')\n",
    "except Exception:\n",
    "    logger.warning('Coulkd not insert acquisition configuration')\n",
    "    raise SystemError('Coulkd not insert acquisition configuration')\n",
    "\n",
    "try:\n",
    "    daq.horizontal_conf = ACQUISITION_CONFIG['horizontal']\n",
    "    logger.info('Inserting hconf dic')\n",
    "except Exception:\n",
    "    logger.warning('Could not insert hconf dic')\n",
    "    raise SystemError('Could not insert hconf dic')\n",
    "\n",
    "try:\n",
    "    daq.vertical_conf = ACQUISITION_CONFIG['vertical']\n",
    "    logger.info('Inserting vconf dic')\n",
    "except Exception:\n",
    "    logger.warning('Could not insert vconf dic')\n",
    "    raise SystemError('Could not insert vconf dic')\n",
    "\n",
    "try:\n",
    "    daq.chan_conf = ACQUISITION_CONFIG['chan_conf']\n",
    "    logger.info('Inserting chan char dic')\n",
    "except Exception:\n",
    "    logger.warning('Could not insert chan char dic')\n",
    "    raise SystemError('Could not insert chan char dic')\n",
    "\n",
    "try:\n",
    "    daq.trigger_dic = ACQUISITION_CONFIG['trigger']\n",
    "    logger.info('Inserting trigger dic')\n",
    "except Exception:\n",
    "    logger.warning('Could not insert trigger dic')\n",
    "    raise SystemError('Could not insert trigger dic')\n"
   ]
  },
  {
   "cell_type": "code",
   "execution_count": 6,
   "metadata": {},
   "outputs": [
    {
     "name": "stdout",
     "output_type": "stream",
     "text": [
      "13:35:24.326 - __main__ - <module> - INFO - Creating new session!!!\n",
      "13:35:24.327 - __main__ - <module> - INFO - implementing trigger\n"
     ]
    }
   ],
   "source": [
    "try:\n",
    "    daq._session = ni.Session(devicename)\n",
    "    logger.info('Creating new session!!!')\n",
    "except Exception:\n",
    "    logger.critical('Could not create new Niscope sesison')\n",
    "    raise SystemError('Could not create new Niscope session')\n",
    "\n",
    "try:\n",
    "    if daq._session is not None:\n",
    "        daq.config_trigger()\n",
    "        logger.info('implementing trigger')\n",
    "    else:\n",
    "        pass\n",
    "except Exception:\n",
    "    logger.warning('Could not implement trigger')\n",
    "    raise SystemError('Could not implement trigger')"
   ]
  },
  {
   "cell_type": "code",
   "execution_count": 7,
   "metadata": {},
   "outputs": [
    {
     "name": "stdout",
     "output_type": "stream",
     "text": [
      "13:35:24.374 - __main__ - <module> - INFO - FSL is now outputting signal at 9000000000.0 Hz\n"
     ]
    }
   ],
   "source": [
    "try:\n",
    "    logger.info(f'FSL is now outputting signal at {LO} Hz')\n",
    "    fsl.set_output('ON')\n",
    "    fsl.set_frequency(int(LO*1e-9)) # GHz\n",
    "except Exception:\n",
    "    logger.critical('FSL is not outputting signal!')"
   ]
  },
  {
   "cell_type": "code",
   "execution_count": 8,
   "metadata": {},
   "outputs": [
    {
     "name": "stdout",
     "output_type": "stream",
     "text": [
      "13:35:24.499 - __main__ - <module> - INFO - Configuring channels\n",
      "13:35:24.501 - __main__ - <module> - INFO - Executing trigger\n",
      "13:35:24.543 - __main__ - <module> - INFO - Session initiated\n",
      "13:35:24.544 - __main__ - <module> - INFO - Initiating fetching...\n"
     ]
    }
   ],
   "source": [
    "with daq._session as session:\n",
    "    logger.info('Configuring channels')\n",
    "    daq.configure_channels()\n",
    "    logger.info('Executing trigger')\n",
    "    sGen.RF_freq(RF) \n",
    "    sGen.pul_state(1)\n",
    "    sGen.RF_state(1)\n",
    "    data = {'CH0': [],\n",
    "            'CH1': [],\n",
    "            'CH2': [],\n",
    "            'CH3': []}\n",
    "    wf_info = []\n",
    "    try:\n",
    "        session.initiate()\n",
    "        logger.info('Session initiated')\n",
    "    except Exception:\n",
    "        logger.critical('Could not initiate session')\n",
    "    try:\n",
    "        logger.info('Initiating fetching...')\n",
    "        daq.acquire()    \n",
    "    except Exception:\n",
    "        logger.error('Could not fetch!!')\n",
    "        sys.exit()"
   ]
  },
  {
   "cell_type": "code",
   "execution_count": 32,
   "metadata": {},
   "outputs": [
    {
     "name": "stdout",
     "output_type": "stream",
     "text": [
      "Channel             : 0\n",
      "Record              : 2\n",
      "Absolute X0         : 1.02898e+06\n",
      "Relative X0         : 2.99609e-09\n",
      "dt                  : 4e-09\n",
      "Offset              : 0\n",
      "Gain                : 1\n",
      "Waveform Length     : 100\n",
      "\n"
     ]
    }
   ],
   "source": [
    "print(daq._waveform[4])"
   ]
  },
  {
   "cell_type": "code",
   "execution_count": 42,
   "metadata": {},
   "outputs": [],
   "source": [
    "I, Q = [], []\n",
    "data = {\n",
    "    'CH0': [],\n",
    "    'CH1': []\n",
    "}\n",
    "\n",
    "for n in range(len(daq._waveform)):\n",
    "    if n%2==0:\n",
    "        key = 'CH0'\n",
    "    else:\n",
    "        key = 'CH1'\n",
    "    data[key].append(daq._waveform[n].samples.tolist())"
   ]
  }
 ],
 "metadata": {
  "kernelspec": {
   "display_name": "Python 3 (ipykernel)",
   "language": "python",
   "name": "python3"
  },
  "language_info": {
   "codemirror_mode": {
    "name": "ipython",
    "version": 3
   },
   "file_extension": ".py",
   "mimetype": "text/x-python",
   "name": "python",
   "nbconvert_exporter": "python",
   "pygments_lexer": "ipython3",
   "version": "3.8.8"
  },
  "vscode": {
   "interpreter": {
    "hash": "189b550c5a54b5087499bdd5ba77e857e00a6effe232207122d63c93e93ce421"
   }
  }
 },
 "nbformat": 4,
 "nbformat_minor": 2
}
