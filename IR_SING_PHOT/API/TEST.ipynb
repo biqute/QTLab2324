{
 "cells": [
  {
   "cell_type": "code",
   "execution_count": 1,
   "metadata": {},
   "outputs": [],
   "source": [
    "from Acquisition_config import ACQUISITION_CONFIG\n",
    "import sys\n",
    "sys.path.append(r'C:\\Users\\kid\\SynologyDrive\\Lab2023\\KIDs\\QTLab2324\\IR_SING_PHOT\\Synth')\n",
    "sys.path.append(r'C:\\Users\\kid\\SynologyDrive\\Lab2023\\KIDs\\QTLab2324\\IR_SING_PHOT\\Exceptions')\n",
    "sys.path.append(r'C:\\Users\\kid\\SynologyDrive\\Lab2023\\KIDs\\QTLab2324\\IR_SING_PHOT\\DAQ')\n",
    "import Synthesizer\n",
    "from logs.logging_config import LOGGING_CONFIG\n",
    "from logging.config import dictConfig\n",
    "import logging\n",
    "import json\n",
    "from Exceptions import replace_non_serializable\n",
    "import DAQ\n",
    "import niscope as ni\n",
    "import numpy as np"
   ]
  },
  {
   "cell_type": "code",
   "execution_count": 2,
   "metadata": {},
   "outputs": [],
   "source": [
    "filepath = r'C:\\Users\\kid\\SynologyDrive\\Lab2023\\KIDs\\QTLab2324\\IR_SING_PHOT\\API'"
   ]
  },
  {
   "cell_type": "code",
   "execution_count": 3,
   "metadata": {},
   "outputs": [
    {
     "name": "stdout",
     "output_type": "stream",
     "text": [
      "18:08:04.095 - __main__ - <module> - INFO - START EXECUTION\n"
     ]
    }
   ],
   "source": [
    "dictConfig(LOGGING_CONFIG)\n",
    "logger = logging.getLogger(__name__)\n",
    "logger.info('START EXECUTION')"
   ]
  },
  {
   "cell_type": "code",
   "execution_count": 4,
   "metadata": {},
   "outputs": [
    {
     "name": "stdout",
     "output_type": "stream",
     "text": [
      "18:08:04.342 - __main__ - <module> - INFO - Dumping acquisition configuration\n"
     ]
    }
   ],
   "source": [
    "try:\n",
    "    cfg1 = json.dumps(replace_non_serializable(ACQUISITION_CONFIG))\n",
    "    logger.info('Dumping acquisition configuration')\n",
    "    with open(ACQUISITION_CONFIG['acq_conf']['path'] + 'config.json','w') as f:\n",
    "        f.write(cfg1)\n",
    "except Exception:\n",
    "    logger.critical('Dumping acquisition configuration')\n",
    "    raise SystemError(\"Could not dump acquisition configuration!\")"
   ]
  },
  {
   "cell_type": "code",
   "execution_count": 5,
   "metadata": {},
   "outputs": [],
   "source": [
    "res = [5.3465, 5.5757, 5.6748, 5.98126]\n",
    "sgen_board = ''\n",
    "amplitude = 0\n",
    "f = 0"
   ]
  },
  {
   "cell_type": "code",
   "execution_count": 6,
   "metadata": {},
   "outputs": [
    {
     "name": "stdout",
     "output_type": "stream",
     "text": [
      "18:08:05.096 - __main__ - <module> - INFO - DAQ class object correctly created\n"
     ]
    }
   ],
   "source": [
    "try:\n",
    "    daq = DAQ.DAQ()\n",
    "    logger.info('DAQ class object correctly created')\n",
    "except Exception:\n",
    "    logger.critical('Could not crate DAQ class object')\n",
    "    raise SyntaxError('Could not create DAQ class object')"
   ]
  },
  {
   "cell_type": "code",
   "execution_count": 7,
   "metadata": {},
   "outputs": [
    {
     "name": "stdout",
     "output_type": "stream",
     "text": [
      "Synth_uno!\n",
      "Synth_due!\n",
      "Si è connessi al synth_uno!\n",
      "Si è connessi al synth_due!\n",
      "18:08:12.133 - __main__ - <module> - INFO - Synth class object correctly created and connected!\n"
     ]
    }
   ],
   "source": [
    "try:\n",
    "    s1 = Synthesizer.Synthesizer(1)\n",
    "    s2 = Synthesizer.Synthesizer(2)\n",
    "    s1.connettore()\n",
    "    s2.connettore()\n",
    "    logger.info('Synth class object correctly created and connected!')\n",
    "except Exception:\n",
    "    logger.critical('Could not crate synth class object')\n",
    "    raise SyntaxError('Could not create synth class object')"
   ]
  },
  {
   "cell_type": "code",
   "execution_count": 8,
   "metadata": {},
   "outputs": [],
   "source": [
    "channels = {'I'\t\t\t: 0, \n",
    "            'Q'\t\t\t: 1,\n",
    "            'trigger'\t: 3}"
   ]
  },
  {
   "cell_type": "code",
   "execution_count": 9,
   "metadata": {},
   "outputs": [],
   "source": [
    "daq.session = 'PXI1Slot4'"
   ]
  },
  {
   "cell_type": "code",
   "execution_count": 10,
   "metadata": {},
   "outputs": [
    {
     "name": "stdout",
     "output_type": "stream",
     "text": [
      "18:08:13.027 - __main__ - <module> - INFO - Resetting DAQ with defaults\n"
     ]
    }
   ],
   "source": [
    "try:\n",
    "    daq.reset_with_def()\n",
    "    daq.get_status\n",
    "    logger.info('Resetting DAQ with defaults')\n",
    "except Exception:\n",
    "    logger.error('Could not reset DAQ with defaults')\n",
    "    pass"
   ]
  },
  {
   "cell_type": "code",
   "execution_count": 11,
   "metadata": {},
   "outputs": [
    {
     "name": "stdout",
     "output_type": "stream",
     "text": [
      "18:08:13.111 - __main__ - <module> - INFO - Inserting acquisition configuration from ACQUISITION_CONFIG dictionary\n"
     ]
    }
   ],
   "source": [
    "try:\n",
    "    daq.acq_conf = ACQUISITION_CONFIG['acq_conf']\n",
    "    logger.info('Inserting acquisition configuration from ACQUISITION_CONFIG dictionary')\n",
    "except Exception:\n",
    "    logger.warning('Coulkd not insert acquisition configuration')\n",
    "    raise SystemError('Coulkd not insert acquisition configuration')"
   ]
  },
  {
   "cell_type": "code",
   "execution_count": 12,
   "metadata": {},
   "outputs": [
    {
     "name": "stdout",
     "output_type": "stream",
     "text": [
      "18:08:13.612 - __main__ - <module> - INFO - Inserting hconf dic\n"
     ]
    }
   ],
   "source": [
    "try:\n",
    "    daq.horizontal_conf = ACQUISITION_CONFIG['horizontal']\n",
    "    logger.info('Inserting hconf dic')\n",
    "except Exception:\n",
    "    logger.warning('Could not insert hconf dic')\n",
    "    raise SystemError('Could not insert hconf dic')"
   ]
  },
  {
   "cell_type": "code",
   "execution_count": 13,
   "metadata": {},
   "outputs": [
    {
     "name": "stdout",
     "output_type": "stream",
     "text": [
      "18:08:14.079 - __main__ - <module> - INFO - Inserting vconf dic\n"
     ]
    }
   ],
   "source": [
    "try:\n",
    "    daq.vertical_conf = ACQUISITION_CONFIG['vertical']\n",
    "    logger.info('Inserting vconf dic')\n",
    "except Exception:\n",
    "    logger.warning('Could not insert vconf dic')\n",
    "    raise SystemError('Could not insert vconf dic')"
   ]
  },
  {
   "cell_type": "code",
   "execution_count": 14,
   "metadata": {},
   "outputs": [
    {
     "name": "stdout",
     "output_type": "stream",
     "text": [
      "18:08:14.455 - __main__ - <module> - INFO - Inserting chan char dic\n"
     ]
    }
   ],
   "source": [
    "try:\n",
    "    daq.chan_conf = ACQUISITION_CONFIG['chan_conf']\n",
    "    logger.info('Inserting chan char dic')\n",
    "except Exception:\n",
    "    logger.warning('Could not insert chan char dic')\n",
    "    raise SystemError('Could not insert chan char dic')"
   ]
  },
  {
   "cell_type": "code",
   "execution_count": 15,
   "metadata": {},
   "outputs": [
    {
     "name": "stdout",
     "output_type": "stream",
     "text": [
      "18:08:14.761 - __main__ - <module> - INFO - Inserting trigger dic\n"
     ]
    }
   ],
   "source": [
    "try:\n",
    "    daq.trigger_dic = ACQUISITION_CONFIG['trigger']\n",
    "    logger.info('Inserting trigger dic')\n",
    "except Exception:\n",
    "    logger.warning('Could not insert trigger dic')\n",
    "    raise SystemError('Could not insert trigger dic')"
   ]
  },
  {
   "cell_type": "code",
   "execution_count": 16,
   "metadata": {},
   "outputs": [
    {
     "name": "stdout",
     "output_type": "stream",
     "text": [
      "18:08:15.275 - __main__ - <module> - INFO - Creating new session!!!\n"
     ]
    }
   ],
   "source": [
    "try:\n",
    "    daq._session = ni.Session('PXI1Slot4')\n",
    "    logger.info('Creating new session!!!')\n",
    "except Exception:\n",
    "    logger.critical('Could not create new Niscope sesison')\n",
    "    raise SystemError('Could not create new Niscope session')"
   ]
  },
  {
   "cell_type": "code",
   "execution_count": 17,
   "metadata": {},
   "outputs": [
    {
     "name": "stdout",
     "output_type": "stream",
     "text": [
      "18:08:15.732 - __main__ - <module> - INFO - implementing trigger\n"
     ]
    }
   ],
   "source": [
    "try:\n",
    "    if daq._session is not None:\n",
    "        daq.config_trigger()\n",
    "        logger.info('implementing trigger')\n",
    "    else:\n",
    "        pass\n",
    "except Exception:\n",
    "    logger.warning('Could not implement trigger')\n",
    "    raise SystemError('Could not implement trigger')"
   ]
  },
  {
   "cell_type": "code",
   "execution_count": 18,
   "metadata": {},
   "outputs": [],
   "source": [
    "LO = '1GHz'\n",
    "RF = '1.00000001 GHz'\n",
    "s1.set_frequency(LO)\n",
    "s2.set_frequency(RF)\n",
    "s1.outp_frequency_on()\n",
    "s2.outp_frequency_on()\n"
   ]
  },
  {
   "cell_type": "code",
   "execution_count": 19,
   "metadata": {},
   "outputs": [
    {
     "name": "stdout",
     "output_type": "stream",
     "text": [
      "18:08:16.280 - __main__ - <module> - INFO - Configuring channels\n",
      "18:08:16.299 - __main__ - <module> - INFO - Session initiated\n",
      "18:08:16.300 - __main__ - <module> - INFO - Initiating fetching...\n",
      "18:08:16.308 - __main__ - <module> - INFO - Converting wfm[0] into dictionary\n"
     ]
    }
   ],
   "source": [
    "with daq._session as session:\n",
    "    logger.info('Configuring channels')\n",
    "    daq.configure_channels()\n",
    "    data = {'CH0': [],\n",
    "            'CH1': [],\n",
    "            'CH2': [],\n",
    "            'CH3': []}\n",
    "    wf_info = []\n",
    "    try:\n",
    "        daq._session.initiate()\n",
    "        logger.info('Session initiated')\n",
    "    except Exception:\n",
    "        logger.critical('Could not initiate session')\n",
    "\n",
    "\n",
    "    try:\n",
    "        logger.info('Initiating fetching...')\n",
    "        waveforms = session.channels[0, 1].fetch()\n",
    "        logger.info('Converting wfm[0] into dictionary')\n",
    "    except Exception:\n",
    "        logger.error('Could not fetch!!')\n",
    "        sys.exit()"
   ]
  },
  {
   "cell_type": "code",
   "execution_count": 20,
   "metadata": {},
   "outputs": [
    {
     "name": "stdout",
     "output_type": "stream",
     "text": [
      "Channel             : 0\n",
      "Record              : 0\n",
      "Absolute X0         : 5,314.15\n",
      "Relative X0         : 3.00781e-09\n",
      "dt                  : 4e-09\n",
      "Offset              : 0\n",
      "Gain                : 1\n",
      "Waveform Length     : 10,000\n",
      "\n"
     ]
    }
   ],
   "source": [
    "print(waveforms[::2][0])"
   ]
  },
  {
   "cell_type": "code",
   "execution_count": 21,
   "metadata": {},
   "outputs": [],
   "source": [
    "for r in range(ACQUISITION_CONFIG['acq_conf']['num_records']):\n",
    "    data['CH1'].append(waveforms[0::2][r].samples.tolist())\n",
    "    data['CH0'].append(waveforms[1::2][r].samples.tolist())\n",
    "data['time'] = np.arange(0,len(data['CH0'][0]),1)"
   ]
  },
  {
   "cell_type": "code",
   "execution_count": 22,
   "metadata": {},
   "outputs": [],
   "source": [
    "import matplotlib.pyplot as plt"
   ]
  },
  {
   "cell_type": "code",
   "execution_count": 24,
   "metadata": {},
   "outputs": [
    {
     "data": {
      "text/plain": [
       "Text(0.5, 1.0, 'Noise')"
      ]
     },
     "execution_count": 24,
     "metadata": {},
     "output_type": "execute_result"
    },
    {
     "data": {
      "image/png": "[encoded data removed]",
      "text/plain": [
       "<Figure size 720x360 with 1 Axes>"
      ]
     },
     "metadata": {
      "needs_background": "light"
     },
     "output_type": "display_data"
    }
   ],
   "source": [
    "plt.figure(figsize=(10,5))\n",
    "plt.plot(data['time'],data['CH1'][0], label='I channel')\n",
    "plt.plot(data['time'],data['CH0'][0], label='Q channel')\n",
    "plt.xlabel('timestamp')\n",
    "plt.ylabel('Signal [A.U.]')\n",
    "plt.legend()\n",
    "plt.title('Noise')"
   ]
  },
  {
   "cell_type": "code",
   "execution_count": null,
   "metadata": {},
   "outputs": [],
   "source": []
  }
 ],
 "metadata": {
  "kernelspec": {
   "display_name": "Python 3.8.6 64-bit",
   "language": "python",
   "name": "python3"
  },
  "language_info": {
   "codemirror_mode": {
    "name": "ipython",
    "version": 3
   },
   "file_extension": ".py",
   "mimetype": "text/x-python",
   "name": "python",
   "nbconvert_exporter": "python",
   "pygments_lexer": "ipython3",
   "version": "3.8.6"
  },
  "orig_nbformat": 4,
  "vscode": {
   "interpreter": {
    "hash": "ca7fb12e8dddb717a45af6dd1993c67b83aa05886451cd3b5212fabc2a7dc798"
   }
  }
 },
 "nbformat": 4,
 "nbformat_minor": 2
}
