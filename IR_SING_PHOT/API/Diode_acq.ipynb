{
 "cells": [
  {
   "cell_type": "code",
   "execution_count": 1,
   "metadata": {},
   "outputs": [],
   "source": [
    "from Acquisition_config import ACQUISITION_CONFIG\n",
    "import sys\n",
    "import time\n",
    "sys.path.append(r'C:\\Users\\kid\\SynologyDrive\\Lab2023\\KIDs\\QTLab2324\\IR_SING_PHOT\\Synth')\n",
    "sys.path.append(r'C:\\Users\\kid\\SynologyDrive\\Lab2023\\KIDs\\QTLab2324\\IR_SING_PHOT\\Exceptions')\n",
    "sys.path.append(r'C:\\Users\\kid\\SynologyDrive\\Lab2023\\KIDs\\QTLab2324\\IR_SING_PHOT\\DAQ')\n",
    "import Synthesizer\n",
    "from logs.logging_config import LOGGING_CONFIG\n",
    "from logging.config import dictConfig\n",
    "import logging\n",
    "import json\n",
    "from Exceptions import replace_non_serializable\n",
    "import DAQ\n",
    "import niscope as ni\n",
    "import numpy as np\n",
    "import matplotlib.pyplot as plt"
   ]
  },
  {
   "cell_type": "code",
   "execution_count": 2,
   "metadata": {},
   "outputs": [],
   "source": [
    "filepath = r'C:\\Users\\kid\\SynologyDrive\\Lab2023\\KIDs\\QTLab2324\\IR_SING_PHOT\\API'"
   ]
  },
  {
   "cell_type": "code",
   "execution_count": 3,
   "metadata": {},
   "outputs": [
    {
     "name": "stdout",
     "output_type": "stream",
     "text": [
      "14:51:20.690 - __main__ - <module> - INFO - START EXECUTION\n"
     ]
    }
   ],
   "source": [
    "dictConfig(LOGGING_CONFIG)\n",
    "logger = logging.getLogger(__name__)\n",
    "logger.info('START EXECUTION')"
   ]
  },
  {
   "cell_type": "code",
   "execution_count": 4,
   "metadata": {},
   "outputs": [
    {
     "name": "stdout",
     "output_type": "stream",
     "text": [
      "14:51:20.942 - __main__ - <module> - INFO - Dumping acquisition configuration\n"
     ]
    }
   ],
   "source": [
    "try:\n",
    "    cfg1 = json.dumps(replace_non_serializable(ACQUISITION_CONFIG))\n",
    "    logger.info('Dumping acquisition configuration')\n",
    "    with open(ACQUISITION_CONFIG['acq_conf']['path'] + 'config.json','w') as f:\n",
    "        f.write(cfg1)\n",
    "except Exception:\n",
    "    logger.critical('Dumping acquisition configuration')\n",
    "    raise SystemError(\"Could not dump acquisition configuration!\")"
   ]
  },
  {
   "cell_type": "code",
   "execution_count": 5,
   "metadata": {},
   "outputs": [
    {
     "name": "stdout",
     "output_type": "stream",
     "text": [
      "14:51:21.647 - __main__ - <module> - INFO - DAQ class object correctly created\n"
     ]
    }
   ],
   "source": [
    "try:\n",
    "    daq = DAQ.DAQ()\n",
    "    logger.info('DAQ class object correctly created')\n",
    "except Exception:\n",
    "    logger.critical('Could not crate DAQ class object')\n",
    "    raise SyntaxError('Could not create DAQ class object')"
   ]
  },
  {
   "cell_type": "code",
   "execution_count": 6,
   "metadata": {},
   "outputs": [],
   "source": [
    "channels = {'I'\t\t\t: 0, \n",
    "            'Q'\t\t\t: 1,\n",
    "            'trigger'\t: 0}"
   ]
  },
  {
   "cell_type": "code",
   "execution_count": 7,
   "metadata": {},
   "outputs": [],
   "source": [
    "devicename =  'PXI1Slot4'"
   ]
  },
  {
   "cell_type": "code",
   "execution_count": 8,
   "metadata": {},
   "outputs": [
    {
     "name": "stdout",
     "output_type": "stream",
     "text": [
      "14:51:22.498 - __main__ - <module> - ERROR - Could not reset DAQ with defaults\n"
     ]
    }
   ],
   "source": [
    "try:\n",
    "    daq.reset_with_def()\n",
    "    daq.get_status\n",
    "    logger.info('Resetting DAQ with defaults')\n",
    "except Exception:\n",
    "    logger.error('Could not reset DAQ with defaults')\n",
    "    pass"
   ]
  },
  {
   "cell_type": "code",
   "execution_count": 9,
   "metadata": {},
   "outputs": [
    {
     "name": "stdout",
     "output_type": "stream",
     "text": [
      "14:51:22.836 - __main__ - <module> - INFO - Inserting acquisition configuration from ACQUISITION_CONFIG dictionary\n"
     ]
    }
   ],
   "source": [
    "try:\n",
    "    daq.acq_conf = ACQUISITION_CONFIG['acq_conf']\n",
    "    logger.info('Inserting acquisition configuration from ACQUISITION_CONFIG dictionary')\n",
    "except Exception:\n",
    "    logger.warning('Coulkd not insert acquisition configuration')\n",
    "    raise SystemError('Coulkd not insert acquisition configuration')"
   ]
  },
  {
   "cell_type": "code",
   "execution_count": 10,
   "metadata": {},
   "outputs": [
    {
     "name": "stdout",
     "output_type": "stream",
     "text": [
      "14:51:23.191 - __main__ - <module> - INFO - Inserting hconf dic\n"
     ]
    }
   ],
   "source": [
    "try:\n",
    "    daq.horizontal_conf = ACQUISITION_CONFIG['horizontal']\n",
    "    logger.info('Inserting hconf dic')\n",
    "except Exception:\n",
    "    logger.warning('Could not insert hconf dic')\n",
    "    raise SystemError('Could not insert hconf dic')"
   ]
  },
  {
   "cell_type": "code",
   "execution_count": 11,
   "metadata": {},
   "outputs": [
    {
     "name": "stdout",
     "output_type": "stream",
     "text": [
      "14:51:23.494 - __main__ - <module> - INFO - Inserting vconf dic\n"
     ]
    }
   ],
   "source": [
    "try:\n",
    "    daq.vertical_conf = ACQUISITION_CONFIG['vertical']\n",
    "    logger.info('Inserting vconf dic')\n",
    "except Exception:\n",
    "    logger.warning('Could not insert vconf dic')\n",
    "    raise SystemError('Could not insert vconf dic')"
   ]
  },
  {
   "cell_type": "code",
   "execution_count": 12,
   "metadata": {},
   "outputs": [
    {
     "name": "stdout",
     "output_type": "stream",
     "text": [
      "14:51:23.965 - __main__ - <module> - INFO - Inserting chan char dic\n"
     ]
    }
   ],
   "source": [
    "try:\n",
    "    daq.chan_conf = ACQUISITION_CONFIG['chan_conf']\n",
    "    logger.info('Inserting chan char dic')\n",
    "except Exception:\n",
    "    logger.warning('Could not insert chan char dic')\n",
    "    raise SystemError('Could not insert chan char dic')"
   ]
  },
  {
   "cell_type": "code",
   "execution_count": 13,
   "metadata": {},
   "outputs": [
    {
     "name": "stdout",
     "output_type": "stream",
     "text": [
      "14:51:24.314 - __main__ - <module> - INFO - Inserting trigger dic\n"
     ]
    }
   ],
   "source": [
    "try:\n",
    "    daq.trigger_dic = ACQUISITION_CONFIG['trigger']\n",
    "    logger.info('Inserting trigger dic')\n",
    "except Exception:\n",
    "    logger.warning('Could not insert trigger dic')\n",
    "    raise SystemError('Could not insert trigger dic')"
   ]
  },
  {
   "cell_type": "code",
   "execution_count": 14,
   "metadata": {},
   "outputs": [],
   "source": [
    "import sys\n",
    "sys.path.append(r'C:\\Users\\kid\\SynologyDrive\\Lab2023\\KIDs\\QTLab2324\\IR_SING_PHOT\\diodo')\n",
    "import diodo"
   ]
  },
  {
   "cell_type": "code",
   "execution_count": 15,
   "metadata": {},
   "outputs": [
    {
     "name": "stdout",
     "output_type": "stream",
     "text": [
      "AFG object created correctly!\n",
      "\n"
     ]
    }
   ],
   "source": [
    "pulser = diodo.AFG310()"
   ]
  },
  {
   "cell_type": "code",
   "execution_count": 16,
   "metadata": {},
   "outputs": [],
   "source": [
    "amp = 1\n",
    "pulser.reset()\n",
    "pulser.set_offset(amp*0.5)\n",
    "pulser.set_amplitude(amp)\n",
    "pulser.set_func('SQU')\n",
    "pulser.trigger_mode()\n",
    "pulser.set_freq(1*1e6)\n",
    "pulser.outp_on()"
   ]
  },
  {
   "cell_type": "code",
   "execution_count": 17,
   "metadata": {},
   "outputs": [
    {
     "name": "stdout",
     "output_type": "stream",
     "text": [
      "14:51:26.939 - __main__ - <module> - INFO - Configuring channels\n"
     ]
    }
   ],
   "source": [
    "daq._session = ni.Session(devicename)\n",
    "daq.config_trigger()\n",
    "with daq._session as session:\n",
    "        logger.info('Configuring channels')\n",
    "        daq.configure_channels()\n",
    "        data = {'CH0': [],\n",
    "                'CH1': [],\n",
    "                'CH2': [],\n",
    "                'CH3': []   \n",
    "                }\n",
    "\n",
    "        daq._session.initiate()\n",
    "        waveforms = []\n",
    "        for _ in range(10):\n",
    "                time.sleep(1)\n",
    "                pulser.execute_trigger()\n",
    "                waveforms.append(session.channels[0, 1].fetch())"
   ]
  },
  {
   "cell_type": "code",
   "execution_count": 18,
   "metadata": {},
   "outputs": [],
   "source": [
    "for i in range(len(waveforms)):\n",
    "    data['CH0'].extend(np.array(waveforms[i][0].samples.tolist()))\n",
    "    data['CH1'].extend(np.array(waveforms[i][1].samples.tolist()))  "
   ]
  },
  {
   "cell_type": "code",
   "execution_count": 19,
   "metadata": {},
   "outputs": [],
   "source": [
    "T = np.arange(0,len(data['CH0']),1)"
   ]
  },
  {
   "cell_type": "code",
   "execution_count": 20,
   "metadata": {},
   "outputs": [],
   "source": [
    "P = np.array(data['CH1'])\n",
    "D = np.array(data['CH0'])"
   ]
  },
  {
   "cell_type": "code",
   "execution_count": 21,
   "metadata": {},
   "outputs": [
    {
     "data": {
      "text/plain": [
       "<matplotlib.legend.Legend at 0x14a80040>"
      ]
     },
     "execution_count": 21,
     "metadata": {},
     "output_type": "execute_result"
    },
    {
     "data": {
      "image/png": "[encoded data removed]",
      "text/plain": [
       "<Figure size 1800x360 with 2 Axes>"
      ]
     },
     "metadata": {
      "needs_background": "light"
     },
     "output_type": "display_data"
    }
   ],
   "source": [
    "fig, axs = plt.subplots(1, 2, figsize=(25,5))\n",
    "axs[0].plot(T, P, label='Pulser signal')\n",
    "axs[1].plot(T, D, label='Pulsed diode')\n",
    "axs[0].legend()\n",
    "#axs[0].set_xlim([0,10000])\n",
    "axs[1].legend()"
   ]
  },
  {
   "cell_type": "code",
   "execution_count": null,
   "metadata": {},
   "outputs": [],
   "source": []
  }
 ],
 "metadata": {
  "kernelspec": {
   "display_name": "Python 3.8.6 64-bit",
   "language": "python",
   "name": "python3"
  },
  "language_info": {
   "codemirror_mode": {
    "name": "ipython",
    "version": 3
   },
   "file_extension": ".py",
   "mimetype": "text/x-python",
   "name": "python",
   "nbconvert_exporter": "python",
   "pygments_lexer": "ipython3",
   "version": "3.8.6"
  },
  "orig_nbformat": 4,
  "vscode": {
   "interpreter": {
    "hash": "ca7fb12e8dddb717a45af6dd1993c67b83aa05886451cd3b5212fabc2a7dc798"
   }
  }
 },
 "nbformat": 4,
 "nbformat_minor": 2
}
