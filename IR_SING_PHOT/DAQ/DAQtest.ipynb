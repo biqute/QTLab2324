{
 "cells": [
  {
   "cell_type": "code",
   "execution_count": 1,
   "metadata": {},
   "outputs": [
    {
     "name": "stdout",
     "output_type": "stream",
     "text": [
      "15:16:25.047 - DAQ - DAQ - INFO - START EXECUTION\n"
     ]
    }
   ],
   "source": [
    "import DAQ\n",
    "import niscope as ni"
   ]
  },
  {
   "cell_type": "code",
   "execution_count": 2,
   "metadata": {},
   "outputs": [
    {
     "name": "stdout",
     "output_type": "stream",
     "text": [
      "Instance correctly created!\n"
     ]
    }
   ],
   "source": [
    "daq = DAQ.DAQ('PXI1Slot3')"
   ]
  },
  {
   "cell_type": "code",
   "execution_count": 3,
   "metadata": {},
   "outputs": [
    {
     "name": "stdout",
     "output_type": "stream",
     "text": [
      "15:16:25.641 - DAQ - vertical_conf - INFO - Vertical config property added\n",
      "Vertical config property added\n"
     ]
    },
    {
     "data": {
      "text/plain": [
       "<DAQ.DAQ at 0x3c60f40>"
      ]
     },
     "execution_count": 3,
     "metadata": {},
     "output_type": "execute_result"
    }
   ],
   "source": [
    "vertical = {\n",
    "        'range': 2.0,\n",
    "        'coupling': ni.VerticalCoupling.AC,\n",
    "        'offset': 0.0,\n",
    "        'probe_attenuation': 1,\n",
    "        'enabled': True\n",
    "    }\n",
    "\n",
    "daq.vertical_conf(vertical)\n"
   ]
  },
  {
   "cell_type": "code",
   "execution_count": 4,
   "metadata": {},
   "outputs": [
    {
     "name": "stdout",
     "output_type": "stream",
     "text": [
      "15:16:25.735 - DAQ - horizontal_conf - INFO - Horizontal config property added\n",
      "Horizontal config property added\n"
     ]
    },
    {
     "data": {
      "text/plain": [
       "<DAQ.DAQ at 0x3c60f40>"
      ]
     },
     "execution_count": 4,
     "metadata": {},
     "output_type": "execute_result"
    }
   ],
   "source": [
    "horizontal = {\n",
    "        'min_sample_rate': 250e6,\n",
    "        'min_num_pts': 1000,\n",
    "        'ref_position': 0,\n",
    "        'num_records': 1,\n",
    "        'enforce_realtime': True\n",
    "    }\n",
    "daq.horizontal_conf(horizontal)"
   ]
  },
  {
   "cell_type": "code",
   "execution_count": 5,
   "metadata": {},
   "outputs": [
    {
     "name": "stdout",
     "output_type": "stream",
     "text": [
      "AcquisitionStatus.COMPLETE\n",
      "15:16:25.841 - DAQ - get_status - WARNING - Acquisition status: AcquisitionStatus.COMPLETE\n",
      "Ready to listen!\n",
      "15:16:25.843 - DAQ - available - INFO - Ready to listen!\n"
     ]
    }
   ],
   "source": [
    "daq.available()"
   ]
  },
  {
   "cell_type": "code",
   "execution_count": 6,
   "metadata": {},
   "outputs": [
    {
     "name": "stdout",
     "output_type": "stream",
     "text": [
      "Get current session\n"
     ]
    },
    {
     "data": {
      "text/plain": [
       "niscope.Session(resource_name='PXI1Slot3', id_query=False, reset_device=False, options='')"
      ]
     },
     "execution_count": 6,
     "metadata": {},
     "output_type": "execute_result"
    }
   ],
   "source": [
    "daq.get_session()"
   ]
  },
  {
   "cell_type": "code",
   "execution_count": 7,
   "metadata": {},
   "outputs": [
    {
     "name": "stdout",
     "output_type": "stream",
     "text": [
      "Resetting with defaults\n"
     ]
    }
   ],
   "source": [
    "daq.reset_with_def()"
   ]
  },
  {
   "cell_type": "code",
   "execution_count": 8,
   "metadata": {},
   "outputs": [
    {
     "name": "stdout",
     "output_type": "stream",
     "text": [
      "Configuring vertical done\n"
     ]
    }
   ],
   "source": [
    "daq.config_vertical()"
   ]
  },
  {
   "cell_type": "code",
   "execution_count": 9,
   "metadata": {},
   "outputs": [
    {
     "name": "stdout",
     "output_type": "stream",
     "text": [
      "Horizontal timing configuration done\n"
     ]
    }
   ],
   "source": [
    "daq.config_hor_timing()"
   ]
  },
  {
   "cell_type": "code",
   "execution_count": 10,
   "metadata": {},
   "outputs": [],
   "source": [
    "triggerconf = {\n",
    "        'trigger_type'  : 'DIG',\n",
    "        'trigger_source': 'VAL_PFI_0', \n",
    "        'slope'         : ni.TriggerSlope.POSITIVE, \n",
    "        'holdoff'       : 0, \n",
    "        'delay'         : 0\n",
    "}\n",
    "\n",
    "trigger = {\n",
    "        'trigger_type'    : 'DIG',\n",
    "        'trigger_source'  : '1',\n",
    "        'level'           : '-0.031',\n",
    "        'trigger_coupling': None,\n",
    "        'slope'           : ni.TriggerSlope.POSITIVE,\n",
    "        'holdoff'         : 0.0,\n",
    "        'delay'           : 0.0       \n",
    "    }\n",
    "\n",
    "trigger_edge = {\n",
    "        'trigger_type'    : 'EDGE',\n",
    "        'trigger_source': '',\n",
    "        'level': 2,\n",
    "        'trigger_coupling': ni.enums.TriggerCoupling.AC,\n",
    "        'slope': ni.TriggerSlope.POSITIVE,\n",
    "        'holdoff' : 0.0,\n",
    "        'delay' : 0.0\n",
    "    }"
   ]
  },
  {
   "cell_type": "code",
   "execution_count": 11,
   "metadata": {},
   "outputs": [
    {
     "name": "stdout",
     "output_type": "stream",
     "text": [
      "15:16:27.036 - DAQ - set_trigger_dic - INFO - Trigger dictionary added\n",
      "Trigger dictionary added\n"
     ]
    },
    {
     "data": {
      "text/plain": [
       "<DAQ.DAQ at 0x3c60f40>"
      ]
     },
     "execution_count": 11,
     "metadata": {},
     "output_type": "execute_result"
    }
   ],
   "source": [
    "daq.set_trigger_dic(triggerconf)"
   ]
  },
  {
   "cell_type": "code",
   "execution_count": 12,
   "metadata": {},
   "outputs": [
    {
     "name": "stdout",
     "output_type": "stream",
     "text": [
      "DIG\n"
     ]
    }
   ],
   "source": [
    "daq.get_trigger_type"
   ]
  },
  {
   "cell_type": "code",
   "execution_count": 13,
   "metadata": {},
   "outputs": [
    {
     "name": "stdout",
     "output_type": "stream",
     "text": [
      "Digital trigger configuration done correctly\n"
     ]
    }
   ],
   "source": [
    "daq.config_dig_trigger()"
   ]
  },
  {
   "cell_type": "code",
   "execution_count": 14,
   "metadata": {},
   "outputs": [
    {
     "name": "stdout",
     "output_type": "stream",
     "text": [
      "15:16:28.168 - DAQ - chan_conf - INFO - Channels char config property added\n",
      "Channels char config property added\n"
     ]
    },
    {
     "data": {
      "text/plain": [
       "<DAQ.DAQ at 0x3c60f40>"
      ]
     },
     "execution_count": 14,
     "metadata": {},
     "output_type": "execute_result"
    }
   ],
   "source": [
    "chan_conf = {\n",
    "    'input_impedance': float(50),\n",
    "    'max_frequency': 0\n",
    "}\n",
    "daq.chan_conf(chan_conf)"
   ]
  },
  {
   "cell_type": "code",
   "execution_count": 15,
   "metadata": {},
   "outputs": [
    {
     "name": "stdout",
     "output_type": "stream",
     "text": [
      "Miao!\n"
     ]
    }
   ],
   "source": [
    "with daq._session.initiate():\n",
    "    print('Miao!')"
   ]
  },
  {
   "cell_type": "code",
   "execution_count": null,
   "metadata": {},
   "outputs": [],
   "source": []
  }
 ],
 "metadata": {
  "kernelspec": {
   "display_name": "Python 3.8.8 ('qubit2324': venv)",
   "language": "python",
   "name": "python3"
  },
  "language_info": {
   "codemirror_mode": {
    "name": "ipython",
    "version": 3
   },
   "file_extension": ".py",
   "mimetype": "text/x-python",
   "name": "python",
   "nbconvert_exporter": "python",
   "pygments_lexer": "ipython3",
   "version": "3.8.8"
  },
  "orig_nbformat": 4,
  "vscode": {
   "interpreter": {
    "hash": "577259b7f5a119e8af3aadcda0ea5d59c3a4b6ea5978608d4fd23299b3f53377"
   }
  }
 },
 "nbformat": 4,
 "nbformat_minor": 2
}
