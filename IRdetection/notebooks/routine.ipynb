{
 "cells": [
  {
   "cell_type": "code",
   "execution_count": 1,
   "metadata": {},
   "outputs": [
    {
     "name": "stdout",
     "output_type": "stream",
     "text": [
      "VNA object created!\n",
      "Python 3.8.6 (tags/v3.8.6:db45529, Sep 23 2020, 15:52:53) [MSC v.1927 64 bit (AMD64)]\n",
      "Type 'copyright', 'credits' or 'license' for more information\n",
      "IPython 8.12.3 -- An enhanced Interactive Python. Type '?' for help.\n",
      "\n"
     ]
    }
   ],
   "source": [
    "import IPython\n",
    "import os\n",
    "import sys\n",
    "mypath=r'C:\\Users\\kid\\SynologyDrive\\Lab2023\\KIDs\\QTLab2324\\IRdetection\\Instrument'\n",
    "if mypath not in sys.path:\n",
    "     sys.path.append(r'C:\\Users\\kid\\SynologyDrive\\Lab2023\\KIDs\\QTLab2324\\IRdetection\\Instrument') \n",
    "from inst_class import HP8753E as HP \n",
    "import numpy as np\n",
    "\n",
    "def main():\n",
    "     VNA = HP()\n",
    "     print(\"VNA object created!\")\n",
    "     IPython.embed()\n",
    "     return\n",
    "\n",
    "if __name__ == \"__main__\":\n",
    "     main()"
   ]
  },
  {
   "cell_type": "code",
   "execution_count": 2,
   "metadata": {},
   "outputs": [
    {
     "name": "stdout",
     "output_type": "stream",
     "text": [
      "asttokens==2.4.1\n",
      "backcall==0.2.0\n",
      "colorama==0.4.6\n",
      "comm==0.2.0\n",
      "contourpy==1.1.1\n",
      "cycler==0.12.1\n",
      "debugpy==1.8.0\n",
      "decorator==5.1.1\n",
      "executing==2.0.1\n",
      "fonttools==4.44.0\n",
      "importlib-metadata==6.8.0\n",
      "importlib-resources==6.1.1\n",
      "ipykernel==6.26.0\n",
      "ipython==8.12.3\n",
      "jedi==0.19.1\n",
      "jupyter_client==8.6.0\n",
      "jupyter_core==5.5.0\n",
      "kiwisolver==1.4.5\n",
      "matplotlib==3.7.3\n",
      "matplotlib-inline==0.1.6\n",
      "nest-asyncio==1.5.8\n",
      "numpy==1.24.4\n",
      "packaging==23.2\n",
      "parso==0.8.3\n",
      "pickleshare==0.7.5\n",
      "Pillow==10.1.0\n",
      "platformdirs==3.11.0\n",
      "prompt-toolkit==3.0.39\n",
      "psutil==5.9.6\n",
      "pure-eval==0.2.2\n",
      "Pygments==2.16.1\n",
      "pyparsing==3.1.1\n",
      "python-dateutil==2.8.2\n",
      "PyVISA==1.14.0\n",
      "pywin32==306\n",
      "pyzmq==25.1.1\n",
      "scipy==1.10.1\n",
      "six==1.16.0\n",
      "stack-data==0.6.3\n",
      "tornado==6.3.3\n",
      "traitlets==5.13.0\n",
      "typing_extensions==4.8.0\n",
      "wcwidth==0.2.9\n",
      "zipp==3.17.0\n"
     ]
    }
   ],
   "source": [
    "! pip freeze"
   ]
  },
  {
   "cell_type": "code",
   "execution_count": null,
   "metadata": {},
   "outputs": [],
   "source": []
  }
 ],
 "metadata": {
  "kernelspec": {
   "display_name": "Python 3.8.6 ('kids2324')",
   "language": "python",
   "name": "python3"
  },
  "language_info": {
   "codemirror_mode": {
    "name": "ipython",
    "version": 3
   },
   "file_extension": ".py",
   "mimetype": "text/x-python",
   "name": "python",
   "nbconvert_exporter": "python",
   "pygments_lexer": "ipython3",
   "version": "3.8.6"
  },
  "vscode": {
   "interpreter": {
    "hash": "10870539e31553cdcc61fb93cf20d8308cc2c822912d9be8c2a46a9e2c53d4c1"
   }
  }
 },
 "nbformat": 4,
 "nbformat_minor": 2
}
