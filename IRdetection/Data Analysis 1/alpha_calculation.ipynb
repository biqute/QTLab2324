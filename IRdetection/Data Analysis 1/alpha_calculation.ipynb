{
 "cells": [
  {
   "cell_type": "code",
   "execution_count": 1,
   "metadata": {},
   "outputs": [],
   "source": [
    "import numpy as np\n",
    "from scipy import constants as c\n",
    "from scipy import special as sp\n",
    "from iminuit import Minuit, cost\n",
    "from argparse import Namespace\n",
    "import pandas as pd\n",
    "import os\n",
    "import matplotlib.pyplot as plt\n",
    "import h5py as h5\n",
    "from scipy.optimize import curve_fit"
   ]
  },
  {
   "cell_type": "code",
   "execution_count": 2,
   "metadata": {},
   "outputs": [],
   "source": [
    "KB = c.Boltzmann\n",
    "hbar = c.Planck\n"
   ]
  },
  {
   "cell_type": "code",
   "execution_count": 3,
   "metadata": {},
   "outputs": [],
   "source": [
    "def QT(T,d0, q0, alpha, omega):\n",
    "    csi = (hbar * omega)/(2*KB*T)\n",
    "    num = np.exp(-d0/(KB*T))*np.sinh(csi)*sp.kn(0,csi)\n",
    "    den = np.pi*(1-2*np.exp(-d0/(KB*T))*np.exp(-csi)*sp.iv(0,-csi))\n",
    "    return num/den * (alpha/2) + 1/q0\n",
    "\n",
    "def kondo(T,d0, q0, alpha, omega, b, T_k):\n",
    "    csi = (hbar * omega)/(2*KB*T)\n",
    "    num = np.exp(-d0/(KB*T))*np.sinh(csi)*sp.kn(0,csi)\n",
    "    den = np.pi*(1-2*np.exp(-d0/(KB*T))*np.exp(-csi)*sp.iv(0,-csi))\n",
    "    return num/den * (alpha/2) + 1/q0 - b*np.log(T/T_k)\n",
    "\n",
    "def retta(x, m, q):\n",
    "    return m*x + q\n",
    "\n",
    "def resonance(x, x0, Q, Q_c, phi0):\n",
    "    num = np.exp(1j*phi0)\n",
    "    den = 1 + 2*1j*Q*(x-x0)/x0\n",
    "    return abs(1 - (Q/Q_c)*(num/den))\n",
    "\n",
    "def model(x,m,q,x0,Q,Q_c,phi0):\n",
    "    return retta(x,m,q) * resonance(x,x0,Q,Q_c,phi0)\n",
    "\n",
    "def FWHM(x,y):\n",
    "    x = np.array(x)\n",
    "    y = np.array(y)\n",
    "    half = max(y) - (max(y)-min(y)) / 2.\n",
    "    minimums = x[np.where(y < half)]\n",
    "    if len(minimums)==0: \n",
    "        print('Minimum not found!')\n",
    "        return 0,1\n",
    "    else:\n",
    "        return (max(minimums) - min(minimums)),0\n",
    "\n",
    "def mod(x,y):\n",
    "    return np.sqrt(x**2 + y**2)\n",
    "    \n",
    "def Q_stima(x0,w):\n",
    "    if (((x0 is None) or (w is None)) or w==0):\n",
    "        print('Q_stima: None detected!')\n",
    "        return 0\n",
    "    else:\n",
    "        return x0/(2*w)\n",
    "    \n",
    "def Sort_Tuple(tup):\n",
    " \n",
    "    # getting length of list of tuples\n",
    "    lst = len(tup)\n",
    "    for i in range(0, lst):\n",
    "        for j in range(0, lst-i-1):\n",
    "            if (tup[j][1] > tup[j + 1][1]):\n",
    "                temp = tup[j]\n",
    "                tup[j] = tup[j + 1]\n",
    "                tup[j + 1] = temp\n",
    "    return tup\n",
    "\n",
    "\n",
    "def compute_chi2(func,x, y, sigma, p):\n",
    "    sum = 0\n",
    "    for (i,j,s) in zip(x,y,sigma):\n",
    "        sum += ((j-func(i,*p))/s)**2\n",
    "    return sum\n",
    "\n",
    "\n",
    "\n",
    "\n",
    "\n",
    "def plotter(dfs, t, func, p, c, rows, columns, fill):\n",
    "\n",
    "    fig, ax = plt.subplots(rows, columns, figsize=(30,20))\n",
    "\n",
    "    for row in range(rows):\n",
    "        for col in range(columns):\n",
    "            i = row*columns + col\n",
    "\n",
    "\n",
    "            chi2 = compute_chi2(func, np.array(dfs[i]['f']),np.array(dfs[i]['S21']), np.array(dfs[i]['S21'])*1e-3, p[i])\n",
    "            ndof = len(dfs)\n",
    "            title = [\n",
    "                f\"chi2/ndof = {chi2:.1f}/{ndof}={chi2/ndof:.1f}\",\n",
    "            ]\n",
    "\n",
    "            for (l,value) in enumerate(p[i]):\n",
    "                title.append(\n",
    "                    f\"{value:.4f} +/- {np.diag(c[i])[l]:.4f}\"\n",
    "                )\n",
    "\n",
    "\n",
    "            ax[row][col].scatter(np.array(dfs[i]['f'])*1e-9, np.array(dfs[i]['S21']), marker='.', s=1, label='Raw Data', color='black')\n",
    "            ax[row][col].plot(np.array(dfs[i]['f'])*1e-9, func(np.array(dfs[i]['f']), *p[i]), label='Model', color='red')\n",
    "            if (fill==True):\n",
    "                ax[row][col].fill_between(np.array(dfs[i]['f'])*1e-9, np.array(dfs[i]['S21'])*(1-(1e-3)), np.array(dfs[i]['S21'])*(1+1e-3), alpha=0.5, color='blue')\n",
    "            ax[row][col].set_facecolor('bisque')\n",
    "            ax[row][col].set_xlabel(r'$\\nu$ [GHz]')\n",
    "            ax[row][col].set_ylabel(r'$|S_{21}|$')\n",
    "            ax[row][col].legend(title='\\n'.join(title))\n",
    "            ax[row][col].set_title('T: '+str(t[i]))\n",
    "            ax[row][col].grid()\n",
    "            fig.tight_layout()\n",
    "\n",
    "    return fig\n",
    "\n",
    "def read_files(dir = r'C:\\Users\\kid\\SynologyDrive\\Lab2023\\KIDs\\QTLab2324\\IRdetection\\Instruments\\Test_data\\data_19_02_set1\\\\'):\n",
    "\n",
    "    dfs, dictionaries = [], []\n",
    "\n",
    "    for folder in os.listdir(dir):\n",
    "        if ('T' in folder):\n",
    "            parent = dir+folder+'\\\\'\n",
    "            dictionaries = []\n",
    "            for (i,filename) in enumerate(os.listdir(parent)):\n",
    "                my_dest = filename.replace('.h5','.hdf5')\n",
    "                my_source = parent + filename\n",
    "                my_dest = parent + my_dest\n",
    "                os.rename(my_source, my_dest)\n",
    "                with h5.File(my_dest, 'r') as r:\n",
    "                    group = r.require_group(name='raw_data')\n",
    "                    dic = dict()\n",
    "                    for c in group.items():\n",
    "                        dic[c[0]] = c[1][:]\n",
    "                dictionaries.append(dic)\n",
    "        dfs.append(dictionaries)\n",
    "    return dfs"
   ]
  },
  {
   "cell_type": "code",
   "execution_count": 4,
   "metadata": {},
   "outputs": [],
   "source": [
    "dfs = read_files() "
   ]
  },
  {
   "cell_type": "code",
   "execution_count": 6,
   "metadata": {},
   "outputs": [],
   "source": [
    "f0 = []\n",
    "for i in range(12):\n",
    "    for j in range(4):\n",
    "        dfs[i][j]['S21'] = 20*np.log10(np.sqrt(np.array(dfs[i][j]['i'])**2 + np.array(dfs[i][j]['q'])**2))\n",
    "        f0.append(float(np.array(dfs[i][j]['f'])[np.where(np.array(dfs[i][j]['S21']) == np.min(np.array(dfs[i][j]['S21'])))[0]]))"
   ]
  },
  {
   "cell_type": "code",
   "execution_count": 7,
   "metadata": {},
   "outputs": [],
   "source": [
    "f1 = [14.4827e9, 14.8814e9, 15.1563e9, 15.7100e9]"
   ]
  },
  {
   "cell_type": "code",
   "execution_count": 12,
   "metadata": {},
   "outputs": [],
   "source": [
    "def alpha(f0, f1):\n",
    "    return 1-(f0/f1)**2"
   ]
  },
  {
   "cell_type": "code",
   "execution_count": 14,
   "metadata": {},
   "outputs": [
    {
     "name": "stdout",
     "output_type": "stream",
     "text": [
      "0.8637057238431085\n",
      "0.86368024743377\n",
      "0.8637063607228376\n",
      "0.863733745143523\n"
     ]
    }
   ],
   "source": [
    "for i in range(4):\n",
    "    print(alpha(f0[12*i], f1[0]))"
   ]
  },
  {
   "cell_type": "code",
   "execution_count": null,
   "metadata": {},
   "outputs": [],
   "source": []
  }
 ],
 "metadata": {
  "kernelspec": {
   "display_name": "Python 3.8.6 64-bit",
   "language": "python",
   "name": "python3"
  },
  "language_info": {
   "codemirror_mode": {
    "name": "ipython",
    "version": 3
   },
   "file_extension": ".py",
   "mimetype": "text/x-python",
   "name": "python",
   "nbconvert_exporter": "python",
   "pygments_lexer": "ipython3",
   "version": "3.8.6"
  },
  "orig_nbformat": 4,
  "vscode": {
   "interpreter": {
    "hash": "ca7fb12e8dddb717a45af6dd1993c67b83aa05886451cd3b5212fabc2a7dc798"
   }
  }
 },
 "nbformat": 4,
 "nbformat_minor": 2
}
