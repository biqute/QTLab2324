{
 "cells": [
  {
   "cell_type": "code",
   "execution_count": 1,
   "metadata": {},
   "outputs": [],
   "source": [
    "import numpy as np\n",
    "import matplotlib.pyplot as plt\n",
    "from scipy.optimize import curve_fit\n",
    "from iminuit import Minuit"
   ]
  },
  {
   "cell_type": "code",
   "execution_count": 107,
   "metadata": {},
   "outputs": [],
   "source": [
    "'''fattore moltiplicativo (in genere1), Qt, Qi, rotazione, f di risonanza, termine fondo lineare, fondoquadratico, fondo cubico'''\n",
    "\n",
    "def resonance(x, Q, Q_c, phi0, fmin, a1, a2):\n",
    "    f = (x-fmin)/fmin\n",
    "    num = pow(Q,2) - 2*np.sin(phi0)*Q*Q_c - 4*np.cos(phi0)*pow(Q,2)*Q_c*f\n",
    "    den = 1 + pow((2*Q*f),2)\n",
    "    return (a1 + a2*f)*np.sqrt(1 + num/den)"
   ]
  },
  {
   "cell_type": "code",
   "execution_count": 108,
   "metadata": {},
   "outputs": [],
   "source": [
    "stringa = 'C:/Users/kid/SynologyDrive/Lab2023/KIDs/QTLab2324/IRDetection/Test_data/Resonance02.txt'\n",
    "dati = list(np.genfromtxt(stringa))"
   ]
  },
  {
   "cell_type": "code",
   "execution_count": 123,
   "metadata": {},
   "outputs": [],
   "source": [
    "f = []\n",
    "Q = []\n",
    "I = []\n",
    "for i in dati:\n",
    "    f.append(i[0])\n",
    "    I.append(i[1])\n",
    "    Q.append(i[2])\n",
    "f = np.array(f)/1e9\n",
    "Q = np.array(Q)\n",
    "I = np.array(I)\n",
    "\n",
    "S21 = np.sqrt(I**2 + Q**2)"
   ]
  },
  {
   "cell_type": "code",
   "execution_count": 124,
   "metadata": {},
   "outputs": [
    {
     "data": {
      "text/plain": [
       "<matplotlib.legend.Legend at 0x20decfa0>"
      ]
     },
     "execution_count": 124,
     "metadata": {},
     "output_type": "execute_result"
    },
    {
     "data": {
      "image/png": "[encoded data removed]",
      "text/plain": [
       "<Figure size 432x288 with 1 Axes>"
      ]
     },
     "metadata": {
      "needs_background": "light"
     },
     "output_type": "display_data"
    }
   ],
   "source": [
    "plt.plot(f,S21, label='|S21|')\n",
    "plt.legend()"
   ]
  },
  {
   "cell_type": "code",
   "execution_count": 137,
   "metadata": {},
   "outputs": [
    {
     "name": "stdout",
     "output_type": "stream",
     "text": [
      "fmin:  5.7367842\n",
      "m   :  -2.3792818472495525\n",
      "q   :  -13.775284185641144\n"
     ]
    }
   ],
   "source": [
    "'''fattore moltiplicativo (in genere1), Qt, Qi, rotazione, f di risonanza, termine fondo lineare, fondoquadratico, fondo cubico'''\n",
    "fmin = float(f[S21==min(S21)])\n",
    "m = (S21[-1]-S21[0])/(f[-1]-f[0])\n",
    "q = m*f[0]-S21[0]\n",
    "params = [1e3, 1e4, 1.5, fmin, -m, q]\n",
    "print('fmin: ', fmin)\n",
    "print('m   : ', m)\n",
    "print('q   : ', q)"
   ]
  },
  {
   "cell_type": "code",
   "execution_count": null,
   "metadata": {},
   "outputs": [],
   "source": []
  }
 ],
 "metadata": {
  "kernelspec": {
   "display_name": "Python 3.8.6 64-bit",
   "language": "python",
   "name": "python3"
  },
  "language_info": {
   "codemirror_mode": {
    "name": "ipython",
    "version": 3
   },
   "file_extension": ".py",
   "mimetype": "text/x-python",
   "name": "python",
   "nbconvert_exporter": "python",
   "pygments_lexer": "ipython3",
   "version": "3.8.6"
  },
  "orig_nbformat": 4,
  "vscode": {
   "interpreter": {
    "hash": "ca7fb12e8dddb717a45af6dd1993c67b83aa05886451cd3b5212fabc2a7dc798"
   }
  }
 },
 "nbformat": 4,
 "nbformat_minor": 2
}
