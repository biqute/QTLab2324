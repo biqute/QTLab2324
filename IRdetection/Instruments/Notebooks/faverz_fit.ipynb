{
 "cells": [
  {
   "cell_type": "code",
   "execution_count": 1,
   "metadata": {},
   "outputs": [],
   "source": [
    "import numpy as np\n",
    "import matplotlib.pyplot as plt\n",
    "from scipy.optimize import curve_fit\n",
    "from iminuit import Minuit"
   ]
  },
  {
   "cell_type": "code",
   "execution_count": 2,
   "metadata": {},
   "outputs": [],
   "source": [
    "stringa = 'C:/Users/kid/SynologyDrive/Lab2023/KIDs/QTLab2324/IRdetection/Instruments/Test_data/Resonance02.txt'\n",
    "dati = list(np.genfromtxt(stringa))"
   ]
  },
  {
   "cell_type": "code",
   "execution_count": 3,
   "metadata": {},
   "outputs": [],
   "source": [
    "f = []\n",
    "Q = []\n",
    "I = []\n",
    "for i in dati:\n",
    "    f.append(i[0])\n",
    "    I.append(i[1])\n",
    "    Q.append(i[2])\n",
    "f = np.array(f)/1e9\n",
    "Q = np.array(Q)\n",
    "I = np.array(I)\n",
    "\n",
    "S21 = np.sqrt(I**2 + Q**2)"
   ]
  },
  {
   "cell_type": "code",
   "execution_count": 4,
   "metadata": {},
   "outputs": [
    {
     "data": {
      "text/plain": [
       "<matplotlib.legend.Legend at 0x179f03d0>"
      ]
     },
     "execution_count": 4,
     "metadata": {},
     "output_type": "execute_result"
    },
    {
     "data": {
      "image/png": "[encoded data removed]",
      "text/plain": [
       "<Figure size 432x288 with 1 Axes>"
      ]
     },
     "metadata": {
      "needs_background": "light"
     },
     "output_type": "display_data"
    }
   ],
   "source": [
    "plt.plot(f,S21, label='|S21|')\n",
    "plt.legend()"
   ]
  },
  {
   "cell_type": "code",
   "execution_count": 5,
   "metadata": {},
   "outputs": [
    {
     "name": "stdout",
     "output_type": "stream",
     "text": [
      "fmin:  5.7367842\n",
      "m   :  -2.3792818472495525\n",
      "q   :  13.775284185641144\n"
     ]
    }
   ],
   "source": [
    "'''fattore moltiplicativo (in genere1), Qt, Qi, rotazione, f di risonanza, termine fondo lineare, fondoquadratico, fondo cubico'''\n",
    "fmin = float(f[S21==min(S21)])\n",
    "m = (S21[-1]-S21[0])/(f[-1]-f[0])\n",
    "q = -m*f[0]+S21[0]\n",
    "params = [1e3, 1e4, 1.5, fmin, -m, q]\n",
    "print('fmin: ', fmin)\n",
    "print('m   : ', m)\n",
    "print('q   : ', q)"
   ]
  },
  {
   "cell_type": "code",
   "execution_count": 6,
   "metadata": {},
   "outputs": [
    {
     "data": {
      "text/plain": [
       "[<matplotlib.lines.Line2D at 0x19c18ee0>]"
      ]
     },
     "execution_count": 6,
     "metadata": {},
     "output_type": "execute_result"
    },
    {
     "data": {
      "image/png": "[encoded data removed]",
      "text/plain": [
       "<Figure size 432x288 with 1 Axes>"
      ]
     },
     "metadata": {
      "needs_background": "light"
     },
     "output_type": "display_data"
    }
   ],
   "source": [
    "plt.plot(f,S21, label='|S21|')\n",
    "plt.plot(f, m*f+q)\n",
    "plt.plot(f, 0.12*f/f)\n",
    "plt.plot(f, 0.13*f/f)"
   ]
  },
  {
   "cell_type": "code",
   "execution_count": 7,
   "metadata": {},
   "outputs": [
    {
     "data": {
      "text/plain": [
       "5.7392461517018845"
      ]
     },
     "execution_count": 7,
     "metadata": {},
     "output_type": "execute_result"
    }
   ],
   "source": [
    "x1 = (0.12-q)/m\n",
    "x1"
   ]
  },
  {
   "cell_type": "code",
   "execution_count": 8,
   "metadata": {},
   "outputs": [
    {
     "data": {
      "text/plain": [
       "5.735043202811419"
      ]
     },
     "execution_count": 8,
     "metadata": {},
     "output_type": "execute_result"
    }
   ],
   "source": [
    "x2 = (0.13-q)/m\n",
    "x2"
   ]
  },
  {
   "cell_type": "code",
   "execution_count": 9,
   "metadata": {},
   "outputs": [
    {
     "name": "stdout",
     "output_type": "stream",
     "text": [
      "5.7288322\n"
     ]
    }
   ],
   "source": [
    "print(f[0])"
   ]
  },
  {
   "cell_type": "code",
   "execution_count": 10,
   "metadata": {},
   "outputs": [],
   "source": [
    "s21n = []\n",
    "fn = []\n",
    "for i in range(len(f)):\n",
    "    if (f[i]<x2) or (f[i]>x1):\n",
    "        fn.append(f[i])\n",
    "        s21n.append(S21[i])\n",
    "    "
   ]
  },
  {
   "cell_type": "code",
   "execution_count": 11,
   "metadata": {},
   "outputs": [],
   "source": [
    "def retta (x,m,q):\n",
    "    return m*x+q"
   ]
  },
  {
   "cell_type": "code",
   "execution_count": 12,
   "metadata": {},
   "outputs": [
    {
     "data": {
      "text/plain": [
       "array([-2.56824713, 14.85941395])"
      ]
     },
     "execution_count": 12,
     "metadata": {},
     "output_type": "execute_result"
    }
   ],
   "source": [
    "popt, _ = curve_fit(retta, fn,s21n)\n",
    "popt"
   ]
  },
  {
   "cell_type": "code",
   "execution_count": 13,
   "metadata": {},
   "outputs": [],
   "source": [
    "a, b = popt"
   ]
  },
  {
   "cell_type": "code",
   "execution_count": 14,
   "metadata": {},
   "outputs": [
    {
     "data": {
      "text/plain": [
       "[<matplotlib.lines.Line2D at 0x1ac73f40>]"
      ]
     },
     "execution_count": 14,
     "metadata": {},
     "output_type": "execute_result"
    },
    {
     "data": {
      "image/png": "[encoded data removed]",
      "text/plain": [
       "<Figure size 432x288 with 1 Axes>"
      ]
     },
     "metadata": {
      "needs_background": "light"
     },
     "output_type": "display_data"
    }
   ],
   "source": [
    "plt.plot(f,S21)\n",
    "plt.plot(f, a*f+b)"
   ]
  },
  {
   "cell_type": "code",
   "execution_count": 22,
   "metadata": {},
   "outputs": [],
   "source": [
    "'''fattore moltiplicativo (in genere1), Qt, Qi, rotazione, f di risonanza, termine fondo lineare, fondoquadratico, fondo cubico'''\n",
    "\n",
    "def resonance(x, Q, Q_c, phi0, fmin, a1, a2):\n",
    "    f = (x-fmin)/fmin\n",
    "    num = pow(Q,2) - 2*np.sin(phi0)*Q*Q_c - 4*np.cos(phi0)*pow(Q,2)*Q_c*f\n",
    "    den = 1 + pow((2*Q*f),2)\n",
    "    return (a1 + a2*f)*np.sqrt(1 + num/den)"
   ]
  },
  {
   "cell_type": "code",
   "execution_count": 23,
   "metadata": {},
   "outputs": [
    {
     "data": {
      "text/plain": [
       "5.7367842"
      ]
     },
     "execution_count": 23,
     "metadata": {},
     "output_type": "execute_result"
    }
   ],
   "source": [
    "fmin"
   ]
  },
  {
   "cell_type": "code",
   "execution_count": 24,
   "metadata": {},
   "outputs": [],
   "source": [
    "def resonance(x, Q, Q_c, phi0):\n",
    "    fmin = 5.7367842\n",
    "    a1 = -2.56824713\n",
    "    a2 = 14.85941395\n",
    "    f = (x-fmin)/fmin\n",
    "    num = pow(Q,2) - 2*np.sin(phi0)*Q*Q_c - 4*np.cos(phi0)*pow(Q,2)*Q_c*f\n",
    "    den = 1 + pow((2*Q*f),2)\n",
    "    return (a1 + a2*f)*np.sqrt(1 + num/den)"
   ]
  },
  {
   "cell_type": "code",
   "execution_count": 27,
   "metadata": {},
   "outputs": [
    {
     "name": "stderr",
     "output_type": "stream",
     "text": [
      "C:\\Users\\kid\\AppData\\Local\\Temp\\ipykernel_11532\\255475053.py:8: RuntimeWarning: invalid value encountered in sqrt\n",
      "  return (a1 + a2*f)*np.sqrt(1 + num/den)\n"
     ]
    }
   ],
   "source": [
    "popt, _ = curve_fit(resonance, f, S21)"
   ]
  },
  {
   "cell_type": "code",
   "execution_count": 30,
   "metadata": {},
   "outputs": [],
   "source": [
    "a,b,c = popt"
   ]
  },
  {
   "cell_type": "code",
   "execution_count": 36,
   "metadata": {},
   "outputs": [
    {
     "name": "stderr",
     "output_type": "stream",
     "text": [
      "C:\\Users\\kid\\AppData\\Local\\Temp\\ipykernel_11532\\255475053.py:8: RuntimeWarning: invalid value encountered in sqrt\n",
      "  return (a1 + a2*f)*np.sqrt(1 + num/den)\n"
     ]
    },
    {
     "data": {
      "text/plain": [
       "<matplotlib.legend.Legend at 0x1d5ad310>"
      ]
     },
     "execution_count": 36,
     "metadata": {},
     "output_type": "execute_result"
    },
    {
     "data": {
      "image/png": "[encoded data removed]",
      "text/plain": [
       "<Figure size 432x288 with 1 Axes>"
      ]
     },
     "metadata": {
      "needs_background": "light"
     },
     "output_type": "display_data"
    }
   ],
   "source": [
    "plt.plot(f, resonance(f,a, b, c), label = 'fit_brutto')\n",
    "plt.plot(f, resonance(f, 4050, 10600, 1), label = 'fit_giusto')\n",
    "plt.legend()"
   ]
  },
  {
   "cell_type": "code",
   "execution_count": 21,
   "metadata": {},
   "outputs": [],
   "source": []
  },
  {
   "cell_type": "code",
   "execution_count": 20,
   "metadata": {},
   "outputs": [],
   "source": []
  },
  {
   "cell_type": "code",
   "execution_count": null,
   "metadata": {},
   "outputs": [],
   "source": []
  }
 ],
 "metadata": {
  "kernelspec": {
   "display_name": "Python 3.8.6 64-bit",
   "language": "python",
   "name": "python3"
  },
  "language_info": {
   "codemirror_mode": {
    "name": "ipython",
    "version": 3
   },
   "file_extension": ".py",
   "mimetype": "text/x-python",
   "name": "python",
   "nbconvert_exporter": "python",
   "pygments_lexer": "ipython3",
   "version": "3.8.6"
  },
  "orig_nbformat": 4,
  "vscode": {
   "interpreter": {
    "hash": "ca7fb12e8dddb717a45af6dd1993c67b83aa05886451cd3b5212fabc2a7dc798"
   }
  }
 },
 "nbformat": 4,
 "nbformat_minor": 2
}
