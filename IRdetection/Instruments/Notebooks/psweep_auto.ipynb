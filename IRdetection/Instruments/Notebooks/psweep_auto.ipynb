{
 "cells": [
  {
   "cell_type": "code",
   "execution_count": 35,
   "metadata": {},
   "outputs": [],
   "source": [
    "import numpy as np\n",
    "import matplotlib.pyplot as plt\n",
    "import time\n",
    "import sys\n",
    "import os\n",
    "sys.path.insert(1, 'C:\\\\Users\\\\kid\\\\SynologyDrive\\\\Lab2023\\\\KIDs\\\\QTLab2324\\\\IRdetection\\\\Instruments\\\\Gas_Handler22')\n",
    "sys.path.insert(2, 'C:\\\\Users\\\\kid\\\\SynologyDrive\\\\Lab2023\\\\KIDs\\\\QTLab2324\\\\IRdetection\\\\Instruments\\\\VNA_GUI')\n",
    "import handler as h\n",
    "import HP8753E as hp"
   ]
  },
  {
   "cell_type": "code",
   "execution_count": null,
   "metadata": {},
   "outputs": [],
   "source": [
    "def matrix_plot(pows, f, data):\n",
    "\n",
    "    rows = 7\n",
    "    columns = int(len(pows)/rows)\n",
    "\n",
    "    fig, ax = plt.subplots(rows, columns, figsize=(30,40))\n",
    "\n",
    "    for row in range(rows):\n",
    "        for col in range(columns):\n",
    "            ax[row][col].scatter(f, data[row*columns+col], marker='.', s=1, color='black')\n",
    "            ax[row][col].set_title('Power: '+str(pows[row*columns+col]))\n",
    "            ax[row][col].grid()\n",
    "            ax[row][col].set_facecolor('bisque')\n",
    "            ax[row][col].set_xlabel(r'$\\nu$ [GHz]')\n",
    "            ax[row][col].set_ylabel(r'$||S_{21}|$')\n",
    "    fig.tight_layout()\n",
    "\n",
    "    return fig"
   ]
  },
  {
   "cell_type": "code",
   "execution_count": 48,
   "metadata": {},
   "outputs": [],
   "source": [
    "frigo = h.FridgeHandler()\n",
    "vna = hp.HP8753E()"
   ]
  },
  {
   "cell_type": "code",
   "execution_count": 49,
   "metadata": {},
   "outputs": [],
   "source": [
    "temps = np.arange(60, 400, 10)\n",
    "vna.set_params(pw = -40, bw = 1000, pt = 1601, center = 5.347e9, span = 2e7)\n",
    "vna.set_save_path(\"C:\\\\Users\\\\kid\\\\SynologyDrive\\\\Lab2023\\\\KIDs\\\\QTLab2324\\\\IRdetection\\\\Instruments\\\\Test_data\\\\Power-sweep\\\\\")    \n",
    "parent_dir = \"C:\\\\Users\\\\kid\\\\SynologyDrive\\\\Lab2023\\\\KIDs\\\\QTLab2324\\\\IRdetection\\\\Instruments\\\\Test_data\\\\Power-sweep\\\\\"\n",
    "pows = np.arange(-40,-12,1)"
   ]
  },
  {
   "cell_type": "code",
   "execution_count": 51,
   "metadata": {},
   "outputs": [],
   "source": [
    "for t in temps:\n",
    "    frigo.set_mixc_temp(t)\n",
    "    time.sleep(600)\n",
    "    vna.autoscale()\n",
    "    data = []\n",
    "    directory = 'T_'+str(50)\n",
    "    path = os.path.join(parent_dir, directory) \n",
    "    os.mkdir(path) \n",
    "    vna.set_save_path(parent_dir+directory+'\\\\')\n",
    "    vna.set_T(50)\n",
    "    for (j,pow) in enumerate(pows):\n",
    "        print('T = '+str(50)+'...Remaining: '+str(len(pows)-j)+'...')\n",
    "        vna.set_power(pow)\n",
    "        vna.autoscale()\n",
    "        s21, f = vna.get_S21F()\n",
    "        data.append(s21)\n",
    "        vna.create_run_s21(j+1, s21, f)\n",
    "        figure = matrix_plot(pows, f, data)\n",
    "        figure.savefig('T_'+str(t)+'.png')\n"
   ]
  }
 ],
 "metadata": {
  "kernelspec": {
   "display_name": "Python 3.8.6 64-bit",
   "language": "python",
   "name": "python3"
  },
  "language_info": {
   "codemirror_mode": {
    "name": "ipython",
    "version": 3
   },
   "file_extension": ".py",
   "mimetype": "text/x-python",
   "name": "python",
   "nbconvert_exporter": "python",
   "pygments_lexer": "ipython3",
   "version": "3.8.6"
  },
  "orig_nbformat": 4,
  "vscode": {
   "interpreter": {
    "hash": "ca7fb12e8dddb717a45af6dd1993c67b83aa05886451cd3b5212fabc2a7dc798"
   }
  }
 },
 "nbformat": 4,
 "nbformat_minor": 2
}
