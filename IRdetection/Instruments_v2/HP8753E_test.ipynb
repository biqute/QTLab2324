{
 "cells": [
  {
   "cell_type": "code",
   "execution_count": 1,
   "metadata": {},
   "outputs": [],
   "source": [
    "import IPython\n",
    "import HP8753E as hp\n",
    "import numpy as np\n",
    "import pyvisa"
   ]
  },
  {
   "cell_type": "code",
   "execution_count": 2,
   "metadata": {},
   "outputs": [
    {
     "name": "stdout",
     "output_type": "stream",
     "text": [
      "VNA object created correctly!\n",
      "\n",
      "Default number of points for a sweep: 1601\n"
     ]
    }
   ],
   "source": [
    "VNA = hp.HP8753E()"
   ]
  },
  {
   "cell_type": "code",
   "execution_count": 4,
   "metadata": {},
   "outputs": [],
   "source": [
    "VNA.set_par(npt=801, center=200e6, span=200e6, IFBW=100, power=-20)\n"
   ]
  },
  {
   "cell_type": "code",
   "execution_count": 5,
   "metadata": {},
   "outputs": [
    {
     "ename": "UnicodeDecodeError",
     "evalue": "'ascii' codec can't decode byte 0xbf in position 4: ordinal not in range(128)",
     "output_type": "error",
     "traceback": [
      "\u001b[1;31m---------------------------------------------------------------------------\u001b[0m",
      "\u001b[1;31mUnicodeDecodeError\u001b[0m                        Traceback (most recent call last)",
      "Cell \u001b[1;32mIn[5], line 1\u001b[0m\n\u001b[1;32m----> 1\u001b[0m i, q \u001b[38;5;241m=\u001b[39m \u001b[43mVNA\u001b[49m\u001b[38;5;241;43m.\u001b[39;49m\u001b[43mget_IQ\u001b[49m\u001b[43m(\u001b[49m\u001b[43m)\u001b[49m\n",
      "File \u001b[1;32mc:\\Users\\kid\\SynologyDrive\\Lab2023\\KIDs\\QTLab2324\\IRdetection\\Instruments_v2\\HP8753E.py:158\u001b[0m, in \u001b[0;36mHP8753E.get_IQ\u001b[1;34m(self, data_fmt, out_fmt)\u001b[0m\n\u001b[0;32m    155\u001b[0m     \u001b[39mself\u001b[39m\u001b[39m.\u001b[39mset_format(data_fmt)\n\u001b[0;32m    156\u001b[0m     \u001b[39mself\u001b[39m\u001b[39m.\u001b[39mdata_outp_fmt(out_fmt)\n\u001b[1;32m--> 158\u001b[0m     lista \u001b[39m=\u001b[39m \u001b[39mself\u001b[39;49m\u001b[39m.\u001b[39;49m_vna\u001b[39m.\u001b[39;49mquery(\u001b[39m'\u001b[39;49m\u001b[39mOUTPDATA\u001b[39;49m\u001b[39m'\u001b[39;49m)\n\u001b[0;32m    159\u001b[0m \u001b[39m    \u001b[39m\u001b[39m'''\u001b[39;00m\n\u001b[0;32m    160\u001b[0m \u001b[39m    num_bytes = 8*int(int(float(self.points)))+4\u001b[39;00m\n\u001b[0;32m    161\u001b[0m \u001b[39m    raw_bytes = self._vna.read_bytes(4)\u001b[39;00m\n\u001b[1;32m   (...)\u001b[0m\n\u001b[0;32m    184\u001b[0m \u001b[39m    q = list(amp_q)\u001b[39;00m\n\u001b[0;32m    185\u001b[0m \u001b[39m'''\u001b[39;00m\n\u001b[0;32m    186\u001b[0m     i,q \u001b[39m=\u001b[39m \u001b[39m1\u001b[39m,\u001b[39m2\u001b[39m\n",
      "File \u001b[1;32mc:\\Users\\kid\\SynologyDrive\\Lab2023\\KIDs\\kids2324\\lib\\site-packages\\pyvisa\\resources\\messagebased.py:647\u001b[0m, in \u001b[0;36mMessageBasedResource.query\u001b[1;34m(self, message, delay)\u001b[0m\n\u001b[0;32m    644\u001b[0m \u001b[39mif\u001b[39;00m delay \u001b[39m>\u001b[39m \u001b[39m0.0\u001b[39m:\n\u001b[0;32m    645\u001b[0m     time\u001b[39m.\u001b[39msleep(delay)\n\u001b[1;32m--> 647\u001b[0m \u001b[39mreturn\u001b[39;00m \u001b[39mself\u001b[39;49m\u001b[39m.\u001b[39;49mread()\n",
      "File \u001b[1;32mc:\\Users\\kid\\SynologyDrive\\Lab2023\\KIDs\\kids2324\\lib\\site-packages\\pyvisa\\resources\\messagebased.py:485\u001b[0m, in \u001b[0;36mMessageBasedResource.read\u001b[1;34m(self, termination, encoding)\u001b[0m\n\u001b[0;32m    483\u001b[0m \u001b[39mif\u001b[39;00m termination \u001b[39mis\u001b[39;00m \u001b[39mNone\u001b[39;00m:\n\u001b[0;32m    484\u001b[0m     termination \u001b[39m=\u001b[39m \u001b[39mself\u001b[39m\u001b[39m.\u001b[39m_read_termination\n\u001b[1;32m--> 485\u001b[0m     message \u001b[39m=\u001b[39m \u001b[39mself\u001b[39;49m\u001b[39m.\u001b[39;49m_read_raw()\u001b[39m.\u001b[39;49mdecode(enco)\n\u001b[0;32m    486\u001b[0m \u001b[39melse\u001b[39;00m:\n\u001b[0;32m    487\u001b[0m     \u001b[39mwith\u001b[39;00m \u001b[39mself\u001b[39m\u001b[39m.\u001b[39mread_termination_context(termination):\n",
      "\u001b[1;31mUnicodeDecodeError\u001b[0m: 'ascii' codec can't decode byte 0xbf in position 4: ordinal not in range(128)"
     ]
    }
   ],
   "source": [
    "i, q = VNA.get_IQ()"
   ]
  },
  {
   "cell_type": "code",
   "execution_count": null,
   "metadata": {},
   "outputs": [],
   "source": []
  }
 ],
 "metadata": {
  "kernelspec": {
   "display_name": "Python 3.8.6 ('kids2324')",
   "language": "python",
   "name": "python3"
  },
  "language_info": {
   "codemirror_mode": {
    "name": "ipython",
    "version": 3
   },
   "file_extension": ".py",
   "mimetype": "text/x-python",
   "name": "python",
   "nbconvert_exporter": "python",
   "pygments_lexer": "ipython3",
   "version": "3.8.6"
  },
  "vscode": {
   "interpreter": {
    "hash": "10870539e31553cdcc61fb93cf20d8308cc2c822912d9be8c2a46a9e2c53d4c1"
   }
  }
 },
 "nbformat": 4,
 "nbformat_minor": 2
}
