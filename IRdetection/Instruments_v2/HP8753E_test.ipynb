{
 "cells": [
  {
   "cell_type": "code",
   "execution_count": null,
   "metadata": {},
   "outputs": [],
   "source": [
    "import IPython\n",
    "import HP8753E as hp\n",
    "import numpy as np"
   ]
  },
  {
   "cell_type": "code",
   "execution_count": null,
   "metadata": {},
   "outputs": [],
   "source": [
    "VNA = hp.HP8753E()\n",
    "print(\"VNA object created!\")\n",
    "IPython.embed()"
   ]
  },
  {
   "cell_type": "code",
   "execution_count": null,
   "metadata": {},
   "outputs": [],
   "source": [
    "VNA.get_name()\n",
    "VNA.get_init_par()\n",
    "VNA.reset()\n",
    "VNA.get_init_par()"
   ]
  },
  {
   "cell_type": "code",
   "execution_count": null,
   "metadata": {},
   "outputs": [],
   "source": [
    "VNA.set_save_path()\n",
    "VNA.set_IFBW()\n",
    "VNA.set_NA()\n",
    "VNA.set_point()\n",
    "VNA.set_power()\n",
    "VNA.set_span()\n",
    "VNA.set_center()\n",
    "VNA.set_frequencies()\n",
    "VNA.set_sleep()\n",
    "VNA.set_scale()\n",
    "VNA.plot_data()"
   ]
  },
  {
   "cell_type": "code",
   "execution_count": null,
   "metadata": {},
   "outputs": [],
   "source": [
    "VNA.start_single_measure()\n",
    "VNA.find_peak()\n",
    "VNA.get_data()\n",
    "VNA.get_data_as_dic()\n",
    "VNA.get_data_as_hdf5()"
   ]
  },
  {
   "cell_type": "code",
   "execution_count": null,
   "metadata": {},
   "outputs": [],
   "source": [
    "VNA.routine()"
   ]
  }
 ],
 "metadata": {
  "language_info": {
   "name": "python"
  }
 },
 "nbformat": 4,
 "nbformat_minor": 2
}
