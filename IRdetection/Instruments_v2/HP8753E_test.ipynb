{
 "cells": [
  {
   "cell_type": "code",
   "execution_count": 1,
   "metadata": {},
   "outputs": [],
   "source": [
    "import IPython\n",
    "import HP8753E as hp\n",
    "import numpy as np\n",
    "import pyvisa"
   ]
  },
  {
   "cell_type": "code",
   "execution_count": 2,
   "metadata": {},
   "outputs": [
    {
     "name": "stdout",
     "output_type": "stream",
     "text": [
      "VNA object created!\n"
     ]
    }
   ],
   "source": [
    "VNA = hp.HP8753E()\n",
    "print(\"VNA object created!\")\n",
    "#IPython.embed()"
   ]
  },
  {
   "cell_type": "code",
   "execution_count": 3,
   "metadata": {},
   "outputs": [
    {
     "name": "stdout",
     "output_type": "stream",
     "text": [
      "HEWLETT PACKARD,8753E,0,7.48\n",
      "\n"
     ]
    }
   ],
   "source": [
    "VNA.get_name()\n",
    "#VNA.get_init_par()\n",
    "VNA.reset()\n",
    "#VNA.get_init_par()"
   ]
  },
  {
   "cell_type": "code",
   "execution_count": 4,
   "metadata": {},
   "outputs": [
    {
     "name": "stdout",
     "output_type": "stream",
     "text": [
      "Current path:  C:\\Users\\kid\\SynologyDrive\\Lab2023\\KIDs\\QTLab2324\\IRdetection\\Instruments_v2\\datatest\n"
     ]
    }
   ],
   "source": [
    "VNA.set_save_path(r'C:\\Users\\kid\\SynologyDrive\\Lab2023\\KIDs\\QTLab2324\\IRdetection\\Instruments_v2\\datatest')\n",
    "VNA.get_path()"
   ]
  },
  {
   "cell_type": "code",
   "execution_count": 5,
   "metadata": {},
   "outputs": [],
   "source": [
    "VNA.set_par()"
   ]
  },
  {
   "cell_type": "code",
   "execution_count": 6,
   "metadata": {},
   "outputs": [
    {
     "name": "stdout",
     "output_type": "stream",
     "text": [
      "Npoints:  801.0\n",
      "Center:  1000000.0\n",
      "Sweep time:  0.300000018432\n",
      "Span:  1000000.0\n",
      "IF BW:  3700.0\n",
      "Power:  -20.0\n",
      "(freq_min, freq_max):  500000.0 1500000.0\n",
      "abs\n"
     ]
    }
   ],
   "source": [
    "VNA.get_init_par()\n",
    "print('abs')"
   ]
  },
  {
   "cell_type": "code",
   "execution_count": 8,
   "metadata": {},
   "outputs": [
    {
     "data": {
      "text/plain": [
       "10"
      ]
     },
     "execution_count": 8,
     "metadata": {},
     "output_type": "execute_result"
    }
   ],
   "source": [
    "y = VNA.get_y_data(form='raw data array 1')\n",
    "#VNA.get_data_as_dic()\n",
    "#VNA.get_data_as_hdf5()"
   ]
  },
  {
   "cell_type": "code",
   "execution_count": null,
   "metadata": {},
   "outputs": [],
   "source": [
    "freq, heights = VNA.find_peak()"
   ]
  },
  {
   "cell_type": "code",
   "execution_count": null,
   "metadata": {},
   "outputs": [],
   "source": [
    "VNA.routine()"
   ]
  },
  {
   "cell_type": "code",
   "execution_count": null,
   "metadata": {},
   "outputs": [],
   "source": []
  },
  {
   "cell_type": "code",
   "execution_count": null,
   "metadata": {},
   "outputs": [],
   "source": []
  }
 ],
 "metadata": {
  "kernelspec": {
   "display_name": "Python 3.8.6 ('kids2324')",
   "language": "python",
   "name": "python3"
  },
  "language_info": {
   "codemirror_mode": {
    "name": "ipython",
    "version": 3
   },
   "file_extension": ".py",
   "mimetype": "text/x-python",
   "name": "python",
   "nbconvert_exporter": "python",
   "pygments_lexer": "ipython3",
   "version": "3.8.6"
  },
  "vscode": {
   "interpreter": {
    "hash": "10870539e31553cdcc61fb93cf20d8308cc2c822912d9be8c2a46a9e2c53d4c1"
   }
  }
 },
 "nbformat": 4,
 "nbformat_minor": 2
}
