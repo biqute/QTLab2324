{
 "cells": [
  {
   "cell_type": "code",
   "execution_count": 1,
   "metadata": {},
   "outputs": [],
   "source": [
    "import numpy as np\n",
    "import h5py\n",
    "import h5_and as hdf5 "
   ]
  },
  {
   "cell_type": "code",
   "execution_count": 2,
   "metadata": {},
   "outputs": [],
   "source": [
    "keys=['I','Q','Power','VR']\n",
    "rows= 10000\n",
    "\n",
    "dic = dict()\n",
    "\n",
    "for key in keys:\n",
    "    values = np.random.normal(loc=1.0, scale=0.01, size=rows)\n",
    "    dic.update({key: list(values)})\n",
    "\n",
    "name = 'prova1'"
   ]
  },
  {
   "cell_type": "code",
   "execution_count": 3,
   "metadata": {},
   "outputs": [
    {
     "name": "stdout",
     "output_type": "stream",
     "text": [
      "HDF5 file 'prova1' created successfully.\n",
      "Error opening the file: 'Unable to synchronously open object (invalid identifier type to function)'\n",
      "Contents of the group 'I':\n",
      "[0.99455939 1.00004519 0.98731823 ... 0.99116799 0.98819974 1.00080437]\n",
      "Error opening the file: 'Unable to synchronously open object (invalid identifier type to function)'\n"
     ]
    }
   ],
   "source": [
    "hdf5.dic_to_h5(name, dic)\n",
    "hdf5.dict_to_structured_array(dic)\n",
    "hdf5.h5_to_dic(name)\n",
    "hdf5.open_h5(name)"
   ]
  }
 ],
 "metadata": {
  "kernelspec": {
   "display_name": ".venv",
   "language": "python",
   "name": "python3"
  },
  "language_info": {
   "codemirror_mode": {
    "name": "ipython",
    "version": 3
   },
   "file_extension": ".py",
   "mimetype": "text/x-python",
   "name": "python",
   "nbconvert_exporter": "python",
   "pygments_lexer": "ipython3",
   "version": "3.10.8"
  }
 },
 "nbformat": 4,
 "nbformat_minor": 2
}
