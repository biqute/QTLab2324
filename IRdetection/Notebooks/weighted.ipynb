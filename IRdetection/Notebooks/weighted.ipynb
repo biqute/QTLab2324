{
 "cells": [
  {
   "cell_type": "code",
   "execution_count": 1,
   "metadata": {},
   "outputs": [],
   "source": [
    "import numpy as np"
   ]
  },
  {
   "cell_type": "code",
   "execution_count": 161,
   "metadata": {},
   "outputs": [],
   "source": [
    "Delta = np.array([0.1084,0.1008,0.1047])*1e3\n",
    "Deltaerr = np.array([0.0022,0.0011,0.0015])*1e3\n",
    "Delta2 = np.array([0.1014,0.0974,0.0999])*1e3\n",
    "Deltaerr2 = np.array([0.0011,0.0012,0.0018])*1e3"
   ]
  },
  {
   "cell_type": "code",
   "execution_count": 175,
   "metadata": {},
   "outputs": [
    {
     "name": "stdout",
     "output_type": "stream",
     "text": [
      "1.4567896952082449\n"
     ]
    }
   ],
   "source": [
    "D1 = np.mean(Delta)\n",
    "D2 = np.mean(Delta2)\n",
    "Derr1 = np.std(Delta)\n",
    "Derr2 = np.std(Delta2)\n",
    "\n",
    "num = (D1/(Derr1**2)) + (D2/(Derr2**2))\n",
    "den = 1/(Derr1**2) + 1/(Derr2**2)\n",
    "\n",
    "m = num/den\n",
    "s = np.sqrt(1/den)\n",
    "print(s)"
   ]
  },
  {
   "cell_type": "code",
   "execution_count": 174,
   "metadata": {},
   "outputs": [
    {
     "data": {
      "image/png": "[encoded data removed]",
      "text/plain": [
       "<Figure size 640x480 with 1 Axes>"
      ]
     },
     "metadata": {},
     "output_type": "display_data"
    }
   ],
   "source": [
    "import matplotlib.pyplot as plt\n",
    "import matplotlib.ticker as ticker\n",
    "\n",
    "y = np.arange(0,10,1)\n",
    "plt.errorbar(D1,y[4], xerr=Derr1,yerr=0, fmt='.', label='Dataset 1')\n",
    "plt.errorbar(D2,y[3], xerr=Derr2,yerr=0, fmt='.', label='Dataset 2')\n",
    "plt.vlines(m,min(y),max(y),color='green',label='mean')\n",
    "plt.fill_betweenx(y,m-s,m+s, alpha=0.2, color='green', label='mean std')\n",
    "plt.xlabel(r'$\\Delta_{0} [\\mu eV]$')\n",
    "plt.title('Energy gap')\n",
    "plt.grid(True)\n",
    "plt.yticks([])\n",
    "fig = plt.gca()\n",
    "fig.xaxis.set_major_formatter(ticker.FormatStrFormatter('%0.2f'))  # Set format to one decimal place\n",
    "fig.set_facecolor('bisque')\n",
    "plt.xticks([D1,m,D2])\n",
    "plt.legend()\n",
    "plt.grid(True)\n"
   ]
  },
  {
   "cell_type": "code",
   "execution_count": 177,
   "metadata": {},
   "outputs": [
    {
     "name": "stdout",
     "output_type": "stream",
     "text": [
      "T_c 667.6469 +/- 9.6602 mK\n"
     ]
    }
   ],
   "source": [
    "from scipy import constants as c\n",
    "T_c = (2*m*c.eV)/(3.5*c.Boltzmann)*1e-3\n",
    "Terr = (2*s*c.eV)/(3.5*c.Boltzmann)*1e-3\n",
    "print('T_c '+f\"{T_c:.4f}\" + \" +/- \"+f\"{Terr:.4f}\"+\" mK\")"
   ]
  },
  {
   "cell_type": "code",
   "execution_count": 178,
   "metadata": {},
   "outputs": [
    {
     "name": "stdout",
     "output_type": "stream",
     "text": [
      "T-statistic: 2.038845498799276\n",
      "P-value: 0.11108932572204101\n",
      "Fail to reject the null hypothesis: There is no significant difference between the two groups.\n"
     ]
    }
   ],
   "source": [
    "from scipy import stats\n",
    "\n",
    "# Sample data for two groups\n",
    "group1 = Delta\n",
    "group2 = Delta2\n",
    "\n",
    "# Perform T-test\n",
    "t_statistic, p_value = stats.ttest_ind(group1, group2)\n",
    "\n",
    "# Print results\n",
    "print(\"T-statistic:\", t_statistic)\n",
    "print(\"P-value:\", p_value)\n",
    "\n",
    "# Interpret the results\n",
    "alpha = 0.05  # significance level\n",
    "if p_value < alpha:\n",
    "    print(\"Reject the null hypothesis: There is a significant difference between the two groups.\")\n",
    "else:\n",
    "    print(\"Fail to reject the null hypothesis: There is no significant difference between the two groups.\")\n"
   ]
  },
  {
   "cell_type": "code",
   "execution_count": null,
   "metadata": {},
   "outputs": [],
   "source": []
  }
 ],
 "metadata": {
  "kernelspec": {
   "display_name": "Python 3",
   "language": "python",
   "name": "python3"
  },
  "language_info": {
   "codemirror_mode": {
    "name": "ipython",
    "version": 3
   },
   "file_extension": ".py",
   "mimetype": "text/x-python",
   "name": "python",
   "nbconvert_exporter": "python",
   "pygments_lexer": "ipython3",
   "version": "3.12.2"
  }
 },
 "nbformat": 4,
 "nbformat_minor": 2
}
