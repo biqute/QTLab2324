{
 "cells": [
  {
   "cell_type": "code",
   "execution_count": 2,
   "id": "0f4ef757",
   "metadata": {},
   "outputs": [],
   "source": [
    "import numpy as np\n",
    "import matplotlib.pyplot as plt\n",
    "from matplotlib import rc\n",
    "import h5py\n",
    "from scipy import optimize\n",
    "\n",
    "%load_ext autoreload\n",
    "%autoreload 2\n",
    "\n",
    "rc('text', usetex=False)\n",
    "rc('font', family='serif', size=20)\n",
    "rc('figure', figsize=(12,8))\n",
    "rc('axes',linewidth=2)"
   ]
  },
  {
   "cell_type": "markdown",
   "id": "e87257bd",
   "metadata": {},
   "source": [
    "# Funzioni utili"
   ]
  },
  {
   "cell_type": "code",
   "execution_count": 3,
   "id": "468a1912",
   "metadata": {},
   "outputs": [],
   "source": [
    "def create_filter(medium,NPS): \n",
    "    '''\n",
    "    medium è il segnale atteso, quello senza rumore\n",
    "    NPS è il noise spectral density\n",
    "    '''\n",
    "\n",
    "    val_cal = max(medium)\n",
    "    S       = np.fft.fft(medium)\n",
    "    S[0]    = 0+0*1j\n",
    "    OF_med  = np.fft.ifft(S*S.conjugate()/NPS).real\n",
    "    K       = val_cal/np.amax(OF_med)  \n",
    "    H = K*S.conjugate()/NPS   #H è la funzione di trasferimento del filtro, nel dominio delle frequenze\n",
    "\n",
    "    return H"
   ]
  },
  {
   "cell_type": "code",
   "execution_count": 4,
   "id": "1716f65a",
   "metadata": {},
   "outputs": [],
   "source": [
    "from scipy.signal import welch\n",
    "\n",
    "def PSD(esignal_matrix,t_sample,wind = \"hann\"): \n",
    "    '''\n",
    "    signal_matrix una matrice di eventi di rumore (esignal_matrix) e il tempo di campionamento (t_sample), valuta la PSD\n",
    "    '''\n",
    "    wind     = wind\n",
    "    npt      = esignal_matrix.shape[1]\n",
    "        \n",
    "    f, pxx = welch(esignal_matrix,fs=1./t_sample, window=wind, nperseg=npt, scaling='density', axis=1)\n",
    "    mean_true_scale = np.mean(pxx, axis = 0)\n",
    "        \n",
    "    f = np.append( f[:-1], -1*f[1:][::-1])\n",
    "    mean_true_scale = np.append( mean_true_scale[:-1],  mean_true_scale[1:][::-1] ) \n",
    "    mean_use_scale  = mean_true_scale* (1./t_sample*esignal_matrix.shape[1]/2.)    #correct?\n",
    "        \n",
    "    return f, mean_use_scale, mean_true_scale"
   ]
  },
  {
   "cell_type": "code",
   "execution_count": 5,
   "id": "079b9ae5",
   "metadata": {},
   "outputs": [],
   "source": [
    "def parabolic_fit(mat,stop=0):\n",
    "\n",
    "    max_pos = np.argmax(mat[:,stop:-1],axis=1) + stop\n",
    "    dim     = np.arange(0,mat.shape[0])\n",
    "    x1 = max_pos-1\n",
    "    x2 = max_pos\n",
    "    x3 = max_pos+1\n",
    "    y1 = mat[dim,x1]\n",
    "    y2 = mat[dim,x2]\n",
    "    y3 = mat[dim,x3]\n",
    "    a  = (x1*(y3-y2) + x2*(y1-y3)+x3*(y2-y1) )  / ( (x1-x2)*(x1-x3)*(x2-x3)   )\n",
    "    b  = (y2-y1)/(x2-x1)-a*(x1+x2)\n",
    "    c  = y1 -a*x1**2 -b*x1\n",
    "\n",
    "    return a,b,c,max_pos"
   ]
  },
  {
   "cell_type": "code",
   "execution_count": 6,
   "id": "5f330a7a",
   "metadata": {},
   "outputs": [],
   "source": [
    "def applyOF(esignal_matrix, H, batch_size=500):\n",
    "    \"\"\"\n",
    "    esignal_matrix: 2D numpy array with signals (shape: [num_events, signal_length])\n",
    "    H: Filter applied in the frequency domain\n",
    "    batch_size: Number of events to process in each batch\n",
    "    \"\"\"\n",
    "    \n",
    "    num_events = esignal_matrix.shape[0]\n",
    "    signal_length = esignal_matrix.shape[1]\n",
    "    \n",
    "    # Initialize arrays to store results for all events\n",
    "    OFT = np.zeros(num_events)\n",
    "    OFF = np.zeros(num_events)\n",
    "    OFdelay = np.zeros(num_events)\n",
    "    OFtest = np.zeros(num_events)\n",
    "\n",
    "    # Process in batches\n",
    "    for start_idx in range(0, num_events, batch_size):\n",
    "        end_idx = min(start_idx + batch_size, num_events)\n",
    "        \n",
    "        # Batch of signals\n",
    "        esignal_batch = esignal_matrix[start_idx:end_idx]\n",
    "        \n",
    "        # Apply FFT and filtering in the frequency domain\n",
    "        events_OF_f = np.fft.fft(esignal_batch, axis=1) * H\n",
    "        \n",
    "        # Compute OFF\n",
    "        OFF_batch = np.sum(np.abs(events_OF_f), axis=1) / signal_length\n",
    "        \n",
    "        # Apply IFFT and reorder the events in the time domain\n",
    "        events_OF = np.fft.ifft(events_OF_f).real\n",
    "        events_OF = np.concatenate((events_OF[:, signal_length//2:], events_OF[:, :signal_length//2]), axis=1)\n",
    "        \n",
    "        # Perform parabolic fit to compute a, b, c\n",
    "        a, b, c = parabolic_fit(events_OF)[:3]\n",
    "        \n",
    "        # Calculate OFmax_pos, OFdelay, and OFT\n",
    "        OFmax_pos = np.argmax(events_OF, axis=1)\n",
    "        OFdelay_batch = -b / (2. * a) - signal_length / 2\n",
    "        OFT_batch = -1. * (b**2) / (4. * a) + c\n",
    "        \n",
    "        # Clean up unnecessary variables to free memory\n",
    "        del events_OF_f, events_OF, a, b, c\n",
    "        \n",
    "        # Compute OFtest\n",
    "        OFtest_batch = 1. - OFT_batch / OFF_batch\n",
    "        \n",
    "        # Store results in the corresponding indices\n",
    "        OFT[start_idx:end_idx] = OFT_batch\n",
    "        OFF[start_idx:end_idx] = OFF_batch\n",
    "        OFdelay[start_idx:end_idx] = OFdelay_batch\n",
    "        OFtest[start_idx:end_idx] = OFtest_batch\n",
    "        \n",
    "    return OFT, OFF, OFdelay, OFtest\n"
   ]
  },
  {
   "cell_type": "code",
   "execution_count": 7,
   "id": "a36098f3",
   "metadata": {},
   "outputs": [],
   "source": [
    "import numpy as np\n",
    "from memory_profiler import profile\n",
    "import logging\n",
    "\n",
    "class Medium:\n",
    "    def __init__(self, medium=None, NPS=None):\n",
    "        self._medium = medium\n",
    "        self._NPS = NPS\n",
    "\n",
    "    def set_NPS(self, NPS):\n",
    "        self._NPS = NPS\n",
    "\n",
    "    def get_NPS(self):\n",
    "        return self._NPS\n",
    "\n",
    "    def get_medium(self):\n",
    "        return self._medium\n",
    "\n",
    "    def set_medium(self, medium):\n",
    "        self._medium = medium\n",
    "\n",
    "    def create_medium(self, signal_matrix, bsl=None, indexes=None, batch_size=500):\n",
    "        try:\n",
    "            self.__do_medium(signal_matrix, bsl, indexes, batch_size)\n",
    "        except Exception as e:\n",
    "            logging.error(f\"Error in create_medium function: {e}\")\n",
    "\n",
    "    @profile\n",
    "    def __do_medium(self, signal_matrix, bsl=None, indexes=None, batch_size=500):\n",
    "        num_signals = signal_matrix.shape[0]\n",
    "        if bsl is not None and int(num_signals) != int(bsl.size):\n",
    "            raise ValueError(\"Baseline and signal matrix sizes do not match.\")\n",
    "        if indexes is not None and signal_matrix.shape[1] != len(indexes):\n",
    "            raise ValueError(\"Indexes length does not match signal matrix rows.\")\n",
    "\n",
    "        # Process the signal matrix in batches\n",
    "        num_batches = (num_signals + batch_size - 1) // batch_size  # Calculate number of batches\n",
    "\n",
    "        for batch_idx in range(num_batches):\n",
    "            # Define the batch range\n",
    "            batch_start = batch_idx * batch_size\n",
    "            batch_end = min((batch_idx + 1) * batch_size, num_signals)\n",
    "            signal_batch = signal_matrix[batch_start:batch_end]\n",
    "\n",
    "            # Subtract baseline\n",
    "            if bsl is not None:\n",
    "                bsl_batch = bsl[batch_start:batch_end]\n",
    "                esignal_batch = signal_batch - bsl_batch[:, np.newaxis]\n",
    "            else:\n",
    "                esignal_batch = signal_batch.copy()  # If no baseline, just copy the signal\n",
    "\n",
    "            # Compute FFT of the adjusted signal matrix\n",
    "            S_omega = np.fft.fft(esignal_batch, axis=1)\n",
    "            S_omega[:, 0] = 0  # Zero out the first frequency component (DC component)\n",
    "\n",
    "            # Compute the conjugate of the FFT of the medium\n",
    "            if self._medium is None:\n",
    "                S_cc = np.conj(S_omega[0])\n",
    "            else:\n",
    "                S_cc = np.conj(np.fft.fft(self._medium))\n",
    "                S_cc[0] = 0\n",
    "\n",
    "            # Compute the filter H\n",
    "            K = 1.0\n",
    "            H = K * (S_cc / self._NPS)\n",
    "\n",
    "            # Apply the filter and compute the inverse FFT\n",
    "            OFT = np.fft.ifft(S_omega * H).real\n",
    "\n",
    "            # Reorder the data to match the original format\n",
    "            half_len = esignal_batch.shape[1] // 2\n",
    "            OFT = np.concatenate((OFT[:, half_len:], OFT[:, :half_len]), axis=1)\n",
    "\n",
    "            # Compute the delay and adjust the signal matrix\n",
    "            delay_ref = half_len\n",
    "            time = np.arange(esignal_batch.shape[1])\n",
    "\n",
    "            a, b = parabolic_fit(OFT)[:2]\n",
    "            max_pos_true = -b / (2 * a)\n",
    "            delay = max_pos_true - delay_ref\n",
    "\n",
    "            # Interpolate delays for all rows in the batch\n",
    "            for i in range(esignal_batch.shape[0]):\n",
    "                esignal_batch[i, :] = np.interp(time + delay[i], time, esignal_batch[i, :])\n",
    "\n",
    "            # Update the medium with the mean of adjusted signals in the batch\n",
    "            batch_mean = np.mean(esignal_batch, axis=0)\n",
    "            if self._medium is None:\n",
    "                self._medium = batch_mean\n",
    "            else:\n",
    "                # Update medium incrementally to avoid storing all batches in memory\n",
    "                self._medium = (self._medium * (batch_idx * batch_size) + batch_mean * (batch_end - batch_start)) / (batch_end)\n",
    "\n",
    "            # Explicitly delete large objects to free up memory\n",
    "            del S_omega, S_cc, H, OFT, esignal_batch\n",
    "\n",
    "def parabolic_fit(mat, stop=0):\n",
    "    max_pos = np.argmax(mat[:, stop:-1], axis=1) + stop\n",
    "    dim = np.arange(0, mat.shape[0])\n",
    "    x1 = max_pos - 1\n",
    "    x2 = max_pos\n",
    "    x3 = max_pos + 1\n",
    "    y1 = mat[dim, x1]\n",
    "    y2 = mat[dim, x2]\n",
    "    y3 = mat[dim, x3]\n",
    "    a = (x1 * (y3 - y2) + x2 * (y1 - y3) + x3 * (y2 - y1)) / ((x1 - x2) * (x1 - x3) * (x2 - x3))\n",
    "    b = (y2 - y1) / (x2 - x1) - a * (x1 + x2)\n",
    "    c = y1 - a * x1**2 - b * x1\n",
    "\n",
    "    return a, b, c, max_pos\n"
   ]
  },
  {
   "cell_type": "markdown",
   "id": "3b667b9b",
   "metadata": {},
   "source": [
    "# Calcolo il filtro ottimo"
   ]
  },
  {
   "cell_type": "code",
   "execution_count": 8,
   "id": "7755ee15",
   "metadata": {},
   "outputs": [],
   "source": [
    "from scipy.signal import savgol_filter"
   ]
  },
  {
   "cell_type": "code",
   "execution_count": 9,
   "id": "847e874d",
   "metadata": {},
   "outputs": [],
   "source": [
    "def trigger(signals,final,th):\n",
    "    '''First derivative triger on minimum'''\n",
    "    for data in signals:  \n",
    "        win = 100  # Size of the moving average window\n",
    "        cumsum = np.cumsum(data)\n",
    "        moving_avg = np.array((cumsum[win:] - cumsum[:-win]) / win)\n",
    "        moving_avg = np.pad(moving_avg, (win - 1, 0), mode='constant', constant_values=(moving_avg[0], moving_avg[-1]))\n",
    "        polyorder = 5\n",
    "        sav_size = 100\n",
    "        sg_filtered_signal = savgol_filter(moving_avg, sav_size, polyorder)\n",
    "        st = savgol_filter(sg_filtered_signal,100,5,1)\n",
    "        ymin = min(st)\n",
    "        if ymin<-th*1e-6:\n",
    "            final.append(data)\n",
    "    return final\n"
   ]
  },
  {
   "cell_type": "code",
   "execution_count": 10,
   "id": "7dfb86a5",
   "metadata": {},
   "outputs": [],
   "source": [
    "import os\n",
    "path = r'/home/drtofa/OneDrive/QTLab2324/DATA ANALYSIS/OPTIMUM/MOD//'\n",
    "noises, signals = [], []\n",
    "for filename in os.walk(path):\n",
    "    for file in filename[2]:\n",
    "                with h5py.File(path+file,'r') as file:\n",
    "                        for key in file.keys():\n",
    "                            if 'Noise' in key:\n",
    "                                noises.append(np.array(file[key][:]))\n",
    "                            elif 'Raw' in key:\n",
    "                                signals.append(np.array(file[key][:])[:20000])"
   ]
  },
  {
   "cell_type": "code",
   "execution_count": 11,
   "id": "96d8a717",
   "metadata": {},
   "outputs": [],
   "source": [
    "final = signals"
   ]
  },
  {
   "cell_type": "code",
   "execution_count": 12,
   "id": "b60b7fc6",
   "metadata": {},
   "outputs": [],
   "source": [
    "with open('/home/drtofa/OneDrive/QTLab2324/DATA ANALYSIS/OPTIMUM/TXT/maxs.txt','w') as f:\n",
    "    for sig in final:\n",
    "        f.writelines(str(max(sig))+'\\n')"
   ]
  },
  {
   "cell_type": "code",
   "execution_count": 12,
   "id": "5be156fe",
   "metadata": {},
   "outputs": [],
   "source": [
    "preStop = 950  #E' il numero di punti della finestra di acquisizione senza il segnale.\n",
    "signal_matrix = np.array(final)\n",
    "noise_matrix = np.array(noises[:len(signal_matrix)])"
   ]
  },
  {
   "cell_type": "code",
   "execution_count": 13,
   "id": "94306175",
   "metadata": {},
   "outputs": [],
   "source": [
    "bsl = np.mean(signal_matrix[:,0:preStop],axis=1)\n",
    "bsl_noise = np.mean(noise_matrix,axis=1)\n",
    "\n",
    "#Faccio in modo tale che i dati e il rumore partano da 0\n",
    "\n",
    "signal_matrix = -1*(signal_matrix - np.array([bsl]).T )\n",
    "noise_matrix = -1*(noise_matrix - np.array([bsl_noise]).T)"
   ]
  },
  {
   "cell_type": "code",
   "execution_count": 14,
   "id": "a5d321ed",
   "metadata": {},
   "outputs": [],
   "source": [
    "# Calcolo la PSD del rumore, il primo ingrediente del filtro ottimo\n",
    "t_samp = 1/1e8   #in secondi\n",
    "\n",
    "freq_noise, PSD_noise, _ = PSD(noise_matrix[:,:noise_matrix.shape[1]],t_samp)\n",
    "freq_sig, PSD_sig, _ = PSD(np.array([signal_matrix[1]]),t_samp)\n",
    "\n",
    "npt_noise = PSD_noise.shape[0]\n",
    "npt_sig = PSD_sig.shape[0]"
   ]
  },
  {
   "cell_type": "code",
   "execution_count": 16,
   "id": "4cac6e92",
   "metadata": {},
   "outputs": [],
   "source": [
    "with open('PSD.txt','w')as f:\n",
    "    for noi in PSD_noise:\n",
    "        f.writelines(str(noi)+'\\n')"
   ]
  },
  {
   "cell_type": "code",
   "execution_count": 15,
   "id": "81db5607",
   "metadata": {},
   "outputs": [],
   "source": [
    "# Calcolo il segnale atteso (medio), l'ultimo ingrediente per il filtro ottimo\n",
    "\n",
    "medium = Medium(NPS = PSD_noise)"
   ]
  },
  {
   "cell_type": "code",
   "execution_count": 16,
   "id": "e5a8028c",
   "metadata": {},
   "outputs": [
    {
     "name": "stdout",
     "output_type": "stream",
     "text": [
      "ERROR: Could not find file /tmp/ipykernel_4000/641207975.py\n"
     ]
    }
   ],
   "source": [
    "medium.create_medium(signal_matrix,np.zeros(signal_matrix.shape[0]))"
   ]
  },
  {
   "cell_type": "code",
   "execution_count": 17,
   "id": "e9ce0c68",
   "metadata": {},
   "outputs": [],
   "source": [
    "medium_pulse = medium.get_medium()"
   ]
  },
  {
   "cell_type": "code",
   "execution_count": 20,
   "id": "09f42c95",
   "metadata": {},
   "outputs": [],
   "source": [
    "with open('medium.txt','w') as f:\n",
    "    for val in medium_pulse:\n",
    "        f.writelines(str(val)+'\\n')\n"
   ]
  },
  {
   "cell_type": "code",
   "execution_count": 18,
   "id": "7d68f596",
   "metadata": {},
   "outputs": [],
   "source": [
    "H = create_filter(medium_pulse,PSD_noise)"
   ]
  },
  {
   "cell_type": "code",
   "execution_count": 19,
   "id": "d4bd2b0a",
   "metadata": {},
   "outputs": [],
   "source": [
    "import numpy as np\n",
    "\n",
    "# Function to apply the FFT, filter, and IFFT in batches\n",
    "def process_in_batches(matrix, H, batch_size=1000):\n",
    "    num_rows = matrix.shape[0]\n",
    "    num_cols = matrix.shape[1]\n",
    "    result_filtered_t = np.zeros_like(matrix)  # Initialize the result matrix\n",
    "\n",
    "    for start_idx in range(0, num_rows, batch_size):\n",
    "        end_idx = min(start_idx + batch_size, num_rows)\n",
    "\n",
    "        # Apply FFT, filter, and IFFT to the batch\n",
    "        matrix_batch = np.fft.fft(matrix[start_idx:end_idx], axis=1) * H\n",
    "        matrix_filtered_t_batch = np.fft.ifft(matrix_batch).real\n",
    "\n",
    "        # Reorder the data to match the original format\n",
    "        half_len = num_cols // 2\n",
    "        matrix_filtered_t_batch = np.concatenate(\n",
    "            (matrix_filtered_t_batch[:, half_len:], matrix_filtered_t_batch[:, :half_len]),\n",
    "            axis=1\n",
    "        )\n",
    "\n",
    "        # Store the result in the appropriate slice of the output matrix\n",
    "        result_filtered_t[start_idx:end_idx] = matrix_filtered_t_batch\n",
    "\n",
    "    return result_filtered_t\n",
    "\n",
    "# Apply the filter to the signal and noise matrices in batches\n",
    "signal_matrix_filtered_t = process_in_batches(signal_matrix, H, batch_size=80)\n",
    "noise_matrix_filtered_t = process_in_batches(noise_matrix, H, batch_size=80)\n"
   ]
  },
  {
   "cell_type": "code",
   "execution_count": 32,
   "id": "21da4409",
   "metadata": {},
   "outputs": [
    {
     "data": {
      "image/png": "[encoded data removed]",
      "text/plain": [
       "<Figure size 1500x500 with 2 Axes>"
      ]
     },
     "metadata": {},
     "output_type": "display_data"
    },
    {
     "ename": "",
     "evalue": "",
     "output_type": "error",
     "traceback": [
      "\u001b[1;31mThe Kernel crashed while executing code in the current cell or a previous cell. \n",
      "\u001b[1;31mPlease review the code in the cell(s) to identify a possible cause of the failure. \n",
      "\u001b[1;31mClick <a href='https://aka.ms/vscodeJupyterKernelCrash'>here</a> for more info. \n",
      "\u001b[1;31mView Jupyter <a href='command:jupyter.viewOutput'>log</a> for further details."
     ]
    }
   ],
   "source": [
    "#Guardo come cambiano i dati prima e dopo il filtro ottimo\n",
    "nev = 10\n",
    "#===================\n",
    "\n",
    "x = np.linspace(0,len(signal_matrix[nev]),len(signal_matrix[nev]))\n",
    "dev = signal_matrix[nev].std()\n",
    "fig, axs = plt.subplots(1,2,figsize=(15,5))\n",
    "axs[0].plot(x*1e-2,signal_matrix[nev],linewidth=2,label='Data',color='black')\n",
    "#axs[0].fill_between(x*1e-2,signal_matrix[nev]-dev,signal_matrix[nev]+dev,label=r'$\\sigma$')\n",
    "axs[0].grid()\n",
    "axs[0].set_ylabel('[A.U.]')\n",
    "axs[0].set_xlabel(r'Time [$\\mu$s]')\n",
    "axs[0].set_title('Raw Signal')\n",
    "\n",
    "\n",
    "dev1 = signal_matrix_filtered_t.std()\n",
    "axs[1].plot(x*1e-2,signal_matrix_filtered_t[nev],linewidth=2,label='Data',color='black')\n",
    "#axs[1].fill_between(x*1e-2,signal_matrix_filtered_t[nev]-dev1,signal_matrix_filtered_t[nev]+dev1,label=r'$\\sigma$')\n",
    "axs[1].grid()\n",
    "axs[1].set_ylabel('[A.U.]')\n",
    "axs[1].set_xlabel(r'Time [$\\mu$s]')\n",
    "axs[1].set_title('Filtered Signal')\n",
    "axs[0].text(-28,0.0023,'SNR = 4.27')\n",
    "axs[1].text(-38,0.0012,'SNR = 18.14')\n",
    "\n",
    "fig.tight_layout()"
   ]
  },
  {
   "cell_type": "code",
   "execution_count": 21,
   "id": "6d660b89",
   "metadata": {},
   "outputs": [
    {
     "name": "stdout",
     "output_type": "stream",
     "text": [
      "Before OF SNR = 4.273398081261951\n",
      "After  OF SNR = 18.141587460428887\n"
     ]
    }
   ],
   "source": [
    "RMS_sig_bef = np.sqrt((1/signal_matrix.shape[0])*np.sum(signal_matrix**2)) \n",
    "RMS_sig_aft = np.sqrt((1/signal_matrix_filtered_t.shape[0])*np.sum(signal_matrix_filtered_t**2))\n",
    "\n",
    "RMS_noise_bef = np.sqrt((1/noise_matrix.shape[0])*np.sum(noise_matrix**2)) \n",
    "RMS_noise_aft = np.sqrt((1/noise_matrix_filtered_t.shape[0])*np.sum(noise_matrix_filtered_t**2)) \n",
    "\n",
    "SNR_bef = 20*np.log10(RMS_sig_bef/RMS_noise_bef)\n",
    "SNR_aft = 20*np.log10(RMS_sig_aft/RMS_noise_aft)\n",
    "\n",
    "print(f'Before OF SNR = {SNR_bef}')\n",
    "print(f'After  OF SNR = {SNR_aft}')"
   ]
  },
  {
   "cell_type": "code",
   "execution_count": 24,
   "id": "cb7a3098",
   "metadata": {},
   "outputs": [],
   "source": [
    "with open('Filter.txt','w') as f:\n",
    "    for h in H:\n",
    "        f.writelines(str(h.real)+'\\t'+str(h.imag)+'\\n')"
   ]
  },
  {
   "cell_type": "markdown",
   "id": "cb3eb01a",
   "metadata": {},
   "source": [
    "# Applico il filtro ottimo per valutare l'ampiezza dei dati"
   ]
  },
  {
   "cell_type": "code",
   "execution_count": 25,
   "id": "a4603f9a",
   "metadata": {},
   "outputs": [],
   "source": [
    "batch_size = 500  # Tune this value according to your available memory\n",
    "OFT, OFF, OFdelay, OFtest = applyOF(signal_matrix, H, batch_size=batch_size)"
   ]
  },
  {
   "cell_type": "code",
   "execution_count": 26,
   "id": "dce7d3dd",
   "metadata": {},
   "outputs": [],
   "source": [
    "with open('OFF_Tension.txt','w') as f:\n",
    "    for o in OFF:\n",
    "        f.writelines(str(o)+'\\n')\n",
    "\n",
    "with open('OFT_Tension.txt','w') as f:\n",
    "    for o in OFT:\n",
    "        f.writelines(str(o)+'\\n')"
   ]
  },
  {
   "cell_type": "code",
   "execution_count": 27,
   "id": "d5691400",
   "metadata": {},
   "outputs": [],
   "source": [
    "batch_size = 500  # Tune this value according to your available memory\n",
    "OFT_noise, OFF_noise, OFdelay, OFtest = applyOF(noise_matrix, H, batch_size=batch_size)"
   ]
  },
  {
   "cell_type": "code",
   "execution_count": 31,
   "id": "1ecd7a40",
   "metadata": {},
   "outputs": [
    {
     "data": {
      "text/plain": [
       "(4124,)"
      ]
     },
     "execution_count": 31,
     "metadata": {},
     "output_type": "execute_result"
    }
   ],
   "source": [
    "OFT_noise.shape"
   ]
  },
  {
   "cell_type": "code",
   "execution_count": 32,
   "id": "02201cac",
   "metadata": {},
   "outputs": [
    {
     "data": {
      "text/plain": [
       "np.float64(0.0015571740074798366)"
      ]
     },
     "execution_count": 32,
     "metadata": {},
     "output_type": "execute_result"
    }
   ],
   "source": [
    "np.sqrt(np.sum(OFT_noise[:300]**2))"
   ]
  },
  {
   "cell_type": "code",
   "execution_count": null,
   "id": "02e4c46d",
   "metadata": {},
   "outputs": [],
   "source": []
  }
 ],
 "metadata": {
  "kernelspec": {
   "display_name": "Python 3",
   "language": "python",
   "name": "python3"
  },
  "language_info": {
   "codemirror_mode": {
    "name": "ipython",
    "version": 3
   },
   "file_extension": ".py",
   "mimetype": "text/x-python",
   "name": "python",
   "nbconvert_exporter": "python",
   "pygments_lexer": "ipython3",
   "version": "3.11.0rc1"
  },
  "toc": {
   "base_numbering": 1,
   "nav_menu": {},
   "number_sections": true,
   "sideBar": true,
   "skip_h1_title": false,
   "title_cell": "Table of Contents",
   "title_sidebar": "Contents",
   "toc_cell": false,
   "toc_position": {},
   "toc_section_display": true,
   "toc_window_display": true
  }
 },
 "nbformat": 4,
 "nbformat_minor": 5
}
