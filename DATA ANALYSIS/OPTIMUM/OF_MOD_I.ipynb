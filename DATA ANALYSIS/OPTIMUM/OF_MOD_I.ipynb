{
 "cells": [
  {
   "cell_type": "code",
   "execution_count": 1,
   "id": "0f4ef757",
   "metadata": {},
   "outputs": [],
   "source": [
    "import numpy as np\n",
    "import matplotlib.pyplot as plt\n",
    "from matplotlib import rc\n",
    "import h5py\n",
    "from scipy import optimize\n",
    "\n",
    "%load_ext autoreload\n",
    "%autoreload 2\n",
    "\n",
    "rc('text', usetex=False)\n",
    "rc('font', family='serif', size=20)\n",
    "rc('figure', figsize=(12,8))\n",
    "rc('axes',linewidth=2)"
   ]
  },
  {
   "cell_type": "markdown",
   "id": "e87257bd",
   "metadata": {},
   "source": [
    "# Funzioni utili"
   ]
  },
  {
   "cell_type": "code",
   "execution_count": 2,
   "id": "468a1912",
   "metadata": {},
   "outputs": [],
   "source": [
    "def create_filter(medium,NPS): \n",
    "    '''\n",
    "    medium è il segnale atteso, quello senza rumore\n",
    "    NPS è il noise spectral density\n",
    "    '''\n",
    "\n",
    "    val_cal = max(medium)\n",
    "    S       = np.fft.fft(medium)\n",
    "    S[0]    = 0+0*1j\n",
    "    OF_med  = np.fft.ifft(S*S.conjugate()/NPS).real\n",
    "    K       = val_cal/np.amax(OF_med)  \n",
    "    H = K*S.conjugate()/NPS   #H è la funzione di trasferimento del filtro, nel dominio delle frequenze\n",
    "\n",
    "    return H"
   ]
  },
  {
   "cell_type": "code",
   "execution_count": 3,
   "id": "1716f65a",
   "metadata": {},
   "outputs": [],
   "source": [
    "from scipy.signal import welch\n",
    "\n",
    "def PSD(esignal_matrix,t_sample,wind = \"hann\"): \n",
    "    '''\n",
    "    signal_matrix una matrice di eventi di rumore (esignal_matrix) e il tempo di campionamento (t_sample), valuta la PSD\n",
    "    '''\n",
    "    wind     = wind\n",
    "    npt      = esignal_matrix.shape[1]\n",
    "        \n",
    "    f, pxx = welch(esignal_matrix,fs=1./t_sample, window=wind, nperseg=npt, scaling='density', axis=1)\n",
    "    mean_true_scale = np.mean(pxx, axis = 0)\n",
    "        \n",
    "    f = np.append( f[:-1], -1*f[1:][::-1])\n",
    "    mean_true_scale = np.append( mean_true_scale[:-1],  mean_true_scale[1:][::-1] ) \n",
    "    mean_use_scale  = mean_true_scale* (1./t_sample*esignal_matrix.shape[1]/2.)    #correct?\n",
    "        \n",
    "    return f, mean_use_scale, mean_true_scale"
   ]
  },
  {
   "cell_type": "code",
   "execution_count": 4,
   "id": "079b9ae5",
   "metadata": {},
   "outputs": [],
   "source": [
    "def parabolic_fit(mat,stop=0):\n",
    "\n",
    "    max_pos = np.argmax(mat[:,stop:-1],axis=1) + stop\n",
    "    dim     = np.arange(0,mat.shape[0])\n",
    "    x1 = max_pos-1\n",
    "    x2 = max_pos\n",
    "    x3 = max_pos+1\n",
    "    y1 = mat[dim,x1]\n",
    "    y2 = mat[dim,x2]\n",
    "    y3 = mat[dim,x3]\n",
    "    a  = (x1*(y3-y2) + x2*(y1-y3)+x3*(y2-y1) )  / ( (x1-x2)*(x1-x3)*(x2-x3)   )\n",
    "    b  = (y2-y1)/(x2-x1)-a*(x1+x2)\n",
    "    c  = y1 -a*x1**2 -b*x1\n",
    "\n",
    "    return a,b,c,max_pos"
   ]
  },
  {
   "cell_type": "code",
   "execution_count": 5,
   "id": "5f330a7a",
   "metadata": {},
   "outputs": [],
   "source": [
    "def applyOF(esignal_matrix,H):\n",
    "    \n",
    "    events_OF_f = np.fft.fft(esignal_matrix, axis=1)*H\n",
    "    OFF         = np.array(np.sum(np.abs(events_OF_f), axis=1)/esignal_matrix.shape[1]) \n",
    "    events_OF   = np.fft.ifft(events_OF_f).real\n",
    "    events_OF   = np.concatenate((events_OF[:,int(esignal_matrix.shape[1]/2):esignal_matrix.shape[1]], events_OF[:,0:int(esignal_matrix.shape[1]/2)]),axis=1)\n",
    "    a,b,c       = parabolic_fit(events_OF)[0:3]\n",
    "    OFmax_pos   = np.argmax(events_OF,axis=1)\n",
    "    OFdelay     = -b/(2.*a)  -esignal_matrix.shape[1]/2\n",
    "    OFT         = -1.*(b**2)/(4.*a) +c\n",
    "    del a,b,c, events_OF_f\n",
    "\n",
    "    OFtest = 1. - OFT/OFF\n",
    "\n",
    "    return OFT, OFF, OFdelay, OFtest"
   ]
  },
  {
   "cell_type": "code",
   "execution_count": 7,
   "id": "a36098f3",
   "metadata": {},
   "outputs": [],
   "source": [
    "class Medium():\n",
    "    '''\n",
    "    Questa è la classe che permette di definire il segnale atteso dato degli eventi di rumore\n",
    "    e degli eventi di segnale rumorosi.    \n",
    "    '''\n",
    "    \n",
    "    def __init__(self, medium=None, NPS=None):\n",
    "        self._medium   = medium # Pulse medium\t                                           \n",
    "        self._NPS      = NPS    # noise power spectrum (compunted in not normalized units) \n",
    "        return\n",
    "    \n",
    "    def set_NPS(self, NPS):\n",
    "        # Set Noise Power Spectrum (externally computed) \n",
    "        self._NPS = NPS\n",
    "\n",
    "    def get_NPS(self):\n",
    "        return self._NPS\n",
    "    \n",
    "    def get_medium(self):\n",
    "        return self._medium\n",
    "\n",
    "    def set_medium(self, medium):\n",
    "        self._medium = medium\n",
    "        return\n",
    "    \n",
    "    def create_medium(self, signal_matrix, bsl=None, indexes=None):\n",
    "        for _ in range(2):\n",
    "            self.__do_medium(signal_matrix, bsl=bsl, indexes=indexes)\n",
    "        return\n",
    "    \n",
    "    def __do_medium(self, signal_matrix, bsl=None, indexes=None):\n",
    "\n",
    "        esignal_matrix = (signal_matrix.T - bsl).T if indexes is None else (signal_matrix[indexes].T - bsl[indexes]).T \n",
    "        \n",
    "        S_omega = np.fft.fft(esignal_matrix, axis=1)\n",
    "        S_omega[:,0] = np.zeros(esignal_matrix.shape[0])        #WHY?\n",
    "\n",
    "        if self._medium is None:\t\n",
    "            S_cc = S_omega[0,:].conjugate()\n",
    "        else: \n",
    "            S_cc = np.fft.fft(self._medium).conjugate()\n",
    "            S_cc[0] = 0.\n",
    "            \t\t\t\t\t\t\t\t  \t\t\t \n",
    "\n",
    "        K   = 1.                                         \n",
    "        H   = K * (S_cc/self._NPS)\n",
    "        OFT = np.fft.ifft(S_omega*H).real\n",
    "        OFT = np.concatenate((OFT[:,int(esignal_matrix.shape[1]/2):esignal_matrix.shape[1]], OFT[:,0:int(esignal_matrix.shape[1]/2)]), axis=1)\n",
    "\n",
    "        delay_ref = int(esignal_matrix.shape[1]/2.)\n",
    "        time      = np.arange(esignal_matrix.shape[1])\n",
    "        a,b       = parabolic_fit(OFT)[0:2]\n",
    "\n",
    "        max_pos_true = -b/(2*a)\n",
    "        delay        = max_pos_true - delay_ref\n",
    "        del a,b, max_pos_true\n",
    "        \n",
    "        for i in range(esignal_matrix.shape[0]):\n",
    "            esignal_matrix[i,:] = np.interp(time+delay[i],time, esignal_matrix[i,:])\n",
    "        \n",
    "        self._medium = np.mean(esignal_matrix,axis=0)\n",
    "        \n",
    "        return"
   ]
  },
  {
   "cell_type": "markdown",
   "id": "3b667b9b",
   "metadata": {},
   "source": [
    "# Calcolo il filtro ottimo"
   ]
  },
  {
   "cell_type": "code",
   "execution_count": 8,
   "id": "7755ee15",
   "metadata": {},
   "outputs": [],
   "source": [
    "from scipy.signal import savgol_filter"
   ]
  },
  {
   "cell_type": "code",
   "execution_count": 9,
   "id": "847e874d",
   "metadata": {},
   "outputs": [],
   "source": [
    "def trigger(signals,final,th):\n",
    "    '''First derivative triger on minimum'''\n",
    "    for data in signals:  \n",
    "        win = 100  # Size of the moving average window\n",
    "        cumsum = np.cumsum(data)\n",
    "        moving_avg = np.array((cumsum[win:] - cumsum[:-win]) / win)\n",
    "        moving_avg = np.pad(moving_avg, (win - 1, 0), mode='constant', constant_values=(moving_avg[0], moving_avg[-1]))\n",
    "        polyorder = 5\n",
    "        sav_size = 100\n",
    "        sg_filtered_signal = savgol_filter(moving_avg, sav_size, polyorder)\n",
    "        st = savgol_filter(sg_filtered_signal,100,5,1)\n",
    "        ymin = min(st)\n",
    "        if ymin<-th*1e-6:\n",
    "            final.append(data)\n",
    "    return final\n"
   ]
  },
  {
   "cell_type": "code",
   "execution_count": 10,
   "id": "7dfb86a5",
   "metadata": {},
   "outputs": [],
   "source": [
    "import os\n",
    "path = r'/home/drtofa/OneDrive/QTLab2324/DATA ANALYSIS/OPTIMUM/MOD//'\n",
    "noises, signals = [], []\n",
    "for filename in os.walk(path):\n",
    "    for file in filename[2]:\n",
    "                with h5py.File(path+file,'r') as file:\n",
    "                        for key in file.keys():\n",
    "                            if 'Noise' in key:\n",
    "                                noises.append(np.array(file[key][:]))\n",
    "                            elif 'Raw' in key:\n",
    "                                signals.append(np.array(file[key][:])[:20000])"
   ]
  },
  {
   "cell_type": "code",
   "execution_count": 11,
   "id": "96d8a717",
   "metadata": {},
   "outputs": [],
   "source": [
    "final = []\n",
    "final = signals"
   ]
  },
  {
   "cell_type": "code",
   "execution_count": 12,
   "id": "5be156fe",
   "metadata": {},
   "outputs": [],
   "source": [
    "preStop = 950  #E' il numero di punti della finestra di acquisizione senza il segnale.\n",
    "signal_matrix = np.array(final)\n",
    "noise_matrix = np.array(noises[:len(signal_matrix)])"
   ]
  },
  {
   "cell_type": "code",
   "execution_count": 13,
   "id": "94306175",
   "metadata": {},
   "outputs": [],
   "source": [
    "bsl = np.mean(signal_matrix[:,0:preStop],axis=1)\n",
    "bsl_noise = np.mean(noise_matrix,axis=1)\n",
    "\n",
    "#Faccio in modo tale che i dati e il rumore partano da 0\n",
    "\n",
    "signal_matrix = -1*(signal_matrix - np.array([bsl]).T )\n",
    "noise_matrix = -1*(noise_matrix - np.array([bsl_noise]).T)"
   ]
  },
  {
   "cell_type": "code",
   "execution_count": 14,
   "id": "a5d321ed",
   "metadata": {},
   "outputs": [],
   "source": [
    "# Calcolo la PSD del rumore, il primo ingrediente del filtro ottimo\n",
    "t_samp = 1/1e8   #in secondi\n",
    "\n",
    "freq_noise, PSD_noise, _ = PSD(noise_matrix[:,:noise_matrix.shape[1]],t_samp)\n",
    "freq_sig, PSD_sig, _ = PSD(np.array([signal_matrix[1]]),t_samp)\n",
    "\n",
    "npt_noise = PSD_noise.shape[0]\n",
    "npt_sig = PSD_sig.shape[0]"
   ]
  },
  {
   "cell_type": "code",
   "execution_count": null,
   "id": "4cac6e92",
   "metadata": {},
   "outputs": [],
   "source": [
    "with open('PSD.txt','w')as f:\n",
    "    for noi in PSD_noise:\n",
    "        f.writelines(str(noi)+'\\n')"
   ]
  },
  {
   "cell_type": "code",
   "execution_count": null,
   "id": "e572e249",
   "metadata": {},
   "outputs": [],
   "source": [
    "fig, ax = plt.subplots(1,2,figsize=(15,6))\n",
    "ax[0].loglog(-1*freq_sig[npt_sig//2:][::-1],PSD_noise[npt_sig//2:][::-1],c='k',label='With RC Filter', linewidth=2)\n",
    "ax[0].loglog(-1*freq_sig_NORC[npt_sig//2:][::-1],PSD_noise_NORC[npt_sig//2:][::-1],c='b',label='No RC Filter', linewidth=2, linestyle='--',alpha=0.5)\n",
    "ax[1].loglog(-1*freq_sig_NORC[npt_sig//2:][::-1],PSD_noise_NORC[npt_sig//2:][::-1],c='b',label='No RC Filter', linewidth=2)\n",
    "ax[0].set_xlabel(r\"$\\nu$ [Hz]\")\n",
    "ax[0].set_ylabel(r\"$\\frac{\\text{V}^{2}}{\\sqrt{\\text{Hz}}}$\")\n",
    "ax[1].set_xlabel(r\"$\\nu$ [Hz]\")\n",
    "ax[1].set_ylabel(r\"$\\frac{\\text{V}^{2}}{\\sqrt{\\text{Hz}}}$\")\n",
    "ax[0].legend()\n",
    "ax[0].grid()\n",
    "ax[1].legend()\n",
    "ax[1].grid()\n",
    "fig.suptitle('Signal PSD')\n",
    "fig.tight_layout()"
   ]
  },
  {
   "cell_type": "code",
   "execution_count": null,
   "id": "b6454853",
   "metadata": {},
   "outputs": [],
   "source": []
  },
  {
   "cell_type": "code",
   "execution_count": null,
   "id": "81db5607",
   "metadata": {},
   "outputs": [],
   "source": [
    "# Calcolo il segnale atteso (medio), l'ultimo ingrediente per il filtro ottimo\n",
    "\n",
    "medium = Medium(NPS = PSD_noise)\n",
    "medium.create_medium(signal_matrix,np.zeros(signal_matrix.shape[0]))\n",
    "medium_pulse = medium.get_medium()"
   ]
  },
  {
   "cell_type": "code",
   "execution_count": null,
   "id": "ec5e7da9",
   "metadata": {},
   "outputs": [],
   "source": [
    "plt.plot(medium_pulse,c='k')\n",
    "plt.xlabel(\"# sample\")\n",
    "plt.show()"
   ]
  },
  {
   "cell_type": "code",
   "execution_count": null,
   "id": "09f42c95",
   "metadata": {},
   "outputs": [],
   "source": [
    "with open('medium.txt','w') as f:\n",
    "    f.writelines(medium_pulse)\n"
   ]
  },
  {
   "cell_type": "code",
   "execution_count": 33,
   "id": "a2deef9b",
   "metadata": {},
   "outputs": [],
   "source": [
    "# Creo il filtro H e lo applico ai dati su cui ho calcolato il medio\n",
    "H = create_filter(medium_pulse,PSD_noise)\n",
    "\n",
    "signal_matrix_filtered_f =  np.fft.fft(signal_matrix, axis=1)*H # dati filtrati dominio freq\n",
    "signal_matrix_filtered_t =  np.fft.ifft(signal_matrix_filtered_f).real   #dati filtrati dominio temp\n",
    "signal_matrix_filtered_t =  np.concatenate((signal_matrix_filtered_t[:,int(signal_matrix_filtered_t.shape[1]/2):signal_matrix_filtered_t.shape[1]], signal_matrix_filtered_t[:,0:int(signal_matrix_filtered_t.shape[1]/2)]),axis=1)\n",
    "\n",
    "noise_matrix_filtered_f =  np.fft.fft(noise_matrix, axis=1)*H # dati filtrati dominio freq\n",
    "noise_matrix_filtered_t =  np.fft.ifft(noise_matrix_filtered_f).real   #dati filtrati dominio temp\n",
    "noise_matrix_filtered_t =  np.concatenate((noise_matrix_filtered_t[:,int(noise_matrix_filtered_t.shape[1]/2):noise_matrix_filtered_t.shape[1]], noise_matrix_filtered_t[:,0:int(signal_matrix_filtered_t.shape[1]/2)]),axis=1)"
   ]
  },
  {
   "cell_type": "code",
   "execution_count": null,
   "id": "21da4409",
   "metadata": {},
   "outputs": [],
   "source": [
    "#Guardo come cambiano i dati prima e dopo il filtro ottimo\n",
    "nev = 10\n",
    "#===================\n",
    "plt.plot(signal_matrix[nev],c='k',label=\"original\")\n",
    "plt.plot(signal_matrix_filtered_t[nev],label=\"filtered\",c='b')\n",
    "plt.legend()\n",
    "plt.show()"
   ]
  },
  {
   "cell_type": "code",
   "execution_count": null,
   "id": "78c1bdcc",
   "metadata": {},
   "outputs": [],
   "source": [
    "H.shape"
   ]
  },
  {
   "cell_type": "code",
   "execution_count": 36,
   "id": "cb7a3098",
   "metadata": {},
   "outputs": [],
   "source": [
    "with open('Filter.txt','w') as f:\n",
    "    for h in H:\n",
    "        f.writelines(str(h.real)+'\\t'+str(h.imag)+'\\n')"
   ]
  },
  {
   "cell_type": "markdown",
   "id": "cb3eb01a",
   "metadata": {},
   "source": [
    "# Applico il filtro ottimo per valutare l'ampiezza dei dati"
   ]
  },
  {
   "cell_type": "code",
   "execution_count": 37,
   "id": "a4603f9a",
   "metadata": {},
   "outputs": [],
   "source": [
    "OFT, OFF, OFdelay, OFtest = applyOF(signal_matrix,H)\n",
    "\n",
    "# OFT è l'ampiezza del segnale, calcolata con il filtro ottimo nel dominio del tempo\n",
    "# OFF è l'ampiezza del segnale, calcolata con il filtro ottimo nel dominio delle frequenze, dovrebbe essere uguale\n",
    "#     (o molto simile) a OFT\n",
    "# OFdelay e OFtest ignoratele."
   ]
  },
  {
   "cell_type": "code",
   "execution_count": 38,
   "id": "dce7d3dd",
   "metadata": {},
   "outputs": [],
   "source": [
    "with open('OFF_Tension.txt','w') as f:\n",
    "    for o in OFF:\n",
    "        f.writelines(str(o)+'\\n')\n",
    "\n",
    "with open('OFT_Tension.txt','w') as f:\n",
    "    for o in OFT:\n",
    "        f.writelines(str(o)+'\\n')"
   ]
  },
  {
   "cell_type": "code",
   "execution_count": 39,
   "id": "d5691400",
   "metadata": {},
   "outputs": [],
   "source": [
    "OFT_noise, OFF_noise, _, _ = applyOF(noise_matrix,H) "
   ]
  },
  {
   "cell_type": "code",
   "execution_count": null,
   "id": "e7eb3132",
   "metadata": {},
   "outputs": [],
   "source": [
    "np.sqrt(abs(np.mean(medium_pulse[:700])))"
   ]
  },
  {
   "cell_type": "code",
   "execution_count": null,
   "id": "3d513072",
   "metadata": {},
   "outputs": [],
   "source": []
  }
 ],
 "metadata": {
  "kernelspec": {
   "display_name": "Python 3",
   "language": "python",
   "name": "python3"
  },
  "language_info": {
   "codemirror_mode": {
    "name": "ipython",
    "version": 3
   },
   "file_extension": ".py",
   "mimetype": "text/x-python",
   "name": "python",
   "nbconvert_exporter": "python",
   "pygments_lexer": "ipython3",
   "version": "3.11.0"
  },
  "toc": {
   "base_numbering": 1,
   "nav_menu": {},
   "number_sections": true,
   "sideBar": true,
   "skip_h1_title": false,
   "title_cell": "Table of Contents",
   "title_sidebar": "Contents",
   "toc_cell": false,
   "toc_position": {},
   "toc_section_display": true,
   "toc_window_display": true
  }
 },
 "nbformat": 4,
 "nbformat_minor": 5
}
