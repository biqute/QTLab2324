{
 "cells": [
  {
   "cell_type": "code",
   "execution_count": 1,
   "id": "0f4ef757",
   "metadata": {},
   "outputs": [],
   "source": [
    "import numpy as np\n",
    "import matplotlib.pyplot as plt\n",
    "from matplotlib import rc\n",
    "import h5py\n",
    "from scipy import optimize\n",
    "\n",
    "%load_ext autoreload\n",
    "%autoreload 2\n",
    "\n",
    "rc('text', usetex=False)\n",
    "rc('font', family='serif', size=20)\n",
    "rc('figure', figsize=(12,8))\n",
    "rc('axes',linewidth=2)"
   ]
  },
  {
   "cell_type": "markdown",
   "id": "e87257bd",
   "metadata": {},
   "source": [
    "# Funzioni utili"
   ]
  },
  {
   "cell_type": "code",
   "execution_count": 2,
   "id": "468a1912",
   "metadata": {},
   "outputs": [],
   "source": [
    "def create_filter(medium,NPS): \n",
    "    '''\n",
    "    medium è il segnale atteso, quello senza rumore\n",
    "    NPS è il noise spectral density\n",
    "    '''\n",
    "\n",
    "    val_cal = max(medium)\n",
    "    S       = np.fft.fft(medium)\n",
    "    S[0]    = 0+0*1j\n",
    "    OF_med  = np.fft.ifft(S*S.conjugate()/NPS).real\n",
    "    K       = val_cal/np.amax(OF_med)  \n",
    "    H = K*S.conjugate()/NPS   #H è la funzione di trasferimento del filtro, nel dominio delle frequenze\n",
    "\n",
    "    return H"
   ]
  },
  {
   "cell_type": "code",
   "execution_count": 3,
   "id": "1716f65a",
   "metadata": {},
   "outputs": [],
   "source": [
    "from scipy.signal import welch\n",
    "\n",
    "def PSD(esignal_matrix,t_sample,wind = \"hann\"): \n",
    "    '''\n",
    "    signal_matrix una matrice di eventi di rumore (esignal_matrix) e il tempo di campionamento (t_sample), valuta la PSD\n",
    "    '''\n",
    "    wind     = wind\n",
    "    npt      = esignal_matrix.shape[1]\n",
    "        \n",
    "    f, pxx = welch(esignal_matrix,fs=1./t_sample, window=wind, nperseg=npt, scaling='density', axis=1)\n",
    "    mean_true_scale = np.mean(pxx, axis = 0)\n",
    "        \n",
    "    f = np.append( f[:-1], -1*f[1:][::-1])\n",
    "    mean_true_scale = np.append( mean_true_scale[:-1],  mean_true_scale[1:][::-1] ) \n",
    "    mean_use_scale  = mean_true_scale* (1./t_sample*esignal_matrix.shape[1]/2.)    #correct?\n",
    "        \n",
    "    return f, mean_use_scale, mean_true_scale"
   ]
  },
  {
   "cell_type": "code",
   "execution_count": 4,
   "id": "079b9ae5",
   "metadata": {},
   "outputs": [],
   "source": [
    "def parabolic_fit(mat,stop=0):\n",
    "\n",
    "    max_pos = np.argmax(mat[:,stop:-1],axis=1) + stop\n",
    "    dim     = np.arange(0,mat.shape[0])\n",
    "    x1 = max_pos-1\n",
    "    x2 = max_pos\n",
    "    x3 = max_pos+1\n",
    "    y1 = mat[dim,x1]\n",
    "    y2 = mat[dim,x2]\n",
    "    y3 = mat[dim,x3]\n",
    "    a  = (x1*(y3-y2) + x2*(y1-y3)+x3*(y2-y1) )  / ( (x1-x2)*(x1-x3)*(x2-x3)   )\n",
    "    b  = (y2-y1)/(x2-x1)-a*(x1+x2)\n",
    "    c  = y1 -a*x1**2 -b*x1\n",
    "\n",
    "    return a,b,c,max_pos"
   ]
  },
  {
   "cell_type": "code",
   "execution_count": 5,
   "id": "5f330a7a",
   "metadata": {},
   "outputs": [],
   "source": [
    "def applyOF(esignal_matrix,H):\n",
    "    \n",
    "    events_OF_f = np.fft.fft(esignal_matrix, axis=1)*H\n",
    "    OFF         = np.array(np.sum(np.abs(events_OF_f), axis=1)/esignal_matrix.shape[1]) \n",
    "    events_OF   = np.fft.ifft(events_OF_f).real\n",
    "    events_OF   = np.concatenate((events_OF[:,int(esignal_matrix.shape[1]/2):esignal_matrix.shape[1]], events_OF[:,0:int(esignal_matrix.shape[1]/2)]),axis=1)\n",
    "    a,b,c       = parabolic_fit(events_OF)[0:3]\n",
    "    OFmax_pos   = np.argmax(events_OF,axis=1)\n",
    "    OFdelay     = -b/(2.*a)  -esignal_matrix.shape[1]/2\n",
    "    OFT         = -1.*(b**2)/(4.*a) +c\n",
    "    del a,b,c, events_OF_f\n",
    "\n",
    "    OFtest = 1. - OFT/OFF\n",
    "\n",
    "    return OFT, OFF, OFdelay, OFtest"
   ]
  },
  {
   "cell_type": "code",
   "execution_count": 7,
   "id": "a36098f3",
   "metadata": {},
   "outputs": [],
   "source": [
    "from memory_profiler import profile\n",
    "import logging\n",
    "\n",
    "class Medium:\n",
    "    def __init__(self, medium=None, NPS=None):\n",
    "        self._medium = medium\n",
    "        self._NPS = NPS\n",
    "\n",
    "    def set_NPS(self, NPS):\n",
    "        self._NPS = NPS\n",
    "\n",
    "    def get_NPS(self):\n",
    "        return self._NPS\n",
    "\n",
    "    def get_medium(self):\n",
    "        return self._medium\n",
    "\n",
    "    def set_medium(self, medium):\n",
    "        self._medium = medium\n",
    "\n",
    "    def create_medium(self, signal_matrix, bsl=None, indexes=None):\n",
    "        try:\n",
    "            self.__do_medium(signal_matrix, bsl, indexes)\n",
    "        except Exception as e:\n",
    "            logging.error(f\"Error in create_medium function: {e}\")\n",
    "            \n",
    "    @profile\n",
    "    def __do_medium(self, signal_matrix, bsl=None, indexes=None):\n",
    "        if bsl is not None and int(signal_matrix.shape[0]) != int(bsl.size):\n",
    "            raise ValueError(\"Baseline and signal matrix sizes do not match.\")\n",
    "        if indexes is not None and signal_matrix.shape[1] != len(indexes):\n",
    "            raise ValueError(\"Indexes length does not match signal matrix rows.\")\n",
    "\n",
    "        # Subtract baseline\n",
    "        if indexes is None:\n",
    "            esignal_matrix = signal_matrix - bsl[:, np.newaxis]\n",
    "        else:\n",
    "            esignal_matrix = signal_matrix[indexes] - bsl[indexes, np.newaxis]\n",
    "\n",
    "        # Compute FFT of the adjusted signal matrix\n",
    "        S_omega = np.fft.fft(esignal_matrix, axis=1)\n",
    "        S_omega[:, 0] = 0  # Zero out the first frequency component (DC component)\n",
    "        print(f'S_omega: {S_omega}')\n",
    "        # Compute the conjugate of the FFT of the medium\n",
    "        if self._medium is None:\n",
    "            S_cc = np.conj(S_omega[0])\n",
    "        else:\n",
    "            S_cc = np.conj(np.fft.fft(self._medium))\n",
    "            S_cc[0] = 0\n",
    "        print(f'S_cc: {S_cc}')\n",
    "        # Compute the filter H\n",
    "        K = 1.0\n",
    "        H = K * (S_cc / self._NPS)\n",
    "\n",
    "        # Apply the filter and compute the inverse FFT\n",
    "        OFT = np.fft.ifft(S_omega * H).real\n",
    "\n",
    "        # Reorder the data to match the original format\n",
    "        half_len = esignal_matrix.shape[1] // 2\n",
    "        OFT = np.concatenate((OFT[:, half_len:], OFT[:, :half_len]), axis=1)\n",
    "\n",
    "        # Compute the delay and adjust the signal matrix\n",
    "        delay_ref = half_len\n",
    "        time = np.arange(esignal_matrix.shape[1])\n",
    "\n",
    "        a, b = parabolic_fit(OFT)[:2]\n",
    "        max_pos_true = -b / (2 * a)\n",
    "        delay = max_pos_true - delay_ref\n",
    "\n",
    "        # Interpolate delays for all rows\n",
    "        for i in range(esignal_matrix.shape[0]):\n",
    "            esignal_matrix[i, :] = np.interp(time + delay[i], time, esignal_matrix[i, :])\n",
    "\n",
    "        # Update the medium with the mean of adjusted signals\n",
    "        self._medium = np.mean(esignal_matrix, axis=0)\n",
    "\n",
    "        # Explicitly delete large objects to free up memory\n",
    "        del S_omega, S_cc, H, OFT\n",
    "\n",
    "def parabolic_fit(mat, stop=0):\n",
    "    max_pos = np.argmax(mat[:, stop:-1], axis=1) + stop\n",
    "    dim = np.arange(0, mat.shape[0])\n",
    "    x1 = max_pos - 1\n",
    "    x2 = max_pos\n",
    "    x3 = max_pos + 1\n",
    "    y1 = mat[dim, x1]\n",
    "    y2 = mat[dim, x2]\n",
    "    y3 = mat[dim, x3]\n",
    "    a = (x1 * (y3 - y2) + x2 * (y1 - y3) + x3 * (y2 - y1)) / ((x1 - x2) * (x1 - x3) * (x2 - x3))\n",
    "    b = (y2 - y1) / (x2 - x1) - a * (x1 + x2)\n",
    "    c = y1 - a * x1**2 - b * x1\n",
    "\n",
    "    return a, b, c, max_pos\n"
   ]
  },
  {
   "cell_type": "markdown",
   "id": "3b667b9b",
   "metadata": {},
   "source": [
    "# Calcolo il filtro ottimo"
   ]
  },
  {
   "cell_type": "code",
   "execution_count": 8,
   "id": "7755ee15",
   "metadata": {},
   "outputs": [],
   "source": [
    "from scipy.signal import savgol_filter"
   ]
  },
  {
   "cell_type": "code",
   "execution_count": 9,
   "id": "847e874d",
   "metadata": {},
   "outputs": [],
   "source": [
    "def trigger(signals,final,th):\n",
    "    '''First derivative triger on minimum'''\n",
    "    for data in signals:  \n",
    "        win = 100  # Size of the moving average window\n",
    "        cumsum = np.cumsum(data)\n",
    "        moving_avg = np.array((cumsum[win:] - cumsum[:-win]) / win)\n",
    "        moving_avg = np.pad(moving_avg, (win - 1, 0), mode='constant', constant_values=(moving_avg[0], moving_avg[-1]))\n",
    "        polyorder = 5\n",
    "        sav_size = 100\n",
    "        sg_filtered_signal = savgol_filter(moving_avg, sav_size, polyorder)\n",
    "        st = savgol_filter(sg_filtered_signal,100,5,1)\n",
    "        ymin = min(st)\n",
    "        if ymin<-th*1e-6:\n",
    "            final.append(data)\n",
    "    return final\n"
   ]
  },
  {
   "cell_type": "code",
<<<<<<< HEAD
   "execution_count": 10,
=======
   "execution_count": 9,
>>>>>>> eff99e25dbf307f9e5d3b15bf93ebfee510b3532
   "id": "7dfb86a5",
   "metadata": {},
   "outputs": [],
   "source": [
    "import os\n",
    "path = r'/home/drtofa/OneDrive/QTLab2324/DATA ANALYSIS/OPTIMUM/MOD//'\n",
    "noises, signals = [], []\n",
    "for filename in os.walk(path):\n",
    "    for file in filename[2]:\n",
    "                with h5py.File(path+file,'r') as file:\n",
    "                        for key in file.keys():\n",
    "                            if 'Noise' in key:\n",
    "                                noises.append(np.array(file[key][:]))\n",
    "                            elif 'Raw' in key:\n",
    "                                signals.append(np.array(file[key][:])[:20000])"
   ]
  },
  {
   "cell_type": "code",
<<<<<<< HEAD
   "execution_count": 11,
=======
   "execution_count": 50,
>>>>>>> eff99e25dbf307f9e5d3b15bf93ebfee510b3532
   "id": "96d8a717",
   "metadata": {},
   "outputs": [],
   "source": [
    "final = signals[:1000]"
   ]
  },
  {
   "cell_type": "code",
<<<<<<< HEAD
   "execution_count": 12,
=======
   "execution_count": 51,
>>>>>>> eff99e25dbf307f9e5d3b15bf93ebfee510b3532
   "id": "5be156fe",
   "metadata": {},
   "outputs": [],
   "source": [
    "preStop = 950  #E' il numero di punti della finestra di acquisizione senza il segnale.\n",
    "signal_matrix = np.array(final)\n",
    "noise_matrix = np.array(noises[:len(signal_matrix)])"
   ]
  },
  {
   "cell_type": "code",
<<<<<<< HEAD
   "execution_count": 13,
=======
   "execution_count": 52,
>>>>>>> eff99e25dbf307f9e5d3b15bf93ebfee510b3532
   "id": "94306175",
   "metadata": {},
   "outputs": [],
   "source": [
    "bsl = np.mean(signal_matrix[:,0:preStop],axis=1)\n",
    "bsl_noise = np.mean(noise_matrix,axis=1)\n",
    "\n",
    "#Faccio in modo tale che i dati e il rumore partano da 0\n",
    "\n",
    "signal_matrix = -1*(signal_matrix - np.array([bsl]).T )\n",
    "noise_matrix = -1*(noise_matrix - np.array([bsl_noise]).T)"
   ]
  },
  {
   "cell_type": "code",
<<<<<<< HEAD
   "execution_count": 14,
=======
   "execution_count": 53,
>>>>>>> eff99e25dbf307f9e5d3b15bf93ebfee510b3532
   "id": "a5d321ed",
   "metadata": {},
   "outputs": [],
   "source": [
    "# Calcolo la PSD del rumore, il primo ingrediente del filtro ottimo\n",
    "t_samp = 1/1e8   #in secondi\n",
    "\n",
    "freq_noise, PSD_noise, _ = PSD(noise_matrix[:,:noise_matrix.shape[1]],t_samp)\n",
    "freq_sig, PSD_sig, _ = PSD(np.array([signal_matrix[1]]),t_samp)\n",
    "\n",
    "npt_noise = PSD_noise.shape[0]\n",
    "npt_sig = PSD_sig.shape[0]"
   ]
  },
  {
   "cell_type": "code",
<<<<<<< HEAD
   "execution_count": null,
=======
   "execution_count": 54,
>>>>>>> eff99e25dbf307f9e5d3b15bf93ebfee510b3532
   "id": "4cac6e92",
   "metadata": {},
   "outputs": [],
   "source": [
    "with open('PSD.txt','w')as f:\n",
    "    for noi in PSD_noise:\n",
    "        f.writelines(str(noi)+'\\n')"
   ]
  },
  {
   "cell_type": "code",
<<<<<<< HEAD
   "execution_count": null,
   "id": "e572e249",
   "metadata": {},
   "outputs": [],
   "source": [
    "fig, ax = plt.subplots(1,2,figsize=(15,6))\n",
    "ax[0].loglog(-1*freq_sig[npt_sig//2:][::-1],PSD_noise[npt_sig//2:][::-1],c='k',label='With RC Filter', linewidth=2)\n",
    "ax[0].loglog(-1*freq_sig_NORC[npt_sig//2:][::-1],PSD_noise_NORC[npt_sig//2:][::-1],c='b',label='No RC Filter', linewidth=2, linestyle='--',alpha=0.5)\n",
    "ax[1].loglog(-1*freq_sig_NORC[npt_sig//2:][::-1],PSD_noise_NORC[npt_sig//2:][::-1],c='b',label='No RC Filter', linewidth=2)\n",
    "ax[0].set_xlabel(r\"$\\nu$ [Hz]\")\n",
    "ax[0].set_ylabel(r\"$\\frac{\\text{V}^{2}}{\\sqrt{\\text{Hz}}}$\")\n",
    "ax[1].set_xlabel(r\"$\\nu$ [Hz]\")\n",
    "ax[1].set_ylabel(r\"$\\frac{\\text{V}^{2}}{\\sqrt{\\text{Hz}}}$\")\n",
    "ax[0].legend()\n",
    "ax[0].grid()\n",
    "ax[1].legend()\n",
    "ax[1].grid()\n",
    "fig.suptitle('Signal PSD')\n",
    "fig.tight_layout()"
   ]
  },
  {
   "cell_type": "code",
   "execution_count": null,
   "id": "b6454853",
   "metadata": {},
   "outputs": [],
   "source": []
  },
  {
   "cell_type": "code",
   "execution_count": null,
=======
   "execution_count": 55,
>>>>>>> eff99e25dbf307f9e5d3b15bf93ebfee510b3532
   "id": "81db5607",
   "metadata": {},
   "outputs": [],
   "source": [
    "# Calcolo il segnale atteso (medio), l'ultimo ingrediente per il filtro ottimo\n",
    "\n",
    "medium = Medium(NPS = PSD_noise)"
   ]
  },
  {
   "cell_type": "code",
   "execution_count": 56,
   "id": "e5a8028c",
   "metadata": {},
   "outputs": [
    {
     "name": "stdout",
     "output_type": "stream",
     "text": [
      "ERROR: Could not find file /tmp/ipykernel_34356/3862769708.py\n",
      "S_omega: [[ 0.        +0.j          1.30684828-2.15326381j -0.12746745-1.73975307j\n",
      "  ... -1.00182328+0.79551847j -0.12746745+1.73975307j\n",
      "   1.30684828+2.15326381j]\n",
      " [ 0.        +0.j          0.92008137-2.18717665j -0.56463582-1.53507337j\n",
      "  ... -0.8807468 +0.8315821j  -0.56463582+1.53507337j\n",
      "   0.92008137+2.18717665j]\n",
      " [ 0.        +0.j          1.38247307-2.29557174j -0.4286474 -1.74027331j\n",
      "  ... -0.89449809+1.00179661j -0.4286474 +1.74027331j\n",
      "   1.38247307+2.29557174j]\n",
      " ...\n",
      " [ 0.        +0.j          1.02905378-2.17370017j -0.43062417-1.68707595j\n",
      "  ... -0.89084905+0.92509865j -0.43062417+1.68707595j\n",
      "   1.02905378+2.17370017j]\n",
      " [ 0.        +0.j          0.80979304-2.17793527j -0.49491755-1.58264813j\n",
      "  ... -0.71009881+0.78257602j -0.49491755+1.58264813j\n",
      "   0.80979304+2.17793527j]\n",
      " [ 0.        +0.j          1.60923037-3.19853437j -0.31604961-2.12850097j\n",
      "  ... -1.1200834 +1.23842945j -0.31604961+2.12850097j\n",
      "   1.60923037+3.19853437j]]\n",
      "S_cc: [ 0.        -0.j          1.30684828+2.15326381j -0.12746745+1.73975307j\n",
      " ... -1.00182328-0.79551847j -0.12746745-1.73975307j\n",
      "  1.30684828-2.15326381j]\n"
     ]
    },
    {
     "name": "stderr",
     "output_type": "stream",
     "text": [
      "ERROR:root:Error in create_medium function: module 'numpy' has no attribute 'gc'\n"
     ]
    }
   ],
   "source": [
    "medium.create_medium(signal_matrix,np.zeros(signal_matrix.shape[0]))"
   ]
  },
  {
   "cell_type": "code",
   "execution_count": 57,
   "id": "e9ce0c68",
   "metadata": {},
   "outputs": [],
   "source": [
    "medium_pulse = medium.get_medium()"
   ]
  },
  {
   "cell_type": "code",
<<<<<<< HEAD
   "execution_count": null,
   "id": "ec5e7da9",
   "metadata": {},
   "outputs": [],
=======
   "execution_count": 49,
   "id": "ec5e7da9",
   "metadata": {},
   "outputs": [
    {
     "data": {
      "image/png": "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",
      "text/plain": [
       "<Figure size 1200x800 with 1 Axes>"
      ]
     },
     "metadata": {},
     "output_type": "display_data"
    }
   ],
>>>>>>> eff99e25dbf307f9e5d3b15bf93ebfee510b3532
   "source": [
    "plt.plot(medium_pulse,c='k')\n",
    "plt.xlabel(\"# sample\")\n",
    "plt.show()"
   ]
  },
  {
   "cell_type": "code",
   "execution_count": null,
   "id": "09f42c95",
   "metadata": {},
   "outputs": [],
   "source": [
    "with open('medium.txt','w') as f:\n",
    "    f.writelines(medium_pulse)\n"
   ]
  },
  {
   "cell_type": "code",
   "execution_count": 33,
   "id": "a2deef9b",
   "metadata": {},
   "outputs": [],
   "source": [
    "# Creo il filtro H e lo applico ai dati su cui ho calcolato il medio\n",
    "H = create_filter(medium_pulse,PSD_noise)\n",
    "\n",
    "signal_matrix_filtered_f =  np.fft.fft(signal_matrix, axis=1)*H # dati filtrati dominio freq\n",
    "signal_matrix_filtered_t =  np.fft.ifft(signal_matrix_filtered_f).real   #dati filtrati dominio temp\n",
    "signal_matrix_filtered_t =  np.concatenate((signal_matrix_filtered_t[:,int(signal_matrix_filtered_t.shape[1]/2):signal_matrix_filtered_t.shape[1]], signal_matrix_filtered_t[:,0:int(signal_matrix_filtered_t.shape[1]/2)]),axis=1)\n",
    "\n",
    "noise_matrix_filtered_f =  np.fft.fft(noise_matrix, axis=1)*H # dati filtrati dominio freq\n",
    "noise_matrix_filtered_t =  np.fft.ifft(noise_matrix_filtered_f).real   #dati filtrati dominio temp\n",
    "noise_matrix_filtered_t =  np.concatenate((noise_matrix_filtered_t[:,int(noise_matrix_filtered_t.shape[1]/2):noise_matrix_filtered_t.shape[1]], noise_matrix_filtered_t[:,0:int(signal_matrix_filtered_t.shape[1]/2)]),axis=1)"
   ]
  },
  {
   "cell_type": "code",
   "execution_count": null,
   "id": "21da4409",
   "metadata": {},
   "outputs": [],
   "source": [
    "#Guardo come cambiano i dati prima e dopo il filtro ottimo\n",
    "nev = 10\n",
    "#===================\n",
    "plt.plot(signal_matrix[nev],c='k',label=\"original\")\n",
    "plt.plot(signal_matrix_filtered_t[nev],label=\"filtered\",c='b')\n",
    "plt.legend()\n",
    "plt.show()"
   ]
  },
  {
   "cell_type": "code",
   "execution_count": null,
   "id": "78c1bdcc",
   "metadata": {},
   "outputs": [],
   "source": [
    "H.shape"
   ]
  },
  {
   "cell_type": "code",
   "execution_count": 36,
   "id": "cb7a3098",
   "metadata": {},
   "outputs": [],
   "source": [
    "with open('Filter.txt','w') as f:\n",
    "    for h in H:\n",
    "        f.writelines(str(h.real)+'\\t'+str(h.imag)+'\\n')"
   ]
  },
  {
   "cell_type": "markdown",
   "id": "cb3eb01a",
   "metadata": {},
   "source": [
    "# Applico il filtro ottimo per valutare l'ampiezza dei dati"
   ]
  },
  {
   "cell_type": "code",
   "execution_count": 37,
   "id": "a4603f9a",
   "metadata": {},
   "outputs": [],
   "source": [
    "OFT, OFF, OFdelay, OFtest = applyOF(signal_matrix,H)\n",
    "\n",
    "# OFT è l'ampiezza del segnale, calcolata con il filtro ottimo nel dominio del tempo\n",
    "# OFF è l'ampiezza del segnale, calcolata con il filtro ottimo nel dominio delle frequenze, dovrebbe essere uguale\n",
    "#     (o molto simile) a OFT\n",
    "# OFdelay e OFtest ignoratele."
   ]
  },
  {
   "cell_type": "code",
   "execution_count": 38,
   "id": "dce7d3dd",
   "metadata": {},
   "outputs": [],
   "source": [
    "with open('OFF_Tension.txt','w') as f:\n",
    "    for o in OFF:\n",
    "        f.writelines(str(o)+'\\n')\n",
    "\n",
    "with open('OFT_Tension.txt','w') as f:\n",
    "    for o in OFT:\n",
    "        f.writelines(str(o)+'\\n')"
   ]
  },
  {
   "cell_type": "code",
   "execution_count": 39,
   "id": "d5691400",
   "metadata": {},
   "outputs": [],
   "source": [
    "OFT_noise, OFF_noise, _, _ = applyOF(noise_matrix,H) "
   ]
  },
  {
   "cell_type": "code",
   "execution_count": null,
   "id": "e7eb3132",
   "metadata": {},
   "outputs": [],
   "source": [
    "np.sqrt(abs(np.mean(medium_pulse[:700])))"
   ]
  },
  {
   "cell_type": "code",
   "execution_count": null,
   "id": "3d513072",
   "metadata": {},
   "outputs": [],
   "source": []
  }
 ],
 "metadata": {
  "kernelspec": {
   "display_name": "Python 3",
   "language": "python",
   "name": "python3"
  },
  "language_info": {
   "codemirror_mode": {
    "name": "ipython",
    "version": 3
   },
   "file_extension": ".py",
   "mimetype": "text/x-python",
   "name": "python",
   "nbconvert_exporter": "python",
   "pygments_lexer": "ipython3",
<<<<<<< HEAD
   "version": "3.10.12"
=======
   "version": "3.11.0rc1"
>>>>>>> eff99e25dbf307f9e5d3b15bf93ebfee510b3532
  },
  "toc": {
   "base_numbering": 1,
   "nav_menu": {},
   "number_sections": true,
   "sideBar": true,
   "skip_h1_title": false,
   "title_cell": "Table of Contents",
   "title_sidebar": "Contents",
   "toc_cell": false,
   "toc_position": {},
   "toc_section_display": true,
   "toc_window_display": true
  }
 },
 "nbformat": 4,
 "nbformat_minor": 5
}
