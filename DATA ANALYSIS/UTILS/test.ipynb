{
 "cells": [
  {
   "cell_type": "code",
   "execution_count": 1,
   "metadata": {},
   "outputs": [],
   "source": [
    "import drive"
   ]
  },
  {
   "cell_type": "code",
   "execution_count": 2,
   "metadata": {},
   "outputs": [],
   "source": [
    "service = drive.authenticate()\n",
    "folder_id = '1yYLE5oZD8xLRU-p8sOcruevWP0dqUzAT'"
   ]
  },
  {
   "cell_type": "code",
   "execution_count": 3,
   "metadata": {},
   "outputs": [],
   "source": [
    "files = drive.list_files_in_folder(service, folder_id)"
   ]
  },
  {
   "cell_type": "code",
   "execution_count": 4,
   "metadata": {},
   "outputs": [
    {
     "name": "stdout",
     "output_type": "stream",
     "text": [
      "Downloading file: RUN_13_PULSE_999.hdf5\n",
      "Downloading file: RUN_13_PULSE_998.hdf5\n",
      "Downloading file: RUN_13_PULSE_997.hdf5\n",
      "Downloading file: RUN_13_PULSE_996.hdf5\n",
      "Downloading file: RUN_13_PULSE_995.hdf5\n"
     ]
    }
   ],
   "source": [
    "file_streams = []\n",
    "for file in files:\n",
    "    if file['name'].endswith('.h5') or file['name'].endswith('.hdf5'):\n",
    "        file_id = file['id']\n",
    "        print(f\"Downloading file: {file['name']}\")\n",
    "        file_stream = drive.download_file_to_memory(service, file_id)\n",
    "        file_streams.append(file_stream)\n",
    "\n",
    "# Now read the HDF5 files from memory\n",
    "data = drive.read_hdf5_file(file_streams)"
   ]
  },
  {
   "cell_type": "code",
   "execution_count": null,
   "metadata": {},
   "outputs": [],
   "source": []
  }
 ],
 "metadata": {
  "kernelspec": {
   "display_name": "Python 3",
   "language": "python",
   "name": "python3"
  },
  "language_info": {
   "codemirror_mode": {
    "name": "ipython",
    "version": 3
   },
   "file_extension": ".py",
   "mimetype": "text/x-python",
   "name": "python",
   "nbconvert_exporter": "python",
   "pygments_lexer": "ipython3",
   "version": "3.12.5"
  }
 },
 "nbformat": 4,
 "nbformat_minor": 2
}
