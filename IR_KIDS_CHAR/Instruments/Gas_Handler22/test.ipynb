{
 "cells": [
  {
   "cell_type": "code",
   "execution_count": 34,
   "metadata": {},
   "outputs": [],
   "source": [
    "import pyvisa\n",
    "import os\n",
    "import numpy as np\n",
    "import time\n",
    "from qcodes import VisaInstrument\n",
    "import array\n",
    "import struct\n",
    "import smtplib, ssl\n",
    "import matplotlib.pyplot as plt"
   ]
  },
  {
   "cell_type": "code",
   "execution_count": 60,
   "metadata": {},
   "outputs": [],
   "source": [
    "class FridgeHandler:\n",
    "    def __init__(self):\n",
    "        self.inst = pyvisa.ResourceManager().open_resource('ASRL1::INSTR')\n",
    "        print('Fridgeboy object created correctly!\\n')\n",
    "  \n",
    "    def execute(self, cmd):\n",
    "        self.inst.write('$'+ str(cmd))\n",
    "\n",
    "    def read(self, cmd):                #It may happen that the read command returns strange things with ?s and Es. In that case you can't trust the result\n",
    "        out = '?'\n",
    "        while ('?' in out[0]) or ('E' in out[0]) or ('A' in out[0]):\n",
    "            out = self.inst.query_ascii_values(str(cmd), converter='s')\n",
    "            #print(out)       \n",
    "        out = str.rstrip(out[0])\n",
    "        return out\n",
    "\n",
    "    def get_sensor(self, cmd = 3):\n",
    "        '''Measure temperature or pressure of a sensor of the system. Default: MC temperature.'''                           \n",
    "        k = self.read('R' + str(cmd))\n",
    "        k = k.replace(\"R\", \"\")\n",
    "        k = k.replace(\"+\", \"\")\n",
    "        k = float(k)\n",
    "        return k       \n",
    "\n",
    "    def scan_T(self, cmd, interval, tottime):      # cmd -> command that specifies which temperature,\n",
    "                                                # interval -> time step to perform control\n",
    "                                                # time -> total time of the scansion\n",
    "        '''Temperature scansion that prints the values every \"interval\" seconds for a \"time\" time'''\n",
    "        N = int(tottime/interval)\n",
    "        Temps = np.zeros(N)\n",
    "        for i in range(N):\n",
    "            out = self.inst.query_ascii_values(cmd, converter='s')\n",
    "            out = str.rstrip(out[0])\n",
    "            time.sleep(interval)\n",
    "            out = (out.split('+'))[1]           # split the string where '+' is and gives back only the second part (1)\n",
    "            Temps[i] = float(out)\n",
    "            print('Temperature at step ' + str(i) + ' is ' + str(out))\n",
    "        return Temps\n",
    "\n",
    "    def state(self):\n",
    "        out = self.inst.query_ascii_values('X', converter='s')\n",
    "        out = str.rstrip(out[0])\n",
    "        print(out)\n",
    "    \n",
    "    def set_T(self, T):\n",
    "        '''Set temperature of the mixing chamber to arbitrary value in 0.1 mK. \n",
    "        Be careful! The value of temp has to be specified with 5 figures!\n",
    "        Range is the command name for the power range (E1, E2 ...)'''\n",
    "        \n",
    "        cmd = 'E'\n",
    "        if T <= 50:\n",
    "            cmd += '1'\n",
    "        elif T <= 90:\n",
    "            cmd += '2'\n",
    "        elif T <= 140:\n",
    "            cmd += '3'\n",
    "        elif T <= 400:\n",
    "            cmd += '4'\n",
    "        else:\n",
    "            cmd += '5'\n",
    "\n",
    "        self.execute(cmd)\n",
    "        self.execute('A2')\n",
    "        self.execute('T' + str(10*int(T)))\n",
    "\n",
    "    def send_email_yahoo(self, fromMy , to, subj, message_text ):         #Be careful, the 'to' variable has to be an array. Put brackets even if it's a single address.\n",
    "        date = 1/1/2000\n",
    "        msg = \"From: %s\\nTo: %s\\nSubject: %s\\nDate: %s\\n\\n%s\" % ( fromMy, to, subj, date, message_text )\n",
    " \n",
    "        server = smtplib.SMTP(\"smtp.mail.yahoo.com\",587)\n",
    "        server.starttls()\n",
    "        password = str('########')  \n",
    "        server.login(fromMy,password)\n",
    "        for account in to:\n",
    "            server.sendmail(fromMy, account, msg)\n",
    "        server.quit()    \n",
    "        print ('ok the emails have been sent ')\n",
    "\n",
    "    def check_p(self):\n",
    "        out = self.get_sensor(14) < 100000 and self.get_sensor(15) < 1000000  #!!!!!!!!!!! check the pressure values\n",
    "        if (not out):\n",
    "            print(\"High pressure! O_O' \")\n",
    "            #self.send_email_yahoo(\"leomaria2906@yahoo.com\",[\"l.mariani48@campus.unimib.it\",\"a.angeloni3@campus.unimib.it\",\n",
    "            #\"m.faggionato1@campus.unimib.it\",\"marco.faverzani@unimib.it\"],\"High pressure!\",\"la pressione è alta\")\n",
    "        return out  \n",
    "\n",
    "#Possiamo provare ad implementare un tempo dopo il quale, se la temperatura non è stabile, usciamo dal ciclo?    \n",
    "    def check_stability(self, T, error, sleeptime = 5, pause = 10):     # T --> desired temperature\n",
    "                                                                                        # error --> uncertainty allowed on the temperature\n",
    "                                                                                        # interval --> minimum time of stability required. Defaults to 1 minute and half                                                             # sleeptime --> time interval between each check. Defaults to 5 seconds\n",
    "        counter = 0\n",
    "        countermax = 10\n",
    "        out = False\n",
    "        while (counter < countermax): \n",
    "            '''\n",
    "            if self.get_sensor(21) < 5:\n",
    "                self.send_email_yahoo(\"leomaria2906@yahoo.com\",[\"l.mariani48@campus.unimib.it\",\"a.angeloni3@campus.unimib.it\",\n",
    "                \"m.faggionato1@campus.unimib.it\",\"marco.faverzani@unimib.it\"],\"Low pressure!\",\"la pressione P2 è scesa sotto a 5 mbar\") \n",
    "                counter = countermax + 1                                                             \n",
    "            if self.get_sensor(2) > 22000:\n",
    "                self.send_email_yahoo(\"leomaria2906@yahoo.com\",[\"l.mariani48@campus.unimib.it\",\"a.angeloni3@campus.unimib.it\",\n",
    "                \"m.faggionato1@campus.unimib.it\",\"marco.faverzani@unimib.it\"],\"High temperature!\",\"la temperatura della 1K Pot ha superato i 2.2 K\")\n",
    "                counter = countermax + 1\n",
    "                '''\n",
    "            if (T-error < self.get_sensor() and self.get_sensor() < T + error): # check if values are ok. change get_sensor parameters (actually remove them -> they'll default to mixing chamber) !!!!!!!!\n",
    "                counter = 0\n",
    "                print('I found a temperature value out of range. I am going to sleep for ' + str(pause) + ' seconds')\n",
    "                time.sleep(pause) #sleeps for 10 seconds default minutes if T not stable         \n",
    "            else:\n",
    "                counter += 1\n",
    "                time.sleep(sleeptime) #5 sec of sleep between each T check\n",
    "        if counter == countermax:\n",
    "            print(\"Temperature is stable and fridgeboy is ready!\")\n",
    "            out = True\n",
    "        return out"
   ]
  },
  {
   "cell_type": "code",
   "execution_count": 61,
   "metadata": {},
   "outputs": [
    {
     "name": "stdout",
     "output_type": "stream",
     "text": [
      "Fridgeboy object created correctly!\n",
      "\n"
     ]
    }
   ],
   "source": [
    "frigo = FridgeHandler()"
   ]
  },
  {
   "cell_type": "code",
   "execution_count": 62,
   "metadata": {},
   "outputs": [],
   "source": [
    "frigo.set_T(150)"
   ]
  },
  {
   "cell_type": "code",
   "execution_count": 64,
   "metadata": {},
   "outputs": [
    {
     "ename": "KeyboardInterrupt",
     "evalue": "",
     "output_type": "error",
     "traceback": [
      "\u001b[1;31m---------------------------------------------------------------------------\u001b[0m",
      "\u001b[1;31mKeyboardInterrupt\u001b[0m                         Traceback (most recent call last)",
      "Cell \u001b[1;32mIn[64], line 1\u001b[0m\n\u001b[1;32m----> 1\u001b[0m \u001b[43mfrigo\u001b[49m\u001b[38;5;241;43m.\u001b[39;49m\u001b[43mscan_T\u001b[49m\u001b[43m(\u001b[49m\u001b[43mcmd\u001b[49m\u001b[38;5;241;43m=\u001b[39;49m\u001b[38;5;124;43m'\u001b[39;49m\u001b[38;5;124;43mR3\u001b[39;49m\u001b[38;5;124;43m'\u001b[39;49m\u001b[43m,\u001b[49m\u001b[43m \u001b[49m\u001b[43minterval\u001b[49m\u001b[38;5;241;43m=\u001b[39;49m\u001b[38;5;241;43m4\u001b[39;49m\u001b[43m,\u001b[49m\u001b[43m \u001b[49m\u001b[43mtottime\u001b[49m\u001b[38;5;241;43m=\u001b[39;49m\u001b[38;5;241;43m300\u001b[39;49m\u001b[43m)\u001b[49m\n",
      "Cell \u001b[1;32mIn[60], line 34\u001b[0m, in \u001b[0;36mFridgeHandler.scan_T\u001b[1;34m(self, cmd, interval, tottime)\u001b[0m\n\u001b[0;32m     32\u001b[0m out \u001b[38;5;241m=\u001b[39m \u001b[38;5;28mself\u001b[39m\u001b[38;5;241m.\u001b[39minst\u001b[38;5;241m.\u001b[39mquery_ascii_values(cmd, converter\u001b[38;5;241m=\u001b[39m\u001b[38;5;124m'\u001b[39m\u001b[38;5;124ms\u001b[39m\u001b[38;5;124m'\u001b[39m)\n\u001b[0;32m     33\u001b[0m out \u001b[38;5;241m=\u001b[39m \u001b[38;5;28mstr\u001b[39m\u001b[38;5;241m.\u001b[39mrstrip(out[\u001b[38;5;241m0\u001b[39m])\n\u001b[1;32m---> 34\u001b[0m \u001b[43mtime\u001b[49m\u001b[38;5;241;43m.\u001b[39;49m\u001b[43msleep\u001b[49m\u001b[43m(\u001b[49m\u001b[43minterval\u001b[49m\u001b[43m)\u001b[49m\n\u001b[0;32m     35\u001b[0m out \u001b[38;5;241m=\u001b[39m (out\u001b[38;5;241m.\u001b[39msplit(\u001b[38;5;124m'\u001b[39m\u001b[38;5;124m+\u001b[39m\u001b[38;5;124m'\u001b[39m))[\u001b[38;5;241m1\u001b[39m]           \u001b[38;5;66;03m# split the string where '+' is and gives back only the second part (1)\u001b[39;00m\n\u001b[0;32m     36\u001b[0m Temps[i] \u001b[38;5;241m=\u001b[39m \u001b[38;5;28mfloat\u001b[39m(out)\n",
      "\u001b[1;31mKeyboardInterrupt\u001b[0m: "
     ]
    }
   ],
   "source": [
    "frigo.scan_T(cmd='R3', interval=4, tottime=300)"
   ]
  },
  {
   "cell_type": "code",
   "execution_count": null,
   "metadata": {},
   "outputs": [],
   "source": []
  }
 ],
 "metadata": {
  "kernelspec": {
   "display_name": "Python 3.8.6 64-bit",
   "language": "python",
   "name": "python3"
  },
  "language_info": {
   "codemirror_mode": {
    "name": "ipython",
    "version": 3
   },
   "file_extension": ".py",
   "mimetype": "text/x-python",
   "name": "python",
   "nbconvert_exporter": "python",
   "pygments_lexer": "ipython3",
   "version": "3.8.6"
  },
  "orig_nbformat": 4,
  "vscode": {
   "interpreter": {
    "hash": "ca7fb12e8dddb717a45af6dd1993c67b83aa05886451cd3b5212fabc2a7dc798"
   }
  }
 },
 "nbformat": 4,
 "nbformat_minor": 2
}
