{
 "cells": [
  {
   "cell_type": "markdown",
   "metadata": {},
   "source": []
  },
  {
   "cell_type": "code",
   "execution_count": 2,
   "metadata": {},
   "outputs": [],
   "source": [
    "import matplotlib.pyplot as plt\n",
    "import numpy as np\n",
    "from scipy import constants\n",
    "KB = constants.Boltzmann"
   ]
  },
  {
   "cell_type": "code",
   "execution_count": 3,
   "metadata": {},
   "outputs": [],
   "source": [
    "x = np.array([0.12566, 0.12500, 0.12566, 0.12937, 0.13064, 0.13902, 0.13881, 0.13712])\n",
    "res1 = [0.12566,0.12566,0.13902]\n",
    "res2 = [0.12500,0.12566,0.13902]\n",
    "y = np.array(range(len(x)))\n",
    "s = np.array([0.00040, 0.00135, 0.00075, 0.00282, 0.00282, 0.00121, 0.00177, 0.00147])"
   ]
  },
  {
   "cell_type": "code",
   "execution_count": 4,
   "metadata": {},
   "outputs": [],
   "source": [
    "media = sum(x/s**2)/sum(1/s**2)\n",
    "sigma = np.sqrt(1/sum(1/s**2))"
   ]
  },
  {
   "cell_type": "code",
   "execution_count": 5,
   "metadata": {},
   "outputs": [
    {
     "name": "stdout",
     "output_type": "stream",
     "text": [
      "Delta = 0.12754 +/- 0.00031\n"
     ]
    }
   ],
   "source": [
    "print('Delta = '+f\"{media:.5f}\"+' +/- '+f\"{sigma:.5f}\")"
   ]
  },
  {
   "cell_type": "code",
   "execution_count": 6,
   "metadata": {},
   "outputs": [],
   "source": [
    "Tc = 2/3.5 * ((media*1e-3)/KB)*constants.eV\n"
   ]
  },
  {
   "cell_type": "code",
   "execution_count": 8,
   "metadata": {},
   "outputs": [
    {
     "name": "stdout",
     "output_type": "stream",
     "text": [
      "Tc = 0.8457409302449879 +/- 0.00362\n"
     ]
    }
   ],
   "source": [
    "print('Tc = '+str(Tc)+' +/- '+f\"{((sigma*1e-3)/KB)*constants.eV:.5f}\")"
   ]
  }
 ],
 "metadata": {
  "kernelspec": {
   "display_name": "Python 3.8.6 64-bit",
   "language": "python",
   "name": "python3"
  },
  "language_info": {
   "codemirror_mode": {
    "name": "ipython",
    "version": 3
   },
   "file_extension": ".py",
   "mimetype": "text/x-python",
   "name": "python",
   "nbconvert_exporter": "python",
   "pygments_lexer": "ipython3",
   "version": "3.8.6"
  },
  "vscode": {
   "interpreter": {
    "hash": "ca7fb12e8dddb717a45af6dd1993c67b83aa05886451cd3b5212fabc2a7dc798"
   }
  }
 },
 "nbformat": 4,
 "nbformat_minor": 2
}
