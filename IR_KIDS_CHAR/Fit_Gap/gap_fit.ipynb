{
 "cells": [
  {
   "cell_type": "markdown",
   "metadata": {},
   "source": []
  },
  {
   "cell_type": "code",
   "execution_count": 106,
   "metadata": {},
   "outputs": [],
   "source": [
    "import matplotlib.pyplot as plt\n",
    "import pandas as pd\n",
    "import numpy as np\n",
    "from scipy import constants\n",
    "KB = constants.Boltzmann"
   ]
  },
  {
   "cell_type": "code",
   "execution_count": 104,
   "metadata": {},
   "outputs": [
    {
     "name": "stdout",
     "output_type": "stream",
     "text": [
      "[0.12566]\n"
     ]
    }
   ],
   "source": [
    "x = np.array([0.12566, 0.12500, 0.12566, 0.12937, 0.13064, 0.13902, 0.13881, 0.13712])\n",
    "res1 = [0.12566,0.12566,0.13902]\n",
    "res2 = [0.12500,0.12566,0.13902]\n",
    "y = np.array(range(len(x)))\n",
    "s = np.array([0.00040, 0.00135, 0.00075, 0.00282, 0.00282, 0.00121, 0.00177, 0.00147])"
   ]
  },
  {
   "cell_type": "code",
   "execution_count": 100,
   "metadata": {},
   "outputs": [],
   "source": [
    "media = sum(x/s**2)/sum(1/s**2)\n",
    "sigma = np.sqrt(1/sum(1/s**2))"
   ]
  },
  {
   "cell_type": "code",
   "execution_count": 101,
   "metadata": {},
   "outputs": [
    {
     "name": "stdout",
     "output_type": "stream",
     "text": [
      "Delta = 0.12754 +/- 0.00031\n"
     ]
    }
   ],
   "source": [
    "print('Delta = '+f\"{media:.5f}\"+' +/- '+f\"{sigma:.5f}\")"
   ]
  },
  {
   "cell_type": "code",
   "execution_count": 120,
   "metadata": {},
   "outputs": [
    {
     "name": "stdout",
     "output_type": "stream",
     "text": [
      "1.480046627928729\n"
     ]
    }
   ],
   "source": [
    "Tc = ((media*1e-3)/KB)*constants.eV\n"
   ]
  },
  {
   "cell_type": "code",
   "execution_count": 121,
   "metadata": {},
   "outputs": [
    {
     "name": "stdout",
     "output_type": "stream",
     "text": [
      "Tc = 1.48005 +/- 0.00362\n"
     ]
    }
   ],
   "source": [
    "print('Tc = '+f\"{(((media*1e-3)/KB)*constants.eV):.5f}\"+' +/- '+f\"{((sigma*1e-3)/KB)*constants.eV:.5f}\")"
   ]
  }
 ],
 "metadata": {
  "kernelspec": {
   "display_name": "Python 3",
   "language": "python",
   "name": "python3"
  },
  "language_info": {
   "codemirror_mode": {
    "name": "ipython",
    "version": 3
   },
   "file_extension": ".py",
   "mimetype": "text/x-python",
   "name": "python",
   "nbconvert_exporter": "python",
   "pygments_lexer": "ipython3",
   "version": "3.12.4"
  }
 },
 "nbformat": 4,
 "nbformat_minor": 2
}
