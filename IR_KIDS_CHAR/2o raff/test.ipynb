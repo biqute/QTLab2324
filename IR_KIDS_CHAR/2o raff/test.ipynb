{
 "cells": [
  {
   "cell_type": "code",
   "execution_count": 1,
   "metadata": {},
   "outputs": [],
   "source": [
    "import sys\n",
    "sys.path.append(r'C:\\Users\\kid\\SynologyDrive\\Lab2023\\KIDs\\QTLab2324\\IR_KIDS_CHAR\\Instruments\\VNA')\n",
    "sys.path.append(r'C:\\Users\\kid\\SynologyDrive\\Lab2023\\KIDs\\QTLab2324\\IR_KIDS_CHAR\\Instruments\\Gas_Handler22')\n",
    "import HP8753E as hp\n",
    "#import FridgeHandler as handler\n",
    "import logging"
   ]
  },
  {
   "cell_type": "code",
   "execution_count": 2,
   "metadata": {},
   "outputs": [],
   "source": [
    "\n",
    "def setup_logger(log_file='test.log', level=logging.DEBUG):\n",
    "    \"\"\"\n",
    "    Set up a file logger with the specified log file and logging level.\n",
    "\n",
    "    Parameters:\n",
    "    - log_file: Name of the log file where logs will be written.\n",
    "    - level: Logging level (DEBUG, INFO, WARNING, ERROR, CRITICAL).\n",
    "    \"\"\"\n",
    "    # Create a logger\n",
    "    logger = logging.getLogger()\n",
    "    logger.setLevel(level)\n",
    "\n",
    "    # Create a file handler\n",
    "    file_handler = logging.FileHandler(log_file)\n",
    "    file_handler.setLevel(level)\n",
    "\n",
    "    # Create a formatter and set it for the file handler\n",
    "    formatter = logging.Formatter('%(asctime)s - %(name)s - %(levelname)s - %(message)s')\n",
    "    file_handler.setFormatter(formatter)\n",
    "\n",
    "    # Add the file handler to the logger\n",
    "    logger.addHandler(file_handler)\n",
    "\n",
    "    return logger\n"
   ]
  },
  {
   "cell_type": "code",
   "execution_count": 3,
   "metadata": {},
   "outputs": [],
   "source": [
    "logger = setup_logger()"
   ]
  },
  {
   "cell_type": "code",
   "execution_count": null,
   "metadata": {},
   "outputs": [],
   "source": [
    "try:\n",
    "    vna = hp.HP8753E()\n",
    "    logger.debug('Creating VNA instance')\n",
    "except:\n",
    "    logger.critical('Could not create VNA instance!')\n"
   ]
  },
  {
   "cell_type": "code",
   "execution_count": null,
   "metadata": {},
   "outputs": [],
   "source": [
    "\n",
    "try:\n",
    "    vna.ask_name()\n",
    "except:\n",
    "    logger.critical('Something is deeply wrong')\n"
   ]
  },
  {
   "cell_type": "code",
   "execution_count": null,
   "metadata": {},
   "outputs": [],
   "source": [
    "\n",
    "delay = 0\n",
    "check, msg = vna.check_status()\n",
    "vna.set_elec_delay(delay)\n",
    "logger.debug('Current VNA status is '+str(msg))\n",
    "vna.set_chan('S21')\n",
    "logger.debug('Setting channel S21')\n",
    "vna.set_mode('SING')\n",
    "logger.debug('Setting SING mode')\n",
    "vna.set_meas('B')\n",
    "logger.debug('Setting MEAS to B')\n",
    "vna.set_save_path(r'C:\\Users\\kid\\SynologyDrive\\Lab2023\\KIDs\\QTLab2324\\IR_KIDS_CHAR\\Data\\\\')\n",
    "\n"
   ]
  },
  {
   "cell_type": "code",
   "execution_count": null,
   "metadata": {},
   "outputs": [],
   "source": [
    "pw = -40\n",
    "bw = 300\n",
    "pt = 1601\n",
    "ctr = 5.5757e9\n",
    "span = 1e7\n",
    "try:\n",
    "    vna.set_power(pw)\n",
    "    logger.debug('Power: '+str(pw))\n",
    "    vna.set_IFBW(bw)\n",
    "    logger.debug('Power: '+str(bw))\n",
    "    vna.set_points(pt)\n",
    "    logger.debug('Points are: '+str(pt))\n",
    "    vna.set_center(ctr)\n",
    "    logger.debug('Center is: '+str(ctr))\n",
    "    vna.set_sp0an(span)\n",
    "    logger.debug('Span is: '+str(span))\n",
    "except:\n",
    "    logger.warning('Could not set parameters!')\n",
    "\n",
    "try:\n",
    "    i,q,f =vna.get_IQF_center()\n",
    "    logger.debug('Getting data...')\n",
    "except:\n",
    "    logger.critical('Could not take data!')"
   ]
  }
 ],
 "metadata": {
  "kernelspec": {
   "display_name": "Python 3.8.6 64-bit",
   "language": "python",
   "name": "python3"
  },
  "language_info": {
   "codemirror_mode": {
    "name": "ipython",
    "version": 3
   },
   "file_extension": ".py",
   "mimetype": "text/x-python",
   "name": "python",
   "nbconvert_exporter": "python",
   "pygments_lexer": "ipython3",
   "version": "3.8.6"
  },
  "orig_nbformat": 4,
  "vscode": {
   "interpreter": {
    "hash": "ca7fb12e8dddb717a45af6dd1993c67b83aa05886451cd3b5212fabc2a7dc798"
   }
  }
 },
 "nbformat": 4,
 "nbformat_minor": 2
}
